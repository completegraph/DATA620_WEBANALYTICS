{
 "cells": [
  {
   "cell_type": "markdown",
   "id": "8e37659a-c39a-49ae-8dce-87c9bfd35ae3",
   "metadata": {},
   "source": [
    "# $\\color{purple}{\\text{Classification of Names by Gender}}$\n",
    "\n",
    "**By Alexander Ng & Philip Tanofsky**\n",
    "\n",
    "*April 3, 2022*\n",
    "\n"
   ]
  },
  {
   "cell_type": "markdown",
   "id": "15e7cd64-df86-4007-9826-84ddc2626ba0",
   "metadata": {},
   "source": [
    "## $\\color{blue}{\\text{Overview}}$\n",
    "\n",
    "We consider the classification of over 6000 given names by gender through the use of machine learning within the framework of linguistic theory.  The goal of this study is to predict the gender of name $X$ given nothing more than a training set of other names.   To construct useful predictors, we use both an orthographic and a phonetic approach to analyze the names corpus.  These predictors extract additional information necessary for accurate gender classification.  \n",
    "\n",
    "We review the background literature on the plausibility of a phonological approach to gender classification, then describe our data set including the derived predictors and an exploratory analysis.  Lastly, the model results are presented."
   ]
  },
  {
   "cell_type": "markdown",
   "id": "3d39512f-c378-435c-938c-ed51b0153ba5",
   "metadata": {},
   "source": [
    "## $\\color{blue}{\\text{Theoretical Background}}$\n",
    "\n",
    "There is a research literature on the prediction of gender of first names based on phonological consideration.   [Slepian and Galinsky (2016)](http://www.columbia.edu/~ms4992/Pubs/2016_Slepian-Galinsky_JPSP.pdf) show that voiced initial phonemes in first names are more associated with male names while unvoiced initial phonemes are associated with female names.   [Sullivan and Kang (2019)](http://www.assta.org/proceedings/ICPhS2019/papers/ICPhS_2173.pdf) conducted field experiments with nonsense names that follow known phonological patterns to confirm a gender preference in names.   [Whissell (2013)](https://doi.org/10.1179/nam.2001.49.2.97) note that predictability in gender of names is supported by the linguistic theory of *sound symbolism*.\n",
    "\n",
    "**Sound symbolism** argues that the sound of a word is associated with the word's referent.  \"Sound  patterns in words are both non-random and informative.\" [Whissell (2013)](https://doi.org/10.1179/nam.2001.49.2.97)   These studies challenge the prevailing theory that the relationship between a word and its meaning are arbitrary.  This arbitrariness is a fundamental aspect of language. \n",
    "\n",
    "The key patterns observed in names and their gender associations are:\n",
    "\n",
    "*  **Diversity of names**  Female names are more diverse than male ones.\n",
    "\n",
    "*  **Number of Syllables**  Female names have more syllables than male ones.\n",
    "\n",
    "*  **Final Syllable** Female names are more likely to end in a *schwa* or open vowel.\n",
    "\n",
    "*  **Stress Placement**  Female names have stress on syllable after the first one.\n",
    "\n",
    "*  **Fewer Consonants**  Male names have fewer consonants.\n",
    "\n",
    "*  **Voiced Consonant**  Male names have more initial voiced consonants.\n",
    "\n",
    "These findings enable us to construct additional predictors to guide the classification models.  A big question is whether these effects work together in concert to increase prediction accuracy.\n"
   ]
  },
  {
   "cell_type": "markdown",
   "id": "4d4a2afe-5656-4e28-bf10-7dd48ccecd94",
   "metadata": {},
   "source": [
    "## $\\color{blue}{\\text{Data and Methods}}$\n",
    "\n",
    "To obtain these phonemes of each name, the syllables and stress placement, we require an automated way to obtain and codify the pronunciation of the entire name corpus.   We used the CMU pronunciation library on the backend to compute the pronunciation of each name.   The front-end software package was `pronouncing`.   The CMU and `pronouncing` library produce a string representation of the phonemes of the names.   It can also gives the number of syllables, the stress placement.   The phonemes are encoded in a special convention called `Arpabet` which was developed by the DARPA agency for automated text translation.   For example, the `schwa` is encoded as a two letter string `AH`.   The article [Arpabet](https://en.wikipedia.org/wiki/ARPABET) gives more details of the encoding.  It represents a subset of IPA (the International Phonetic Alphabet) and is geared to capture American English.\n",
    "\n"
   ]
  },
  {
   "cell_type": "markdown",
   "id": "239f2884-5f7d-48e1-b999-9c701b44a9e4",
   "metadata": {},
   "source": [
    "The biggest challenge was that only 66% of the nltk names corpus is covered by the `pronouncing` library.  No attempt is made by the CMU dictionary to guess the pronunciation of many relatively simple words.\n",
    "\n",
    "Thus, we also use the `Double Metaphone` sound encoding algorithm (based on its ancestor `Soundex`) to construct an alphanumeric representation of each name in a simple string format.  This `dmeta` encoding gives us an additional way to obtain pronunciation data.  Because vowels are stripped off, we do not expect Double Metaphone to be useful in all cases.   For example, ROBERT and ROBERTA map to the same `dmeta` result."
   ]
  },
  {
   "cell_type": "markdown",
   "id": "f05d3930-0034-46ce-8f88-be0b91b0ef90",
   "metadata": {},
   "source": [
    "In total, we construct the following predictors:\n",
    "    \n",
    "*  first letter\n",
    "*  second letter\n",
    "*  last letter\n",
    "*  word length\n",
    "*  number of consonants (non-phonemically computed)\n",
    "*  number of vowels (aeiou only - not phonemically derived)\n",
    "*  Double metaphone encoding of the name\n",
    "*  phoneme 1 - 12.  Each name can have up to 12 phonemes.\n",
    "*  phoneme string (The raw string from CMU).\n",
    "*  first phoneme\n",
    "*  number of phonemes\n",
    "*  number of syllables\n",
    "*  the syllable at which the primary stress is pronounced\n",
    "*  the last phoneme of the name\n"
   ]
  },
  {
   "cell_type": "markdown",
   "id": "b10a51f8-caee-4530-ab06-d026440a1481",
   "metadata": {},
   "source": [
    "To ensure reproducibility of the study, we seed the random number generator prior to splitting the test train split."
   ]
  },
  {
   "cell_type": "markdown",
   "id": "ecb4d1c6-95da-4937-a104-d5e939bbe3ae",
   "metadata": {},
   "source": [
    "To deal with the data discrepancy between the complete set of names and the partial set with all phonemic data, we run TWO models.\n",
    "\n",
    "One analysis uses the basic set of features that don't require the CMU pronouncing library.   We call that the basic features data set.\n",
    "\n",
    "Another analysis uses the entire set of column (including the phonological features) but is limited to 66% of the original names corpus.   We call this the advanced feature set.\n",
    "\n",
    "\n"
   ]
  },
  {
   "cell_type": "code",
   "execution_count": null,
   "id": "50b9b6e9-f4db-4bef-921b-04c1e9f5ccbc",
   "metadata": {},
   "outputs": [],
   "source": []
  }
 ],
 "metadata": {
  "kernelspec": {
   "display_name": "Python 3 (ipykernel)",
   "language": "python",
   "name": "python3"
  },
  "language_info": {
   "codemirror_mode": {
    "name": "ipython",
    "version": 3
   },
   "file_extension": ".py",
   "mimetype": "text/x-python",
   "name": "python",
   "nbconvert_exporter": "python",
   "pygments_lexer": "ipython3",
   "version": "3.7.7"
  }
 },
 "nbformat": 4,
 "nbformat_minor": 5
}

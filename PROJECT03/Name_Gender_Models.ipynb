{
 "cells": [
  {
   "cell_type": "code",
   "execution_count": 50,
   "id": "85f9f094-ce89-40d2-8c83-cc9809d17635",
   "metadata": {},
   "outputs": [],
   "source": [
    "import pandas as pd\n",
    "import nltk\n",
    "from nltk.classify import \n",
    "from nltk.corpus import names\n",
    "import pronouncing\n",
    "import phonetics\n",
    "\n",
    "import random\n",
    "\n",
    "#\n",
    "# Basic Feature Extraction\n",
    "\n",
    "def gender_features(word):\n",
    "    return {'last_letter' : word[-1]}\n",
    "\n",
    "\n",
    "labeled_names = ([(name, 'male') for name in names.words('male.txt')] +\n",
    "[(name, 'female') for name in names.words('female.txt')])\n",
    "\n",
    "# Set seed to ensure the simulation can be reproduced.\n",
    "random.seed(a = 102)  \n",
    "random.shuffle(labeled_names)"
   ]
  },
  {
   "cell_type": "code",
   "execution_count": null,
   "id": "63396a34-926c-457b-b895-ac12eebec0ff",
   "metadata": {},
   "outputs": [],
   "source": []
  },
  {
   "cell_type": "code",
   "execution_count": 25,
   "id": "468e7fbb-ef3d-4268-8c7b-2899ed8532b0",
   "metadata": {},
   "outputs": [],
   "source": [
    "# \n",
    "#  Let's make sure the dictionary keys are globally unique by imposing\n",
    "#  a namespace qualifier.\n",
    "#  Use a prefix by feature-type.   \n",
    "#  Each extractor function computes only 1 feature type.\n",
    "#  So features in one extractor function \n",
    "# -------------------------------------------------------------------------\n",
    "\n",
    "#   generates the dictionary key name:  \n",
    "#     var_type = 1  =>  Alphabetical\n",
    "#     var_type = 2  =>  Integer\n",
    "#     var_type = 3  =>  Boolean\n",
    "# -----------------------------------------------\n",
    "def make_key_name(prefix, var_type , key ):\n",
    "    if var_type == 1:        \n",
    "        keyname = prefix + \"_\" + \"A\" + \"_\" + key\n",
    "    elif var_type == 2:\n",
    "        keyname = prefix + \"_\" + \"N\" + \"_\" + key\n",
    "    else:\n",
    "        keyname = prefix + \"_\" + \"B\" + \"_\" + key\n",
    "    return keyname\n",
    "\n",
    "\n",
    "def extract_response(gender):\n",
    "    pre = \"R\"\n",
    "    features = {}\n",
    "    features[make_key_name(pre, 1, \"gender\")] = gender\n",
    "    return features\n",
    "\n",
    "\n",
    "def count_consonants(string):\n",
    "   num_consonants = 0\n",
    "   # to count the consonants\n",
    "   for char in string:\n",
    "      if char not in \"aeiou\":\n",
    "         num_consonants += 1\n",
    "   return num_consonants\n",
    "\n",
    "def count_vowels(string):\n",
    "   num_vowels = 0\n",
    "   # to count the voweles\n",
    "   for char in string:\n",
    "      if char in \"aeiou\":\n",
    "         num_vowels += 1\n",
    "   return num_vowels\n",
    "\n",
    "def extract_basic_features(name):\n",
    "    pre = \"B\"\n",
    "    features = {}\n",
    "    \n",
    "    features[make_key_name(pre, 1, \"name\")] = name\n",
    "    features[make_key_name(pre, 1, \"firstletter\") ] = name[0].lower()\n",
    "    features[make_key_name(pre, 1, \"secondletter\")] = name[1].lower()\n",
    "    features[make_key_name(pre, 1, \"lastletter\")] = name[-1].lower()\n",
    "    features[make_key_name(pre, 2, \"length\")] = len(name)\n",
    "    \n",
    "    \n",
    "    # Count the consonants and vowels\n",
    "    features[make_key_name(pre, 2, \"numconsonants\")] = count_consonants(name.lower())\n",
    "    features[make_key_name(pre, 2, \"numvowels\")] = count_vowels(name.lower())\n",
    "    \n",
    "    dmeta  = phonetics.dmetaphone(name)  # Double Metaphone is usually defined for all names.\n",
    "\n",
    "    features[make_key_name(pre, 1, \"dmetacode\")] = dmeta[0] if len(dmeta) > 0 else \"\"\n",
    "    features[make_key_name(pre, 2, \"dmetalen\")]  = len(dmeta[0]) if len(dmeta) > 0 else 0    \n",
    "\n",
    "    \n",
    "    return features"
   ]
  },
  {
   "cell_type": "code",
   "execution_count": 29,
   "id": "8e90ff1f-04e5-4bba-a80e-3b25ab3b9c54",
   "metadata": {
    "tags": []
   },
   "outputs": [],
   "source": [
    "def extract_phonetic_features(name):\n",
    "    pre = \"P\"\n",
    "    features = {}\n",
    "    \n",
    "    # Initial the phoneme split algorithm: 0\n",
    "    for j in range(0, 12):\n",
    "        features[make_key_name(pre, 1, \"phx_\" + str(j).zfill(2) )] = \"\"\n",
    "\n",
    "    last_phoneme = \"\"\n",
    "\n",
    "    stress_pos =  0  # If value is undefined\n",
    "\n",
    "    plist = pronouncing.phones_for_word(name)\n",
    "\n",
    "    num_syllables = 0\n",
    "    \n",
    "    # Final\n",
    "    \n",
    "    #\n",
    "    # Strip out the accent.\n",
    "    #\n",
    "    if len(plist) > 0:\n",
    "        \n",
    "\n",
    "        \n",
    "        num_syllables = pronouncing.syllable_count(plist[0])\n",
    "        \n",
    "        stress_string = pronouncing.stresses( plist[0])\n",
    "        \n",
    "        stress_pos = stress_string.find('1') + 1 # Finds the primary stress in the syllable.\n",
    "        \n",
    "        \n",
    "        list_phonemes_stressed = str.split(plist[0])\n",
    "        \n",
    "        \n",
    "        for j in range(0, len(list_phonemes_stressed)):\n",
    "            \n",
    "            s = list_phonemes_stressed[j]\n",
    "                        \n",
    "            s_no_ints = ''.join(x for x in s if not x.isdigit() )\n",
    "            \n",
    "            features[make_key_name(pre, 1, \"phx_\" + str(j).zfill(2) ) ] = s_no_ints\n",
    "            \n",
    "            if j == len(list_phonemes_stressed) - 1 :\n",
    "                last_phoneme = s_no_ints\n",
    "        \n",
    "    else:\n",
    "        num_syllables = 0\n",
    "        \n",
    "    features[make_key_name(pre, 1, \"phcode\")] = plist[0] if len(plist) > 0 else \"\"\n",
    "    features[make_key_name(pre, 1, \"phfirst\")] = str.split(plist[0])[0] if len(plist) > 0 else \"\"\n",
    "    features[make_key_name(pre, 2, \"phlen\")] = len( str.split(plist[0]))  if len(plist) > 0 else 0\n",
    "    features[make_key_name(pre, 2, \"phsyllables\")] = num_syllables\n",
    "    features[make_key_name(pre, 3, \"phfound\")] = True if len(plist) > 0 else False\n",
    "    features[make_key_name(pre, 2, \"phx_stress\")] = stress_pos\n",
    "    features[make_key_name(pre, 1, \"phx_last\")] = last_phoneme\n",
    "    return features\n"
   ]
  },
  {
   "cell_type": "code",
   "execution_count": 82,
   "id": "f955dead-a8c3-433d-921f-876269912afa",
   "metadata": {},
   "outputs": [],
   "source": [
    "#  Helper function to extract basic and phonetic features. \n",
    "#\n",
    "def extract_advanced_features(name):\n",
    "    features = {}\n",
    "    \n",
    "    features ={  **extract_basic_features(name) , **extract_phonetic_features( name ) }\n",
    "    return features\n",
    "    "
   ]
  },
  {
   "cell_type": "code",
   "execution_count": 83,
   "id": "00d718de-3fef-4b25-91db-e7549850855d",
   "metadata": {
    "tags": []
   },
   "outputs": [
    {
     "name": "stdout",
     "output_type": "stream",
     "text": [
      " Name:  Bridie  isin:  True gender:  female Phonetic:  PRT Pronounciation:  B R IH1 D IY0  syllables:  2\n",
      " Name:  Edeline  isin:  True gender:  female Phonetic:  ATLN Pronounciation:  EH1 D IH0 L AY0 N  syllables:  3\n",
      " Name:  Molli  isin:  False gender:  female Phonetic:  ML Pronounciation:    syllables:  0\n",
      " Name:  Ingeberg  isin:  False gender:  female Phonetic:  ANJPRK Pronounciation:    syllables:  0\n",
      " Name:  Willmott  isin:  True gender:  male Phonetic:  ALMT Pronounciation:  W IH1 L M AH0 T  syllables:  2\n",
      " Name:  Gilda  isin:  True gender:  female Phonetic:  KLT Pronounciation:  G IH1 L D AH0  syllables:  2\n",
      " Name:  Albertina  isin:  True gender:  female Phonetic:  ALPRTN Pronounciation:  AA0 L B ER0 T IY1 N AH0  syllables:  4\n",
      " Name:  Nickolas  isin:  True gender:  male Phonetic:  NKLS Pronounciation:  N IH1 K AH0 L AH0 Z  syllables:  3\n",
      " Name:  Chandler  isin:  True gender:  male Phonetic:  XNTLR Pronounciation:  CH AE1 N D L ER0  syllables:  2\n"
     ]
    }
   ],
   "source": [
    "# Let's work on the pronouncing library\n",
    "\n",
    "i = 0\n",
    "\n",
    "total_isin = 0\n",
    "total_notin = 0\n",
    "total_female_isin = 0\n",
    "total_female_notin = 0\n",
    "\n",
    "total_male_isin = 0\n",
    "total_male_notin = 0\n",
    "\n",
    "\n",
    "# Construct the dataframe of outputs row-by-row\n",
    "df_row_sets = []\n",
    "\n",
    "# Construct the list of dictionaries of only basic feature sets\n",
    "basic_feature_sets = []\n",
    "\n",
    "# Construct the list of dictionaries of basic and phonetic features\n",
    "phonetic_feature_sets = []\n",
    "\n",
    "phonetic_names = []\n",
    "\n",
    "for n, g in labeled_names:\n",
    "    \n",
    "    i += 1\n",
    "    \n",
    "    gfeatures = extract_response(g)\n",
    "    bfeatures = extract_basic_features(n)\n",
    "    afeatures = extract_advanced_features(n)  \n",
    "\n",
    "    all_features = { **afeatures , **gfeatures } \n",
    "    df_row_sets.append( all_features  )\n",
    "    \n",
    "    basic_feature_sets.append( ( bfeatures , g ) )\n",
    "    \n",
    "    isin = all_features[\"P_B_phfound\"]\n",
    "    \n",
    "    # Tabulate statistics on the available pronunciations.\n",
    "    \n",
    "    if isin:\n",
    "        total_isin += 1\n",
    "        \n",
    "        # if phonetic data is unavailable can't run the advanced model\n",
    "        # but if it is save the names and gender\n",
    "        # and the feature set \n",
    "        # ------------------------------------------------\n",
    "        phonetic_names.append( (n,g ))\n",
    "        phonetic_feature_sets.append( ( afeatures , g ) )\n",
    "        \n",
    "        if g == \"female\":\n",
    "            total_female_isin += 1\n",
    "        else:\n",
    "            total_male_isin += 1\n",
    "    else:\n",
    "        total_notin += 1\n",
    "        if g == \"female\":\n",
    "            total_female_notin += 1\n",
    "        else:\n",
    "            total_male_notin += 1\n",
    "    \n",
    "    # For debugging\n",
    "    # --------------------------\n",
    "    if i < 10:\n",
    "        num_syllables = all_features[\"P_N_phsyllables\"]\n",
    "        pronunciation = all_features[\"P_A_phcode\"]\n",
    "            \n",
    "        print(\" Name: \", n , \" isin: \" , isin , \"gender: \", g, \n",
    "                  \"Phonetic: \" , all_features[\"B_A_dmetacode\"] ,\n",
    "                  \"Pronounciation: \", pronunciation, \n",
    "                  \" syllables: \", num_syllables )\n",
    "\n",
    "\n",
    "df_features = pd.DataFrame.from_dict( df_row_sets  , orient = 'columns')"
   ]
  },
  {
   "cell_type": "code",
   "execution_count": 91,
   "id": "ac171d6e-d612-497d-b0a9-06060faef167",
   "metadata": {},
   "outputs": [
    {
     "name": "stdout",
     "output_type": "stream",
     "text": [
      "Total Isin:  5251  Total Not In:  2693  Sum:  7944\n",
      "Total Female ISIN:   2820  Total Male ISIN:   2431\n",
      "Total Female NOTIN:  2181  Total Male Not In: 512\n",
      "\n",
      "Generated names with features in dataframe format for test-train split\n",
      "\n"
     ]
    }
   ],
   "source": [
    "\n",
    "print(\"Total Isin: \", total_isin, \" Total Not In: \", total_notin, \" Sum: \" , total_isin + total_notin)\n",
    "\n",
    "print(\"Total Female ISIN:  \", total_female_isin , \" Total Male ISIN:  \", total_male_isin )\n",
    "\n",
    "print(\"Total Female NOTIN: \", total_female_notin, \" Total Male Not In:\", total_male_notin )\n",
    "\n",
    "\n",
    "\n",
    "# We will export the training and devtest data jointly.  \n",
    "\n",
    "\n",
    "df_train_large = df_features[500:]\n",
    "df_test = df_features[:500]\n",
    "\n",
    "basic_feature_sets_test = basic_feature_sets[:500]\n",
    "basic_feature_sets_devtest = basic_feature_sets[500:1000]\n",
    "basic_feature_sets_train = basic_feature_sets[1000:]\n",
    "\n",
    "phonetic_feature_sets_test    = phonetic_feature_sets[:500]\n",
    "phonetic_feature_sets_devtest = phonetic_feature_sets[500:1000]\n",
    "phonetic_feature_sets_train   = phonetic_feature_sets[1000:]\n",
    "phonetic_names_test , phonetic_names_devtest , phone_names_train = phonetic_names[:500] , phonetic_names[500:1000], phonetic_names[1000:]\n",
    "\n",
    "df_features.to_csv(\"names_all.csv\", index=False)\n",
    "df_train_large.to_csv(\"names_train.csv\", index = False )\n",
    "df_test.to_csv( \"names_test.csv\", index = False )\n",
    "\n",
    "print(\"\\nGenerated names with features in dataframe format for test-train split\\n\")"
   ]
  },
  {
   "cell_type": "markdown",
   "id": "098ff596-3271-46ae-ae6a-7197cd9de1c3",
   "metadata": {},
   "source": [
    "Lastly, we check the test, devtest and training feature sets sizes for basic features and phonetic features.\n",
    "We can see below that the test and devtest sets are the same size as required: 500.\n",
    "The phonetic features training set is smaller - roughly 4200 instead of 6900 due to limitations in the CMU pronunciation dictionary.\n"
   ]
  },
  {
   "cell_type": "code",
   "execution_count": 92,
   "id": "b0475731-ff62-4a14-9e68-4b0f77bf7617",
   "metadata": {},
   "outputs": [
    {
     "data": {
      "text/plain": [
       "(500, 500, 6944)"
      ]
     },
     "execution_count": 92,
     "metadata": {},
     "output_type": "execute_result"
    }
   ],
   "source": [
    "len(basic_feature_sets_test), len(basic_feature_sets_devtest), len( basic_feature_sets_train)"
   ]
  },
  {
   "cell_type": "code",
   "execution_count": 93,
   "id": "9dc6b0ee-fd8d-4a5b-ba72-090eadf37b60",
   "metadata": {},
   "outputs": [
    {
     "data": {
      "text/plain": [
       "(500, 500, 4251)"
      ]
     },
     "execution_count": 93,
     "metadata": {},
     "output_type": "execute_result"
    }
   ],
   "source": [
    "len(phonetic_feature_sets_test), len(phonetic_feature_sets_devtest), len( phonetic_feature_sets_train )"
   ]
  },
  {
   "cell_type": "markdown",
   "id": "39363b7a-38b1-49ba-a494-773bd740ffd0",
   "metadata": {},
   "source": [
    "## Run a Naive Bayes Model\n",
    "\n",
    "Let's run the model using the features above.  Let's start with the Basic Feature Set.  Get the accuracy and the most informative features.\n",
    "We'll then repeat this steps for the larger features set with phonetic attributes.\n",
    "Lastly, we'll consider the confusion matrix and drivers of error."
   ]
  },
  {
   "cell_type": "code",
   "execution_count": 94,
   "id": "3fd554f1-9773-439e-8de2-964d86e49d0d",
   "metadata": {},
   "outputs": [
    {
     "name": "stdout",
     "output_type": "stream",
     "text": [
      "0.788\n"
     ]
    }
   ],
   "source": [
    "classifier_nb_basic = nltk.NaiveBayesClassifier.train( basic_feature_sets_train)\n",
    "\n",
    "print (nltk.classify.accuracy( classifier_nb_basic, basic_feature_sets_devtest) )\n"
   ]
  },
  {
   "cell_type": "code",
   "execution_count": 95,
   "id": "a05553e4-1721-4c82-88b6-d1221aa1f9c7",
   "metadata": {},
   "outputs": [
    {
     "name": "stdout",
     "output_type": "stream",
     "text": [
      "Most Informative Features\n",
      "          B_A_lastletter = 'k'              male : female =     41.1 : 1.0\n",
      "          B_A_lastletter = 'a'            female : male   =     32.1 : 1.0\n",
      "          B_A_lastletter = 'v'              male : female =     16.4 : 1.0\n",
      "          B_A_lastletter = 'f'              male : female =     13.9 : 1.0\n",
      "           B_A_dmetacode = 'MRN'          female : male   =     13.3 : 1.0\n",
      "           B_A_dmetacode = 'ALTN'           male : female =     12.8 : 1.0\n",
      "           B_A_dmetacode = 'KRSTN'        female : male   =     10.7 : 1.0\n",
      "          B_A_lastletter = 'd'              male : female =     10.2 : 1.0\n",
      "          B_A_lastletter = 'p'              male : female =      9.9 : 1.0\n",
      "           B_A_dmetacode = 'ANT'          female : male   =      9.8 : 1.0\n",
      "        B_A_secondletter = 'z'              male : female =      9.6 : 1.0\n",
      "           B_A_dmetacode = 'JLN'          female : male   =      9.4 : 1.0\n",
      "          B_A_lastletter = 'm'              male : female =      8.9 : 1.0\n",
      "           B_A_dmetacode = 'KRN'          female : male   =      8.7 : 1.0\n",
      "           B_A_dmetacode = 'PRK'            male : female =      8.7 : 1.0\n",
      "           B_A_dmetacode = 'FLR'          female : male   =      8.5 : 1.0\n",
      "          B_A_lastletter = 'w'              male : female =      8.0 : 1.0\n",
      "           B_A_dmetacode = 'SPL'          female : male   =      7.6 : 1.0\n",
      "          B_A_lastletter = 'o'              male : female =      7.3 : 1.0\n",
      "          B_A_lastletter = 'r'              male : female =      7.1 : 1.0\n"
     ]
    }
   ],
   "source": [
    "classifier_nb_basic.show_most_informative_features(20)"
   ]
  },
  {
   "cell_type": "markdown",
   "id": "2b07f8e5-b8b0-4c7d-8510-8df2a8b0eacb",
   "metadata": {},
   "source": [
    "Now let's consider the Naive Bayes Model on the Advanced Feature Set."
   ]
  },
  {
   "cell_type": "code",
   "execution_count": 96,
   "id": "c39e3e04-ccc4-4a3b-afcb-8fabbda92c8d",
   "metadata": {},
   "outputs": [
    {
     "name": "stdout",
     "output_type": "stream",
     "text": [
      "0.766\n"
     ]
    }
   ],
   "source": [
    "classifier_nb_phonetic = nltk.NaiveBayesClassifier.train( phonetic_feature_sets_train)\n",
    "\n",
    "print (nltk.classify.accuracy( classifier_nb_phonetic, phonetic_feature_sets_devtest) )"
   ]
  },
  {
   "cell_type": "code",
   "execution_count": 97,
   "id": "87f98e98-8cc6-4fc4-959d-dd614369cda2",
   "metadata": {},
   "outputs": [
    {
     "name": "stdout",
     "output_type": "stream",
     "text": [
      "Most Informative Features\n",
      "          B_A_lastletter = 'a'            female : male   =     31.9 : 1.0\n",
      "              P_A_phx_06 = 'OW'             male : female =     25.9 : 1.0\n",
      "            P_A_phx_last = 'AH'           female : male   =     21.4 : 1.0\n",
      "          B_A_lastletter = 'k'              male : female =     20.7 : 1.0\n",
      "              P_A_phx_05 = 'Z'              male : female =     13.5 : 1.0\n",
      "            P_A_phx_last = 'F'              male : female =     12.8 : 1.0\n",
      "              P_A_phx_02 = 'W'              male : female =     11.2 : 1.0\n",
      "            P_A_phx_last = 'AA'           female : male   =     10.2 : 1.0\n",
      "           B_A_dmetacode = 'LL'           female : male   =      9.8 : 1.0\n",
      "           B_A_dmetacode = 'MRN'          female : male   =      9.8 : 1.0\n",
      "              P_A_phx_02 = 'NG'             male : female =      9.7 : 1.0\n",
      "              P_A_phx_05 = 'OW'             male : female =      9.5 : 1.0\n",
      "            P_A_phx_last = 'K'              male : female =      9.4 : 1.0\n",
      "           B_A_dmetacode = 'FLR'          female : male   =      8.6 : 1.0\n",
      "          B_A_lastletter = 'd'              male : female =      8.0 : 1.0\n",
      "          B_A_lastletter = 'f'              male : female =      7.7 : 1.0\n",
      "          B_A_lastletter = 'o'              male : female =      7.2 : 1.0\n",
      "           B_A_dmetacode = 'AM'           female : male   =      6.8 : 1.0\n",
      "           B_A_dmetacode = 'ANT'          female : male   =      6.8 : 1.0\n",
      "           B_A_dmetacode = 'LT'           female : male   =      6.8 : 1.0\n"
     ]
    }
   ],
   "source": [
    "classifier_nb_phonetic.show_most_informative_features(20)"
   ]
  },
  {
   "cell_type": "markdown",
   "id": "d8536b6b-f03c-4fc4-b755-5bff0c204bfd",
   "metadata": {},
   "source": [
    "Now let's evaluate the errors in the phonetic model."
   ]
  },
  {
   "cell_type": "code",
   "execution_count": 104,
   "id": "b1784f27-0c1b-4d04-acb8-09a2e6142208",
   "metadata": {},
   "outputs": [],
   "source": [
    "errors = []\n",
    "preds_nb_phonetic = []\n",
    "actual_nb_phonetic = []\n",
    "for (n, g) in phonetic_names_devtest:\n",
    "    prediction = classifier_nb_phonetic.classify( extract_advanced_features(n) )\n",
    "    preds_nb_phonetic.append( prediction )\n",
    "    actual_nb_phonetic.append( g )\n",
    "    if prediction != g:\n",
    "        errors.append( ( prediction, g, n ) )"
   ]
  },
  {
   "cell_type": "code",
   "execution_count": 100,
   "id": "8ef29919-76b3-47c6-aa73-e6cf1ec69e22",
   "metadata": {},
   "outputs": [
    {
     "data": {
      "text/plain": [
       "[('male', 'female', 'Ann'),\n",
       " ('male', 'female', 'Jan'),\n",
       " ('female', 'male', 'Geri'),\n",
       " ('female', 'male', 'Cody'),\n",
       " ('female', 'male', 'Rey'),\n",
       " ('male', 'female', 'Eve'),\n",
       " ('male', 'female', 'Margret'),\n",
       " ('female', 'male', 'Quillan'),\n",
       " ('male', 'female', 'Gabriel'),\n",
       " ('female', 'male', 'Kerry'),\n",
       " ('male', 'female', 'Shea'),\n",
       " ('female', 'male', 'Marwin'),\n",
       " ('male', 'female', 'Gertrude'),\n",
       " ('male', 'female', 'Agnes'),\n",
       " ('female', 'male', 'Dannie'),\n",
       " ('female', 'male', 'Farley'),\n",
       " ('female', 'male', 'Myron'),\n",
       " ('female', 'male', 'Kyle'),\n",
       " ('male', 'female', 'Hatty'),\n",
       " ('male', 'female', 'Hattie'),\n",
       " ('female', 'male', 'Lennie'),\n",
       " ('male', 'female', 'Tory'),\n",
       " ('female', 'male', 'Daryl'),\n",
       " ('male', 'female', 'Faustine'),\n",
       " ('male', 'female', 'Orel'),\n",
       " ('male', 'female', 'Danny'),\n",
       " ('male', 'female', 'Glenn'),\n",
       " ('female', 'male', 'Timothy'),\n",
       " ('male', 'female', 'Sukey'),\n",
       " ('male', 'female', 'Tommy'),\n",
       " ('female', 'male', 'Rory'),\n",
       " ('female', 'male', 'Tracey'),\n",
       " ('male', 'female', 'Raye'),\n",
       " ('female', 'male', 'Fidel'),\n",
       " ('female', 'male', 'Florian'),\n",
       " ('male', 'female', 'Pru'),\n",
       " ('female', 'male', 'Teddy'),\n",
       " ('male', 'female', 'Stacy'),\n",
       " ('male', 'female', 'Beverly'),\n",
       " ('female', 'male', 'Quincey'),\n",
       " ('female', 'male', 'Dudley'),\n",
       " ('female', 'male', 'Lorne'),\n",
       " ('male', 'female', 'Happy'),\n",
       " ('female', 'male', 'Lindsey'),\n",
       " ('female', 'male', 'Sloane'),\n",
       " ('female', 'male', 'Bubba'),\n",
       " ('male', 'female', 'Cass'),\n",
       " ('male', 'female', 'Star'),\n",
       " ('male', 'female', 'Gwenore'),\n",
       " ('male', 'female', 'Georgie'),\n",
       " ('male', 'female', 'Jennifer'),\n",
       " ('male', 'female', 'Stormy'),\n",
       " ('female', 'male', 'Claudius'),\n",
       " ('female', 'male', 'Bernie'),\n",
       " ('male', 'female', 'Phyllys'),\n",
       " ('male', 'female', 'Michal'),\n",
       " ('male', 'female', 'Lilias'),\n",
       " ('male', 'female', 'Trace'),\n",
       " ('female', 'male', 'Willie'),\n",
       " ('female', 'male', 'Sonny'),\n",
       " ('female', 'male', 'Mortie'),\n",
       " ('male', 'female', 'Hildegarde'),\n",
       " ('male', 'female', 'Pam'),\n",
       " ('male', 'female', 'Tammy'),\n",
       " ('male', 'female', 'France'),\n",
       " ('male', 'female', 'Margalo'),\n",
       " ('female', 'male', 'Patsy'),\n",
       " ('female', 'male', 'Mischa'),\n",
       " ('male', 'female', 'Mab'),\n",
       " ('male', 'female', 'Eden'),\n",
       " ('male', 'female', 'Lulu'),\n",
       " ('female', 'male', 'Vasily'),\n",
       " ('male', 'female', 'Jaime'),\n",
       " ('female', 'male', 'Lou'),\n",
       " ('female', 'male', 'Monty'),\n",
       " ('female', 'male', 'Zebulon'),\n",
       " ('female', 'male', 'Rikki'),\n",
       " ('female', 'male', 'Carroll'),\n",
       " ('male', 'female', 'Grier'),\n",
       " ('male', 'female', 'Enid'),\n",
       " ('male', 'female', 'Doro'),\n",
       " ('male', 'female', 'Averil'),\n",
       " ('male', 'female', 'Judy'),\n",
       " ('female', 'male', 'Eddie'),\n",
       " ('female', 'male', 'Odell'),\n",
       " ('male', 'female', 'Ardith'),\n",
       " ('female', 'male', 'Filmore'),\n",
       " ('female', 'male', 'Lindy'),\n",
       " ('female', 'male', 'Kirby'),\n",
       " ('female', 'male', 'Jody'),\n",
       " ('male', 'female', 'Phyllis'),\n",
       " ('female', 'male', 'Alexei'),\n",
       " ('male', 'female', 'Gretal'),\n",
       " ('male', 'female', 'Toby'),\n",
       " ('female', 'male', 'Amory'),\n",
       " ('female', 'male', 'Hazel'),\n",
       " ('male', 'female', 'Gwendolyn'),\n",
       " ('female', 'male', 'Lowell'),\n",
       " ('female', 'male', 'Aubrey'),\n",
       " ('male', 'female', 'Arden'),\n",
       " ('female', 'male', 'Anatoly'),\n",
       " ('male', 'female', 'Ruby'),\n",
       " ('male', 'female', 'Luce'),\n",
       " ('male', 'female', 'Piper'),\n",
       " ('female', 'male', 'Olivier'),\n",
       " ('female', 'male', 'Dani'),\n",
       " ('male', 'female', 'Bridget'),\n",
       " ('female', 'male', 'Reggie'),\n",
       " ('female', 'male', 'Tallie'),\n",
       " ('male', 'female', 'Jordan'),\n",
       " ('female', 'male', 'Jessee'),\n",
       " ('female', 'male', 'Dougie'),\n",
       " ('female', 'male', 'Nickey'),\n",
       " ('male', 'female', 'Izzi'),\n",
       " ('female', 'male', 'Karsten'),\n",
       " ('female', 'male', 'Eddy'),\n",
       " ('female', 'male', 'Nevile')]"
      ]
     },
     "execution_count": 100,
     "metadata": {},
     "output_type": "execute_result"
    }
   ],
   "source": [
    "errors"
   ]
  },
  {
   "cell_type": "code",
   "execution_count": 105,
   "id": "f3233214-1b1e-415b-82da-43f9bbeebd5c",
   "metadata": {},
   "outputs": [
    {
     "name": "stdout",
     "output_type": "stream",
     "text": [
      "       |   f     |\n",
      "       |   e     |\n",
      "       |   m   m |\n",
      "       |   a   a |\n",
      "       |   l   l |\n",
      "       |   e   e |\n",
      "-------+---------+\n",
      "female |<201> 58 |\n",
      "  male |  59<182>|\n",
      "-------+---------+\n",
      "(row = reference; col = test)\n",
      "\n"
     ]
    }
   ],
   "source": [
    "from nltk.metrics import ConfusionMatrix\n",
    "print(nltk.ConfusionMatrix( actual_nb_phonetic , preds_nb_phonetic ) )\n"
   ]
  }
 ],
 "metadata": {
  "kernelspec": {
   "display_name": "Python 3 (ipykernel)",
   "language": "python",
   "name": "python3"
  },
  "language_info": {
   "codemirror_mode": {
    "name": "ipython",
    "version": 3
   },
   "file_extension": ".py",
   "mimetype": "text/x-python",
   "name": "python",
   "nbconvert_exporter": "python",
   "pygments_lexer": "ipython3",
   "version": "3.7.7"
  }
 },
 "nbformat": 4,
 "nbformat_minor": 5
}

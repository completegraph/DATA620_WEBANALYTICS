{
 "cells": [
  {
   "cell_type": "markdown",
   "id": "8e37659a-c39a-49ae-8dce-87c9bfd35ae3",
   "metadata": {},
   "source": [
    "# $\\color{purple}{\\text{Classification of Names by Gender}}$\n",
    "\n",
    "**By Alexander Ng & Philip Tanofsky**\n",
    "\n",
    "*April 3, 2022*\n",
    "\n"
   ]
  },
  {
   "cell_type": "markdown",
   "id": "15e7cd64-df86-4007-9826-84ddc2626ba0",
   "metadata": {},
   "source": [
    "## $\\color{blue}{\\text{Overview}}$\n",
    "\n",
    "We consider the classification of over 6000 given names by gender through the use of machine learning within the framework of linguistic theory.  The goal of this study is to predict the gender of name $X$ given nothing more than a training set of other names.   To construct useful predictors, we use both an orthographic and a phonetic approach to analyze the names corpus.  These predictors extract additional information necessary for accurate gender classification.  \n",
    "\n",
    "We review the background literature on the plausibility of a phonological approach to gender classification, then describe our data set including the derived predictors and an exploratory analysis.  Lastly, the model results are presented."
   ]
  },
  {
   "cell_type": "markdown",
   "id": "3d39512f-c378-435c-938c-ed51b0153ba5",
   "metadata": {},
   "source": [
    "## $\\color{blue}{\\text{Theoretical Background}}$\n",
    "\n",
    "There is a research literature on the prediction of gender of first names based on phonological consideration.   [Slepian and Galinsky (2016)](http://www.columbia.edu/~ms4992/Pubs/2016_Slepian-Galinsky_JPSP.pdf) show that voiced initial phonemes in first names are more associated with male names while unvoiced initial phonemes are associated with female names.   [Sullivan and Kang (2019)](http://www.assta.org/proceedings/ICPhS2019/papers/ICPhS_2173.pdf) conducted field experiments with nonsense names that follow known phonological patterns to confirm a gender preference in names.   [Whissell (2013)](https://doi.org/10.1179/nam.2001.49.2.97) note that predictability in gender of names is supported by the linguistic theory of *sound symbolism*.\n",
    "\n",
    "**Sound symbolism** argues that the sound of a word is associated with the word's referent.  \"Sound  patterns in words are both non-random and informative.\" [Whissell (2013)](https://doi.org/10.1179/nam.2001.49.2.97)   These studies challenge the prevailing theory that the relationship between a word and its meaning are arbitrary.  This arbitrariness is a fundamental aspect of language. \n",
    "\n",
    "The key patterns observed in names and their gender associations are:\n",
    "\n",
    "*  **Diversity of names**  Female names are more diverse than male ones.\n",
    "\n",
    "*  **Number of Syllables**  Female names have more syllables than male ones.\n",
    "\n",
    "*  **Final Syllable** Female names are more likely to end in a *schwa* or open vowel.\n",
    "\n",
    "*  **Stress Placement**  Female names have stress on syllable after the first one.\n",
    "\n",
    "*  **Fewer Consonants**  Male names have fewer consonants.\n",
    "\n",
    "*  **Voiced Consonant**  Male names have more initial voiced consonants.\n",
    "\n",
    "These findings enable us to construct additional predictors to guide the classification models.  A big question is whether these effects work together in concert to increase prediction accuracy.\n"
   ]
  },
  {
   "cell_type": "markdown",
   "id": "4d4a2afe-5656-4e28-bf10-7dd48ccecd94",
   "metadata": {},
   "source": [
    "## $\\color{blue}{\\text{Data and Methods}}$\n",
    "\n",
    "To obtain these phonemes of each name, the syllables and stress placement, we require an automated way to obtain and codify the pronunciation of the entire name corpus.   We used the CMU pronunciation library on the backend to compute the pronunciation of each name.   The front-end software package was `pronouncing`.   The CMU and `pronouncing` library produce a string representation of the phonemes of the names.   It can also gives the number of syllables, the stress placement.   The phonemes are encoded in a special convention called `Arpabet` which was developed by the DARPA agency for automated text translation.   For example, the `schwa` is encoded as a two letter string `AH`.   The article [Arpabet](https://en.wikipedia.org/wiki/ARPABET) gives more details of the encoding.  It represents a subset of IPA (the International Phonetic Alphabet) and is geared to capture American English.\n",
    "\n"
   ]
  },
  {
   "cell_type": "markdown",
   "id": "239f2884-5f7d-48e1-b999-9c701b44a9e4",
   "metadata": {},
   "source": [
    "The biggest challenge was that only 66% of the nltk names corpus is covered by the `pronouncing` library.  No attempt is made by the CMU dictionary to guess the pronunciation of many relatively simple words.\n",
    "\n",
    "Thus, we also use the `Double Metaphone` sound encoding algorithm (based on its ancestor `Soundex`) to construct an alphanumeric representation of each name in a simple string format.  This `dmeta` encoding gives us an additional way to obtain pronunciation data.  Because vowels are stripped off, we do not expect Double Metaphone to be useful in all cases.   For example, ROBERT and ROBERTA map to the same `dmeta` result."
   ]
  },
  {
   "cell_type": "markdown",
   "id": "f05d3930-0034-46ce-8f88-be0b91b0ef90",
   "metadata": {},
   "source": [
    "In total, we construct the following predictors:\n",
    "    \n",
    "*  first letter\n",
    "*  second letter\n",
    "*  first two letters\n",
    "*  last letter\n",
    "*  last 2 letters\n",
    "*  word length\n",
    "*  number of consonants (non-phonemically computed)\n",
    "*  number of vowels (aeiou only - not phonemically derived)\n",
    "*  Double metaphone encoding of the name\n",
    "*  phoneme 1 - 12.  Each name can have up to 12 phonemes.\n",
    "*  phoneme string (The raw string from CMU).\n",
    "*  first phoneme\n",
    "*  number of phonemes\n",
    "*  number of syllables\n",
    "*  the syllable at which the primary stress is pronounced\n",
    "*  the last phoneme of the name\n"
   ]
  },
  {
   "cell_type": "markdown",
   "id": "b10a51f8-caee-4530-ab06-d026440a1481",
   "metadata": {},
   "source": [
    "To ensure reproducibility of the study, we seed the random number generator prior to splitting the test train split."
   ]
  },
  {
   "cell_type": "markdown",
   "id": "ecb4d1c6-95da-4937-a104-d5e939bbe3ae",
   "metadata": {},
   "source": [
    "To deal with the data discrepancy between the complete set of names and the partial set with all phonemic data, we run TWO models.\n",
    "\n",
    "One analysis uses the basic set of features that don't require the CMU pronouncing library.   We call that the basic features data set.\n",
    "\n",
    "Another analysis uses the entire set of column (including the phonological features) but is limited to 66% of the original names corpus.   We call this the advanced feature set.\n",
    "\n",
    "\n"
   ]
  },
  {
   "cell_type": "markdown",
   "id": "ffcf40a6-ee0f-4e8d-84d9-9e929fc4e43a",
   "metadata": {},
   "source": [
    "## $\\color{blue}{\\text{Exploratory Data Analysis}}$\n",
    "\n",
    "First, we explore a few aspects of the names dataset to better understand the nature of the provided names."
   ]
  },
  {
   "cell_type": "code",
   "execution_count": 1,
   "id": "e8adf007-ec40-42b9-91ac-044da02db8ba",
   "metadata": {},
   "outputs": [],
   "source": [
    "# Import required modules\n",
    "import pandas as pd\n",
    "import nltk\n",
    "from nltk.corpus import names\n",
    "from nltk.metrics import ConfusionMatrix\n",
    "import seaborn as sns\n",
    "import matplotlib.pyplot as plt\n",
    "import pronouncing\n",
    "import phonetics\n",
    "from collections import Counter\n",
    "import random"
   ]
  },
  {
   "cell_type": "markdown",
   "id": "15cf8b5a-2ba8-4766-9ab3-201d44e42022",
   "metadata": {},
   "source": [
    "Retrieve the female and male names and label them based on the file name. Shuffle the names based on random seed to generate an even mix of female and male names for the train, devtest, and test subsets. Again, the random seed is used to ensure reproducibility."
   ]
  },
  {
   "cell_type": "code",
   "execution_count": 2,
   "id": "8732baa8-cf3f-4301-8912-cca038bd01b6",
   "metadata": {},
   "outputs": [],
   "source": [
    "# Make sure to remove any whitespace at the end of the names using rstrip(). Found one example of \"Gale \".\n",
    "labeled_names = ([(name.rstrip(), 'male') for name in names.words('male.txt')] +\n",
    "[(name.rstrip(), 'female') for name in names.words('female.txt')])\n",
    "\n",
    "# Set seed to ensure the simulation can be reproduced.\n",
    "random.seed(a = 102)  \n",
    "random.shuffle(labeled_names)"
   ]
  },
  {
   "cell_type": "markdown",
   "id": "0c7deab5-30ba-4cb2-b5bb-f707427dd478",
   "metadata": {},
   "source": [
    "Output dataframe head to confirm data load worked."
   ]
  },
  {
   "cell_type": "code",
   "execution_count": 3,
   "id": "bacd2d3c-e2d5-44f1-82ff-8cb8aa5e469a",
   "metadata": {},
   "outputs": [
    {
     "data": {
      "text/html": [
       "<div>\n",
       "<style scoped>\n",
       "    .dataframe tbody tr th:only-of-type {\n",
       "        vertical-align: middle;\n",
       "    }\n",
       "\n",
       "    .dataframe tbody tr th {\n",
       "        vertical-align: top;\n",
       "    }\n",
       "\n",
       "    .dataframe thead th {\n",
       "        text-align: right;\n",
       "    }\n",
       "</style>\n",
       "<table border=\"1\" class=\"dataframe\">\n",
       "  <thead>\n",
       "    <tr style=\"text-align: right;\">\n",
       "      <th></th>\n",
       "      <th>name</th>\n",
       "      <th>gender</th>\n",
       "    </tr>\n",
       "  </thead>\n",
       "  <tbody>\n",
       "    <tr>\n",
       "      <th>0</th>\n",
       "      <td>bridie</td>\n",
       "      <td>female</td>\n",
       "    </tr>\n",
       "    <tr>\n",
       "      <th>1</th>\n",
       "      <td>edeline</td>\n",
       "      <td>female</td>\n",
       "    </tr>\n",
       "    <tr>\n",
       "      <th>2</th>\n",
       "      <td>molli</td>\n",
       "      <td>female</td>\n",
       "    </tr>\n",
       "    <tr>\n",
       "      <th>3</th>\n",
       "      <td>ingeberg</td>\n",
       "      <td>female</td>\n",
       "    </tr>\n",
       "    <tr>\n",
       "      <th>4</th>\n",
       "      <td>willmott</td>\n",
       "      <td>male</td>\n",
       "    </tr>\n",
       "  </tbody>\n",
       "</table>\n",
       "</div>"
      ],
      "text/plain": [
       "       name  gender\n",
       "0    bridie  female\n",
       "1   edeline  female\n",
       "2     molli  female\n",
       "3  ingeberg  female\n",
       "4  willmott    male"
      ]
     },
     "execution_count": 3,
     "metadata": {},
     "output_type": "execute_result"
    }
   ],
   "source": [
    "df_lab_names = pd.DataFrame(labeled_names, columns=['name','gender'])\n",
    "df_lab_names['name'] = df_lab_names['name'].str.lower()\n",
    "df_lab_names['name'] = df_lab_names['name'].str.rstrip()\n",
    "df_lab_names.head()"
   ]
  },
  {
   "cell_type": "markdown",
   "id": "9ce2ef03-fb78-4400-929f-2d77106af45b",
   "metadata": {},
   "source": [
    "Identify count of female and male names included."
   ]
  },
  {
   "cell_type": "code",
   "execution_count": 4,
   "id": "d803aefd-d0ae-4c33-9353-ef3c949dcb2b",
   "metadata": {
    "tags": []
   },
   "outputs": [
    {
     "data": {
      "text/plain": [
       "Counter({'female': 5001, 'male': 2943})"
      ]
     },
     "execution_count": 4,
     "metadata": {},
     "output_type": "execute_result"
    }
   ],
   "source": [
    "Counter(df_lab_names.gender)"
   ]
  },
  {
   "cell_type": "markdown",
   "id": "105a8b1d-0d20-447d-8210-d19eb10f2e79",
   "metadata": {},
   "source": [
    "The gender totals indicate a higher number of provided female names compared to male names."
   ]
  },
  {
   "cell_type": "markdown",
   "id": "668d41bf-ac42-4a83-b463-306f3483070b",
   "metadata": {},
   "source": [
    "### $\\color{blue}{\\text{Unique Names}}$\n",
    "Identify number of unique female names."
   ]
  },
  {
   "cell_type": "code",
   "execution_count": 5,
   "id": "b1c0a266-c412-4156-8057-6cd60925a33b",
   "metadata": {},
   "outputs": [
    {
     "name": "stdout",
     "output_type": "stream",
     "text": [
      "Count of unique female names: 4997\n"
     ]
    }
   ],
   "source": [
    "# Get the female rows\n",
    "df_names_female = df_lab_names.loc[df_lab_names['gender'] == 'female']\n",
    "print('Count of unique female names: {:-4}'.format(len(df_names_female.name.unique())))"
   ]
  },
  {
   "cell_type": "markdown",
   "id": "c938c1e4-d7d7-47fa-9297-c47de87f1024",
   "metadata": {},
   "source": [
    "Identify number of unique male names."
   ]
  },
  {
   "cell_type": "code",
   "execution_count": 6,
   "id": "b2e192d8-8f2e-4158-b7d0-e6be3b2487e4",
   "metadata": {},
   "outputs": [
    {
     "name": "stdout",
     "output_type": "stream",
     "text": [
      "Count of unique male names: 2943\n"
     ]
    }
   ],
   "source": [
    "# Get the male rows\n",
    "df_names_male = df_lab_names.loc[df_lab_names['gender'] == 'male']\n",
    "len(df_names_male.name.unique())\n",
    "print('Count of unique male names: {:-4}'.format(len(df_names_male.name.unique())))"
   ]
  },
  {
   "cell_type": "markdown",
   "id": "711251e9-e58d-4f67-940a-736db492e922",
   "metadata": {},
   "source": [
    "Identify number of total unique names."
   ]
  },
  {
   "cell_type": "code",
   "execution_count": 7,
   "id": "81bb7d2c-deb1-48cd-8785-1576faf7f267",
   "metadata": {},
   "outputs": [
    {
     "name": "stdout",
     "output_type": "stream",
     "text": [
      "Count of unique names: 7575\n"
     ]
    }
   ],
   "source": [
    "print('Count of unique names: {:-4}'.format(len(df_lab_names.name.unique())))"
   ]
  },
  {
   "cell_type": "markdown",
   "id": "53a18c64-3c30-4cf0-a0bf-18b1d5626ad1",
   "metadata": {},
   "source": [
    "Identify count of names common in female and male lists."
   ]
  },
  {
   "cell_type": "code",
   "execution_count": 8,
   "id": "ea8f0bf0-0583-488f-aa17-c02eff67b67a",
   "metadata": {},
   "outputs": [
    {
     "name": "stdout",
     "output_type": "stream",
     "text": [
      "Count of names common in female and male lists:  365\n"
     ]
    }
   ],
   "source": [
    "print('Count of names common in female and male lists: {:-4}'.format((7575 - 4997 - 2943) * -1))"
   ]
  },
  {
   "cell_type": "markdown",
   "id": "d5a59649-30fc-489f-9dd6-e5d66b45eae1",
   "metadata": {},
   "source": [
    "### $\\color{blue}{\\text{Name Lengths}}$\n",
    "\n",
    "Identify the shortest and longest name lengths."
   ]
  },
  {
   "cell_type": "markdown",
   "id": "8de257e6-bbbc-41b5-a11f-7f94b4be3870",
   "metadata": {},
   "source": [
    "Shortest names: 2 characters. Following shows a sample of 2-character names."
   ]
  },
  {
   "cell_type": "code",
   "execution_count": 9,
   "id": "48d1d2a4-b102-4598-93a1-58093aa4d64c",
   "metadata": {},
   "outputs": [
    {
     "data": {
      "text/html": [
       "<div>\n",
       "<style scoped>\n",
       "    .dataframe tbody tr th:only-of-type {\n",
       "        vertical-align: middle;\n",
       "    }\n",
       "\n",
       "    .dataframe tbody tr th {\n",
       "        vertical-align: top;\n",
       "    }\n",
       "\n",
       "    .dataframe thead th {\n",
       "        text-align: right;\n",
       "    }\n",
       "</style>\n",
       "<table border=\"1\" class=\"dataframe\">\n",
       "  <thead>\n",
       "    <tr style=\"text-align: right;\">\n",
       "      <th></th>\n",
       "      <th>name</th>\n",
       "      <th>gender</th>\n",
       "    </tr>\n",
       "  </thead>\n",
       "  <tbody>\n",
       "    <tr>\n",
       "      <th>1108</th>\n",
       "      <td>ev</td>\n",
       "      <td>male</td>\n",
       "    </tr>\n",
       "    <tr>\n",
       "      <th>1149</th>\n",
       "      <td>er</td>\n",
       "      <td>male</td>\n",
       "    </tr>\n",
       "    <tr>\n",
       "      <th>1264</th>\n",
       "      <td>ty</td>\n",
       "      <td>male</td>\n",
       "    </tr>\n",
       "    <tr>\n",
       "      <th>1424</th>\n",
       "      <td>vi</td>\n",
       "      <td>female</td>\n",
       "    </tr>\n",
       "    <tr>\n",
       "      <th>1760</th>\n",
       "      <td>ed</td>\n",
       "      <td>male</td>\n",
       "    </tr>\n",
       "  </tbody>\n",
       "</table>\n",
       "</div>"
      ],
      "text/plain": [
       "     name  gender\n",
       "1108   ev    male\n",
       "1149   er    male\n",
       "1264   ty    male\n",
       "1424   vi  female\n",
       "1760   ed    male"
      ]
     },
     "execution_count": 9,
     "metadata": {},
     "output_type": "execute_result"
    }
   ],
   "source": [
    "df_names_short = df_lab_names.loc[df_lab_names['name'].str.len() < 3]\n",
    "df_names_short.head()"
   ]
  },
  {
   "cell_type": "markdown",
   "id": "ec18a8b9-6305-4e85-8f57-5751895dac78",
   "metadata": {},
   "source": [
    "Longest names: 15 characters. Following shows the two examples of 15-character names."
   ]
  },
  {
   "cell_type": "code",
   "execution_count": 10,
   "id": "dfb6c935-dae1-40d5-90a8-eec306da522d",
   "metadata": {
    "tags": []
   },
   "outputs": [
    {
     "data": {
      "text/html": [
       "<div>\n",
       "<style scoped>\n",
       "    .dataframe tbody tr th:only-of-type {\n",
       "        vertical-align: middle;\n",
       "    }\n",
       "\n",
       "    .dataframe tbody tr th {\n",
       "        vertical-align: top;\n",
       "    }\n",
       "\n",
       "    .dataframe thead th {\n",
       "        text-align: right;\n",
       "    }\n",
       "</style>\n",
       "<table border=\"1\" class=\"dataframe\">\n",
       "  <thead>\n",
       "    <tr style=\"text-align: right;\">\n",
       "      <th></th>\n",
       "      <th>name</th>\n",
       "      <th>gender</th>\n",
       "    </tr>\n",
       "  </thead>\n",
       "  <tbody>\n",
       "    <tr>\n",
       "      <th>1090</th>\n",
       "      <td>jean-christophe</td>\n",
       "      <td>male</td>\n",
       "    </tr>\n",
       "    <tr>\n",
       "      <th>5121</th>\n",
       "      <td>helen-elizabeth</td>\n",
       "      <td>female</td>\n",
       "    </tr>\n",
       "  </tbody>\n",
       "</table>\n",
       "</div>"
      ],
      "text/plain": [
       "                 name  gender\n",
       "1090  jean-christophe    male\n",
       "5121  helen-elizabeth  female"
      ]
     },
     "execution_count": 10,
     "metadata": {},
     "output_type": "execute_result"
    }
   ],
   "source": [
    "df_names_long = df_lab_names.loc[df_lab_names['name'].str.len() > 14]\n",
    "df_names_long.head()"
   ]
  },
  {
   "cell_type": "markdown",
   "id": "ce6c54ad-0e7b-4608-a813-f6517ad0c434",
   "metadata": {},
   "source": [
    "### $\\color{blue}{\\text{Letter Distribution}}$\n",
    "\n",
    "We plot the first, second, and final letter distributions by gender to identify any patterns."
   ]
  },
  {
   "cell_type": "markdown",
   "id": "cbd0bdb4-4abb-4370-a064-8e507b8bd49e",
   "metadata": {},
   "source": [
    "Slice the first character, second character, and final character from each name."
   ]
  },
  {
   "cell_type": "code",
   "execution_count": 11,
   "id": "baa85644-441e-4483-a8b6-2d87892ff7cf",
   "metadata": {},
   "outputs": [
    {
     "data": {
      "text/html": [
       "<div>\n",
       "<style scoped>\n",
       "    .dataframe tbody tr th:only-of-type {\n",
       "        vertical-align: middle;\n",
       "    }\n",
       "\n",
       "    .dataframe tbody tr th {\n",
       "        vertical-align: top;\n",
       "    }\n",
       "\n",
       "    .dataframe thead th {\n",
       "        text-align: right;\n",
       "    }\n",
       "</style>\n",
       "<table border=\"1\" class=\"dataframe\">\n",
       "  <thead>\n",
       "    <tr style=\"text-align: right;\">\n",
       "      <th></th>\n",
       "      <th>name</th>\n",
       "      <th>gender</th>\n",
       "      <th>SW1L</th>\n",
       "      <th>SW2L</th>\n",
       "      <th>EW1L</th>\n",
       "    </tr>\n",
       "  </thead>\n",
       "  <tbody>\n",
       "    <tr>\n",
       "      <th>0</th>\n",
       "      <td>bridie</td>\n",
       "      <td>female</td>\n",
       "      <td>b</td>\n",
       "      <td>r</td>\n",
       "      <td>e</td>\n",
       "    </tr>\n",
       "    <tr>\n",
       "      <th>1</th>\n",
       "      <td>edeline</td>\n",
       "      <td>female</td>\n",
       "      <td>e</td>\n",
       "      <td>d</td>\n",
       "      <td>e</td>\n",
       "    </tr>\n",
       "    <tr>\n",
       "      <th>2</th>\n",
       "      <td>molli</td>\n",
       "      <td>female</td>\n",
       "      <td>m</td>\n",
       "      <td>o</td>\n",
       "      <td>i</td>\n",
       "    </tr>\n",
       "    <tr>\n",
       "      <th>3</th>\n",
       "      <td>ingeberg</td>\n",
       "      <td>female</td>\n",
       "      <td>i</td>\n",
       "      <td>n</td>\n",
       "      <td>g</td>\n",
       "    </tr>\n",
       "    <tr>\n",
       "      <th>4</th>\n",
       "      <td>willmott</td>\n",
       "      <td>male</td>\n",
       "      <td>w</td>\n",
       "      <td>i</td>\n",
       "      <td>t</td>\n",
       "    </tr>\n",
       "  </tbody>\n",
       "</table>\n",
       "</div>"
      ],
      "text/plain": [
       "       name  gender SW1L SW2L EW1L\n",
       "0    bridie  female    b    r    e\n",
       "1   edeline  female    e    d    e\n",
       "2     molli  female    m    o    i\n",
       "3  ingeberg  female    i    n    g\n",
       "4  willmott    male    w    i    t"
      ]
     },
     "execution_count": 11,
     "metadata": {},
     "output_type": "execute_result"
    }
   ],
   "source": [
    "df_lab_names['SW1L'] = df_lab_names['name'].astype(str).str[0]\n",
    "df_lab_names['SW2L'] = df_lab_names['name'].astype(str).str[1:2]\n",
    "df_lab_names['EW1L'] = df_lab_names['name'].astype(str).str[-1]\n",
    "df_lab_names.head()"
   ]
  },
  {
   "cell_type": "markdown",
   "id": "be8ce911-75f1-4739-aa6c-0f47ea397393",
   "metadata": {},
   "source": [
    "Plot the first letter counts by gender."
   ]
  },
  {
   "cell_type": "code",
   "execution_count": 12,
   "id": "4e2ba046-a0b8-4242-883c-54cb5861a2f5",
   "metadata": {},
   "outputs": [
    {
     "data": {
      "image/png": "[encoded data removed]",
      "text/plain": [
       "<Figure size 1080x576 with 1 Axes>"
      ]
     },
     "metadata": {
      "needs_background": "light"
     },
     "output_type": "display_data"
    }
   ],
   "source": [
    "palette = {\n",
    "    'female': 'tab:blue',\n",
    "    'male': 'tab:orange'\n",
    "}\n",
    "\n",
    "plt.figure(figsize=(15,8))\n",
    "sns.histplot(data=df_lab_names.sort_values(by=\"SW1L\"),\n",
    "             x=\"SW1L\", \n",
    "             hue=\"gender\", \n",
    "             multiple=\"dodge\", \n",
    "             palette=palette,\n",
    "             shrink=.8\n",
    "            ).set(title='First Letter Counts by Gender', \n",
    "                   xlabel='Letter', \n",
    "                   ylabel='Count');"
   ]
  },
  {
   "cell_type": "markdown",
   "id": "14b53412-1e7b-4d78-a491-faec6922cf26",
   "metadata": {},
   "source": [
    "Even accounting for the higher volume of female names, we see names starting with 'a', 'c', 'l', and 'm' are more likely to be female names. We also notice that names starting with 'w' are more likely to be male."
   ]
  },
  {
   "cell_type": "markdown",
   "id": "3c0be3ec-e55a-4cef-aa86-4d2921c67d82",
   "metadata": {},
   "source": [
    "Next, plot the second letter counts by gender."
   ]
  },
  {
   "cell_type": "code",
   "execution_count": 13,
   "id": "0cee5323-4235-416d-bfd0-f7ed69afe0c2",
   "metadata": {},
   "outputs": [
    {
     "data": {
      "image/png": "[encoded data removed]",
      "text/plain": [
       "<Figure size 1080x576 with 1 Axes>"
      ]
     },
     "metadata": {
      "needs_background": "light"
     },
     "output_type": "display_data"
    }
   ],
   "source": [
    "plt.figure(figsize=(15,8))\n",
    "sns.histplot(data=df_lab_names.sort_values(by=\"SW2L\"),\n",
    "             x=\"SW2L\", \n",
    "             hue=\"gender\", \n",
    "             multiple=\"dodge\", \n",
    "             palette=palette,\n",
    "             shrink=.8\n",
    "            ).set(title='Second Letter Counts by Gender', \n",
    "                   xlabel='Letter', \n",
    "                   ylabel='Count');"
   ]
  },
  {
   "cell_type": "markdown",
   "id": "ce4bba02-1b36-4fee-8ed3-5c65bbdca543",
   "metadata": {},
   "source": [
    "Key takeway from above plot is the likelihood of a vowel being the second character - 'a', 'e', 'i', 'o', and 'u' - which is expected given the general form of names using the English language."
   ]
  },
  {
   "cell_type": "markdown",
   "id": "6610cfb5-153d-4b98-9f2e-089e50b8356a",
   "metadata": {},
   "source": [
    "Plot the final letter counts."
   ]
  },
  {
   "cell_type": "code",
   "execution_count": 14,
   "id": "05f2a184-cfad-4850-bfa6-42f51174cfe0",
   "metadata": {},
   "outputs": [
    {
     "data": {
      "image/png": "[encoded data removed]",
      "text/plain": [
       "<Figure size 1080x576 with 1 Axes>"
      ]
     },
     "metadata": {
      "needs_background": "light"
     },
     "output_type": "display_data"
    }
   ],
   "source": [
    "plt.figure(figsize=(15,8))\n",
    "sns.histplot(data=df_lab_names.sort_values(by=\"EW1L\"),\n",
    "             x=\"EW1L\", \n",
    "             hue=\"gender\", \n",
    "             multiple=\"dodge\", \n",
    "             palette=palette,\n",
    "             shrink=.8\n",
    "            ).set(title='Final Letter Counts by Gender', \n",
    "                   xlabel='Letter', \n",
    "                   ylabel='Count');"
   ]
  },
  {
   "cell_type": "markdown",
   "id": "da416260-257a-4d55-ba91-0c5262dbcdaa",
   "metadata": {},
   "source": [
    "The above plot clearly shows names ending in 'a' or 'e' are likely to be female.\n",
    "\n",
    "The above plots indicate the likelihood of first and final letters being a reasonable predictor of gender."
   ]
  },
  {
   "cell_type": "markdown",
   "id": "22cc7ad6-9130-47d3-8ffe-33d919cdbb42",
   "metadata": {},
   "source": [
    "## $\\color{blue}{\\text{Feature Extraction}}$\n",
    "To prepare the featureset dictionary objects for the nltk classifiers, we created several functions to extract the basic and advanced features based on the name as the sole input."
   ]
  },
  {
   "cell_type": "code",
   "execution_count": 15,
   "id": "ba69ac14-f321-423b-bc92-1d600d63da13",
   "metadata": {},
   "outputs": [],
   "source": [
    "#  Let's make sure the dictionary keys are globally unique by imposing\n",
    "#  a namespace qualifier.\n",
    "#  Use a prefix by feature-type.   \n",
    "#  Each extractor function computes only 1 feature type.\n",
    "#  So features in one extractor function \n",
    "# -------------------------------------------------------------------------\n",
    "\n",
    "#   generates the dictionary key name:  \n",
    "#     var_type = 1  =>  Alphabetical\n",
    "#     var_type = 2  =>  Integer\n",
    "#     var_type = 3  =>  Boolean\n",
    "# -----------------------------------------------\n",
    "def make_key_name(prefix, var_type , key ):\n",
    "    if var_type == 1:        \n",
    "        keyname = prefix + \"_\" + \"A\" + \"_\" + key\n",
    "    elif var_type == 2:\n",
    "        keyname = prefix + \"_\" + \"N\" + \"_\" + key\n",
    "    else:\n",
    "        keyname = prefix + \"_\" + \"B\" + \"_\" + key\n",
    "    return keyname\n",
    "\n",
    "\n",
    "def extract_response(gender):\n",
    "    pre = \"R\"\n",
    "    features = {}\n",
    "    features[make_key_name(pre, 1, \"gender\")] = gender\n",
    "    return features\n",
    "\n",
    "\n",
    "def count_consonants(string):\n",
    "   num_consonants = 0\n",
    "   # to count the consonants\n",
    "   for char in string:\n",
    "      if char not in \"aeiou\":\n",
    "         num_consonants += 1\n",
    "   return num_consonants\n",
    "\n",
    "\n",
    "def count_vowels(string):\n",
    "   num_vowels = 0\n",
    "   # to count the voweles\n",
    "   for char in string:\n",
    "      if char in \"aeiou\":\n",
    "         num_vowels += 1\n",
    "   return num_vowels\n",
    "\n",
    "\n",
    "#     Function to extract basic features and create dictionary object\n",
    "def extract_basic_features(name, one_letter=False, two_letters=True):\n",
    "    pre = \"B\"\n",
    "    features = {}\n",
    "    \n",
    "    #features[make_key_name(pre, 1, \"name\")] = name\n",
    "    if one_letter:\n",
    "        features[make_key_name(pre, 1, \"firstletter\") ] = name[0].lower()\n",
    "        features[make_key_name(pre, 1, \"secondletter\")] = name[1].lower()\n",
    "        features[make_key_name(pre, 1, \"lastletter\")] = name[-1].lower()\n",
    "    if two_letters:\n",
    "        features[make_key_name(pre, 1, \"first2letter\")] = name[0:2].lower()\n",
    "        features[make_key_name(pre, 1, \"last2letter\")] = name[-2:].lower()\n",
    "    features[make_key_name(pre, 2, \"length\")] = len(name)\n",
    "    \n",
    "    # Count the consonants and vowels\n",
    "    features[make_key_name(pre, 2, \"numconsonants\")] = count_consonants(name.lower())\n",
    "    features[make_key_name(pre, 2, \"numvowels\")] = count_vowels(name.lower())\n",
    "    \n",
    "    dmeta  = phonetics.dmetaphone(name)  # Double Metaphone is usually defined for all names.\n",
    "\n",
    "    features[make_key_name(pre, 1, \"dmetacode\")] = dmeta[0] if len(dmeta) > 0 else \"\"\n",
    "    features[make_key_name(pre, 2, \"dmetalen\")]  = len(dmeta[0]) if len(dmeta) > 0 else 0    \n",
    "\n",
    "    return features"
   ]
  },
  {
   "cell_type": "code",
   "execution_count": 16,
   "id": "c9e2dc59-1dac-4ee0-ac3b-921e00268ae4",
   "metadata": {
    "tags": []
   },
   "outputs": [],
   "source": [
    "#     Function to extract advanced (phonetic) features and create dictionary object\n",
    "def extract_phonetic_features(name):\n",
    "    pre = \"P\"\n",
    "    features = {}\n",
    "    \n",
    "    # Initial the phoneme split algorithm: 0\n",
    "    for j in range(0, 12):\n",
    "        features[make_key_name(pre, 1, \"phx_\" + str(j).zfill(2) )] = \"\"\n",
    "\n",
    "    last_phoneme = \"\"\n",
    "    stress_pos =  0  # If value is undefined\n",
    "    plist = pronouncing.phones_for_word(name)\n",
    "    num_syllables = 0\n",
    "    \n",
    "    # Strip out the accent.\n",
    "    if len(plist) > 0:\n",
    "        num_syllables = pronouncing.syllable_count(plist[0])\n",
    "        stress_string = pronouncing.stresses( plist[0])\n",
    "        stress_pos = stress_string.find('1') + 1 # Finds the primary stress in the syllable.\n",
    "        list_phonemes_stressed = str.split(plist[0])\n",
    "        \n",
    "        for j in range(0, len(list_phonemes_stressed)):    \n",
    "            s = list_phonemes_stressed[j]\n",
    "            s_no_ints = ''.join(x for x in s if not x.isdigit() )\n",
    "            features[make_key_name(pre, 1, \"phx_\" + str(j).zfill(2) ) ] = s_no_ints\n",
    "            \n",
    "            if j == len(list_phonemes_stressed) - 1 :\n",
    "                last_phoneme = s_no_ints\n",
    "    else:\n",
    "        num_syllables = 0\n",
    "        \n",
    "    features[make_key_name(pre, 1, \"phcode\")] = plist[0] if len(plist) > 0 else \"\"\n",
    "    features[make_key_name(pre, 1, \"phfirst\")] = str.split(plist[0])[0] if len(plist) > 0 else \"\"\n",
    "    features[make_key_name(pre, 2, \"phlen\")] = len( str.split(plist[0]))  if len(plist) > 0 else 0\n",
    "    features[make_key_name(pre, 2, \"phsyllables\")] = num_syllables\n",
    "    features[make_key_name(pre, 3, \"phfound\")] = True if len(plist) > 0 else False\n",
    "    features[make_key_name(pre, 2, \"phx_stress\")] = stress_pos\n",
    "    features[make_key_name(pre, 1, \"phx_last\")] = last_phoneme\n",
    "    return features"
   ]
  },
  {
   "cell_type": "code",
   "execution_count": 17,
   "id": "ca947699-abc0-4dcd-b848-a9314c700e1a",
   "metadata": {},
   "outputs": [],
   "source": [
    "#  Helper function to extract basic and phonetic features. \n",
    "#  Note: This function can be called to include or exclude the basic features\n",
    "#  when extracting the advanced features.\n",
    "def extract_advanced_features(name, include_basic=True):\n",
    "    features = {}\n",
    "    if include_basic:\n",
    "        features ={  **extract_basic_features(name) , **extract_phonetic_features( name ) }\n",
    "    else:\n",
    "        features ={ **extract_phonetic_features( name ) }\n",
    "    return features"
   ]
  },
  {
   "cell_type": "markdown",
   "id": "34ce8d30-e766-4d86-96bb-a3a633aa0616",
   "metadata": {},
   "source": [
    "Following code loops through the initial list of labeled names to generate the basic and advanced featuresets for input into the nltk classifiers."
   ]
  },
  {
   "cell_type": "code",
   "execution_count": 18,
   "id": "328f6089-6c1d-48f9-aef6-b8210535c052",
   "metadata": {
    "tags": []
   },
   "outputs": [],
   "source": [
    "i = 0\n",
    "total_isin = 0\n",
    "total_notin = 0\n",
    "total_female_isin = 0\n",
    "total_female_notin = 0\n",
    "total_male_isin = 0\n",
    "total_male_notin = 0\n",
    "\n",
    "# Construct the dataframe of outputs row-by-row\n",
    "df_row_sets = []\n",
    "\n",
    "# Construct the list of dictionaries of only basic feature sets\n",
    "basic_feature_sets = []\n",
    "\n",
    "# Construct the list of dictionaries of basic and phonetic features\n",
    "phonetic_feature_sets = []\n",
    "\n",
    "phonetic_names = []\n",
    "\n",
    "for n, g in labeled_names:\n",
    "    \n",
    "    i += 1\n",
    "    \n",
    "    gfeatures = extract_response(g)\n",
    "    bfeatures = extract_basic_features(n,True,False)\n",
    "    afeatures = extract_advanced_features(n)  \n",
    "\n",
    "    all_features = { **afeatures , **gfeatures } \n",
    "    df_row_sets.append( all_features  )\n",
    "    \n",
    "    basic_feature_sets.append( ( bfeatures , g ) )\n",
    "    \n",
    "    isin = all_features[\"P_B_phfound\"]\n",
    "    \n",
    "    # Tabulate statistics on the available pronunciations.\n",
    "    \n",
    "    if isin:\n",
    "        total_isin += 1\n",
    "        \n",
    "        # if phonetic data is unavailable can't run the advanced model\n",
    "        # but if it is save the names and gender\n",
    "        # and the feature set \n",
    "        # ------------------------------------------------\n",
    "        phonetic_names.append( (n,g ))\n",
    "        phonetic_feature_sets.append( ( afeatures , g ) )\n",
    "        \n",
    "        if g == \"female\":\n",
    "            total_female_isin += 1\n",
    "        else:\n",
    "            total_male_isin += 1\n",
    "    else:\n",
    "        total_notin += 1\n",
    "        if g == \"female\":\n",
    "            total_female_notin += 1\n",
    "        else:\n",
    "            total_male_notin += 1\n",
    "    \n",
    "    # For debugging\n",
    "    # --------------------------\n",
    "    debug = False\n",
    "    if debug: \n",
    "        if i < 10:\n",
    "            num_syllables = all_features[\"P_N_phsyllables\"]\n",
    "            pronunciation = all_features[\"P_A_phcode\"]\n",
    "\n",
    "            print(\" Name: \", n , \" isin: \" , isin , \"gender: \", g, \n",
    "                      \"Phonetic: \" , all_features[\"B_A_dmetacode\"] ,\n",
    "                      \"Pronounciation: \", pronunciation, \n",
    "                      \" syllables: \", num_syllables )\n",
    "\n",
    "df_features = pd.DataFrame.from_dict( df_row_sets  , orient = 'columns')"
   ]
  },
  {
   "cell_type": "markdown",
   "id": "d8f371e3-5e3c-439d-a921-919b886d463a",
   "metadata": {},
   "source": [
    "Separate the generated featuresets into train, devtest, and test for model evaluation. Then export the training and devtest data jointly.  "
   ]
  },
  {
   "cell_type": "code",
   "execution_count": 19,
   "id": "64ba120f-36fd-48e8-9ab4-629500e111f8",
   "metadata": {},
   "outputs": [
    {
     "name": "stdout",
     "output_type": "stream",
     "text": [
      "\n",
      "Generated names with features in dataframe format for test-train split\n",
      "\n"
     ]
    }
   ],
   "source": [
    "df_train_large = df_features[500:]\n",
    "df_test = df_features[:500]\n",
    "\n",
    "basic_feature_sets_test = basic_feature_sets[:500]\n",
    "basic_feature_sets_devtest = basic_feature_sets[500:1000]\n",
    "basic_feature_sets_train = basic_feature_sets[1000:]\n",
    "basic_names_test , basic_names_devtest , basic_names_train = labeled_names[:500] , labeled_names[500:1000], labeled_names[1000:]\n",
    "\n",
    "phonetic_feature_sets_test    = phonetic_feature_sets[:500]\n",
    "phonetic_feature_sets_devtest = phonetic_feature_sets[500:1000]\n",
    "phonetic_feature_sets_train   = phonetic_feature_sets[1000:]\n",
    "phonetic_names_test , phonetic_names_devtest , phone_names_train = phonetic_names[:500] , phonetic_names[500:1000], phonetic_names[1000:]\n",
    "\n",
    "df_features.to_csv(\"names_all.csv\", index=False)\n",
    "df_train_large.to_csv(\"names_train.csv\", index = False )\n",
    "df_test.to_csv( \"names_test.csv\", index = False )\n",
    "\n",
    "print(\"\\nGenerated names with features in dataframe format for test-train split\\n\")"
   ]
  },
  {
   "cell_type": "markdown",
   "id": "af05ce19-3aee-4be5-9bee-aabbe9665a9b",
   "metadata": {},
   "source": [
    "Lastly, we check the test, devtest and training feature sets sizes for basic features and phonetic features.\n",
    "We can see below that the test and devtest sets are the same size as required: 500.\n",
    "The phonetic features training set is smaller - roughly 4200 instead of 6900 due to limitations in the CMU pronunciation dictionary.\n"
   ]
  },
  {
   "cell_type": "code",
   "execution_count": 20,
   "id": "834242ff-49e8-4548-94f7-e6e18a52c832",
   "metadata": {
    "tags": []
   },
   "outputs": [
    {
     "data": {
      "text/plain": [
       "(500, 500, 6944)"
      ]
     },
     "execution_count": 20,
     "metadata": {},
     "output_type": "execute_result"
    }
   ],
   "source": [
    "len(basic_feature_sets_test), len(basic_feature_sets_devtest), len(basic_feature_sets_train)"
   ]
  },
  {
   "cell_type": "markdown",
   "id": "33f3d573-151c-40e5-93d1-f54c002e39d0",
   "metadata": {},
   "source": [
    "The first featureset of the basic features is displayed below to confirm inclusion of desired features and valid synatx."
   ]
  },
  {
   "cell_type": "code",
   "execution_count": 21,
   "id": "23631516-1ff1-497a-b541-29a7de0f53ac",
   "metadata": {},
   "outputs": [
    {
     "data": {
      "text/plain": [
       "[({'B_A_firstletter': 'w',\n",
       "   'B_A_secondletter': 'i',\n",
       "   'B_A_lastletter': 'r',\n",
       "   'B_N_length': 6,\n",
       "   'B_N_numconsonants': 4,\n",
       "   'B_N_numvowels': 2,\n",
       "   'B_A_dmetacode': 'ALPR',\n",
       "   'B_N_dmetalen': 4},\n",
       "  'male')]"
      ]
     },
     "execution_count": 21,
     "metadata": {},
     "output_type": "execute_result"
    }
   ],
   "source": [
    "basic_feature_sets_train[:1]"
   ]
  },
  {
   "cell_type": "code",
   "execution_count": 22,
   "id": "60d9e584-4186-4779-a5ba-1c24f0929432",
   "metadata": {},
   "outputs": [
    {
     "data": {
      "text/plain": [
       "(500, 500, 4252)"
      ]
     },
     "execution_count": 22,
     "metadata": {},
     "output_type": "execute_result"
    }
   ],
   "source": [
    "len(phonetic_feature_sets_test), len(phonetic_feature_sets_devtest), len( phonetic_feature_sets_train )"
   ]
  },
  {
   "cell_type": "markdown",
   "id": "bec4801a-6584-4f49-9526-6a5cc0af4165",
   "metadata": {},
   "source": [
    "The first featureset of the advanced features is displayed below to confirm inclusion of desired features and valid synatx. By default, the advanced featureset includes both basic and phonetic features."
   ]
  },
  {
   "cell_type": "code",
   "execution_count": 23,
   "id": "5fcfbc29-67d8-484a-ba68-c1c37a819b73",
   "metadata": {
    "tags": []
   },
   "outputs": [
    {
     "data": {
      "text/plain": [
       "[({'B_A_first2letter': 'co',\n",
       "   'B_A_last2letter': 'in',\n",
       "   'B_N_length': 6,\n",
       "   'B_N_numconsonants': 4,\n",
       "   'B_N_numvowels': 2,\n",
       "   'B_A_dmetacode': 'KRPN',\n",
       "   'B_N_dmetalen': 4,\n",
       "   'P_A_phx_00': 'K',\n",
       "   'P_A_phx_01': 'AO',\n",
       "   'P_A_phx_02': 'R',\n",
       "   'P_A_phx_03': 'B',\n",
       "   'P_A_phx_04': 'IH',\n",
       "   'P_A_phx_05': 'N',\n",
       "   'P_A_phx_06': '',\n",
       "   'P_A_phx_07': '',\n",
       "   'P_A_phx_08': '',\n",
       "   'P_A_phx_09': '',\n",
       "   'P_A_phx_10': '',\n",
       "   'P_A_phx_11': '',\n",
       "   'P_A_phcode': 'K AO1 R B IH0 N',\n",
       "   'P_A_phfirst': 'K',\n",
       "   'P_N_phlen': 6,\n",
       "   'P_N_phsyllables': 2,\n",
       "   'P_B_phfound': True,\n",
       "   'P_N_phx_stress': 1,\n",
       "   'P_A_phx_last': 'N'},\n",
       "  'male')]"
      ]
     },
     "execution_count": 23,
     "metadata": {},
     "output_type": "execute_result"
    }
   ],
   "source": [
    "phonetic_feature_sets_train[:1]"
   ]
  },
  {
   "cell_type": "markdown",
   "id": "b28ceac5-e081-4c42-baf9-1e1e902dcb4e",
   "metadata": {},
   "source": [
    "## $\\color{blue}{\\text{Model Evaluation}}$\n",
    "\n",
    "Our model evaluation approach takes the following incremental path:\n",
    "\n",
    "1. Naive Bayes Classifier with Basic features - one letter features\n",
    "2. Naive Bayes Classifier with Basic features - one and two letter features\n",
    "3. Naive Bayes Classifier with Basic features - two letter features\n",
    "4. Maximum Entropy Classififer with Basic features - two letter features\n",
    "5. Decision Tree Classifier with Basic features - two letter features\n",
    "6. Naive Bayes Classifier with Advanced features - phonetic features \n",
    "7. Naive Bayes Classifier with Advanced features - basic and phonetic features\n",
    "\n",
    "For each model, we output the accuracy and most informative features for Naive Bayes classifier."
   ]
  },
  {
   "cell_type": "markdown",
   "id": "ec94b8be-77e4-43ff-a623-f38656e2a188",
   "metadata": {},
   "source": [
    "### $\\color{blue}{\\text{Basic Features}}$\n",
    "\n",
    "**1. Naive Bayes Classifier with Basic features - one letter features**\n",
    "\n",
    "We start with the one-letter features."
   ]
  },
  {
   "cell_type": "code",
   "execution_count": 24,
   "id": "f3cf3383-3dac-4e5e-807b-9919d4015ccc",
   "metadata": {},
   "outputs": [
    {
     "name": "stdout",
     "output_type": "stream",
     "text": [
      "Naive Bayes Model Accuracy - One Letter Features Only: 0.81\n"
     ]
    }
   ],
   "source": [
    "classifier_nb_basic = nltk.NaiveBayesClassifier.train( basic_feature_sets_train)\n",
    "accuracy_model_one = nltk.classify.accuracy( classifier_nb_basic, basic_feature_sets_devtest)\n",
    "print('Naive Bayes Model Accuracy - One Letter Features Only: {:0.4}'.format(accuracy_model_one))"
   ]
  },
  {
   "cell_type": "code",
   "execution_count": 25,
   "id": "fb3683e0-c51b-45ed-af48-d0cdf808fb7c",
   "metadata": {
    "tags": []
   },
   "outputs": [
    {
     "name": "stdout",
     "output_type": "stream",
     "text": [
      "Most Informative Features\n",
      "          B_A_lastletter = 'k'              male : female =     41.1 : 1.0\n",
      "          B_A_lastletter = 'a'            female : male   =     32.1 : 1.0\n",
      "          B_A_lastletter = 'v'              male : female =     16.4 : 1.0\n",
      "          B_A_lastletter = 'f'              male : female =     13.9 : 1.0\n",
      "           B_A_dmetacode = 'MRN'          female : male   =     13.3 : 1.0\n",
      "           B_A_dmetacode = 'ALTN'           male : female =     12.8 : 1.0\n",
      "           B_A_dmetacode = 'KRSTN'        female : male   =     10.7 : 1.0\n",
      "          B_A_lastletter = 'd'              male : female =     10.2 : 1.0\n",
      "          B_A_lastletter = 'p'              male : female =      9.9 : 1.0\n",
      "           B_A_dmetacode = 'ANT'          female : male   =      9.8 : 1.0\n",
      "        B_A_secondletter = 'z'              male : female =      9.6 : 1.0\n",
      "           B_A_dmetacode = 'JLN'          female : male   =      9.4 : 1.0\n",
      "          B_A_lastletter = 'm'              male : female =      8.9 : 1.0\n",
      "           B_A_dmetacode = 'KRN'          female : male   =      8.7 : 1.0\n",
      "           B_A_dmetacode = 'PRK'            male : female =      8.7 : 1.0\n",
      "           B_A_dmetacode = 'FLR'          female : male   =      8.5 : 1.0\n",
      "          B_A_lastletter = 'w'              male : female =      8.0 : 1.0\n",
      "           B_A_dmetacode = 'SPL'          female : male   =      7.6 : 1.0\n",
      "          B_A_lastletter = 'o'              male : female =      7.3 : 1.0\n",
      "          B_A_lastletter = 'r'              male : female =      7.1 : 1.0\n"
     ]
    }
   ],
   "source": [
    "classifier_nb_basic.show_most_informative_features(20)"
   ]
  },
  {
   "cell_type": "markdown",
   "id": "a386f8bd-bc48-40b1-a604-70347bcda35f",
   "metadata": {},
   "source": [
    "The first model shows the 20 most informative features to be primarily the last letter and dmetacode."
   ]
  },
  {
   "cell_type": "markdown",
   "id": "1230125f-0cab-4ddb-8a98-bdc140db86d4",
   "metadata": {},
   "source": [
    "**2. Naive Bayes Classifier with Basic features - one and two letter features**\n",
    "\n",
    "We re-generate the featuresets input to include the two-letter features."
   ]
  },
  {
   "cell_type": "code",
   "execution_count": 26,
   "id": "e11d1995-cc14-4197-b74b-5b605576173e",
   "metadata": {
    "jupyter": {
     "source_hidden": true
    },
    "tags": []
   },
   "outputs": [],
   "source": [
    "# Create basic with one letter and two letter features\n",
    "\n",
    "i = 0\n",
    "\n",
    "total_isin = 0\n",
    "total_notin = 0\n",
    "total_female_isin = 0\n",
    "total_female_notin = 0\n",
    "total_male_isin = 0\n",
    "total_male_notin = 0\n",
    "\n",
    "# Construct the dataframe of outputs row-by-row\n",
    "df_row_sets = []\n",
    "\n",
    "# Construct the list of dictionaries of only basic feature sets\n",
    "basic_feature_sets = []\n",
    "\n",
    "# Construct the list of dictionaries of basic and phonetic features\n",
    "phonetic_feature_sets = []\n",
    "\n",
    "phonetic_names = []\n",
    "\n",
    "for n, g in labeled_names:\n",
    "    \n",
    "    i += 1\n",
    "    \n",
    "    gfeatures = extract_response(g)\n",
    "    # One Letter AND Two Letter\n",
    "    bfeatures = extract_basic_features(n,True,True)\n",
    "    afeatures = extract_advanced_features(n)  \n",
    "\n",
    "    all_features = { **afeatures , **gfeatures } \n",
    "    df_row_sets.append( all_features  )\n",
    "    \n",
    "    basic_feature_sets.append( ( bfeatures , g ) )\n",
    "    \n",
    "    isin = all_features[\"P_B_phfound\"]\n",
    "    \n",
    "    # Tabulate statistics on the available pronunciations.\n",
    "    if isin:\n",
    "        total_isin += 1\n",
    "        \n",
    "        # if phonetic data is unavailable can't run the advanced model\n",
    "        # but if it is save the names and gender\n",
    "        # and the feature set \n",
    "        # ------------------------------------------------\n",
    "        phonetic_names.append( (n,g ))\n",
    "        phonetic_feature_sets.append( ( afeatures , g ) )\n",
    "        \n",
    "        if g == \"female\":\n",
    "            total_female_isin += 1\n",
    "        else:\n",
    "            total_male_isin += 1\n",
    "    else:\n",
    "        total_notin += 1\n",
    "        if g == \"female\":\n",
    "            total_female_notin += 1\n",
    "        else:\n",
    "            total_male_notin += 1\n",
    "    \n",
    "    # For debugging\n",
    "    # --------------------------\n",
    "    debug = False\n",
    "    if debug: \n",
    "        if i < 10:\n",
    "            num_syllables = all_features[\"P_N_phsyllables\"]\n",
    "            pronunciation = all_features[\"P_A_phcode\"]\n",
    "\n",
    "            print(\" Name: \", n , \" isin: \" , isin , \"gender: \", g, \n",
    "                      \"Phonetic: \" , all_features[\"B_A_dmetacode\"] ,\n",
    "                      \"Pronounciation: \", pronunciation, \n",
    "                      \" syllables: \", num_syllables )"
   ]
  },
  {
   "cell_type": "code",
   "execution_count": 27,
   "id": "c24fc8da-aa2c-4bf5-ba0b-0b419ffc881a",
   "metadata": {},
   "outputs": [],
   "source": [
    "basic_feature_sets_test = basic_feature_sets[:500]\n",
    "basic_feature_sets_devtest = basic_feature_sets[500:1000]\n",
    "basic_feature_sets_train = basic_feature_sets[1000:]\n",
    "basic_names_test , basic_names_devtest , basic_names_train = labeled_names[:500] , labeled_names[500:1000], labeled_names[1000:]"
   ]
  },
  {
   "cell_type": "markdown",
   "id": "17773fb1-7e70-4ecc-b0f1-8ceeb7145c60",
   "metadata": {},
   "source": [
    "Confirm the sample featureset includes the additional basic two-letter features."
   ]
  },
  {
   "cell_type": "code",
   "execution_count": 28,
   "id": "575f5a29-cff4-493c-940a-d05bc89633dd",
   "metadata": {},
   "outputs": [
    {
     "data": {
      "text/plain": [
       "[({'B_A_firstletter': 'w',\n",
       "   'B_A_secondletter': 'i',\n",
       "   'B_A_lastletter': 'r',\n",
       "   'B_A_first2letter': 'wi',\n",
       "   'B_A_last2letter': 'ur',\n",
       "   'B_N_length': 6,\n",
       "   'B_N_numconsonants': 4,\n",
       "   'B_N_numvowels': 2,\n",
       "   'B_A_dmetacode': 'ALPR',\n",
       "   'B_N_dmetalen': 4},\n",
       "  'male')]"
      ]
     },
     "execution_count": 28,
     "metadata": {},
     "output_type": "execute_result"
    }
   ],
   "source": [
    "basic_feature_sets_train[:1]"
   ]
  },
  {
   "cell_type": "code",
   "execution_count": 29,
   "id": "b0a45a75-c215-44b2-ac1d-576c10e8d35f",
   "metadata": {},
   "outputs": [
    {
     "name": "stdout",
     "output_type": "stream",
     "text": [
      "Naive Bayes Model Accuracy - One Letter and Two Letter Features: 0.828\n"
     ]
    }
   ],
   "source": [
    "classifier_nb_basic = nltk.NaiveBayesClassifier.train( basic_feature_sets_train)\n",
    "accuracy_model_two = nltk.classify.accuracy( classifier_nb_basic, basic_feature_sets_devtest)\n",
    "print('Naive Bayes Model Accuracy - One Letter and Two Letter Features: {:0.4}'.format(accuracy_model_two))"
   ]
  },
  {
   "cell_type": "code",
   "execution_count": 30,
   "id": "b0309d7e-9b98-420e-bd30-94d1177b37cd",
   "metadata": {
    "tags": []
   },
   "outputs": [
    {
     "name": "stdout",
     "output_type": "stream",
     "text": [
      "Most Informative Features\n",
      "         B_A_last2letter = 'na'           female : male   =     92.2 : 1.0\n",
      "         B_A_last2letter = 'la'           female : male   =     70.9 : 1.0\n",
      "          B_A_lastletter = 'k'              male : female =     41.1 : 1.0\n",
      "         B_A_last2letter = 'ia'           female : male   =     37.6 : 1.0\n",
      "         B_A_last2letter = 'sa'           female : male   =     32.6 : 1.0\n",
      "          B_A_lastletter = 'a'            female : male   =     32.1 : 1.0\n",
      "         B_A_last2letter = 'us'             male : female =     26.5 : 1.0\n",
      "         B_A_last2letter = 'ra'           female : male   =     25.6 : 1.0\n",
      "         B_A_last2letter = 'ta'           female : male   =     24.3 : 1.0\n",
      "         B_A_last2letter = 'io'             male : female =     23.9 : 1.0\n",
      "         B_A_last2letter = 'rd'             male : female =     23.2 : 1.0\n",
      "         B_A_last2letter = 'rt'             male : female =     22.2 : 1.0\n",
      "         B_A_last2letter = 'ld'             male : female =     21.7 : 1.0\n",
      "         B_A_last2letter = 'do'             male : female =     20.6 : 1.0\n",
      "         B_A_last2letter = 'os'             male : female =     19.5 : 1.0\n",
      "          B_A_lastletter = 'v'              male : female =     16.4 : 1.0\n",
      "        B_A_first2letter = 'hu'             male : female =     15.1 : 1.0\n",
      "         B_A_last2letter = 'ka'           female : male   =     14.6 : 1.0\n",
      "          B_A_lastletter = 'f'              male : female =     13.9 : 1.0\n",
      "           B_A_dmetacode = 'MRN'          female : male   =     13.3 : 1.0\n"
     ]
    }
   ],
   "source": [
    "classifier_nb_basic.show_most_informative_features(20)"
   ]
  },
  {
   "cell_type": "markdown",
   "id": "2bace1fd-14c8-4001-8d1d-5909a6ab2125",
   "metadata": {},
   "source": [
    "We see the accuracy as improved, and the second model shows the 20 most informative features to be primarily the last two-letter feature."
   ]
  },
  {
   "cell_type": "markdown",
   "id": "255de2dd-62c0-4235-bfb4-21cfc31fe7b2",
   "metadata": {},
   "source": [
    "**3. Naive Bayes Classifier with Basic features - two letter features**\n",
    "\n",
    "Given the potential redundancy in basic features between the one-letter and two-letter features, we re-generate the featureset to remove the one-letter features."
   ]
  },
  {
   "cell_type": "code",
   "execution_count": 31,
   "id": "83a556a7-7488-42c1-b83c-43c14c058da9",
   "metadata": {
    "jupyter": {
     "source_hidden": true
    },
    "tags": []
   },
   "outputs": [],
   "source": [
    "# Create basic with just two letter features\n",
    "\n",
    "i = 0\n",
    "total_isin = 0\n",
    "total_notin = 0\n",
    "total_female_isin = 0\n",
    "total_female_notin = 0\n",
    "total_male_isin = 0\n",
    "total_male_notin = 0\n",
    "\n",
    "# Construct the dataframe of outputs row-by-row\n",
    "df_row_sets = []\n",
    "\n",
    "# Construct the list of dictionaries of only basic feature sets\n",
    "basic_feature_sets = []\n",
    "\n",
    "# Construct the list of dictionaries of basic and phonetic features\n",
    "phonetic_feature_sets = []\n",
    "\n",
    "phonetic_names = []\n",
    "\n",
    "for n, g in labeled_names:\n",
    "    \n",
    "    i += 1\n",
    "    \n",
    "    gfeatures = extract_response(g)\n",
    "    # Two Letters only\n",
    "    bfeatures = extract_basic_features(n,False,True)\n",
    "    afeatures = extract_advanced_features(n)  \n",
    "\n",
    "    all_features = { **afeatures , **gfeatures } \n",
    "    df_row_sets.append( all_features  )\n",
    "    \n",
    "    basic_feature_sets.append( ( bfeatures , g ) )\n",
    "    \n",
    "    isin = all_features[\"P_B_phfound\"]\n",
    "    \n",
    "    # Tabulate statistics on the available pronunciations.\n",
    "    \n",
    "    if isin:\n",
    "        total_isin += 1\n",
    "        \n",
    "        # if phonetic data is unavailable can't run the advanced model\n",
    "        # but if it is save the names and gender\n",
    "        # and the feature set \n",
    "        # ------------------------------------------------\n",
    "        phonetic_names.append( (n,g ))\n",
    "        phonetic_feature_sets.append( ( afeatures , g ) )\n",
    "        \n",
    "        if g == \"female\":\n",
    "            total_female_isin += 1\n",
    "        else:\n",
    "            total_male_isin += 1\n",
    "    else:\n",
    "        total_notin += 1\n",
    "        if g == \"female\":\n",
    "            total_female_notin += 1\n",
    "        else:\n",
    "            total_male_notin += 1\n",
    "    \n",
    "    # For debugging\n",
    "    # --------------------------\n",
    "    debug = False\n",
    "    if debug: \n",
    "        if i < 10:\n",
    "            num_syllables = all_features[\"P_N_phsyllables\"]\n",
    "            pronunciation = all_features[\"P_A_phcode\"]\n",
    "\n",
    "            print(\" Name: \", n , \" isin: \" , isin , \"gender: \", g, \n",
    "                      \"Phonetic: \" , all_features[\"B_A_dmetacode\"] ,\n",
    "                      \"Pronounciation: \", pronunciation, \n",
    "                      \" syllables: \", num_syllables )"
   ]
  },
  {
   "cell_type": "code",
   "execution_count": 32,
   "id": "505af99c-4b30-42ab-ae0c-72bb97c820da",
   "metadata": {},
   "outputs": [],
   "source": [
    "basic_feature_sets_test = basic_feature_sets[:500]\n",
    "basic_feature_sets_devtest = basic_feature_sets[500:1000]\n",
    "basic_feature_sets_train = basic_feature_sets[1000:]\n",
    "basic_names_test , basic_names_devtest , basic_names_train = labeled_names[:500] , labeled_names[500:1000], labeled_names[1000:]"
   ]
  },
  {
   "cell_type": "markdown",
   "id": "1798e5b0-31d4-43ce-b988-0af81d51eb0c",
   "metadata": {},
   "source": [
    "Confirm the sample featureset includes only the basic two-letter features."
   ]
  },
  {
   "cell_type": "code",
   "execution_count": 33,
   "id": "b282c18b-e198-4896-a304-ddccca2b4aff",
   "metadata": {},
   "outputs": [
    {
     "data": {
      "text/plain": [
       "[({'B_A_first2letter': 'wi',\n",
       "   'B_A_last2letter': 'ur',\n",
       "   'B_N_length': 6,\n",
       "   'B_N_numconsonants': 4,\n",
       "   'B_N_numvowels': 2,\n",
       "   'B_A_dmetacode': 'ALPR',\n",
       "   'B_N_dmetalen': 4},\n",
       "  'male')]"
      ]
     },
     "execution_count": 33,
     "metadata": {},
     "output_type": "execute_result"
    }
   ],
   "source": [
    "basic_feature_sets_train[:1]"
   ]
  },
  {
   "cell_type": "code",
   "execution_count": 34,
   "id": "9a197564-855b-4311-a56e-78d9c80a1824",
   "metadata": {},
   "outputs": [
    {
     "name": "stdout",
     "output_type": "stream",
     "text": [
      "Naive Bayes Model Accuracy - Two Letter Features Only: 0.848\n"
     ]
    }
   ],
   "source": [
    "classifier_nb_basic = nltk.NaiveBayesClassifier.train( basic_feature_sets_train)\n",
    "accuracy_model_three = nltk.classify.accuracy( classifier_nb_basic, basic_feature_sets_devtest)\n",
    "print('Naive Bayes Model Accuracy - Two Letter Features Only: {:0.4}'.format(accuracy_model_three))"
   ]
  },
  {
   "cell_type": "code",
   "execution_count": 35,
   "id": "a9bc4e7b-3c07-49f4-a4dd-77818c95706b",
   "metadata": {
    "tags": []
   },
   "outputs": [
    {
     "name": "stdout",
     "output_type": "stream",
     "text": [
      "Most Informative Features\n",
      "         B_A_last2letter = 'na'           female : male   =     92.2 : 1.0\n",
      "         B_A_last2letter = 'la'           female : male   =     70.9 : 1.0\n",
      "         B_A_last2letter = 'ia'           female : male   =     37.6 : 1.0\n",
      "         B_A_last2letter = 'sa'           female : male   =     32.6 : 1.0\n",
      "         B_A_last2letter = 'us'             male : female =     26.5 : 1.0\n",
      "         B_A_last2letter = 'ra'           female : male   =     25.6 : 1.0\n",
      "         B_A_last2letter = 'ta'           female : male   =     24.3 : 1.0\n",
      "         B_A_last2letter = 'io'             male : female =     23.9 : 1.0\n",
      "         B_A_last2letter = 'rd'             male : female =     23.2 : 1.0\n",
      "         B_A_last2letter = 'rt'             male : female =     22.2 : 1.0\n",
      "         B_A_last2letter = 'ld'             male : female =     21.7 : 1.0\n",
      "         B_A_last2letter = 'do'             male : female =     20.6 : 1.0\n",
      "         B_A_last2letter = 'os'             male : female =     19.5 : 1.0\n",
      "        B_A_first2letter = 'hu'             male : female =     15.1 : 1.0\n",
      "         B_A_last2letter = 'ka'           female : male   =     14.6 : 1.0\n",
      "           B_A_dmetacode = 'MRN'          female : male   =     13.3 : 1.0\n",
      "         B_A_last2letter = 'ch'             male : female =     13.0 : 1.0\n",
      "           B_A_dmetacode = 'ALTN'           male : female =     12.8 : 1.0\n",
      "         B_A_last2letter = 'ea'           female : male   =     12.6 : 1.0\n",
      "         B_A_last2letter = 'as'             male : female =     11.3 : 1.0\n"
     ]
    }
   ],
   "source": [
    "classifier_nb_basic.show_most_informative_features(20)"
   ]
  },
  {
   "cell_type": "markdown",
   "id": "d99967f8-65cb-4be2-9975-004b43f56609",
   "metadata": {},
   "source": [
    "We see the accuracy as improved once again, and the third model also shows the 20 most informative features to be primarily the last two-letter feature."
   ]
  },
  {
   "cell_type": "markdown",
   "id": "4c2f52e4-dadd-41fd-a905-db7403f3edee",
   "metadata": {},
   "source": [
    "With the optimal featureset and Naive Bayes classifier, we output the confusion matrix along with the precision, recall, and F-score."
   ]
  },
  {
   "cell_type": "code",
   "execution_count": 36,
   "id": "47e2fb6c-f8e5-44a5-8de3-8e0771bae2ae",
   "metadata": {},
   "outputs": [],
   "source": [
    "results = []\n",
    "preds_nb_basic = []\n",
    "actual_nb_basic = []\n",
    "for (n, g) in basic_names_devtest:\n",
    "    prediction = classifier_nb_basic.classify( extract_advanced_features(n) )\n",
    "    results.append( (g, prediction, n) )\n",
    "    preds_nb_basic.append( prediction )\n",
    "    actual_nb_basic.append( g )"
   ]
  },
  {
   "cell_type": "code",
   "execution_count": 37,
   "id": "300bc77f-378e-4443-ad78-05c7ded02f3b",
   "metadata": {
    "tags": []
   },
   "outputs": [],
   "source": [
    "count_female_correct  = 0\n",
    "count_male_correct = 0\n",
    "count_female_tag_male_guess = 0\n",
    "count_male_tag_female_guess = 0\n",
    "count_error = 0\n",
    "for (tag, guess, name) in sorted(results):\n",
    "    if tag == guess:\n",
    "        if tag == 'female':\n",
    "            count_female_correct+=1\n",
    "        elif tag == 'male':\n",
    "            count_male_correct+=1\n",
    "        else:\n",
    "            count_error+=1\n",
    "    else:\n",
    "        if tag == 'female':\n",
    "            count_female_tag_male_guess+=1\n",
    "        elif tag == 'male':\n",
    "            count_male_tag_female_guess+=1\n",
    "        else:\n",
    "            count_error+=1"
   ]
  },
  {
   "cell_type": "code",
   "execution_count": 38,
   "id": "088e8889-26a6-4642-8405-6680e2a9bd0b",
   "metadata": {
    "tags": []
   },
   "outputs": [
    {
     "name": "stdout",
     "output_type": "stream",
     "text": [
      "True Positive: 291; True Negative: 133\n"
     ]
    }
   ],
   "source": [
    "print('True Positive: {:-3}; True Negative: {:-3}'.format(count_female_correct, count_male_correct))"
   ]
  },
  {
   "cell_type": "code",
   "execution_count": 39,
   "id": "14d3a742-d979-4568-a6ac-119add729fe1",
   "metadata": {},
   "outputs": [
    {
     "name": "stdout",
     "output_type": "stream",
     "text": [
      "False Positive:  29; False Negative:  47\n"
     ]
    }
   ],
   "source": [
    "print('False Positive: {:-3}; False Negative: {:-3}'.format(count_female_tag_male_guess, count_male_tag_female_guess))"
   ]
  },
  {
   "cell_type": "code",
   "execution_count": 40,
   "id": "43d9841c-83bf-4f33-8f8f-4fe6d6203b91",
   "metadata": {},
   "outputs": [
    {
     "name": "stdout",
     "output_type": "stream",
     "text": [
      "Precision: 0.909; Recall: 0.861; F-Score: 0.884\n"
     ]
    }
   ],
   "source": [
    "tp = count_female_correct\n",
    "tn = count_male_correct\n",
    "fp = count_female_tag_male_guess\n",
    "fn = count_male_tag_female_guess\n",
    "\n",
    "precision = tp / (tp + fp)\n",
    "recall = tp / (tp + fn)\n",
    "f_score = (2 * precision * recall) / (precision + recall)\n",
    "\n",
    "print('Precision: {:2.3}; Recall: {:2.3}; F-Score: {:2.3}'.format(precision, recall, f_score))"
   ]
  },
  {
   "cell_type": "code",
   "execution_count": 41,
   "id": "6b34209b-e327-4971-a024-32f313d64917",
   "metadata": {
    "tags": []
   },
   "outputs": [
    {
     "name": "stdout",
     "output_type": "stream",
     "text": [
      "       |   f     |\n",
      "       |   e     |\n",
      "       |   m   m |\n",
      "       |   a   a |\n",
      "       |   l   l |\n",
      "       |   e   e |\n",
      "-------+---------+\n",
      "female |<291> 29 |\n",
      "  male |  47<133>|\n",
      "-------+---------+\n",
      "(row = reference; col = test)\n",
      "\n"
     ]
    }
   ],
   "source": [
    "print(nltk.ConfusionMatrix( actual_nb_basic , preds_nb_basic ) )"
   ]
  },
  {
   "cell_type": "markdown",
   "id": "7f2ed775-7361-4e88-8043-42b432475e0a",
   "metadata": {},
   "source": [
    "From the confusion matrix, we note the false negatives (a prediction of female for a male name) outnumber the false positives."
   ]
  },
  {
   "cell_type": "markdown",
   "id": "a64e766f-0283-4e60-ac4a-9b7baf0ad9b9",
   "metadata": {},
   "source": [
    "**4. Maximum Entropy Classififer with Basic features - two letter features**\n",
    "\n",
    "With the optimal basic featureset, we attempt the Maximum Entropy classifier."
   ]
  },
  {
   "cell_type": "code",
   "execution_count": 42,
   "id": "008f2884-0bc9-40d0-b0bf-679e2649b157",
   "metadata": {},
   "outputs": [
    {
     "name": "stdout",
     "output_type": "stream",
     "text": [
      "Maximum Entropy Model Accuracy: 0.848\n"
     ]
    }
   ],
   "source": [
    "# MaxEnt\n",
    "classifier_me = nltk.MaxentClassifier.train(basic_feature_sets_train, trace=0)\n",
    "accuracy_model_four = nltk.classify.accuracy( classifier_nb_basic, basic_feature_sets_devtest )\n",
    "print('Maximum Entropy Model Accuracy: {:0.4}'.format(accuracy_model_four))"
   ]
  },
  {
   "cell_type": "markdown",
   "id": "0deaf420-f395-4ba5-ac56-2d1b3898405e",
   "metadata": {},
   "source": [
    "The Maximum Entropy classifier results in the same accuracy as the Naive Bayes classifer on the devtest dataset."
   ]
  },
  {
   "cell_type": "markdown",
   "id": "dd7cce74-3dbc-4cac-9256-66f398467639",
   "metadata": {},
   "source": [
    "**5. Decision Tree Classifier with Basic features - two letter features**\n",
    "\n",
    "With the optimal basic featureset, we attempt the Decision Tree classifier."
   ]
  },
  {
   "cell_type": "code",
   "execution_count": 43,
   "id": "30340c1d-6c91-4735-af84-1f810187433c",
   "metadata": {},
   "outputs": [
    {
     "name": "stdout",
     "output_type": "stream",
     "text": [
      "Decision Tree Model Accuracy: 0.848\n"
     ]
    }
   ],
   "source": [
    "classifier_dt = nltk.DecisionTreeClassifier.train(basic_feature_sets_train)\n",
    "accuracy_model_five = nltk.classify.accuracy( classifier_nb_basic, basic_feature_sets_devtest )\n",
    "print('Decision Tree Model Accuracy: {:0.4}'.format(accuracy_model_five))"
   ]
  },
  {
   "cell_type": "markdown",
   "id": "59926a92-fdc9-44d0-bb96-307216df9b5f",
   "metadata": {},
   "source": [
    "The Decision Tree classifier results in the same accuracy as the Naive Bayes classifer on the devtest dataset. We choose to continue with the Naive Bayes classifier with the advanced features due to the lack of improved accuracy from the Maximum Entropy and Decision Tree classifiers."
   ]
  },
  {
   "cell_type": "markdown",
   "id": "8fc83e8f-36d9-4f5e-99aa-dccf0cc33699",
   "metadata": {},
   "source": [
    "### $\\color{blue}{\\text{Advanced Features}}$"
   ]
  },
  {
   "cell_type": "markdown",
   "id": "4ed982d3-ba80-4136-8d7e-2be0aa8f41b7",
   "metadata": {},
   "source": [
    "**6. Naive Bayes Classifier with Advanced features - phonetic features**\n",
    "\n",
    "Now, we generate the advanced featureset with just the phonetic features for input into the Naive Bayes classifier."
   ]
  },
  {
   "cell_type": "code",
   "execution_count": 44,
   "id": "6eaec08d-c75e-4ce4-8f0a-f640decefb8a",
   "metadata": {
    "jupyter": {
     "source_hidden": true
    },
    "tags": []
   },
   "outputs": [],
   "source": [
    "# Create phonetic features\n",
    "\n",
    "i = 0\n",
    "total_isin = 0\n",
    "total_notin = 0\n",
    "total_female_isin = 0\n",
    "total_female_notin = 0\n",
    "total_male_isin = 0\n",
    "total_male_notin = 0\n",
    "\n",
    "# Construct the dataframe of outputs row-by-row\n",
    "df_row_sets = []\n",
    "\n",
    "# Construct the list of dictionaries of only basic feature sets\n",
    "basic_feature_sets = []\n",
    "\n",
    "# Construct the list of dictionaries of basic and phonetic features\n",
    "phonetic_feature_sets = []\n",
    "\n",
    "phonetic_names = []\n",
    "\n",
    "for n, g in labeled_names:\n",
    "    \n",
    "    i += 1\n",
    "    \n",
    "    gfeatures = extract_response(g)\n",
    "    # One Letter AND Two Letter\n",
    "    bfeatures = extract_basic_features(n,True,True)\n",
    "    afeatures = extract_advanced_features(n, False)  \n",
    "\n",
    "    all_features = { **afeatures , **gfeatures } \n",
    "    df_row_sets.append( all_features  )\n",
    "    \n",
    "    basic_feature_sets.append( ( bfeatures , g ) )\n",
    "    \n",
    "    isin = all_features[\"P_B_phfound\"]\n",
    "    \n",
    "    # Tabulate statistics on the available pronunciations.\n",
    "    \n",
    "    if isin:\n",
    "        total_isin += 1\n",
    "        \n",
    "        # if phonetic data is unavailable can't run the advanced model\n",
    "        # but if it is save the names and gender\n",
    "        # and the feature set \n",
    "        # ------------------------------------------------\n",
    "        phonetic_names.append( (n,g ))\n",
    "        phonetic_feature_sets.append( ( afeatures , g ) )\n",
    "        \n",
    "        if g == \"female\":\n",
    "            total_female_isin += 1\n",
    "        else:\n",
    "            total_male_isin += 1\n",
    "    else:\n",
    "        total_notin += 1\n",
    "        if g == \"female\":\n",
    "            total_female_notin += 1\n",
    "        else:\n",
    "            total_male_notin += 1\n",
    "    \n",
    "    # For debugging\n",
    "    # --------------------------\n",
    "    debug = False\n",
    "    if debug: \n",
    "        if i < 10:\n",
    "            num_syllables = all_features[\"P_N_phsyllables\"]\n",
    "            pronunciation = all_features[\"P_A_phcode\"]\n",
    "\n",
    "            print(\" Name: \", n , \" isin: \" , isin , \"gender: \", g, \n",
    "                      \"Phonetic: \" , all_features[\"B_A_dmetacode\"] ,\n",
    "                      \"Pronounciation: \", pronunciation, \n",
    "                      \" syllables: \", num_syllables )"
   ]
  },
  {
   "cell_type": "code",
   "execution_count": 45,
   "id": "2ee019ca-ccf2-427a-b8f6-e9cad29d0de0",
   "metadata": {
    "tags": []
   },
   "outputs": [],
   "source": [
    "phonetic_feature_sets_test    = phonetic_feature_sets[:500]\n",
    "phonetic_feature_sets_devtest = phonetic_feature_sets[500:1000]\n",
    "phonetic_feature_sets_train   = phonetic_feature_sets[1000:]\n",
    "phonetic_names_test , phonetic_names_devtest , phone_names_train = phonetic_names[:500] , phonetic_names[500:1000], phonetic_names[1000:]"
   ]
  },
  {
   "cell_type": "markdown",
   "id": "8c4fb781-2408-4319-a183-9c88a7934bd8",
   "metadata": {},
   "source": [
    "Confirm the sample featureset includes only the advanced phonetic features."
   ]
  },
  {
   "cell_type": "code",
   "execution_count": 46,
   "id": "f1b2afe2-18b0-424d-b038-37c70e22f47e",
   "metadata": {},
   "outputs": [
    {
     "data": {
      "text/plain": [
       "[({'P_A_phx_00': 'K',\n",
       "   'P_A_phx_01': 'AO',\n",
       "   'P_A_phx_02': 'R',\n",
       "   'P_A_phx_03': 'B',\n",
       "   'P_A_phx_04': 'IH',\n",
       "   'P_A_phx_05': 'N',\n",
       "   'P_A_phx_06': '',\n",
       "   'P_A_phx_07': '',\n",
       "   'P_A_phx_08': '',\n",
       "   'P_A_phx_09': '',\n",
       "   'P_A_phx_10': '',\n",
       "   'P_A_phx_11': '',\n",
       "   'P_A_phcode': 'K AO1 R B IH0 N',\n",
       "   'P_A_phfirst': 'K',\n",
       "   'P_N_phlen': 6,\n",
       "   'P_N_phsyllables': 2,\n",
       "   'P_B_phfound': True,\n",
       "   'P_N_phx_stress': 1,\n",
       "   'P_A_phx_last': 'N'},\n",
       "  'male')]"
      ]
     },
     "execution_count": 46,
     "metadata": {},
     "output_type": "execute_result"
    }
   ],
   "source": [
    "phonetic_feature_sets_train[:1]"
   ]
  },
  {
   "cell_type": "code",
   "execution_count": 47,
   "id": "bf47b2c6-da9a-4121-a3ec-80f598c65de0",
   "metadata": {},
   "outputs": [
    {
     "name": "stdout",
     "output_type": "stream",
     "text": [
      "Naive Bayes Model Accuracy - Phonetic Features Only: 0.77\n"
     ]
    }
   ],
   "source": [
    "classifier_nb_phonetic = nltk.NaiveBayesClassifier.train( phonetic_feature_sets_train)\n",
    "accuracy_model_six = nltk.classify.accuracy( classifier_nb_phonetic, phonetic_feature_sets_devtest)\n",
    "print('Naive Bayes Model Accuracy - Phonetic Features Only: {:0.4}'.format(accuracy_model_six))"
   ]
  },
  {
   "cell_type": "code",
   "execution_count": 48,
   "id": "58f9dff5-879a-45e5-88a5-e5b316252878",
   "metadata": {},
   "outputs": [
    {
     "name": "stdout",
     "output_type": "stream",
     "text": [
      "Most Informative Features\n",
      "              P_A_phx_06 = 'OW'             male : female =     25.9 : 1.0\n",
      "            P_A_phx_last = 'AH'           female : male   =     21.4 : 1.0\n",
      "              P_A_phx_05 = 'Z'              male : female =     13.5 : 1.0\n",
      "            P_A_phx_last = 'F'              male : female =     12.8 : 1.0\n",
      "              P_A_phx_02 = 'W'              male : female =     11.2 : 1.0\n",
      "            P_A_phx_last = 'AA'           female : male   =     10.2 : 1.0\n",
      "              P_A_phx_02 = 'NG'             male : female =      9.7 : 1.0\n",
      "              P_A_phx_05 = 'OW'             male : female =      9.5 : 1.0\n",
      "            P_A_phx_last = 'K'              male : female =      9.4 : 1.0\n",
      "            P_A_phx_last = 'OW'             male : female =      6.4 : 1.0\n",
      "              P_A_phx_05 = 'ER'             male : female =      6.1 : 1.0\n",
      "            P_A_phx_last = 'ER'             male : female =      6.1 : 1.0\n",
      "              P_A_phx_06 = 'TH'           female : male   =      6.0 : 1.0\n",
      "              P_A_phx_07 = 'AH'           female : male   =      5.9 : 1.0\n",
      "            P_A_phx_last = 'SH'             male : female =      5.8 : 1.0\n",
      "              P_A_phx_03 = 'HH'             male : female =      5.8 : 1.0\n",
      "              P_A_phx_06 = 'D'              male : female =      5.2 : 1.0\n",
      "            P_A_phx_last = 'D'              male : female =      5.1 : 1.0\n",
      "               P_N_phlen = 10               male : female =      5.0 : 1.0\n",
      "              P_A_phx_01 = 'SH'             male : female =      5.0 : 1.0\n"
     ]
    }
   ],
   "source": [
    "classifier_nb_phonetic.show_most_informative_features(20)"
   ]
  },
  {
   "cell_type": "markdown",
   "id": "923292e5-689f-40d4-bea0-d6fbb57d17ea",
   "metadata": {},
   "source": [
    "We notice the accuracy has fallen below all the models using just the basic features. The model shows the 20 most informative features to be primarily the last phoneme along with a few of the location specific phonemes - second, fifth, and sixth."
   ]
  },
  {
   "cell_type": "markdown",
   "id": "bd4f968d-b7d4-4a18-a616-679a83d9dd38",
   "metadata": {},
   "source": [
    "**7. Naive Bayes Classifier with Advanced features - basic and phonetic features**\n",
    "\n",
    "Now, we combine the optimal basic features with the advanced features for the final model."
   ]
  },
  {
   "cell_type": "code",
   "execution_count": 49,
   "id": "c871c8c1-7a1e-4c40-b01b-ca17fa9b0d89",
   "metadata": {
    "jupyter": {
     "source_hidden": true
    },
    "tags": []
   },
   "outputs": [],
   "source": [
    "# Create phonetic and basic features\n",
    "\n",
    "i = 0\n",
    "\n",
    "total_isin = 0\n",
    "total_notin = 0\n",
    "total_female_isin = 0\n",
    "total_female_notin = 0\n",
    "\n",
    "total_male_isin = 0\n",
    "total_male_notin = 0\n",
    "\n",
    "\n",
    "# Construct the dataframe of outputs row-by-row\n",
    "df_row_sets = []\n",
    "\n",
    "# Construct the list of dictionaries of only basic feature sets\n",
    "basic_feature_sets = []\n",
    "\n",
    "# Construct the list of dictionaries of basic and phonetic features\n",
    "phonetic_feature_sets = []\n",
    "\n",
    "phonetic_names = []\n",
    "\n",
    "for n, g in labeled_names:\n",
    "    \n",
    "    i += 1\n",
    "    \n",
    "    gfeatures = extract_response(g)\n",
    "    # One Letter AND Two Letter\n",
    "    bfeatures = extract_basic_features(n,True,True)\n",
    "    afeatures = extract_advanced_features(n, True)  \n",
    "\n",
    "    all_features = { **afeatures , **gfeatures } \n",
    "    df_row_sets.append( all_features  )\n",
    "    \n",
    "    basic_feature_sets.append( ( bfeatures , g ) )\n",
    "    \n",
    "    isin = all_features[\"P_B_phfound\"]\n",
    "    \n",
    "    # Tabulate statistics on the available pronunciations.\n",
    "    \n",
    "    if isin:\n",
    "        total_isin += 1\n",
    "        \n",
    "        # if phonetic data is unavailable can't run the advanced model\n",
    "        # but if it is save the names and gender\n",
    "        # and the feature set \n",
    "        # ------------------------------------------------\n",
    "        phonetic_names.append( (n,g ))\n",
    "        phonetic_feature_sets.append( ( afeatures , g ) )\n",
    "        \n",
    "        if g == \"female\":\n",
    "            total_female_isin += 1\n",
    "        else:\n",
    "            total_male_isin += 1\n",
    "    else:\n",
    "        total_notin += 1\n",
    "        if g == \"female\":\n",
    "            total_female_notin += 1\n",
    "        else:\n",
    "            total_male_notin += 1\n",
    "    \n",
    "    # For debugging\n",
    "    # --------------------------\n",
    "    debug = False\n",
    "    if debug: \n",
    "        if i < 10:\n",
    "            num_syllables = all_features[\"P_N_phsyllables\"]\n",
    "            pronunciation = all_features[\"P_A_phcode\"]\n",
    "\n",
    "            print(\" Name: \", n , \" isin: \" , isin , \"gender: \", g, \n",
    "                      \"Phonetic: \" , all_features[\"B_A_dmetacode\"] ,\n",
    "                      \"Pronounciation: \", pronunciation, \n",
    "                      \" syllables: \", num_syllables )"
   ]
  },
  {
   "cell_type": "code",
   "execution_count": 50,
   "id": "8a63823f-dfbd-44b5-a027-d622a979c761",
   "metadata": {},
   "outputs": [],
   "source": [
    "phonetic_feature_sets_test    = phonetic_feature_sets[:500]\n",
    "phonetic_feature_sets_devtest = phonetic_feature_sets[500:1000]\n",
    "phonetic_feature_sets_train   = phonetic_feature_sets[1000:]\n",
    "phonetic_names_test , phonetic_names_devtest , phone_names_train = phonetic_names[:500] , phonetic_names[500:1000], phonetic_names[1000:]"
   ]
  },
  {
   "cell_type": "markdown",
   "id": "c3a625d2-4301-47d0-a677-3fd2049653ce",
   "metadata": {},
   "source": [
    "Confirm the sample featureset includes the optimal basic features and the advanced phonetic features."
   ]
  },
  {
   "cell_type": "code",
   "execution_count": 51,
   "id": "58f4c563-f48c-48cf-bf9b-6a9a40ccd3bf",
   "metadata": {},
   "outputs": [
    {
     "data": {
      "text/plain": [
       "[({'B_A_first2letter': 'co',\n",
       "   'B_A_last2letter': 'in',\n",
       "   'B_N_length': 6,\n",
       "   'B_N_numconsonants': 4,\n",
       "   'B_N_numvowels': 2,\n",
       "   'B_A_dmetacode': 'KRPN',\n",
       "   'B_N_dmetalen': 4,\n",
       "   'P_A_phx_00': 'K',\n",
       "   'P_A_phx_01': 'AO',\n",
       "   'P_A_phx_02': 'R',\n",
       "   'P_A_phx_03': 'B',\n",
       "   'P_A_phx_04': 'IH',\n",
       "   'P_A_phx_05': 'N',\n",
       "   'P_A_phx_06': '',\n",
       "   'P_A_phx_07': '',\n",
       "   'P_A_phx_08': '',\n",
       "   'P_A_phx_09': '',\n",
       "   'P_A_phx_10': '',\n",
       "   'P_A_phx_11': '',\n",
       "   'P_A_phcode': 'K AO1 R B IH0 N',\n",
       "   'P_A_phfirst': 'K',\n",
       "   'P_N_phlen': 6,\n",
       "   'P_N_phsyllables': 2,\n",
       "   'P_B_phfound': True,\n",
       "   'P_N_phx_stress': 1,\n",
       "   'P_A_phx_last': 'N'},\n",
       "  'male')]"
      ]
     },
     "execution_count": 51,
     "metadata": {},
     "output_type": "execute_result"
    }
   ],
   "source": [
    "phonetic_feature_sets_train[:1]"
   ]
  },
  {
   "cell_type": "code",
   "execution_count": 52,
   "id": "afa992b1-398c-41f0-8573-f42dc2df3ea8",
   "metadata": {},
   "outputs": [
    {
     "name": "stdout",
     "output_type": "stream",
     "text": [
      "Naive Bayes Model Accuracy - Phonetic and Basic Features: 0.778\n"
     ]
    }
   ],
   "source": [
    "classifier_nb_phonetic = nltk.NaiveBayesClassifier.train( phonetic_feature_sets_train)\n",
    "accuracy_model_seven = nltk.classify.accuracy( classifier_nb_phonetic, phonetic_feature_sets_devtest)\n",
    "print('Naive Bayes Model Accuracy - Phonetic and Basic Features: {:0.4}'.format(accuracy_model_seven))"
   ]
  },
  {
   "cell_type": "code",
   "execution_count": 53,
   "id": "ea4f42d9-7776-4a58-9bcb-6ff434b97d44",
   "metadata": {},
   "outputs": [
    {
     "name": "stdout",
     "output_type": "stream",
     "text": [
      "Most Informative Features\n",
      "         B_A_last2letter = 'na'           female : male   =     65.8 : 1.0\n",
      "         B_A_last2letter = 'la'           female : male   =     52.4 : 1.0\n",
      "         B_A_last2letter = 'ia'           female : male   =     42.5 : 1.0\n",
      "              P_A_phx_06 = 'OW'             male : female =     25.9 : 1.0\n",
      "         B_A_last2letter = 'rd'             male : female =     24.7 : 1.0\n",
      "         B_A_last2letter = 'sa'           female : male   =     21.7 : 1.0\n",
      "            P_A_phx_last = 'AH'           female : male   =     21.4 : 1.0\n",
      "         B_A_last2letter = 'ra'           female : male   =     19.5 : 1.0\n",
      "         B_A_last2letter = 'ld'             male : female =     18.8 : 1.0\n",
      "         B_A_last2letter = 'ta'           female : male   =     17.3 : 1.0\n",
      "         B_A_last2letter = 'rt'             male : female =     16.8 : 1.0\n",
      "              P_A_phx_05 = 'Z'              male : female =     13.5 : 1.0\n",
      "         B_A_last2letter = 'io'             male : female =     13.4 : 1.0\n",
      "            P_A_phx_last = 'F'              male : female =     12.8 : 1.0\n",
      "         B_A_last2letter = 'us'             male : female =     12.0 : 1.0\n",
      "         B_A_last2letter = 'ar'             male : female =     11.9 : 1.0\n",
      "         B_A_last2letter = 'do'             male : female =     11.9 : 1.0\n",
      "         B_A_last2letter = 'ea'           female : male   =     11.9 : 1.0\n",
      "              P_A_phx_02 = 'W'              male : female =     11.2 : 1.0\n",
      "            P_A_phx_last = 'AA'           female : male   =     10.2 : 1.0\n"
     ]
    }
   ],
   "source": [
    "classifier_nb_phonetic.show_most_informative_features(20)"
   ]
  },
  {
   "cell_type": "markdown",
   "id": "a9e1487c-7062-4363-8bd8-529850fcc9c0",
   "metadata": {},
   "source": [
    "We notice the accuracy has improved compared to the previous model, yet the accuracy still falls below all the models using just the basic features. The model shows the 20 most informative features to primarily rely on the last two-letter feature which we identified in the second and third models."
   ]
  },
  {
   "cell_type": "markdown",
   "id": "22e9b628-8fad-421d-9de9-88053950b43f",
   "metadata": {},
   "source": [
    "With the combined featureset and Naive Bayes classifier, we output the confusion matrix along with the precision, recall, and F-score."
   ]
  },
  {
   "cell_type": "code",
   "execution_count": 54,
   "id": "0859b270-516c-4727-b499-73ba7006917d",
   "metadata": {},
   "outputs": [],
   "source": [
    "results = []\n",
    "preds_nb_basic = []\n",
    "actual_nb_basic = []\n",
    "for (n, g) in phonetic_names_devtest:\n",
    "    prediction = classifier_nb_phonetic.classify( extract_advanced_features(n) )\n",
    "    results.append( (g, prediction, n) )\n",
    "    preds_nb_basic.append( prediction )\n",
    "    actual_nb_basic.append( g )"
   ]
  },
  {
   "cell_type": "code",
   "execution_count": 55,
   "id": "f824d007-6b69-4d9e-b911-1f557b87df21",
   "metadata": {
    "tags": []
   },
   "outputs": [],
   "source": [
    "count_female_correct  = 0\n",
    "count_male_correct = 0\n",
    "count_female_tag_male_guess = 0\n",
    "count_male_tag_female_guess = 0\n",
    "count_error = 0\n",
    "for (tag, guess, name) in sorted(results):\n",
    "    if tag == guess:\n",
    "        if tag == 'female':\n",
    "            count_female_correct+=1\n",
    "        elif tag == 'male':\n",
    "            count_male_correct+=1\n",
    "        else:\n",
    "            count_error+=1\n",
    "    else:\n",
    "        if tag == 'female':\n",
    "            count_female_tag_male_guess+=1\n",
    "        elif tag == 'male':\n",
    "            count_male_tag_female_guess+=1\n",
    "        else:\n",
    "            count_error+=1"
   ]
  },
  {
   "cell_type": "code",
   "execution_count": 56,
   "id": "cd26a64b-bb43-405a-ab2a-04ba90843769",
   "metadata": {},
   "outputs": [
    {
     "name": "stdout",
     "output_type": "stream",
     "text": [
      "True Positive: 208; True Negative: 181\n"
     ]
    }
   ],
   "source": [
    "print('True Positive: {:-3}; True Negative: {:-3}'.format(count_female_correct, count_male_correct))"
   ]
  },
  {
   "cell_type": "code",
   "execution_count": 57,
   "id": "592000d7-df8f-4950-8dd1-271ad383d9b8",
   "metadata": {},
   "outputs": [
    {
     "name": "stdout",
     "output_type": "stream",
     "text": [
      "False Positive:  51; False Negative:  60\n"
     ]
    }
   ],
   "source": [
    "print('False Positive: {:-3}; False Negative: {:-3}'.format(count_female_tag_male_guess, count_male_tag_female_guess))"
   ]
  },
  {
   "cell_type": "code",
   "execution_count": 58,
   "id": "c7f29df9-aa1c-4dd3-b57d-a12ebe6daad5",
   "metadata": {},
   "outputs": [
    {
     "name": "stdout",
     "output_type": "stream",
     "text": [
      "Precision: 0.803; Recall: 0.776; F-Score: 0.789\n"
     ]
    }
   ],
   "source": [
    "tp = count_female_correct\n",
    "tn = count_male_correct\n",
    "fp = count_female_tag_male_guess\n",
    "fn = count_male_tag_female_guess\n",
    "\n",
    "precision = tp / (tp + fp)\n",
    "recall = tp / (tp + fn)\n",
    "f_score = (2 * precision * recall) / (precision + recall)\n",
    "\n",
    "print('Precision: {:2.3}; Recall: {:2.3}; F-Score: {:2.3}'.format(precision, recall, f_score))"
   ]
  },
  {
   "cell_type": "code",
   "execution_count": 59,
   "id": "04d36b51-5450-4a90-b086-80f65faf9335",
   "metadata": {
    "tags": []
   },
   "outputs": [
    {
     "name": "stdout",
     "output_type": "stream",
     "text": [
      "       |   f     |\n",
      "       |   e     |\n",
      "       |   m   m |\n",
      "       |   a   a |\n",
      "       |   l   l |\n",
      "       |   e   e |\n",
      "-------+---------+\n",
      "female |<208> 51 |\n",
      "  male |  60<181>|\n",
      "-------+---------+\n",
      "(row = reference; col = test)\n",
      "\n"
     ]
    }
   ],
   "source": [
    "print(nltk.ConfusionMatrix( actual_nb_basic , preds_nb_basic ) )"
   ]
  },
  {
   "cell_type": "markdown",
   "id": "727d621c-0bd2-4752-8bd1-6b63665d4726",
   "metadata": {},
   "source": [
    "Once again, the false negatives (a prediction of female for a male name) outnumber the false positives, but this model increases false positives by 22 and false negatives by 13. The ability to correctly predict female names has suffered to a greater degree."
   ]
  },
  {
   "cell_type": "markdown",
   "id": "1c49295f-6c3e-4a26-991b-3b0b7e99bd61",
   "metadata": {},
   "source": [
    "### $\\color{blue}{\\text{Accuracy Comparison}}$\n",
    "\n",
    "We display the model accuracies for side-by-side comparison."
   ]
  },
  {
   "cell_type": "code",
   "execution_count": 60,
   "id": "75a69d81-520b-49e0-8b28-52eefb13a354",
   "metadata": {},
   "outputs": [
    {
     "data": {
      "text/html": [
       "<div>\n",
       "<style scoped>\n",
       "    .dataframe tbody tr th:only-of-type {\n",
       "        vertical-align: middle;\n",
       "    }\n",
       "\n",
       "    .dataframe tbody tr th {\n",
       "        vertical-align: top;\n",
       "    }\n",
       "\n",
       "    .dataframe thead th {\n",
       "        text-align: right;\n",
       "    }\n",
       "</style>\n",
       "<table border=\"1\" class=\"dataframe\">\n",
       "  <thead>\n",
       "    <tr style=\"text-align: right;\">\n",
       "      <th></th>\n",
       "      <th>Model</th>\n",
       "      <th>Accuracy</th>\n",
       "    </tr>\n",
       "  </thead>\n",
       "  <tbody>\n",
       "    <tr>\n",
       "      <th>2</th>\n",
       "      <td>Naive Bayes: Basic 2 Letter Features</td>\n",
       "      <td>0.848</td>\n",
       "    </tr>\n",
       "    <tr>\n",
       "      <th>3</th>\n",
       "      <td>Maximum Entropy</td>\n",
       "      <td>0.848</td>\n",
       "    </tr>\n",
       "    <tr>\n",
       "      <th>4</th>\n",
       "      <td>Decision Tree</td>\n",
       "      <td>0.848</td>\n",
       "    </tr>\n",
       "    <tr>\n",
       "      <th>1</th>\n",
       "      <td>Naive Bayes: All Basic Features</td>\n",
       "      <td>0.828</td>\n",
       "    </tr>\n",
       "    <tr>\n",
       "      <th>0</th>\n",
       "      <td>Naive Bayes: Basic 1 Letter Features</td>\n",
       "      <td>0.810</td>\n",
       "    </tr>\n",
       "    <tr>\n",
       "      <th>6</th>\n",
       "      <td>Naive Bayes: Basic and Advanced Features</td>\n",
       "      <td>0.778</td>\n",
       "    </tr>\n",
       "    <tr>\n",
       "      <th>5</th>\n",
       "      <td>Naive Bayes: Advanced Phonetic Features</td>\n",
       "      <td>0.770</td>\n",
       "    </tr>\n",
       "  </tbody>\n",
       "</table>\n",
       "</div>"
      ],
      "text/plain": [
       "                                      Model  Accuracy\n",
       "2      Naive Bayes: Basic 2 Letter Features     0.848\n",
       "3                           Maximum Entropy     0.848\n",
       "4                             Decision Tree     0.848\n",
       "1           Naive Bayes: All Basic Features     0.828\n",
       "0      Naive Bayes: Basic 1 Letter Features     0.810\n",
       "6  Naive Bayes: Basic and Advanced Features     0.778\n",
       "5   Naive Bayes: Advanced Phonetic Features     0.770"
      ]
     },
     "execution_count": 60,
     "metadata": {},
     "output_type": "execute_result"
    }
   ],
   "source": [
    "accuracy_results = [accuracy_model_one, accuracy_model_two, accuracy_model_three,\n",
    "                    accuracy_model_four, accuracy_model_five, \n",
    "                    accuracy_model_six, accuracy_model_seven]\n",
    "\n",
    "model_names = ['Naive Bayes: Basic 1 Letter Features', 'Naive Bayes: All Basic Features', 'Naive Bayes: Basic 2 Letter Features',\n",
    "               'Maximum Entropy', 'Decision Tree',\n",
    "               'Naive Bayes: Advanced Phonetic Features', 'Naive Bayes: Basic and Advanced Features']\n",
    "\n",
    "df_accuracy_table = pd.DataFrame(\n",
    "    {'Model': model_names,\n",
    "     'Accuracy': accuracy_results\n",
    "    })\n",
    "\n",
    "df_accuracy_table = df_accuracy_table.sort_values('Accuracy', ascending=False)\n",
    "df_accuracy_table"
   ]
  },
  {
   "cell_type": "markdown",
   "id": "12ae6af1-2147-4fee-a960-45005eaf6c02",
   "metadata": {},
   "source": [
    "## $\\color{blue}{\\text{Test Results}}$"
   ]
  },
  {
   "cell_type": "markdown",
   "id": "f6d4bb68-f4e6-4456-9a62-55e2bf5a9851",
   "metadata": {},
   "source": [
    "Confirm the sample featureset includes only the basic two-letter features."
   ]
  },
  {
   "cell_type": "code",
   "execution_count": 61,
   "id": "a66e085a-5148-415e-ba36-da25e4eaa5e5",
   "metadata": {},
   "outputs": [
    {
     "data": {
      "text/plain": [
       "[({'B_A_first2letter': 'wi',\n",
       "   'B_A_last2letter': 'ur',\n",
       "   'B_N_length': 6,\n",
       "   'B_N_numconsonants': 4,\n",
       "   'B_N_numvowels': 2,\n",
       "   'B_A_dmetacode': 'ALPR',\n",
       "   'B_N_dmetalen': 4},\n",
       "  'male')]"
      ]
     },
     "execution_count": 61,
     "metadata": {},
     "output_type": "execute_result"
    }
   ],
   "source": [
    "basic_feature_sets_train[:1]"
   ]
  },
  {
   "cell_type": "code",
   "execution_count": 62,
   "id": "483adbee-a556-47dc-b0e7-5e73c1a50566",
   "metadata": {},
   "outputs": [
    {
     "name": "stdout",
     "output_type": "stream",
     "text": [
      "Naive Bayes Model Accuracy - Two Letter Features Only: 0.826\n"
     ]
    }
   ],
   "source": [
    "classifier_nb_basic = nltk.NaiveBayesClassifier.train( basic_feature_sets_train)\n",
    "# Use test dataset, NOT devtest\n",
    "accuracy_model_final = nltk.classify.accuracy( classifier_nb_basic, basic_feature_sets_test)\n",
    "print('Naive Bayes Model Accuracy - Two Letter Features Only: {:0.4}'.format(accuracy_model_final))"
   ]
  },
  {
   "cell_type": "code",
   "execution_count": 63,
   "id": "a5cdd7e8-7039-4b22-879c-f1e6017b0ed4",
   "metadata": {
    "tags": []
   },
   "outputs": [
    {
     "name": "stdout",
     "output_type": "stream",
     "text": [
      "Most Informative Features\n",
      "         B_A_last2letter = 'na'           female : male   =     92.2 : 1.0\n",
      "         B_A_last2letter = 'la'           female : male   =     70.9 : 1.0\n",
      "         B_A_last2letter = 'ia'           female : male   =     37.6 : 1.0\n",
      "         B_A_last2letter = 'sa'           female : male   =     32.6 : 1.0\n",
      "         B_A_last2letter = 'us'             male : female =     26.5 : 1.0\n",
      "         B_A_last2letter = 'ra'           female : male   =     25.6 : 1.0\n",
      "         B_A_last2letter = 'ta'           female : male   =     24.3 : 1.0\n",
      "         B_A_last2letter = 'io'             male : female =     23.9 : 1.0\n",
      "         B_A_last2letter = 'rd'             male : female =     23.2 : 1.0\n",
      "         B_A_last2letter = 'rt'             male : female =     22.2 : 1.0\n",
      "         B_A_last2letter = 'ld'             male : female =     21.7 : 1.0\n",
      "         B_A_last2letter = 'do'             male : female =     20.6 : 1.0\n",
      "         B_A_last2letter = 'os'             male : female =     19.5 : 1.0\n",
      "        B_A_first2letter = 'hu'             male : female =     15.1 : 1.0\n",
      "         B_A_last2letter = 'ka'           female : male   =     14.6 : 1.0\n",
      "           B_A_dmetacode = 'MRN'          female : male   =     13.3 : 1.0\n",
      "         B_A_last2letter = 'ch'             male : female =     13.0 : 1.0\n",
      "           B_A_dmetacode = 'ALTN'           male : female =     12.8 : 1.0\n",
      "         B_A_last2letter = 'ea'           female : male   =     12.6 : 1.0\n",
      "         B_A_last2letter = 'as'             male : female =     11.3 : 1.0\n"
     ]
    }
   ],
   "source": [
    "classifier_nb_basic.show_most_informative_features(20)"
   ]
  },
  {
   "cell_type": "markdown",
   "id": "f134a58f-6fc4-4056-b11c-966cef86476a",
   "metadata": {},
   "source": [
    "We see the accuracy has decreased approximately 0.02 from the optimal featureset and model. As expected, the model shows the 20 most informative features to be primarily the last two-letter feature."
   ]
  },
  {
   "cell_type": "markdown",
   "id": "a815fb10-6e07-48fe-90b5-3e00463094c2",
   "metadata": {},
   "source": [
    "With the optimal featureset and Naive Bayes classifier, we output the incorrect predictions and the confusion matrix along with the precision, recall, and F-score."
   ]
  },
  {
   "cell_type": "code",
   "execution_count": 64,
   "id": "cdd6d84e-eff2-4cb7-808a-6771f00f11e6",
   "metadata": {},
   "outputs": [],
   "source": [
    "results = []\n",
    "errors = []\n",
    "preds_nb_basic = []\n",
    "actual_nb_basic = []\n",
    "for (n, g) in basic_names_test:\n",
    "    prediction = classifier_nb_basic.classify( extract_advanced_features(n) )\n",
    "    results.append( (g, prediction, n) )\n",
    "    preds_nb_basic.append( prediction )\n",
    "    actual_nb_basic.append( g )\n",
    "    if prediction != g:\n",
    "        errors.append( ( prediction, g, n ) )"
   ]
  },
  {
   "cell_type": "markdown",
   "id": "644a1e9f-fecb-43f8-9a9a-58be7fcb097c",
   "metadata": {},
   "source": [
    "Display the incorrect predictions for manual inspection."
   ]
  },
  {
   "cell_type": "code",
   "execution_count": 65,
   "id": "7ac03a46-f9d5-4cd8-bd0c-5615f76e2e59",
   "metadata": {},
   "outputs": [
    {
     "data": {
      "text/html": [
       "<div>\n",
       "<style scoped>\n",
       "    .dataframe tbody tr th:only-of-type {\n",
       "        vertical-align: middle;\n",
       "    }\n",
       "\n",
       "    .dataframe tbody tr th {\n",
       "        vertical-align: top;\n",
       "    }\n",
       "\n",
       "    .dataframe thead th {\n",
       "        text-align: right;\n",
       "    }\n",
       "</style>\n",
       "<table border=\"1\" class=\"dataframe\">\n",
       "  <thead>\n",
       "    <tr style=\"text-align: right;\">\n",
       "      <th></th>\n",
       "      <th>Prediction</th>\n",
       "      <th>Tag</th>\n",
       "      <th>Name</th>\n",
       "    </tr>\n",
       "  </thead>\n",
       "  <tbody>\n",
       "    <tr>\n",
       "      <th>0</th>\n",
       "      <td>female</td>\n",
       "      <td>male</td>\n",
       "      <td>Roth</td>\n",
       "    </tr>\n",
       "    <tr>\n",
       "      <th>1</th>\n",
       "      <td>male</td>\n",
       "      <td>female</td>\n",
       "      <td>Bamby</td>\n",
       "    </tr>\n",
       "    <tr>\n",
       "      <th>2</th>\n",
       "      <td>male</td>\n",
       "      <td>female</td>\n",
       "      <td>Sal</td>\n",
       "    </tr>\n",
       "    <tr>\n",
       "      <th>3</th>\n",
       "      <td>female</td>\n",
       "      <td>male</td>\n",
       "      <td>Josiah</td>\n",
       "    </tr>\n",
       "    <tr>\n",
       "      <th>4</th>\n",
       "      <td>male</td>\n",
       "      <td>female</td>\n",
       "      <td>Rahel</td>\n",
       "    </tr>\n",
       "    <tr>\n",
       "      <th>5</th>\n",
       "      <td>female</td>\n",
       "      <td>male</td>\n",
       "      <td>Carl</td>\n",
       "    </tr>\n",
       "    <tr>\n",
       "      <th>6</th>\n",
       "      <td>female</td>\n",
       "      <td>male</td>\n",
       "      <td>Dunc</td>\n",
       "    </tr>\n",
       "    <tr>\n",
       "      <th>7</th>\n",
       "      <td>male</td>\n",
       "      <td>female</td>\n",
       "      <td>Isis</td>\n",
       "    </tr>\n",
       "    <tr>\n",
       "      <th>8</th>\n",
       "      <td>female</td>\n",
       "      <td>male</td>\n",
       "      <td>Hermann</td>\n",
       "    </tr>\n",
       "    <tr>\n",
       "      <th>9</th>\n",
       "      <td>female</td>\n",
       "      <td>male</td>\n",
       "      <td>Guy</td>\n",
       "    </tr>\n",
       "    <tr>\n",
       "      <th>10</th>\n",
       "      <td>male</td>\n",
       "      <td>female</td>\n",
       "      <td>Ansley</td>\n",
       "    </tr>\n",
       "    <tr>\n",
       "      <th>11</th>\n",
       "      <td>male</td>\n",
       "      <td>female</td>\n",
       "      <td>Veradis</td>\n",
       "    </tr>\n",
       "    <tr>\n",
       "      <th>12</th>\n",
       "      <td>female</td>\n",
       "      <td>male</td>\n",
       "      <td>Torre</td>\n",
       "    </tr>\n",
       "    <tr>\n",
       "      <th>13</th>\n",
       "      <td>male</td>\n",
       "      <td>female</td>\n",
       "      <td>Mildred</td>\n",
       "    </tr>\n",
       "    <tr>\n",
       "      <th>14</th>\n",
       "      <td>male</td>\n",
       "      <td>female</td>\n",
       "      <td>Rosario</td>\n",
       "    </tr>\n",
       "    <tr>\n",
       "      <th>15</th>\n",
       "      <td>female</td>\n",
       "      <td>male</td>\n",
       "      <td>Leslie</td>\n",
       "    </tr>\n",
       "    <tr>\n",
       "      <th>16</th>\n",
       "      <td>female</td>\n",
       "      <td>male</td>\n",
       "      <td>Antoni</td>\n",
       "    </tr>\n",
       "    <tr>\n",
       "      <th>17</th>\n",
       "      <td>female</td>\n",
       "      <td>male</td>\n",
       "      <td>Carlin</td>\n",
       "    </tr>\n",
       "    <tr>\n",
       "      <th>18</th>\n",
       "      <td>female</td>\n",
       "      <td>male</td>\n",
       "      <td>Elias</td>\n",
       "    </tr>\n",
       "    <tr>\n",
       "      <th>19</th>\n",
       "      <td>female</td>\n",
       "      <td>male</td>\n",
       "      <td>Kristian</td>\n",
       "    </tr>\n",
       "    <tr>\n",
       "      <th>20</th>\n",
       "      <td>male</td>\n",
       "      <td>female</td>\n",
       "      <td>Gabey</td>\n",
       "    </tr>\n",
       "    <tr>\n",
       "      <th>21</th>\n",
       "      <td>male</td>\n",
       "      <td>female</td>\n",
       "      <td>Tony</td>\n",
       "    </tr>\n",
       "    <tr>\n",
       "      <th>22</th>\n",
       "      <td>female</td>\n",
       "      <td>male</td>\n",
       "      <td>Earl</td>\n",
       "    </tr>\n",
       "    <tr>\n",
       "      <th>23</th>\n",
       "      <td>male</td>\n",
       "      <td>female</td>\n",
       "      <td>Zea</td>\n",
       "    </tr>\n",
       "    <tr>\n",
       "      <th>24</th>\n",
       "      <td>female</td>\n",
       "      <td>male</td>\n",
       "      <td>Lenny</td>\n",
       "    </tr>\n",
       "    <tr>\n",
       "      <th>25</th>\n",
       "      <td>male</td>\n",
       "      <td>female</td>\n",
       "      <td>Brandy</td>\n",
       "    </tr>\n",
       "    <tr>\n",
       "      <th>26</th>\n",
       "      <td>male</td>\n",
       "      <td>female</td>\n",
       "      <td>Ninon</td>\n",
       "    </tr>\n",
       "    <tr>\n",
       "      <th>27</th>\n",
       "      <td>female</td>\n",
       "      <td>male</td>\n",
       "      <td>Lynn</td>\n",
       "    </tr>\n",
       "    <tr>\n",
       "      <th>28</th>\n",
       "      <td>male</td>\n",
       "      <td>female</td>\n",
       "      <td>Fanchon</td>\n",
       "    </tr>\n",
       "    <tr>\n",
       "      <th>29</th>\n",
       "      <td>female</td>\n",
       "      <td>male</td>\n",
       "      <td>Elmore</td>\n",
       "    </tr>\n",
       "    <tr>\n",
       "      <th>30</th>\n",
       "      <td>female</td>\n",
       "      <td>male</td>\n",
       "      <td>Calhoun</td>\n",
       "    </tr>\n",
       "    <tr>\n",
       "      <th>31</th>\n",
       "      <td>male</td>\n",
       "      <td>female</td>\n",
       "      <td>Rahal</td>\n",
       "    </tr>\n",
       "    <tr>\n",
       "      <th>32</th>\n",
       "      <td>male</td>\n",
       "      <td>female</td>\n",
       "      <td>Judith</td>\n",
       "    </tr>\n",
       "    <tr>\n",
       "      <th>33</th>\n",
       "      <td>male</td>\n",
       "      <td>female</td>\n",
       "      <td>Love</td>\n",
       "    </tr>\n",
       "    <tr>\n",
       "      <th>34</th>\n",
       "      <td>male</td>\n",
       "      <td>female</td>\n",
       "      <td>Friederike</td>\n",
       "    </tr>\n",
       "    <tr>\n",
       "      <th>35</th>\n",
       "      <td>female</td>\n",
       "      <td>male</td>\n",
       "      <td>Andonis</td>\n",
       "    </tr>\n",
       "    <tr>\n",
       "      <th>36</th>\n",
       "      <td>female</td>\n",
       "      <td>male</td>\n",
       "      <td>Miles</td>\n",
       "    </tr>\n",
       "    <tr>\n",
       "      <th>37</th>\n",
       "      <td>female</td>\n",
       "      <td>male</td>\n",
       "      <td>Collin</td>\n",
       "    </tr>\n",
       "    <tr>\n",
       "      <th>38</th>\n",
       "      <td>female</td>\n",
       "      <td>male</td>\n",
       "      <td>Elijah</td>\n",
       "    </tr>\n",
       "    <tr>\n",
       "      <th>39</th>\n",
       "      <td>female</td>\n",
       "      <td>male</td>\n",
       "      <td>Andy</td>\n",
       "    </tr>\n",
       "    <tr>\n",
       "      <th>40</th>\n",
       "      <td>male</td>\n",
       "      <td>female</td>\n",
       "      <td>Doloritas</td>\n",
       "    </tr>\n",
       "    <tr>\n",
       "      <th>41</th>\n",
       "      <td>female</td>\n",
       "      <td>male</td>\n",
       "      <td>Kit</td>\n",
       "    </tr>\n",
       "    <tr>\n",
       "      <th>42</th>\n",
       "      <td>male</td>\n",
       "      <td>female</td>\n",
       "      <td>Gillan</td>\n",
       "    </tr>\n",
       "    <tr>\n",
       "      <th>43</th>\n",
       "      <td>female</td>\n",
       "      <td>male</td>\n",
       "      <td>Neddy</td>\n",
       "    </tr>\n",
       "    <tr>\n",
       "      <th>44</th>\n",
       "      <td>male</td>\n",
       "      <td>female</td>\n",
       "      <td>Tobe</td>\n",
       "    </tr>\n",
       "    <tr>\n",
       "      <th>45</th>\n",
       "      <td>female</td>\n",
       "      <td>male</td>\n",
       "      <td>Clare</td>\n",
       "    </tr>\n",
       "    <tr>\n",
       "      <th>46</th>\n",
       "      <td>female</td>\n",
       "      <td>male</td>\n",
       "      <td>Zollie</td>\n",
       "    </tr>\n",
       "    <tr>\n",
       "      <th>47</th>\n",
       "      <td>male</td>\n",
       "      <td>female</td>\n",
       "      <td>Mair</td>\n",
       "    </tr>\n",
       "    <tr>\n",
       "      <th>48</th>\n",
       "      <td>female</td>\n",
       "      <td>male</td>\n",
       "      <td>Eugene</td>\n",
       "    </tr>\n",
       "    <tr>\n",
       "      <th>49</th>\n",
       "      <td>female</td>\n",
       "      <td>male</td>\n",
       "      <td>Antone</td>\n",
       "    </tr>\n",
       "    <tr>\n",
       "      <th>50</th>\n",
       "      <td>female</td>\n",
       "      <td>male</td>\n",
       "      <td>Ansel</td>\n",
       "    </tr>\n",
       "    <tr>\n",
       "      <th>51</th>\n",
       "      <td>male</td>\n",
       "      <td>female</td>\n",
       "      <td>Nicky</td>\n",
       "    </tr>\n",
       "    <tr>\n",
       "      <th>52</th>\n",
       "      <td>female</td>\n",
       "      <td>male</td>\n",
       "      <td>Dale</td>\n",
       "    </tr>\n",
       "    <tr>\n",
       "      <th>53</th>\n",
       "      <td>female</td>\n",
       "      <td>male</td>\n",
       "      <td>Claybourne</td>\n",
       "    </tr>\n",
       "    <tr>\n",
       "      <th>54</th>\n",
       "      <td>female</td>\n",
       "      <td>male</td>\n",
       "      <td>Darth</td>\n",
       "    </tr>\n",
       "    <tr>\n",
       "      <th>55</th>\n",
       "      <td>female</td>\n",
       "      <td>male</td>\n",
       "      <td>Leroy</td>\n",
       "    </tr>\n",
       "    <tr>\n",
       "      <th>56</th>\n",
       "      <td>female</td>\n",
       "      <td>male</td>\n",
       "      <td>Andri</td>\n",
       "    </tr>\n",
       "    <tr>\n",
       "      <th>57</th>\n",
       "      <td>female</td>\n",
       "      <td>male</td>\n",
       "      <td>Regen</td>\n",
       "    </tr>\n",
       "    <tr>\n",
       "      <th>58</th>\n",
       "      <td>female</td>\n",
       "      <td>male</td>\n",
       "      <td>Tobie</td>\n",
       "    </tr>\n",
       "    <tr>\n",
       "      <th>59</th>\n",
       "      <td>female</td>\n",
       "      <td>male</td>\n",
       "      <td>Herbie</td>\n",
       "    </tr>\n",
       "    <tr>\n",
       "      <th>60</th>\n",
       "      <td>male</td>\n",
       "      <td>female</td>\n",
       "      <td>Tiffy</td>\n",
       "    </tr>\n",
       "    <tr>\n",
       "      <th>61</th>\n",
       "      <td>female</td>\n",
       "      <td>male</td>\n",
       "      <td>Townie</td>\n",
       "    </tr>\n",
       "    <tr>\n",
       "      <th>62</th>\n",
       "      <td>female</td>\n",
       "      <td>male</td>\n",
       "      <td>Moe</td>\n",
       "    </tr>\n",
       "    <tr>\n",
       "      <th>63</th>\n",
       "      <td>male</td>\n",
       "      <td>female</td>\n",
       "      <td>Brook</td>\n",
       "    </tr>\n",
       "    <tr>\n",
       "      <th>64</th>\n",
       "      <td>male</td>\n",
       "      <td>female</td>\n",
       "      <td>Bess</td>\n",
       "    </tr>\n",
       "    <tr>\n",
       "      <th>65</th>\n",
       "      <td>female</td>\n",
       "      <td>male</td>\n",
       "      <td>Merwin</td>\n",
       "    </tr>\n",
       "    <tr>\n",
       "      <th>66</th>\n",
       "      <td>male</td>\n",
       "      <td>female</td>\n",
       "      <td>Isador</td>\n",
       "    </tr>\n",
       "    <tr>\n",
       "      <th>67</th>\n",
       "      <td>female</td>\n",
       "      <td>male</td>\n",
       "      <td>Virgie</td>\n",
       "    </tr>\n",
       "    <tr>\n",
       "      <th>68</th>\n",
       "      <td>female</td>\n",
       "      <td>male</td>\n",
       "      <td>Locke</td>\n",
       "    </tr>\n",
       "    <tr>\n",
       "      <th>69</th>\n",
       "      <td>female</td>\n",
       "      <td>male</td>\n",
       "      <td>Dorian</td>\n",
       "    </tr>\n",
       "    <tr>\n",
       "      <th>70</th>\n",
       "      <td>female</td>\n",
       "      <td>male</td>\n",
       "      <td>Marlin</td>\n",
       "    </tr>\n",
       "    <tr>\n",
       "      <th>71</th>\n",
       "      <td>male</td>\n",
       "      <td>female</td>\n",
       "      <td>Jerry</td>\n",
       "    </tr>\n",
       "    <tr>\n",
       "      <th>72</th>\n",
       "      <td>male</td>\n",
       "      <td>female</td>\n",
       "      <td>Drew</td>\n",
       "    </tr>\n",
       "    <tr>\n",
       "      <th>73</th>\n",
       "      <td>female</td>\n",
       "      <td>male</td>\n",
       "      <td>Pooh</td>\n",
       "    </tr>\n",
       "    <tr>\n",
       "      <th>74</th>\n",
       "      <td>female</td>\n",
       "      <td>male</td>\n",
       "      <td>Romeo</td>\n",
       "    </tr>\n",
       "    <tr>\n",
       "      <th>75</th>\n",
       "      <td>female</td>\n",
       "      <td>male</td>\n",
       "      <td>Laurie</td>\n",
       "    </tr>\n",
       "    <tr>\n",
       "      <th>76</th>\n",
       "      <td>male</td>\n",
       "      <td>female</td>\n",
       "      <td>Morgan</td>\n",
       "    </tr>\n",
       "    <tr>\n",
       "      <th>77</th>\n",
       "      <td>female</td>\n",
       "      <td>male</td>\n",
       "      <td>Darryl</td>\n",
       "    </tr>\n",
       "    <tr>\n",
       "      <th>78</th>\n",
       "      <td>male</td>\n",
       "      <td>female</td>\n",
       "      <td>Meg</td>\n",
       "    </tr>\n",
       "    <tr>\n",
       "      <th>79</th>\n",
       "      <td>female</td>\n",
       "      <td>male</td>\n",
       "      <td>Eugen</td>\n",
       "    </tr>\n",
       "    <tr>\n",
       "      <th>80</th>\n",
       "      <td>female</td>\n",
       "      <td>male</td>\n",
       "      <td>Alix</td>\n",
       "    </tr>\n",
       "    <tr>\n",
       "      <th>81</th>\n",
       "      <td>male</td>\n",
       "      <td>female</td>\n",
       "      <td>Garland</td>\n",
       "    </tr>\n",
       "    <tr>\n",
       "      <th>82</th>\n",
       "      <td>female</td>\n",
       "      <td>male</td>\n",
       "      <td>Chane</td>\n",
       "    </tr>\n",
       "    <tr>\n",
       "      <th>83</th>\n",
       "      <td>female</td>\n",
       "      <td>male</td>\n",
       "      <td>Esme</td>\n",
       "    </tr>\n",
       "    <tr>\n",
       "      <th>84</th>\n",
       "      <td>female</td>\n",
       "      <td>male</td>\n",
       "      <td>Tabby</td>\n",
       "    </tr>\n",
       "    <tr>\n",
       "      <th>85</th>\n",
       "      <td>male</td>\n",
       "      <td>female</td>\n",
       "      <td>Robbin</td>\n",
       "    </tr>\n",
       "    <tr>\n",
       "      <th>86</th>\n",
       "      <td>female</td>\n",
       "      <td>male</td>\n",
       "      <td>Andrea</td>\n",
       "    </tr>\n",
       "  </tbody>\n",
       "</table>\n",
       "</div>"
      ],
      "text/plain": [
       "   Prediction     Tag        Name\n",
       "0      female    male        Roth\n",
       "1        male  female       Bamby\n",
       "2        male  female         Sal\n",
       "3      female    male      Josiah\n",
       "4        male  female       Rahel\n",
       "5      female    male        Carl\n",
       "6      female    male        Dunc\n",
       "7        male  female        Isis\n",
       "8      female    male     Hermann\n",
       "9      female    male         Guy\n",
       "10       male  female      Ansley\n",
       "11       male  female     Veradis\n",
       "12     female    male       Torre\n",
       "13       male  female     Mildred\n",
       "14       male  female     Rosario\n",
       "15     female    male      Leslie\n",
       "16     female    male      Antoni\n",
       "17     female    male      Carlin\n",
       "18     female    male       Elias\n",
       "19     female    male    Kristian\n",
       "20       male  female       Gabey\n",
       "21       male  female        Tony\n",
       "22     female    male        Earl\n",
       "23       male  female         Zea\n",
       "24     female    male       Lenny\n",
       "25       male  female      Brandy\n",
       "26       male  female       Ninon\n",
       "27     female    male        Lynn\n",
       "28       male  female     Fanchon\n",
       "29     female    male      Elmore\n",
       "30     female    male     Calhoun\n",
       "31       male  female       Rahal\n",
       "32       male  female      Judith\n",
       "33       male  female        Love\n",
       "34       male  female  Friederike\n",
       "35     female    male     Andonis\n",
       "36     female    male       Miles\n",
       "37     female    male      Collin\n",
       "38     female    male      Elijah\n",
       "39     female    male        Andy\n",
       "40       male  female   Doloritas\n",
       "41     female    male         Kit\n",
       "42       male  female      Gillan\n",
       "43     female    male       Neddy\n",
       "44       male  female        Tobe\n",
       "45     female    male       Clare\n",
       "46     female    male      Zollie\n",
       "47       male  female        Mair\n",
       "48     female    male      Eugene\n",
       "49     female    male      Antone\n",
       "50     female    male       Ansel\n",
       "51       male  female       Nicky\n",
       "52     female    male        Dale\n",
       "53     female    male  Claybourne\n",
       "54     female    male       Darth\n",
       "55     female    male       Leroy\n",
       "56     female    male       Andri\n",
       "57     female    male       Regen\n",
       "58     female    male       Tobie\n",
       "59     female    male      Herbie\n",
       "60       male  female       Tiffy\n",
       "61     female    male      Townie\n",
       "62     female    male         Moe\n",
       "63       male  female       Brook\n",
       "64       male  female        Bess\n",
       "65     female    male      Merwin\n",
       "66       male  female      Isador\n",
       "67     female    male      Virgie\n",
       "68     female    male       Locke\n",
       "69     female    male      Dorian\n",
       "70     female    male      Marlin\n",
       "71       male  female       Jerry\n",
       "72       male  female        Drew\n",
       "73     female    male        Pooh\n",
       "74     female    male       Romeo\n",
       "75     female    male      Laurie\n",
       "76       male  female      Morgan\n",
       "77     female    male      Darryl\n",
       "78       male  female         Meg\n",
       "79     female    male       Eugen\n",
       "80     female    male        Alix\n",
       "81       male  female     Garland\n",
       "82     female    male       Chane\n",
       "83     female    male        Esme\n",
       "84     female    male       Tabby\n",
       "85       male  female      Robbin\n",
       "86     female    male      Andrea"
      ]
     },
     "execution_count": 65,
     "metadata": {},
     "output_type": "execute_result"
    }
   ],
   "source": [
    "df_errors = pd.DataFrame(errors, columns=['Prediction','Tag','Name'])\n",
    "pd.set_option('display.max_rows', None)\n",
    "df_errors.head(100)"
   ]
  },
  {
   "cell_type": "code",
   "execution_count": 66,
   "id": "33ffa20f-a263-4029-b2db-67bd8c3ca93c",
   "metadata": {
    "tags": []
   },
   "outputs": [],
   "source": [
    "count_female_correct  = 0\n",
    "count_male_correct = 0\n",
    "count_female_tag_male_guess = 0\n",
    "count_male_tag_female_guess = 0\n",
    "count_error = 0\n",
    "for (tag, guess, name) in sorted(results):\n",
    "    if tag == guess:\n",
    "        if tag == 'female':\n",
    "            count_female_correct+=1\n",
    "        elif tag == 'male':\n",
    "            count_male_correct+=1\n",
    "        else:\n",
    "            count_error+=1\n",
    "    else:\n",
    "        if tag == 'female':\n",
    "            count_female_tag_male_guess+=1\n",
    "        elif tag == 'male':\n",
    "            count_male_tag_female_guess+=1\n",
    "        else:\n",
    "            count_error+=1"
   ]
  },
  {
   "cell_type": "code",
   "execution_count": 67,
   "id": "74647f09-9e67-4342-ba1f-4c237959ee09",
   "metadata": {
    "tags": []
   },
   "outputs": [
    {
     "name": "stdout",
     "output_type": "stream",
     "text": [
      "True Positive: 273; True Negative: 140\n"
     ]
    }
   ],
   "source": [
    "print('True Positive: {:-3}; True Negative: {:-3}'.format(count_female_correct, count_male_correct))"
   ]
  },
  {
   "cell_type": "code",
   "execution_count": 68,
   "id": "b855f13e-c9b7-4b60-9925-fcd4bc54ad0b",
   "metadata": {},
   "outputs": [
    {
     "name": "stdout",
     "output_type": "stream",
     "text": [
      "False Positive:  33; False Negative:  54\n"
     ]
    }
   ],
   "source": [
    "print('False Positive: {:-3}; False Negative: {:-3}'.format(count_female_tag_male_guess, count_male_tag_female_guess))"
   ]
  },
  {
   "cell_type": "code",
   "execution_count": 69,
   "id": "6d1ba59d-32b6-4549-85cf-3698ceb64b6b",
   "metadata": {},
   "outputs": [
    {
     "name": "stdout",
     "output_type": "stream",
     "text": [
      "Precision: 0.892; Recall: 0.835; F-Score: 0.863\n"
     ]
    }
   ],
   "source": [
    "tp = count_female_correct\n",
    "tn = count_male_correct\n",
    "fp = count_female_tag_male_guess\n",
    "fn = count_male_tag_female_guess\n",
    "\n",
    "precision = tp / (tp + fp)\n",
    "recall = tp / (tp + fn)\n",
    "f_score = (2 * precision * recall) / (precision + recall)\n",
    "\n",
    "print('Precision: {:2.3}; Recall: {:2.3}; F-Score: {:2.3}'.format(precision, recall, f_score))"
   ]
  },
  {
   "cell_type": "code",
   "execution_count": 70,
   "id": "6b73cd0d-574a-4d15-8439-937742c7578f",
   "metadata": {
    "tags": []
   },
   "outputs": [
    {
     "name": "stdout",
     "output_type": "stream",
     "text": [
      "       |   f     |\n",
      "       |   e     |\n",
      "       |   m   m |\n",
      "       |   a   a |\n",
      "       |   l   l |\n",
      "       |   e   e |\n",
      "-------+---------+\n",
      "female |<273> 33 |\n",
      "  male |  54<140>|\n",
      "-------+---------+\n",
      "(row = reference; col = test)\n",
      "\n"
     ]
    }
   ],
   "source": [
    "print(nltk.ConfusionMatrix( actual_nb_basic , preds_nb_basic ) )"
   ]
  },
  {
   "cell_type": "markdown",
   "id": "3bd414b7-d7de-46c6-abb6-a582ffbdb2e5",
   "metadata": {},
   "source": [
    "Once again, the false negatives (a prediction of female for a male name) outnumber the false positives. The results show increase in false negatives by 7 and false positives by 4. Compared to the best results on the devtest dataset, we find an increase in 11 incorrect predictions.\n",
    "\n",
    "We do notice the number of male names has increased from 180 to 194. As noted initially, the dataset is skewed to contain more female names. The incorrectly predicted male names could be a result of the fewer male instances when fitting the Naive Bayes classifier. \n",
    "\n",
    "On manual inspection of the incorrect predictions, the incorrectly predicted male names often end in a vowel, which we identified as a strong predicto of female names from the exploratory data analysis. On the other hand, the incorrect female predictions do tend to end in a consonant which does not greatly favor a female or male name."
   ]
  },
  {
   "cell_type": "markdown",
   "id": "d8d688d2-e8dd-40a7-811e-3ea83c79a711",
   "metadata": {},
   "source": [
    "## $\\color{blue}{\\text{Discussion}}$\n",
    "\n",
    "In conclusion, the gender name classifier performend better on the trimmed-down featureset of basic features using two-letter features in comparison to the one-letter features and the phonetic features. The Naive Bayes classifier performed on par with the Maximum Entropy and Decision Tree classifiers. In assessing the final incorect predtions, we confirm even with the improved accuracy of two-letter features, the final letter combinations ending in a vowel favor a prediction of female."
   ]
  },
  {
   "cell_type": "code",
   "execution_count": null,
   "id": "ce6f6354-5b35-4689-af9b-82d61490920c",
   "metadata": {},
   "outputs": [],
   "source": []
  }
 ],
 "metadata": {
  "kernelspec": {
   "display_name": "Python 3 (ipykernel)",
   "language": "python",
   "name": "python3"
  },
  "language_info": {
   "codemirror_mode": {
    "name": "ipython",
    "version": 3
   },
   "file_extension": ".py",
   "mimetype": "text/x-python",
   "name": "python",
   "nbconvert_exporter": "python",
   "pygments_lexer": "ipython3",
   "version": "3.7.11"
  }
 },
 "nbformat": 4,
 "nbformat_minor": 5
}

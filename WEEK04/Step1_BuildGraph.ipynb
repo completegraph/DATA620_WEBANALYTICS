{
 "cells": [
  {
   "cell_type": "markdown",
   "id": "cb563f82-ef12-42f4-811c-4458067b37b0",
   "metadata": {},
   "source": [
    "# Project 1 NYC Subway Network\n",
    "## Step 1 - Build the Subway Files\n",
    "\n",
    "This phase of Project 1 constructs the NYC subway graph from the GTFS data files provided by the Metropolitan Transit Authority in the latest available dataset (as of Dec 2021).  The GTFS data files are text files with comma separated fields per row.  However, figuring out the nodes and edges is complicated by  domain specific issues because the purpose of the GTFS data files is not to build graphs but to support scheduling and operations."
   ]
  },
  {
   "cell_type": "markdown",
   "id": "2187b929-e028-471d-ae86-1c5c23b25617",
   "metadata": {},
   "source": [
    "## Stops\n",
    "\n",
    "We begin by defining the nodes which represent subway stations.  This data is stored in the file `stops.txt`.   We load the data and inspect the first 5 rows."
   ]
  },
  {
   "cell_type": "code",
   "execution_count": 88,
   "id": "1e7ad110-2c07-447b-886f-1b4e2169109e",
   "metadata": {},
   "outputs": [],
   "source": [
    "# Import the basic libraries\n",
    "\n",
    "import pandas as pd\n",
    "import networkx as nx\n",
    "import matplotlib.pyplot as plt\n",
    "import numpy as np\n",
    "import warnings\n",
    "warnings.filterwarnings('ignore')"
   ]
  },
  {
   "cell_type": "code",
   "execution_count": 89,
   "id": "c352dbd9-93d5-491c-bf66-f42e7fd3dd84",
   "metadata": {},
   "outputs": [
    {
     "data": {
      "text/html": [
       "<div>\n",
       "<style scoped>\n",
       "    .dataframe tbody tr th:only-of-type {\n",
       "        vertical-align: middle;\n",
       "    }\n",
       "\n",
       "    .dataframe tbody tr th {\n",
       "        vertical-align: top;\n",
       "    }\n",
       "\n",
       "    .dataframe thead th {\n",
       "        text-align: right;\n",
       "    }\n",
       "</style>\n",
       "<table border=\"1\" class=\"dataframe\">\n",
       "  <thead>\n",
       "    <tr style=\"text-align: right;\">\n",
       "      <th></th>\n",
       "      <th>stop_id</th>\n",
       "      <th>stop_name</th>\n",
       "      <th>stop_lat</th>\n",
       "      <th>stop_lon</th>\n",
       "      <th>location_type</th>\n",
       "      <th>parent_station</th>\n",
       "    </tr>\n",
       "  </thead>\n",
       "  <tbody>\n",
       "    <tr>\n",
       "      <th>0</th>\n",
       "      <td>101</td>\n",
       "      <td>Van Cortlandt Park-242 St</td>\n",
       "      <td>40.889248</td>\n",
       "      <td>-73.898583</td>\n",
       "      <td>1</td>\n",
       "      <td>NaN</td>\n",
       "    </tr>\n",
       "    <tr>\n",
       "      <th>1</th>\n",
       "      <td>101N</td>\n",
       "      <td>Van Cortlandt Park-242 St</td>\n",
       "      <td>40.889248</td>\n",
       "      <td>-73.898583</td>\n",
       "      <td>0</td>\n",
       "      <td>101</td>\n",
       "    </tr>\n",
       "    <tr>\n",
       "      <th>2</th>\n",
       "      <td>101S</td>\n",
       "      <td>Van Cortlandt Park-242 St</td>\n",
       "      <td>40.889248</td>\n",
       "      <td>-73.898583</td>\n",
       "      <td>0</td>\n",
       "      <td>101</td>\n",
       "    </tr>\n",
       "    <tr>\n",
       "      <th>3</th>\n",
       "      <td>103</td>\n",
       "      <td>238 St</td>\n",
       "      <td>40.884667</td>\n",
       "      <td>-73.900870</td>\n",
       "      <td>1</td>\n",
       "      <td>NaN</td>\n",
       "    </tr>\n",
       "    <tr>\n",
       "      <th>4</th>\n",
       "      <td>103N</td>\n",
       "      <td>238 St</td>\n",
       "      <td>40.884667</td>\n",
       "      <td>-73.900870</td>\n",
       "      <td>0</td>\n",
       "      <td>103</td>\n",
       "    </tr>\n",
       "  </tbody>\n",
       "</table>\n",
       "</div>"
      ],
      "text/plain": [
       "  stop_id                  stop_name   stop_lat   stop_lon  location_type  \\\n",
       "0     101  Van Cortlandt Park-242 St  40.889248 -73.898583              1   \n",
       "1    101N  Van Cortlandt Park-242 St  40.889248 -73.898583              0   \n",
       "2    101S  Van Cortlandt Park-242 St  40.889248 -73.898583              0   \n",
       "3     103                     238 St  40.884667 -73.900870              1   \n",
       "4    103N                     238 St  40.884667 -73.900870              0   \n",
       "\n",
       "  parent_station  \n",
       "0            NaN  \n",
       "1            101  \n",
       "2            101  \n",
       "3            NaN  \n",
       "4            103  "
      ]
     },
     "execution_count": 89,
     "metadata": {},
     "output_type": "execute_result"
    }
   ],
   "source": [
    "data_dir = \"google_transit/\"\n",
    "\n",
    "stops_file = data_dir + \"stops.txt\"\n",
    "stops_df = pd.read_csv(stops_file)\n",
    "all_stops = stops_df[[\"stop_id\", \"stop_name\", \"stop_lat\", \"stop_lon\", \"location_type\", \"parent_station\"]]\n",
    "all_stops.head()"
   ]
  },
  {
   "cell_type": "code",
   "execution_count": null,
   "id": "23c33790-58f9-4b53-99c0-b397c9cd1ec6",
   "metadata": {},
   "outputs": [],
   "source": []
  },
  {
   "cell_type": "markdown",
   "id": "0bd6b5f8-208f-4154-aaca-c3f4a980d423",
   "metadata": {},
   "source": [
    "In the above `stops` dataset, each stop is listed 3 times as a `parent` and two `child` stops. \n",
    "Using stops `101`, `101N`, `101S` as a related example, we see that the parent stop `101` is identified by the field value `location_type`=`1` while `101N` (the northbound platform of the stop) and `101S` (the southbound platform of the stop) have `location_type` = `0` and use the field `parent_station` as a foreign key back to the `stop_id` of the parent stop `101` through self-join.   However, we'll need to retain the child stops `101N` and `101S` as the edges of our graph are defined in terms of child stops.   For simplicity, we select only essential columns in a dataframe `all_stops`."
   ]
  },
  {
   "cell_type": "code",
   "execution_count": null,
   "id": "dae5c1ba-f45e-4ee4-b48f-a68b77b56b28",
   "metadata": {},
   "outputs": [],
   "source": []
  },
  {
   "cell_type": "markdown",
   "id": "4720a9ef-ad98-4fd0-921f-7e9dab002fc8",
   "metadata": {},
   "source": [
    "## Routes\n",
    "\n",
    "The `routes.txt` contains the names of the routes.  It is a reference file that defines the lines of services.  For example, A, B, C, 1, 2, 3, 4, 6, 7, etc.   Each route has several useful fields which we load into a dataframe:\n",
    "\n",
    "*   `route_id` - integer identifier of the line - this is the primary key\n",
    "*   `route_long_name` - describes the route's name is not unique.  E.g. 5 and 5X are both called Lexington Avenue Express.\n",
    "*   `route_color` - the hex code color assigned to the line's livery on the map, subway cars and stations.  For example, $\\color{#EE352E}{\\text{Routes 1, 2, 3 use EE352E}}$.   Route colors are often grouped together.   Route colors may be viewed as edge attributes.\n"
   ]
  },
  {
   "cell_type": "code",
   "execution_count": 90,
   "id": "dc6c1ac2-0214-4c3b-ae6f-c6cce73fe198",
   "metadata": {},
   "outputs": [
    {
     "data": {
      "text/html": [
       "<div>\n",
       "<style scoped>\n",
       "    .dataframe tbody tr th:only-of-type {\n",
       "        vertical-align: middle;\n",
       "    }\n",
       "\n",
       "    .dataframe tbody tr th {\n",
       "        vertical-align: top;\n",
       "    }\n",
       "\n",
       "    .dataframe thead th {\n",
       "        text-align: right;\n",
       "    }\n",
       "</style>\n",
       "<table border=\"1\" class=\"dataframe\">\n",
       "  <thead>\n",
       "    <tr style=\"text-align: right;\">\n",
       "      <th></th>\n",
       "      <th>route_id</th>\n",
       "      <th>route_long_name</th>\n",
       "      <th>route_color</th>\n",
       "    </tr>\n",
       "  </thead>\n",
       "  <tbody>\n",
       "    <tr>\n",
       "      <th>0</th>\n",
       "      <td>1</td>\n",
       "      <td>Broadway - 7 Avenue Local</td>\n",
       "      <td>EE352E</td>\n",
       "    </tr>\n",
       "    <tr>\n",
       "      <th>1</th>\n",
       "      <td>2</td>\n",
       "      <td>7 Avenue Express</td>\n",
       "      <td>EE352E</td>\n",
       "    </tr>\n",
       "    <tr>\n",
       "      <th>2</th>\n",
       "      <td>3</td>\n",
       "      <td>7 Avenue Express</td>\n",
       "      <td>EE352E</td>\n",
       "    </tr>\n",
       "    <tr>\n",
       "      <th>3</th>\n",
       "      <td>4</td>\n",
       "      <td>Lexington Avenue Express</td>\n",
       "      <td>00933C</td>\n",
       "    </tr>\n",
       "    <tr>\n",
       "      <th>4</th>\n",
       "      <td>5</td>\n",
       "      <td>Lexington Avenue Express</td>\n",
       "      <td>00933C</td>\n",
       "    </tr>\n",
       "  </tbody>\n",
       "</table>\n",
       "</div>"
      ],
      "text/plain": [
       "  route_id            route_long_name route_color\n",
       "0        1  Broadway - 7 Avenue Local      EE352E\n",
       "1        2           7 Avenue Express      EE352E\n",
       "2        3           7 Avenue Express      EE352E\n",
       "3        4   Lexington Avenue Express      00933C\n",
       "4        5   Lexington Avenue Express      00933C"
      ]
     },
     "execution_count": 90,
     "metadata": {},
     "output_type": "execute_result"
    }
   ],
   "source": [
    "routes_file = data_dir + \"routes.txt\"\n",
    "routes_df = pd.read_csv(routes_file)\n",
    "all_routes = routes_df[[\"route_id\", \"route_long_name\", \"route_color\"]]\n",
    "all_routes.head()"
   ]
  },
  {
   "cell_type": "markdown",
   "id": "2affa654-8455-4349-88a2-403b7606f3bc",
   "metadata": {},
   "source": [
    "# Calendar\n",
    "\n",
    "We load the list of available services.   A service associates a schedule of availability of multiple subway lines by day of week and holidays.   We are only going to use weekday services as an object to filter the set of trips as there are thousands of trips for each line with repetitive description of edges."
   ]
  },
  {
   "cell_type": "code",
   "execution_count": 91,
   "id": "564923cd-85ab-46d8-bae6-3a11205164b1",
   "metadata": {},
   "outputs": [
    {
     "data": {
      "text/html": [
       "<div>\n",
       "<style scoped>\n",
       "    .dataframe tbody tr th:only-of-type {\n",
       "        vertical-align: middle;\n",
       "    }\n",
       "\n",
       "    .dataframe tbody tr th {\n",
       "        vertical-align: top;\n",
       "    }\n",
       "\n",
       "    .dataframe thead th {\n",
       "        text-align: right;\n",
       "    }\n",
       "</style>\n",
       "<table border=\"1\" class=\"dataframe\">\n",
       "  <thead>\n",
       "    <tr style=\"text-align: right;\">\n",
       "      <th></th>\n",
       "      <th>service_id</th>\n",
       "      <th>start_date</th>\n",
       "      <th>end_date</th>\n",
       "    </tr>\n",
       "  </thead>\n",
       "  <tbody>\n",
       "    <tr>\n",
       "      <th>23</th>\n",
       "      <td>AFA21GEN-1091-Weekday-00</td>\n",
       "      <td>20211220</td>\n",
       "      <td>20220624</td>\n",
       "    </tr>\n",
       "    <tr>\n",
       "      <th>24</th>\n",
       "      <td>AFA21GEN-2097-Weekday-00</td>\n",
       "      <td>20211220</td>\n",
       "      <td>20220624</td>\n",
       "    </tr>\n",
       "    <tr>\n",
       "      <th>25</th>\n",
       "      <td>AFA21GEN-3087-Weekday-00</td>\n",
       "      <td>20211220</td>\n",
       "      <td>20220624</td>\n",
       "    </tr>\n",
       "    <tr>\n",
       "      <th>26</th>\n",
       "      <td>AFA21GEN-4099-Weekday-00</td>\n",
       "      <td>20211220</td>\n",
       "      <td>20220624</td>\n",
       "    </tr>\n",
       "    <tr>\n",
       "      <th>27</th>\n",
       "      <td>AFA21GEN-5108-Weekday-00</td>\n",
       "      <td>20211220</td>\n",
       "      <td>20220624</td>\n",
       "    </tr>\n",
       "  </tbody>\n",
       "</table>\n",
       "</div>"
      ],
      "text/plain": [
       "                  service_id  start_date  end_date\n",
       "23  AFA21GEN-1091-Weekday-00    20211220  20220624\n",
       "24  AFA21GEN-2097-Weekday-00    20211220  20220624\n",
       "25  AFA21GEN-3087-Weekday-00    20211220  20220624\n",
       "26  AFA21GEN-4099-Weekday-00    20211220  20220624\n",
       "27  AFA21GEN-5108-Weekday-00    20211220  20220624"
      ]
     },
     "execution_count": 91,
     "metadata": {},
     "output_type": "execute_result"
    }
   ],
   "source": [
    "calendar_file = data_dir + \"calendar.txt\"\n",
    "calendar_df = pd.read_csv(calendar_file)\n",
    "all_calendar = calendar_df[[\"service_id\", \"start_date\", \"end_date\"]]\n",
    "all_calendar[ all_calendar[\"service_id\"].str.contains(\"Weekday\") ].head()"
   ]
  },
  {
   "cell_type": "markdown",
   "id": "cebfdbad-5990-4130-9e9a-eca6ed1c8111",
   "metadata": {},
   "source": [
    "# Trips\n",
    "\n",
    "The `trips.txt` file joins three object types:  routes, services and trips.   Trips are the instances of services associated with a route containing a direction of travel (outbound or inbound).   The direction of travel is immaterial to our graph and we treat both directions as equivalent.   \n",
    "\n",
    "*   `route_id` is a foreign key to the same column in `routes.txt`\n",
    "*   `service_id` is a foreign key to the same column in `calendar.txt`\n",
    "\n",
    "The `trip_id` is unique to the file and is in a one-to-many relationship with the `route_id` and `service_id` as it specifies the time of day when the trip is scheduled to begin its operation and the direction."
   ]
  },
  {
   "cell_type": "code",
   "execution_count": 92,
   "id": "e4489b0c-cdf9-4cf7-b323-a0d6e494fbe3",
   "metadata": {},
   "outputs": [
    {
     "data": {
      "text/html": [
       "<div>\n",
       "<style scoped>\n",
       "    .dataframe tbody tr th:only-of-type {\n",
       "        vertical-align: middle;\n",
       "    }\n",
       "\n",
       "    .dataframe tbody tr th {\n",
       "        vertical-align: top;\n",
       "    }\n",
       "\n",
       "    .dataframe thead th {\n",
       "        text-align: right;\n",
       "    }\n",
       "</style>\n",
       "<table border=\"1\" class=\"dataframe\">\n",
       "  <thead>\n",
       "    <tr style=\"text-align: right;\">\n",
       "      <th></th>\n",
       "      <th>route_id</th>\n",
       "      <th>service_id</th>\n",
       "      <th>trip_id</th>\n",
       "      <th>direction_id</th>\n",
       "    </tr>\n",
       "  </thead>\n",
       "  <tbody>\n",
       "    <tr>\n",
       "      <th>584</th>\n",
       "      <td>1</td>\n",
       "      <td>AFA21GEN-1091-Weekday-00</td>\n",
       "      <td>AFA21GEN-1091-Weekday-00_000650_1..S03R</td>\n",
       "      <td>1</td>\n",
       "    </tr>\n",
       "    <tr>\n",
       "      <th>585</th>\n",
       "      <td>1</td>\n",
       "      <td>AFA21GEN-1091-Weekday-00</td>\n",
       "      <td>AFA21GEN-1091-Weekday-00_002550_1..S03R</td>\n",
       "      <td>1</td>\n",
       "    </tr>\n",
       "    <tr>\n",
       "      <th>586</th>\n",
       "      <td>1</td>\n",
       "      <td>AFA21GEN-1091-Weekday-00</td>\n",
       "      <td>AFA21GEN-1091-Weekday-00_004550_1..S03R</td>\n",
       "      <td>1</td>\n",
       "    </tr>\n",
       "    <tr>\n",
       "      <th>587</th>\n",
       "      <td>1</td>\n",
       "      <td>AFA21GEN-1091-Weekday-00</td>\n",
       "      <td>AFA21GEN-1091-Weekday-00_006550_1..S03R</td>\n",
       "      <td>1</td>\n",
       "    </tr>\n",
       "    <tr>\n",
       "      <th>588</th>\n",
       "      <td>1</td>\n",
       "      <td>AFA21GEN-1091-Weekday-00</td>\n",
       "      <td>AFA21GEN-1091-Weekday-00_007450_1..N03R</td>\n",
       "      <td>0</td>\n",
       "    </tr>\n",
       "  </tbody>\n",
       "</table>\n",
       "</div>"
      ],
      "text/plain": [
       "    route_id                service_id  \\\n",
       "584        1  AFA21GEN-1091-Weekday-00   \n",
       "585        1  AFA21GEN-1091-Weekday-00   \n",
       "586        1  AFA21GEN-1091-Weekday-00   \n",
       "587        1  AFA21GEN-1091-Weekday-00   \n",
       "588        1  AFA21GEN-1091-Weekday-00   \n",
       "\n",
       "                                     trip_id  direction_id  \n",
       "584  AFA21GEN-1091-Weekday-00_000650_1..S03R             1  \n",
       "585  AFA21GEN-1091-Weekday-00_002550_1..S03R             1  \n",
       "586  AFA21GEN-1091-Weekday-00_004550_1..S03R             1  \n",
       "587  AFA21GEN-1091-Weekday-00_006550_1..S03R             1  \n",
       "588  AFA21GEN-1091-Weekday-00_007450_1..N03R             0  "
      ]
     },
     "execution_count": 92,
     "metadata": {},
     "output_type": "execute_result"
    }
   ],
   "source": [
    "trips_file = data_dir + \"trips.txt\"\n",
    "trips_df = pd.read_csv(trips_file)\n",
    "all_trips = trips_df[[\"route_id\", \"service_id\", \"trip_id\", \"direction_id\"]]\n",
    "\n",
    "all_trips[ all_trips[\"service_id\"].str.contains(\"Weekday\") ].head()"
   ]
  },
  {
   "cell_type": "markdown",
   "id": "bedcf87b-6ee4-4138-8f5c-170051518146",
   "metadata": {},
   "source": [
    "# Stop Times\n",
    "\n",
    "The file `stop_times.txt` contains the list of stops along with a sequence number of each trip listed in the trips file.\n",
    "The essential information of each trip is the scheduled ordered sequence of stops.  Consecutive stops within an ordered sequence of the trip define the directed edges of a digraph.  Since we are interested in the undirected network, we will ignore the directionality of the edges when scanning the trips file."
   ]
  },
  {
   "cell_type": "code",
   "execution_count": 93,
   "id": "da931871-7e8a-4e91-a178-03cbd7d8d513",
   "metadata": {},
   "outputs": [
    {
     "data": {
      "text/html": [
       "<div>\n",
       "<style scoped>\n",
       "    .dataframe tbody tr th:only-of-type {\n",
       "        vertical-align: middle;\n",
       "    }\n",
       "\n",
       "    .dataframe tbody tr th {\n",
       "        vertical-align: top;\n",
       "    }\n",
       "\n",
       "    .dataframe thead th {\n",
       "        text-align: right;\n",
       "    }\n",
       "</style>\n",
       "<table border=\"1\" class=\"dataframe\">\n",
       "  <thead>\n",
       "    <tr style=\"text-align: right;\">\n",
       "      <th></th>\n",
       "      <th>trip_id</th>\n",
       "      <th>stop_id</th>\n",
       "      <th>stop_sequence</th>\n",
       "    </tr>\n",
       "  </thead>\n",
       "  <tbody>\n",
       "    <tr>\n",
       "      <th>22192</th>\n",
       "      <td>AFA21GEN-1091-Weekday-00_000650_1..S03R</td>\n",
       "      <td>101S</td>\n",
       "      <td>1</td>\n",
       "    </tr>\n",
       "    <tr>\n",
       "      <th>22193</th>\n",
       "      <td>AFA21GEN-1091-Weekday-00_000650_1..S03R</td>\n",
       "      <td>103S</td>\n",
       "      <td>2</td>\n",
       "    </tr>\n",
       "    <tr>\n",
       "      <th>22194</th>\n",
       "      <td>AFA21GEN-1091-Weekday-00_000650_1..S03R</td>\n",
       "      <td>104S</td>\n",
       "      <td>3</td>\n",
       "    </tr>\n",
       "    <tr>\n",
       "      <th>22195</th>\n",
       "      <td>AFA21GEN-1091-Weekday-00_000650_1..S03R</td>\n",
       "      <td>106S</td>\n",
       "      <td>4</td>\n",
       "    </tr>\n",
       "    <tr>\n",
       "      <th>22196</th>\n",
       "      <td>AFA21GEN-1091-Weekday-00_000650_1..S03R</td>\n",
       "      <td>107S</td>\n",
       "      <td>5</td>\n",
       "    </tr>\n",
       "  </tbody>\n",
       "</table>\n",
       "</div>"
      ],
      "text/plain": [
       "                                       trip_id stop_id  stop_sequence\n",
       "22192  AFA21GEN-1091-Weekday-00_000650_1..S03R    101S              1\n",
       "22193  AFA21GEN-1091-Weekday-00_000650_1..S03R    103S              2\n",
       "22194  AFA21GEN-1091-Weekday-00_000650_1..S03R    104S              3\n",
       "22195  AFA21GEN-1091-Weekday-00_000650_1..S03R    106S              4\n",
       "22196  AFA21GEN-1091-Weekday-00_000650_1..S03R    107S              5"
      ]
     },
     "execution_count": 93,
     "metadata": {},
     "output_type": "execute_result"
    }
   ],
   "source": [
    "stop_times_file = data_dir + \"stop_times.txt\"\n",
    "stop_times_df = pd.read_csv(stop_times_file)\n",
    "all_stop_times = stop_times_df[[\"trip_id\", \"stop_id\", \"stop_sequence\" ]]\n",
    "\n",
    "all_stop_times[ all_stop_times[\"trip_id\"].str.contains(\"Weekday\") ].head( )"
   ]
  },
  {
   "cell_type": "markdown",
   "id": "eb8d366a-21d3-4ab0-9c7b-7f2102bb42cf",
   "metadata": {},
   "source": [
    "A unique key of  the `all_stop_times` dataframe are the two columns `trip_id`, `stop_sequence`.  We exploit this fact to build the edge list below."
   ]
  },
  {
   "cell_type": "markdown",
   "id": "cd3296a4-cf2e-48fb-b581-c1796821bbea",
   "metadata": {},
   "source": [
    "## Step 2.  Constructing the Subway Network Graphs\n",
    "\n",
    "To construct the network, we need to form equivalence classes of several GTFS object types.\n",
    "We choose only one representative of multiple members of an equivalence class of object types with 2 strategies.\n",
    "\n",
    "*   For nodes, we'll use only the parent node in our network.  \n",
    "\n",
    "*   The edge information has even more members in the equivalence class.   For each two adjacent stops (nodes) in our graph,  multiple routes, multiple services and multiple trips may all include the two stops.   In other words, each directed edge could be listed dozens of times within the `all_stop_times` dataframe.\n",
    "     +  In any edge, the order of nodes must be lexicographically increasing.   We will represent each edge as an ordered pair of parent stops.  For example, stops `101S` and `103S` are consecutive stops for trip `AFA21GEN-1091-Weekday-00_000650_1..S03R`.   \n",
    "The corresponding edge is the pair `(101, 103)`.\n",
    "     +  We will maintain a dictionary of the edges.   If an edge has already been created while parsing `all_stop_times`, we don't create a duplicate edge.\n",
    "\n"
   ]
  },
  {
   "cell_type": "code",
   "execution_count": 94,
   "id": "ec5836f2-c0e6-49d3-b288-a610365d5446",
   "metadata": {},
   "outputs": [
    {
     "data": {
      "text/plain": [
       "499"
      ]
     },
     "execution_count": 94,
     "metadata": {},
     "output_type": "execute_result"
    }
   ],
   "source": [
    "len(all_stops[all_stops[\"location_type\"] == 1 ].stop_id.unique())"
   ]
  },
  {
   "cell_type": "markdown",
   "id": "5ab6cec7-7f16-4da6-8642-8ad3e167b961",
   "metadata": {},
   "source": [
    "To construct the edge list, we first join the parent `stop_id` to each row of the stop times dataframe.\n",
    "Next, we assign the previous sequence number to each stop along a trip.  This value is saved in a column called `prior_stop_sequence`.  The original `stop_sequence` always begins at 1, so the `prior_stop_sequence` = 0 for the initial stop of the trip.\n",
    "Lastly, we make a deep copy of the joined data frame in order to get the parent station of the current stop and the prior stop in the same row. "
   ]
  },
  {
   "cell_type": "code",
   "execution_count": 95,
   "id": "4dc93335-0943-4069-b2d9-94d66739334b",
   "metadata": {},
   "outputs": [],
   "source": [
    "res_stop_times = pd.merge( all_stop_times, all_stops , on = ['stop_id'] )"
   ]
  },
  {
   "cell_type": "code",
   "execution_count": 96,
   "id": "6b8963a1-62b0-4937-ae6b-20652eff143b",
   "metadata": {},
   "outputs": [
    {
     "data": {
      "text/html": [
       "<div>\n",
       "<style scoped>\n",
       "    .dataframe tbody tr th:only-of-type {\n",
       "        vertical-align: middle;\n",
       "    }\n",
       "\n",
       "    .dataframe tbody tr th {\n",
       "        vertical-align: top;\n",
       "    }\n",
       "\n",
       "    .dataframe thead th {\n",
       "        text-align: right;\n",
       "    }\n",
       "</style>\n",
       "<table border=\"1\" class=\"dataframe\">\n",
       "  <thead>\n",
       "    <tr style=\"text-align: right;\">\n",
       "      <th></th>\n",
       "      <th>route_id</th>\n",
       "      <th>trip_id</th>\n",
       "      <th>stop_sequence</th>\n",
       "      <th>parent_station</th>\n",
       "      <th>prior_stop_sequence</th>\n",
       "    </tr>\n",
       "  </thead>\n",
       "  <tbody>\n",
       "    <tr>\n",
       "      <th>0</th>\n",
       "      <td>1</td>\n",
       "      <td>AFA21GEN-1037-Sunday-00_000600_1..S03R</td>\n",
       "      <td>1</td>\n",
       "      <td>101</td>\n",
       "      <td>0</td>\n",
       "    </tr>\n",
       "    <tr>\n",
       "      <th>1</th>\n",
       "      <td>1</td>\n",
       "      <td>AFA21GEN-1037-Sunday-00_000600_1..S03R</td>\n",
       "      <td>2</td>\n",
       "      <td>103</td>\n",
       "      <td>1</td>\n",
       "    </tr>\n",
       "    <tr>\n",
       "      <th>2</th>\n",
       "      <td>1</td>\n",
       "      <td>AFA21GEN-1037-Sunday-00_000600_1..S03R</td>\n",
       "      <td>3</td>\n",
       "      <td>104</td>\n",
       "      <td>2</td>\n",
       "    </tr>\n",
       "    <tr>\n",
       "      <th>3</th>\n",
       "      <td>1</td>\n",
       "      <td>AFA21GEN-1037-Sunday-00_000600_1..S03R</td>\n",
       "      <td>4</td>\n",
       "      <td>106</td>\n",
       "      <td>3</td>\n",
       "    </tr>\n",
       "    <tr>\n",
       "      <th>4</th>\n",
       "      <td>1</td>\n",
       "      <td>AFA21GEN-1037-Sunday-00_000600_1..S03R</td>\n",
       "      <td>5</td>\n",
       "      <td>107</td>\n",
       "      <td>4</td>\n",
       "    </tr>\n",
       "    <tr>\n",
       "      <th>...</th>\n",
       "      <td>...</td>\n",
       "      <td>...</td>\n",
       "      <td>...</td>\n",
       "      <td>...</td>\n",
       "      <td>...</td>\n",
       "    </tr>\n",
       "    <tr>\n",
       "      <th>542113</th>\n",
       "      <td>SI</td>\n",
       "      <td>SIR-FA2017-SI017-Weekday-08_045600_SI..N02R</td>\n",
       "      <td>9</td>\n",
       "      <td>S27</td>\n",
       "      <td>8</td>\n",
       "    </tr>\n",
       "    <tr>\n",
       "      <th>542114</th>\n",
       "      <td>SI</td>\n",
       "      <td>SIR-FA2017-SI017-Weekday-08_045600_SI..N02R</td>\n",
       "      <td>10</td>\n",
       "      <td>S28</td>\n",
       "      <td>9</td>\n",
       "    </tr>\n",
       "    <tr>\n",
       "      <th>542115</th>\n",
       "      <td>SI</td>\n",
       "      <td>SIR-FA2017-SI017-Weekday-08_045600_SI..N02R</td>\n",
       "      <td>11</td>\n",
       "      <td>S29</td>\n",
       "      <td>10</td>\n",
       "    </tr>\n",
       "    <tr>\n",
       "      <th>542116</th>\n",
       "      <td>SI</td>\n",
       "      <td>SIR-FA2017-SI017-Weekday-08_045600_SI..N02R</td>\n",
       "      <td>12</td>\n",
       "      <td>S30</td>\n",
       "      <td>11</td>\n",
       "    </tr>\n",
       "    <tr>\n",
       "      <th>542117</th>\n",
       "      <td>SI</td>\n",
       "      <td>SIR-FA2017-SI017-Weekday-08_045600_SI..N02R</td>\n",
       "      <td>13</td>\n",
       "      <td>S31</td>\n",
       "      <td>12</td>\n",
       "    </tr>\n",
       "  </tbody>\n",
       "</table>\n",
       "<p>542118 rows × 5 columns</p>\n",
       "</div>"
      ],
      "text/plain": [
       "       route_id                                      trip_id  stop_sequence  \\\n",
       "0             1       AFA21GEN-1037-Sunday-00_000600_1..S03R              1   \n",
       "1             1       AFA21GEN-1037-Sunday-00_000600_1..S03R              2   \n",
       "2             1       AFA21GEN-1037-Sunday-00_000600_1..S03R              3   \n",
       "3             1       AFA21GEN-1037-Sunday-00_000600_1..S03R              4   \n",
       "4             1       AFA21GEN-1037-Sunday-00_000600_1..S03R              5   \n",
       "...         ...                                          ...            ...   \n",
       "542113       SI  SIR-FA2017-SI017-Weekday-08_045600_SI..N02R              9   \n",
       "542114       SI  SIR-FA2017-SI017-Weekday-08_045600_SI..N02R             10   \n",
       "542115       SI  SIR-FA2017-SI017-Weekday-08_045600_SI..N02R             11   \n",
       "542116       SI  SIR-FA2017-SI017-Weekday-08_045600_SI..N02R             12   \n",
       "542117       SI  SIR-FA2017-SI017-Weekday-08_045600_SI..N02R             13   \n",
       "\n",
       "       parent_station  prior_stop_sequence  \n",
       "0                 101                    0  \n",
       "1                 103                    1  \n",
       "2                 104                    2  \n",
       "3                 106                    3  \n",
       "4                 107                    4  \n",
       "...               ...                  ...  \n",
       "542113            S27                    8  \n",
       "542114            S28                    9  \n",
       "542115            S29                   10  \n",
       "542116            S30                   11  \n",
       "542117            S31                   12  \n",
       "\n",
       "[542118 rows x 5 columns]"
      ]
     },
     "execution_count": 96,
     "metadata": {},
     "output_type": "execute_result"
    }
   ],
   "source": [
    "res_stops_times_trips = pd.merge( res_stop_times, all_trips, on = ['trip_id' ] )\n",
    "res_x = res_stops_times_trips[[\"route_id\", \"trip_id\", \"stop_sequence\", \"parent_station\"]]\n",
    "res_prior_x = res_x.copy()\n",
    "\n",
    "res_x['prior_stop_sequence'] = res_x['stop_sequence'] - 1\n",
    "res_x"
   ]
  },
  {
   "cell_type": "markdown",
   "id": "7d94f4f1-3b13-4385-aa28-ea17aef9abfb",
   "metadata": {},
   "source": [
    "It is easier to rename some columns of the dataframe representing the prior stop of each trip before doing the join rather than accept the default column renaming by pandas."
   ]
  },
  {
   "cell_type": "code",
   "execution_count": 97,
   "id": "773ba169-aa2e-4198-812e-2cb4faca29be",
   "metadata": {},
   "outputs": [],
   "source": [
    "res_prior_x.rename(columns = {'parent_station' : 'prior_station' , \n",
    "                              'stop_sequence' : 'prior_stop_sequence' ,\n",
    "                              'route_id' : 'prior_route_id'\n",
    "                             }, inplace = True)\n",
    "res_prior_x = res_prior_x[['trip_id', 'prior_stop_sequence', 'prior_station']]"
   ]
  },
  {
   "cell_type": "code",
   "execution_count": 98,
   "id": "7c4244dc-f199-48aa-9536-5efd4b1e7984",
   "metadata": {},
   "outputs": [
    {
     "data": {
      "text/html": [
       "<div>\n",
       "<style scoped>\n",
       "    .dataframe tbody tr th:only-of-type {\n",
       "        vertical-align: middle;\n",
       "    }\n",
       "\n",
       "    .dataframe tbody tr th {\n",
       "        vertical-align: top;\n",
       "    }\n",
       "\n",
       "    .dataframe thead th {\n",
       "        text-align: right;\n",
       "    }\n",
       "</style>\n",
       "<table border=\"1\" class=\"dataframe\">\n",
       "  <thead>\n",
       "    <tr style=\"text-align: right;\">\n",
       "      <th></th>\n",
       "      <th>route_id</th>\n",
       "      <th>trip_id</th>\n",
       "      <th>stop_sequence</th>\n",
       "      <th>parent_station</th>\n",
       "      <th>prior_stop_sequence</th>\n",
       "      <th>prior_station</th>\n",
       "    </tr>\n",
       "  </thead>\n",
       "  <tbody>\n",
       "    <tr>\n",
       "      <th>0</th>\n",
       "      <td>1</td>\n",
       "      <td>AFA21GEN-1037-Sunday-00_000600_1..S03R</td>\n",
       "      <td>2</td>\n",
       "      <td>103</td>\n",
       "      <td>1</td>\n",
       "      <td>101</td>\n",
       "    </tr>\n",
       "    <tr>\n",
       "      <th>1</th>\n",
       "      <td>1</td>\n",
       "      <td>AFA21GEN-1037-Sunday-00_000600_1..S03R</td>\n",
       "      <td>3</td>\n",
       "      <td>104</td>\n",
       "      <td>2</td>\n",
       "      <td>103</td>\n",
       "    </tr>\n",
       "    <tr>\n",
       "      <th>2</th>\n",
       "      <td>1</td>\n",
       "      <td>AFA21GEN-1037-Sunday-00_000600_1..S03R</td>\n",
       "      <td>4</td>\n",
       "      <td>106</td>\n",
       "      <td>3</td>\n",
       "      <td>104</td>\n",
       "    </tr>\n",
       "    <tr>\n",
       "      <th>3</th>\n",
       "      <td>1</td>\n",
       "      <td>AFA21GEN-1037-Sunday-00_000600_1..S03R</td>\n",
       "      <td>5</td>\n",
       "      <td>107</td>\n",
       "      <td>4</td>\n",
       "      <td>106</td>\n",
       "    </tr>\n",
       "    <tr>\n",
       "      <th>4</th>\n",
       "      <td>1</td>\n",
       "      <td>AFA21GEN-1037-Sunday-00_000600_1..S03R</td>\n",
       "      <td>6</td>\n",
       "      <td>108</td>\n",
       "      <td>5</td>\n",
       "      <td>107</td>\n",
       "    </tr>\n",
       "  </tbody>\n",
       "</table>\n",
       "</div>"
      ],
      "text/plain": [
       "  route_id                                 trip_id  stop_sequence  \\\n",
       "0        1  AFA21GEN-1037-Sunday-00_000600_1..S03R              2   \n",
       "1        1  AFA21GEN-1037-Sunday-00_000600_1..S03R              3   \n",
       "2        1  AFA21GEN-1037-Sunday-00_000600_1..S03R              4   \n",
       "3        1  AFA21GEN-1037-Sunday-00_000600_1..S03R              5   \n",
       "4        1  AFA21GEN-1037-Sunday-00_000600_1..S03R              6   \n",
       "\n",
       "  parent_station  prior_stop_sequence prior_station  \n",
       "0            103                    1           101  \n",
       "1            104                    2           103  \n",
       "2            106                    3           104  \n",
       "3            107                    4           106  \n",
       "4            108                    5           107  "
      ]
     },
     "execution_count": 98,
     "metadata": {},
     "output_type": "execute_result"
    }
   ],
   "source": [
    "res_edges = pd.merge(res_x, res_prior_x, on = ['trip_id', 'prior_stop_sequence'] )\n",
    "res_edges.head()"
   ]
  },
  {
   "cell_type": "markdown",
   "id": "282929f5-d616-4fa0-9632-19853ba72512",
   "metadata": {},
   "source": [
    "The dataframe `res_edges` contains multiple instances of directed edges.  The multiplicity arises from the multiple trips for the same same-pair.  Moreover, we are interested in undirected edges, so we use lexicographic sort on the parent station names to ensure each edge only appears once.\n",
    "\n",
    "In the code below, we construct derived columns `parent_a` and `parent_b` to always means either the parent station or the prior station in which `parent_a` is always lexicographically before `parent_b`.  This ensures that all edges are represented in the unlikely chance that some trips go from station X to station Y but not vice versa.  The unique set of pairs of (`parent_a`, `parent_b`) stop_ids represent all undirected edges in the NYC Subway network."
   ]
  },
  {
   "cell_type": "code",
   "execution_count": 99,
   "id": "3edf784d-5895-4805-a4b6-1ac468c1deb5",
   "metadata": {},
   "outputs": [],
   "source": [
    "sel_res_edges = res_edges[[\"parent_station\", \"prior_station\", \"route_id\"]].copy()\n",
    "\n",
    "sel_res_edges['parent_a'] = np.where( sel_res_edges['parent_station'] < sel_res_edges['prior_station'], \n",
    "                                         sel_res_edges['parent_station'] ,\n",
    "                                         sel_res_edges['prior_station'] )\n",
    "\n",
    "sel_res_edges['parent_b'] = np.where( sel_res_edges['parent_station'] > sel_res_edges['prior_station'], \n",
    "                                         sel_res_edges['parent_station'] ,\n",
    "                                         sel_res_edges['prior_station'] )\n",
    "\n",
    "no_dups_res_edges = sel_res_edges[['parent_a', 'parent_b']].drop_duplicates(keep = 'last')"
   ]
  },
  {
   "cell_type": "markdown",
   "id": "75b2a7ad-d241-4735-8f9e-3443bd59a7c3",
   "metadata": {},
   "source": [
    "Besides undirected edges, we may need to know the name of the route joining each edge.  When a pair of nodes have multiple routes connecting them, the same unidirected edge appears multiple times.  This is stored in the dataframe `no_dups_route_edges`.   The route_id becomes an edge attribute, and the resulting graph becomes a multigraph."
   ]
  },
  {
   "cell_type": "code",
   "execution_count": 100,
   "id": "6bce13db-a526-4447-b588-58f94af6e21a",
   "metadata": {},
   "outputs": [
    {
     "data": {
      "text/html": [
       "<div>\n",
       "<style scoped>\n",
       "    .dataframe tbody tr th:only-of-type {\n",
       "        vertical-align: middle;\n",
       "    }\n",
       "\n",
       "    .dataframe tbody tr th {\n",
       "        vertical-align: top;\n",
       "    }\n",
       "\n",
       "    .dataframe thead th {\n",
       "        text-align: right;\n",
       "    }\n",
       "</style>\n",
       "<table border=\"1\" class=\"dataframe\">\n",
       "  <thead>\n",
       "    <tr style=\"text-align: right;\">\n",
       "      <th></th>\n",
       "      <th>parent_a</th>\n",
       "      <th>parent_b</th>\n",
       "      <th>route_id</th>\n",
       "    </tr>\n",
       "  </thead>\n",
       "  <tbody>\n",
       "    <tr>\n",
       "      <th>69693</th>\n",
       "      <td>139</td>\n",
       "      <td>142</td>\n",
       "      <td>1</td>\n",
       "    </tr>\n",
       "    <tr>\n",
       "      <th>69694</th>\n",
       "      <td>138</td>\n",
       "      <td>139</td>\n",
       "      <td>1</td>\n",
       "    </tr>\n",
       "    <tr>\n",
       "      <th>69695</th>\n",
       "      <td>137</td>\n",
       "      <td>138</td>\n",
       "      <td>1</td>\n",
       "    </tr>\n",
       "    <tr>\n",
       "      <th>69696</th>\n",
       "      <td>136</td>\n",
       "      <td>137</td>\n",
       "      <td>1</td>\n",
       "    </tr>\n",
       "    <tr>\n",
       "      <th>69697</th>\n",
       "      <td>135</td>\n",
       "      <td>136</td>\n",
       "      <td>1</td>\n",
       "    </tr>\n",
       "    <tr>\n",
       "      <th>...</th>\n",
       "      <td>...</td>\n",
       "      <td>...</td>\n",
       "      <td>...</td>\n",
       "    </tr>\n",
       "    <tr>\n",
       "      <th>522459</th>\n",
       "      <td>S26</td>\n",
       "      <td>S27</td>\n",
       "      <td>SI</td>\n",
       "    </tr>\n",
       "    <tr>\n",
       "      <th>522460</th>\n",
       "      <td>S27</td>\n",
       "      <td>S28</td>\n",
       "      <td>SI</td>\n",
       "    </tr>\n",
       "    <tr>\n",
       "      <th>522461</th>\n",
       "      <td>S28</td>\n",
       "      <td>S29</td>\n",
       "      <td>SI</td>\n",
       "    </tr>\n",
       "    <tr>\n",
       "      <th>522462</th>\n",
       "      <td>S29</td>\n",
       "      <td>S30</td>\n",
       "      <td>SI</td>\n",
       "    </tr>\n",
       "    <tr>\n",
       "      <th>522463</th>\n",
       "      <td>S30</td>\n",
       "      <td>S31</td>\n",
       "      <td>SI</td>\n",
       "    </tr>\n",
       "  </tbody>\n",
       "</table>\n",
       "<p>1047 rows × 3 columns</p>\n",
       "</div>"
      ],
      "text/plain": [
       "       parent_a parent_b route_id\n",
       "69693       139      142        1\n",
       "69694       138      139        1\n",
       "69695       137      138        1\n",
       "69696       136      137        1\n",
       "69697       135      136        1\n",
       "...         ...      ...      ...\n",
       "522459      S26      S27       SI\n",
       "522460      S27      S28       SI\n",
       "522461      S28      S29       SI\n",
       "522462      S29      S30       SI\n",
       "522463      S30      S31       SI\n",
       "\n",
       "[1047 rows x 3 columns]"
      ]
     },
     "execution_count": 100,
     "metadata": {},
     "output_type": "execute_result"
    }
   ],
   "source": [
    "no_dups_route_edges = sel_res_edges[['parent_a', 'parent_b', 'route_id']].drop_duplicates(keep = 'last')\n",
    "no_dups_route_edges"
   ]
  },
  {
   "cell_type": "code",
   "execution_count": null,
   "id": "d849d46f-ee15-45ec-a299-a6ec7afee70e",
   "metadata": {},
   "outputs": [],
   "source": []
  },
  {
   "cell_type": "code",
   "execution_count": 101,
   "id": "9e52fcaf-2b38-4286-85bd-d072714ac8a2",
   "metadata": {},
   "outputs": [
    {
     "data": {
      "text/html": [
       "<div>\n",
       "<style scoped>\n",
       "    .dataframe tbody tr th:only-of-type {\n",
       "        vertical-align: middle;\n",
       "    }\n",
       "\n",
       "    .dataframe tbody tr th {\n",
       "        vertical-align: top;\n",
       "    }\n",
       "\n",
       "    .dataframe thead th {\n",
       "        text-align: right;\n",
       "    }\n",
       "</style>\n",
       "<table border=\"1\" class=\"dataframe\">\n",
       "  <thead>\n",
       "    <tr style=\"text-align: right;\">\n",
       "      <th></th>\n",
       "      <th>parent_station</th>\n",
       "      <th>prior_station</th>\n",
       "      <th>route_id</th>\n",
       "      <th>parent_a</th>\n",
       "      <th>parent_b</th>\n",
       "    </tr>\n",
       "  </thead>\n",
       "  <tbody>\n",
       "    <tr>\n",
       "      <th>0</th>\n",
       "      <td>103</td>\n",
       "      <td>101</td>\n",
       "      <td>1</td>\n",
       "      <td>101</td>\n",
       "      <td>103</td>\n",
       "    </tr>\n",
       "    <tr>\n",
       "      <th>1</th>\n",
       "      <td>104</td>\n",
       "      <td>103</td>\n",
       "      <td>1</td>\n",
       "      <td>103</td>\n",
       "      <td>104</td>\n",
       "    </tr>\n",
       "    <tr>\n",
       "      <th>2</th>\n",
       "      <td>106</td>\n",
       "      <td>104</td>\n",
       "      <td>1</td>\n",
       "      <td>104</td>\n",
       "      <td>106</td>\n",
       "    </tr>\n",
       "    <tr>\n",
       "      <th>3</th>\n",
       "      <td>107</td>\n",
       "      <td>106</td>\n",
       "      <td>1</td>\n",
       "      <td>106</td>\n",
       "      <td>107</td>\n",
       "    </tr>\n",
       "    <tr>\n",
       "      <th>4</th>\n",
       "      <td>108</td>\n",
       "      <td>107</td>\n",
       "      <td>1</td>\n",
       "      <td>107</td>\n",
       "      <td>108</td>\n",
       "    </tr>\n",
       "    <tr>\n",
       "      <th>...</th>\n",
       "      <td>...</td>\n",
       "      <td>...</td>\n",
       "      <td>...</td>\n",
       "      <td>...</td>\n",
       "      <td>...</td>\n",
       "    </tr>\n",
       "    <tr>\n",
       "      <th>522459</th>\n",
       "      <td>S27</td>\n",
       "      <td>S26</td>\n",
       "      <td>SI</td>\n",
       "      <td>S26</td>\n",
       "      <td>S27</td>\n",
       "    </tr>\n",
       "    <tr>\n",
       "      <th>522460</th>\n",
       "      <td>S28</td>\n",
       "      <td>S27</td>\n",
       "      <td>SI</td>\n",
       "      <td>S27</td>\n",
       "      <td>S28</td>\n",
       "    </tr>\n",
       "    <tr>\n",
       "      <th>522461</th>\n",
       "      <td>S29</td>\n",
       "      <td>S28</td>\n",
       "      <td>SI</td>\n",
       "      <td>S28</td>\n",
       "      <td>S29</td>\n",
       "    </tr>\n",
       "    <tr>\n",
       "      <th>522462</th>\n",
       "      <td>S30</td>\n",
       "      <td>S29</td>\n",
       "      <td>SI</td>\n",
       "      <td>S29</td>\n",
       "      <td>S30</td>\n",
       "    </tr>\n",
       "    <tr>\n",
       "      <th>522463</th>\n",
       "      <td>S31</td>\n",
       "      <td>S30</td>\n",
       "      <td>SI</td>\n",
       "      <td>S30</td>\n",
       "      <td>S31</td>\n",
       "    </tr>\n",
       "  </tbody>\n",
       "</table>\n",
       "<p>522464 rows × 5 columns</p>\n",
       "</div>"
      ],
      "text/plain": [
       "       parent_station prior_station route_id parent_a parent_b\n",
       "0                 103           101        1      101      103\n",
       "1                 104           103        1      103      104\n",
       "2                 106           104        1      104      106\n",
       "3                 107           106        1      106      107\n",
       "4                 108           107        1      107      108\n",
       "...               ...           ...      ...      ...      ...\n",
       "522459            S27           S26       SI      S26      S27\n",
       "522460            S28           S27       SI      S27      S28\n",
       "522461            S29           S28       SI      S28      S29\n",
       "522462            S30           S29       SI      S29      S30\n",
       "522463            S31           S30       SI      S30      S31\n",
       "\n",
       "[522464 rows x 5 columns]"
      ]
     },
     "execution_count": 101,
     "metadata": {},
     "output_type": "execute_result"
    }
   ],
   "source": [
    "sel_res_edges"
   ]
  },
  {
   "cell_type": "code",
   "execution_count": 102,
   "id": "35993395-5090-4fb6-a7cd-cdbbc2054b54",
   "metadata": {},
   "outputs": [
    {
     "data": {
      "text/html": [
       "<div>\n",
       "<style scoped>\n",
       "    .dataframe tbody tr th:only-of-type {\n",
       "        vertical-align: middle;\n",
       "    }\n",
       "\n",
       "    .dataframe tbody tr th {\n",
       "        vertical-align: top;\n",
       "    }\n",
       "\n",
       "    .dataframe thead th {\n",
       "        text-align: right;\n",
       "    }\n",
       "</style>\n",
       "<table border=\"1\" class=\"dataframe\">\n",
       "  <thead>\n",
       "    <tr style=\"text-align: right;\">\n",
       "      <th></th>\n",
       "      <th>parent_a</th>\n",
       "      <th>parent_b</th>\n",
       "    </tr>\n",
       "  </thead>\n",
       "  <tbody>\n",
       "    <tr>\n",
       "      <th>69693</th>\n",
       "      <td>139</td>\n",
       "      <td>142</td>\n",
       "    </tr>\n",
       "    <tr>\n",
       "      <th>69694</th>\n",
       "      <td>138</td>\n",
       "      <td>139</td>\n",
       "    </tr>\n",
       "    <tr>\n",
       "      <th>69695</th>\n",
       "      <td>137</td>\n",
       "      <td>138</td>\n",
       "    </tr>\n",
       "    <tr>\n",
       "      <th>69713</th>\n",
       "      <td>119</td>\n",
       "      <td>120</td>\n",
       "    </tr>\n",
       "    <tr>\n",
       "      <th>69714</th>\n",
       "      <td>118</td>\n",
       "      <td>119</td>\n",
       "    </tr>\n",
       "  </tbody>\n",
       "</table>\n",
       "</div>"
      ],
      "text/plain": [
       "      parent_a parent_b\n",
       "69693      139      142\n",
       "69694      138      139\n",
       "69695      137      138\n",
       "69713      119      120\n",
       "69714      118      119"
      ]
     },
     "execution_count": 102,
     "metadata": {},
     "output_type": "execute_result"
    }
   ],
   "source": [
    "no_dups_res_edges.head()"
   ]
  },
  {
   "cell_type": "markdown",
   "id": "df4dd7c8-2845-4cbc-b9e8-119b69e0af9c",
   "metadata": {},
   "source": [
    "The above procedure shows over 522 thousand rows which collapse to a set of 573 edges.  "
   ]
  },
  {
   "cell_type": "code",
   "execution_count": 103,
   "id": "7c6abd18-3cc9-482b-9917-d41a91a8a96b",
   "metadata": {},
   "outputs": [
    {
     "data": {
      "text/plain": [
       "(522464, 573)"
      ]
     },
     "execution_count": 103,
     "metadata": {},
     "output_type": "execute_result"
    }
   ],
   "source": [
    "len(sel_res_edges), len(no_dups_res_edges)"
   ]
  },
  {
   "cell_type": "markdown",
   "id": "dca28eeb-fd6b-414c-b009-bb29b7c4c78c",
   "metadata": {},
   "source": [
    "There are 496 NYC subway stops extracted from the above list of edges.  These stops are collected in the dataframe `nodes_used` below."
   ]
  },
  {
   "cell_type": "code",
   "execution_count": 104,
   "id": "ad255fc0-3138-40dd-929e-d6b7993afbd3",
   "metadata": {},
   "outputs": [],
   "source": [
    "nodes_used_ids =  pd.DataFrame( np.unique( no_dups_res_edges[['parent_a', 'parent_b']].values ) , columns = [\"stop_id\" ])"
   ]
  },
  {
   "cell_type": "code",
   "execution_count": 105,
   "id": "833c6ea8-ca1a-4ead-bc53-8047d3942ba1",
   "metadata": {},
   "outputs": [
    {
     "data": {
      "text/plain": [
       "496"
      ]
     },
     "execution_count": 105,
     "metadata": {},
     "output_type": "execute_result"
    }
   ],
   "source": [
    "len(nodes_used_ids)"
   ]
  },
  {
   "cell_type": "code",
   "execution_count": 106,
   "id": "74d8707a-358a-4475-affe-1a6a2e79ba9e",
   "metadata": {},
   "outputs": [],
   "source": [
    "check_unused_nodes = pd.merge(all_stops, nodes_used_ids, on = ['stop_id'] , how = 'left', indicator = True )"
   ]
  },
  {
   "cell_type": "code",
   "execution_count": 107,
   "id": "fe7c58f9-f4bd-4e77-a65b-c5612a9811a7",
   "metadata": {},
   "outputs": [
    {
     "data": {
      "text/html": [
       "<div>\n",
       "<style scoped>\n",
       "    .dataframe tbody tr th:only-of-type {\n",
       "        vertical-align: middle;\n",
       "    }\n",
       "\n",
       "    .dataframe tbody tr th {\n",
       "        vertical-align: top;\n",
       "    }\n",
       "\n",
       "    .dataframe thead th {\n",
       "        text-align: right;\n",
       "    }\n",
       "</style>\n",
       "<table border=\"1\" class=\"dataframe\">\n",
       "  <thead>\n",
       "    <tr style=\"text-align: right;\">\n",
       "      <th></th>\n",
       "      <th>stop_id</th>\n",
       "      <th>stop_name</th>\n",
       "      <th>stop_lat</th>\n",
       "      <th>stop_lon</th>\n",
       "      <th>location_type</th>\n",
       "      <th>parent_station</th>\n",
       "      <th>_merge</th>\n",
       "    </tr>\n",
       "  </thead>\n",
       "  <tbody>\n",
       "    <tr>\n",
       "      <th>111</th>\n",
       "      <td>140</td>\n",
       "      <td>South Ferry Loop</td>\n",
       "      <td>40.701411</td>\n",
       "      <td>-74.013205</td>\n",
       "      <td>1</td>\n",
       "      <td>NaN</td>\n",
       "      <td>left_only</td>\n",
       "    </tr>\n",
       "    <tr>\n",
       "      <th>1086</th>\n",
       "      <td>H19</td>\n",
       "      <td>Broad Channel</td>\n",
       "      <td>40.609014</td>\n",
       "      <td>-73.816024</td>\n",
       "      <td>1</td>\n",
       "      <td>NaN</td>\n",
       "      <td>left_only</td>\n",
       "    </tr>\n",
       "    <tr>\n",
       "      <th>1293</th>\n",
       "      <td>N12</td>\n",
       "      <td>S.B. Coney Island</td>\n",
       "      <td>40.577422</td>\n",
       "      <td>-73.981233</td>\n",
       "      <td>1</td>\n",
       "      <td>NaN</td>\n",
       "      <td>left_only</td>\n",
       "    </tr>\n",
       "  </tbody>\n",
       "</table>\n",
       "</div>"
      ],
      "text/plain": [
       "     stop_id          stop_name   stop_lat   stop_lon  location_type  \\\n",
       "111      140   South Ferry Loop  40.701411 -74.013205              1   \n",
       "1086     H19      Broad Channel  40.609014 -73.816024              1   \n",
       "1293     N12  S.B. Coney Island  40.577422 -73.981233              1   \n",
       "\n",
       "     parent_station     _merge  \n",
       "111             NaN  left_only  \n",
       "1086            NaN  left_only  \n",
       "1293            NaN  left_only  "
      ]
     },
     "execution_count": 107,
     "metadata": {},
     "output_type": "execute_result"
    }
   ],
   "source": [
    "check_unused_nodes[ (check_unused_nodes['location_type'] == 1) & \n",
    "                   ( check_unused_nodes['_merge'] == 'left_only' )]"
   ]
  },
  {
   "cell_type": "markdown",
   "id": "d3a9558e-d745-4210-b5d0-3c6d4b82be34",
   "metadata": {},
   "source": [
    "3 station stops are omitted from the network but included in the raw GTFS files.  They appear to have no service documented in the `stop_times.txt`.   They are outliers and pose no issues for the following reasons:\n",
    "\n",
    "*  Stop 140 `South Ferry Loop` is defunct since 2017 and transferable from `Whitehall Street - South Ferry` R27.\n",
    "*  Stop H19 Broad Channel on the A line is located on a small island in Jamaica Bay and is the 2nd least used station in the subway system.\n",
    "*  Stop N12 refers to Coney Island-Stillwell Avenue Station which is a major terminus.  However, that stop coincides with the D train station D43 which is active."
   ]
  },
  {
   "cell_type": "markdown",
   "id": "e93489d2-880d-481d-9773-176d80bb61fd",
   "metadata": {},
   "source": [
    "Now we supplement `nodes_used` with longitude, latitude and other categorical metadata."
   ]
  },
  {
   "cell_type": "code",
   "execution_count": 108,
   "id": "77ff4ceb-22b8-4d6d-b013-8ececfb17ba7",
   "metadata": {},
   "outputs": [
    {
     "data": {
      "text/html": [
       "<div>\n",
       "<style scoped>\n",
       "    .dataframe tbody tr th:only-of-type {\n",
       "        vertical-align: middle;\n",
       "    }\n",
       "\n",
       "    .dataframe tbody tr th {\n",
       "        vertical-align: top;\n",
       "    }\n",
       "\n",
       "    .dataframe thead th {\n",
       "        text-align: right;\n",
       "    }\n",
       "</style>\n",
       "<table border=\"1\" class=\"dataframe\">\n",
       "  <thead>\n",
       "    <tr style=\"text-align: right;\">\n",
       "      <th></th>\n",
       "      <th>stop_id</th>\n",
       "      <th>stop_name</th>\n",
       "      <th>stop_lat</th>\n",
       "      <th>stop_lon</th>\n",
       "    </tr>\n",
       "  </thead>\n",
       "  <tbody>\n",
       "    <tr>\n",
       "      <th>0</th>\n",
       "      <td>101</td>\n",
       "      <td>Van Cortlandt Park-242 St</td>\n",
       "      <td>40.889248</td>\n",
       "      <td>-73.898583</td>\n",
       "    </tr>\n",
       "    <tr>\n",
       "      <th>1</th>\n",
       "      <td>103</td>\n",
       "      <td>238 St</td>\n",
       "      <td>40.884667</td>\n",
       "      <td>-73.900870</td>\n",
       "    </tr>\n",
       "    <tr>\n",
       "      <th>2</th>\n",
       "      <td>104</td>\n",
       "      <td>231 St</td>\n",
       "      <td>40.878856</td>\n",
       "      <td>-73.904834</td>\n",
       "    </tr>\n",
       "    <tr>\n",
       "      <th>3</th>\n",
       "      <td>106</td>\n",
       "      <td>Marble Hill-225 St</td>\n",
       "      <td>40.874561</td>\n",
       "      <td>-73.909831</td>\n",
       "    </tr>\n",
       "    <tr>\n",
       "      <th>4</th>\n",
       "      <td>107</td>\n",
       "      <td>215 St</td>\n",
       "      <td>40.869444</td>\n",
       "      <td>-73.915279</td>\n",
       "    </tr>\n",
       "    <tr>\n",
       "      <th>...</th>\n",
       "      <td>...</td>\n",
       "      <td>...</td>\n",
       "      <td>...</td>\n",
       "      <td>...</td>\n",
       "    </tr>\n",
       "    <tr>\n",
       "      <th>491</th>\n",
       "      <td>S27</td>\n",
       "      <td>Grasmere</td>\n",
       "      <td>40.603117</td>\n",
       "      <td>-74.084087</td>\n",
       "    </tr>\n",
       "    <tr>\n",
       "      <th>492</th>\n",
       "      <td>S28</td>\n",
       "      <td>Clifton</td>\n",
       "      <td>40.621319</td>\n",
       "      <td>-74.071402</td>\n",
       "    </tr>\n",
       "    <tr>\n",
       "      <th>493</th>\n",
       "      <td>S29</td>\n",
       "      <td>Stapleton</td>\n",
       "      <td>40.627915</td>\n",
       "      <td>-74.075162</td>\n",
       "    </tr>\n",
       "    <tr>\n",
       "      <th>494</th>\n",
       "      <td>S30</td>\n",
       "      <td>Tompkinsville</td>\n",
       "      <td>40.636949</td>\n",
       "      <td>-74.074835</td>\n",
       "    </tr>\n",
       "    <tr>\n",
       "      <th>495</th>\n",
       "      <td>S31</td>\n",
       "      <td>St George</td>\n",
       "      <td>40.643748</td>\n",
       "      <td>-74.073643</td>\n",
       "    </tr>\n",
       "  </tbody>\n",
       "</table>\n",
       "<p>496 rows × 4 columns</p>\n",
       "</div>"
      ],
      "text/plain": [
       "    stop_id                  stop_name   stop_lat   stop_lon\n",
       "0       101  Van Cortlandt Park-242 St  40.889248 -73.898583\n",
       "1       103                     238 St  40.884667 -73.900870\n",
       "2       104                     231 St  40.878856 -73.904834\n",
       "3       106         Marble Hill-225 St  40.874561 -73.909831\n",
       "4       107                     215 St  40.869444 -73.915279\n",
       "..      ...                        ...        ...        ...\n",
       "491     S27                   Grasmere  40.603117 -74.084087\n",
       "492     S28                    Clifton  40.621319 -74.071402\n",
       "493     S29                  Stapleton  40.627915 -74.075162\n",
       "494     S30              Tompkinsville  40.636949 -74.074835\n",
       "495     S31                  St George  40.643748 -74.073643\n",
       "\n",
       "[496 rows x 4 columns]"
      ]
     },
     "execution_count": 108,
     "metadata": {},
     "output_type": "execute_result"
    }
   ],
   "source": [
    "nodes_used = pd.merge(nodes_used_ids, \n",
    "                      all_stops, on = ['stop_id'], how = 'inner' )[['stop_id', 'stop_name', 'stop_lat', 'stop_lon']]\n",
    "nodes_used"
   ]
  },
  {
   "cell_type": "markdown",
   "id": "b98b5a25-0326-48bb-9d90-f25e74490051",
   "metadata": {},
   "source": [
    "## Step 3.  Building the Network\n",
    "\n",
    "Several graphs are needed to complete the analyses.\n",
    "\n",
    "*  A graph $G1$ using the undirected and unlabeled edges.  Nodes are labeled with longitude, latitude and station name.\n",
    "\n",
    "*  A multi-graph $G2$ using the undirected edges and labeled edges.  Nodes are labeled with longitude, latitude and station name.\n",
    "\n",
    "*  A graph $G3$ will link stations where transfers are allowed.   Here some nodes can have borough, multiple station names, longitudes and latitudes.  Edges remain undirected and unlabeled.  "
   ]
  },
  {
   "cell_type": "code",
   "execution_count": 109,
   "id": "7fe960b3-3a6f-48b2-8424-0d643fd9e291",
   "metadata": {},
   "outputs": [],
   "source": [
    "G1 = nx.Graph()\n",
    "\n",
    "\n",
    "for r, d in nodes_used.iterrows():\n",
    "    G1.add_node(d[\"stop_id\"], stop_name = d[\"stop_name\"] , lat = d[\"stop_lat\"] , lon = d[\"stop_lon\"])\n",
    "\n",
    "    \n",
    "for r, d in no_dups_res_edges.iterrows():\n",
    "    G1.add_edge(d['parent_a'], d['parent_b'])"
   ]
  },
  {
   "cell_type": "code",
   "execution_count": 110,
   "id": "fb67569d-95a6-446a-b61f-89446c529e40",
   "metadata": {},
   "outputs": [],
   "source": [
    "\n",
    "pos = {}\n",
    "\n",
    "for r, d in nodes_used.iterrows():\n",
    "    lon = float(d[\"stop_lon\"] )\n",
    "    lat = float(d[\"stop_lat\"] )\n",
    "    node = d[\"stop_id\"]\n",
    "    pos.update( { node : ( lon, lat)   } )"
   ]
  },
  {
   "cell_type": "code",
   "execution_count": 111,
   "id": "7353fec9-2494-4efd-93d8-267cd7d2f4b4",
   "metadata": {},
   "outputs": [
    {
     "data": {
      "image/png": "[encoded data removed]",
      "text/plain": [
       "<Figure size 864x720 with 1 Axes>"
      ]
     },
     "metadata": {},
     "output_type": "display_data"
    }
   ],
   "source": [
    "plt.figure(figsize = (12, 10))\n",
    "plt.tight_layout()\n",
    "plt.axis(\"off\")\n",
    "\n",
    "plt.suptitle(\"NYC Subway Network\", y = 1.05 ,fontsize= 18)\n",
    "\n",
    "plt.title(\"\"\"Nodes in Blue\n",
    "Edges in Red\n",
    "Individual Service lines not broken out here\n",
    "\"\"\", fontsize=12)\n",
    "\n",
    "\n",
    "\n",
    "nx.draw_networkx_edges(G1, pos = pos, \n",
    "                       width = 1, \n",
    "                       edge_color = 'red', \n",
    "                       alpha = 0.6 )\n",
    "\n",
    "nx.draw(G1, pos = pos ,   \n",
    "        with_labels = False ,\n",
    "        alpha = 0.5 ,\n",
    "        node_size = 20, \n",
    "        node_color = 'blue' )\n"
   ]
  },
  {
   "cell_type": "code",
   "execution_count": 112,
   "id": "094c338c-072a-4eab-ac33-61bfd882d9a4",
   "metadata": {},
   "outputs": [],
   "source": [
    "nx.write_graphml(G1, \"Subway_G1.graphml\")"
   ]
  },
  {
   "cell_type": "markdown",
   "id": "4b538dcf-e53e-48fc-b7bf-e2ec5479bd0a",
   "metadata": {},
   "source": [
    "Let's verify G1 is valid when restored from file."
   ]
  },
  {
   "cell_type": "code",
   "execution_count": 113,
   "id": "e659b2ef-7361-4d77-987c-79d89e9d7790",
   "metadata": {},
   "outputs": [],
   "source": [
    "G1_test = nx.read_graphml(\"Subway_G1.graphml\")"
   ]
  },
  {
   "cell_type": "code",
   "execution_count": 114,
   "id": "75f065ce-7a66-461a-872b-d292e1d47a3c",
   "metadata": {},
   "outputs": [
    {
     "data": {
      "image/png": "[encoded data removed]",
      "text/plain": [
       "<Figure size 864x720 with 1 Axes>"
      ]
     },
     "metadata": {},
     "output_type": "display_data"
    }
   ],
   "source": [
    "plt.figure(figsize = (12, 10))\n",
    "plt.tight_layout()\n",
    "plt.axis(\"off\")\n",
    "\n",
    "plt.suptitle(\"NYC Subway Network - Loaded from Graphml\", y = 1.05 ,fontsize= 18)\n",
    "\n",
    "plt.title(\"\"\"Nodes in Blue\n",
    "Edges in Red\n",
    "Individual Service lines not broken out here\n",
    "\"\"\", fontsize=12)\n",
    "\n",
    "\n",
    "\n",
    "nx.draw_networkx_edges(G1_test, pos = pos, \n",
    "                       width = 1, \n",
    "                       edge_color = 'red', \n",
    "                       alpha = 0.6 )\n",
    "\n",
    "nx.draw(G1_test, pos = pos ,   \n",
    "        with_labels = False ,\n",
    "        alpha = 0.5 ,\n",
    "        node_size = 20, \n",
    "        node_color = 'blue' )"
   ]
  },
  {
   "cell_type": "markdown",
   "id": "43239bf0-7cd7-46bf-ad62-c3508b3922ca",
   "metadata": {},
   "source": [
    "If the above graph looks like the NYC subway, the graph was correctly saved to graphml file."
   ]
  },
  {
   "cell_type": "markdown",
   "id": "a77fd432-dc05-4899-915a-df9c1ce2c719",
   "metadata": {},
   "source": [
    "### Adding a Multigraph with Routes\n",
    "\n",
    "We save a multigraph $G2$ in which the edges are assigned route attributes."
   ]
  },
  {
   "cell_type": "code",
   "execution_count": 115,
   "id": "052698ed-2583-461d-b722-1fbb2c6f1575",
   "metadata": {},
   "outputs": [],
   "source": [
    "G2 = nx.MultiGraph()\n",
    "\n",
    "\n",
    "for r, d in nodes_used.iterrows():\n",
    "    G2.add_node(d[\"stop_id\"], stop_name = d[\"stop_name\"] , lat = d[\"stop_lat\"] , lon = d[\"stop_lon\"])\n",
    "\n",
    "    \n",
    "for r, d in no_dups_route_edges.iterrows():\n",
    "    G2.add_edge(d['parent_a'], d['parent_b'], route_id = d['route_id'])"
   ]
  },
  {
   "cell_type": "code",
   "execution_count": 116,
   "id": "d2d01660-e39f-46d3-8e3d-0499ae516236",
   "metadata": {},
   "outputs": [
    {
     "data": {
      "image/png": "[encoded data removed]",
      "text/plain": [
       "<Figure size 864x720 with 1 Axes>"
      ]
     },
     "metadata": {},
     "output_type": "display_data"
    }
   ],
   "source": [
    "plt.figure(figsize = (12, 10))\n",
    "plt.tight_layout()\n",
    "plt.axis(\"off\")\n",
    "\n",
    "plt.suptitle(\"NYC Subway Network - MultiGraph\", y = 1.05 ,fontsize= 18)\n",
    "\n",
    "plt.title(\"\"\"Nodes in Blue\n",
    "Edges in Red\n",
    "Individual Service lines attributed\n",
    "\"\"\", fontsize=12)\n",
    "\n",
    "\n",
    "\n",
    "nx.draw_networkx_edges(G2, pos = pos, \n",
    "                       width = 1, \n",
    "                       edge_color = 'red', \n",
    "                       alpha = 0.6 )\n",
    "\n",
    "nx.draw(G2, pos = pos ,   \n",
    "        with_labels = False ,\n",
    "        alpha = 0.5 ,\n",
    "        node_size = 20, \n",
    "        node_color = 'blue' )"
   ]
  },
  {
   "cell_type": "code",
   "execution_count": 117,
   "id": "9432b47a-08e4-4eb1-8315-a5db5ae1ceb4",
   "metadata": {},
   "outputs": [],
   "source": [
    "nx.write_graphml(G2, \"Subway_G2.graphml\")"
   ]
  },
  {
   "cell_type": "code",
   "execution_count": 118,
   "id": "fec84d99-724c-4cdd-b8a0-9ac484f477d1",
   "metadata": {},
   "outputs": [
    {
     "data": {
      "text/html": [
       "<div>\n",
       "<style scoped>\n",
       "    .dataframe tbody tr th:only-of-type {\n",
       "        vertical-align: middle;\n",
       "    }\n",
       "\n",
       "    .dataframe tbody tr th {\n",
       "        vertical-align: top;\n",
       "    }\n",
       "\n",
       "    .dataframe thead th {\n",
       "        text-align: right;\n",
       "    }\n",
       "</style>\n",
       "<table border=\"1\" class=\"dataframe\">\n",
       "  <thead>\n",
       "    <tr style=\"text-align: right;\">\n",
       "      <th></th>\n",
       "      <th>stop_id</th>\n",
       "      <th>stop_name</th>\n",
       "      <th>stop_lat</th>\n",
       "      <th>stop_lon</th>\n",
       "    </tr>\n",
       "  </thead>\n",
       "  <tbody>\n",
       "    <tr>\n",
       "      <th>350</th>\n",
       "      <td>H04</td>\n",
       "      <td>Broad Channel</td>\n",
       "      <td>40.608382</td>\n",
       "      <td>-73.815925</td>\n",
       "    </tr>\n",
       "  </tbody>\n",
       "</table>\n",
       "</div>"
      ],
      "text/plain": [
       "    stop_id      stop_name   stop_lat   stop_lon\n",
       "350     H04  Broad Channel  40.608382 -73.815925"
      ]
     },
     "execution_count": 118,
     "metadata": {},
     "output_type": "execute_result"
    }
   ],
   "source": [
    "nodes_used[ nodes_used['stop_id'] == 'H04' ]"
   ]
  },
  {
   "cell_type": "code",
   "execution_count": 119,
   "id": "39e95c94-1f32-4133-89ae-5943853cebea",
   "metadata": {},
   "outputs": [
    {
     "data": {
      "text/html": [
       "<div>\n",
       "<style scoped>\n",
       "    .dataframe tbody tr th:only-of-type {\n",
       "        vertical-align: middle;\n",
       "    }\n",
       "\n",
       "    .dataframe tbody tr th {\n",
       "        vertical-align: top;\n",
       "    }\n",
       "\n",
       "    .dataframe thead th {\n",
       "        text-align: right;\n",
       "    }\n",
       "</style>\n",
       "<table border=\"1\" class=\"dataframe\">\n",
       "  <thead>\n",
       "    <tr style=\"text-align: right;\">\n",
       "      <th></th>\n",
       "      <th>parent_a</th>\n",
       "      <th>parent_b</th>\n",
       "    </tr>\n",
       "  </thead>\n",
       "  <tbody>\n",
       "    <tr>\n",
       "      <th>90171</th>\n",
       "      <td>126</td>\n",
       "      <td>127</td>\n",
       "    </tr>\n",
       "    <tr>\n",
       "      <th>100402</th>\n",
       "      <td>127</td>\n",
       "      <td>128</td>\n",
       "    </tr>\n",
       "    <tr>\n",
       "      <th>100976</th>\n",
       "      <td>123</td>\n",
       "      <td>127</td>\n",
       "    </tr>\n",
       "  </tbody>\n",
       "</table>\n",
       "</div>"
      ],
      "text/plain": [
       "       parent_a parent_b\n",
       "90171       126      127\n",
       "100402      127      128\n",
       "100976      123      127"
      ]
     },
     "execution_count": 119,
     "metadata": {},
     "output_type": "execute_result"
    }
   ],
   "source": [
    "no_dups_res_edges[ \n",
    "                 (no_dups_res_edges[\"parent_a\"] == '127') | ( no_dups_res_edges[\"parent_b\"] == \"127\") \n",
    "                 ]"
   ]
  },
  {
   "cell_type": "markdown",
   "id": "303fe1d8-7413-4883-98ff-25ded917d992",
   "metadata": {},
   "source": [
    "## Step 4 Linking Stations Together\n",
    "\n",
    "The next step is to build a graph with enriched data to which we referred above as $G3$.  \n",
    "\n",
    "### Defining Nodes\n",
    "\n",
    "To build this graph we have to define the equivalence classes\n",
    "of stations where two parent nodes $a$ and $b$ of graph $G1$ are considered equivalent $a \\sim b$ iff $a$ can reach $b$ by walking through passageways after paying toll at $a$.  We will call an equivalent class of such parent nodes a **linked station**.\n",
    "\n",
    "Most subway stations are define singleton equivalence classes.  But a few important stations are highly linked.  These typically occur in Manhattan where multiple train lines intersect.   At the linked stations, traffic is typically higher as riders often transfer between lines.  The top linked stations are:\n",
    "\n",
    "* `Times Square-42 St` where 12 lines meet.  N, Q, R, W, S, 1, 2, 3, 7, A, C, E\n",
    "* `Chambers Street, WTC, Park Place, Cortlandt` where 7 lines meet.  A, C, E, 2, 3, R, W\n",
    "* `Fulton St` in Manhattan where 8 lines meet.  A, C, J, Z, 2, 3, 4, 5\n",
    "* `Canal St` in Manhattan where 7 lines meet.  J, N, Q, R, W, Z, 6.\n",
    "\n",
    "However, we define three nodes attributes for linked stations:\n",
    "\n",
    "* `borough`  - each linked station has a well-defined borough because no parent nodes in each equivalence class always belong to one borough.\n",
    "* `ridership` - the total number of riders is reported based on turnstile entrances with the entire linked station.\n",
    "\n",
    "* no loops - no stops within a linked station are stops along the same route.  Otherwise, you would be able to both walk and ride between two stops within the subway system.\n",
    "\n",
    "* `name` the linked station node identifier is ambiguous unless the equivalence class is a singleton.  \n",
    "     +  For a singleton class, we define the linked station identifier to be the `stop_id` and the name to be the `stop_name`.\n",
    "     +  For a linked station with multiple parent stations, we use the string `LINK_<xxx>` where <xxx> denotes the `stop_id` of the first station lexicographically.   Example:  `LINK_127` for the linked station at Times Square-42 Street composed of `127`, `725`, `902` , `A27`, `R16`.  We will use the stop name of the first stop in this eqivalence class:  `Times Sq-42 St`.\n",
    "    \n",
    "### Edges\n",
    "\n",
    "We define an edge $e$ to exist in $G3$ between two linked stations $A$ and $B$ if there exist two parent stations $a$ , $b$ belonging to $A$ and $B$ respectively where $a$ is directly connected to $b$ as consecutive stops on some train route.  \n",
    "    \n",
    "It is easy to see that a path in $G3$ allows a rider to get from subway stop to another in New York City in a connected path with at most one transfer at each non-singleton linked station.\n",
    "  \n",
    "The code below implements $G3$ according to the description above.\n",
    "    "
   ]
  },
  {
   "cell_type": "markdown",
   "id": "a8490118-d120-4bf8-858c-941c8806d925",
   "metadata": {},
   "source": [
    "Since the ridership data does not map to `stop_id` in the GTFS specification, we mapped each linked station manually to the GTFS parent stops by comparing the station names.  Unfortunately, GTFS station names are not unique.  There are many cases of stations which the same names.  The ridership linked stations identify all subways lines which allows us to manually compare the map between the data files.   \n",
    "In rare cases, a train route passes through a station but the ridership dataset does not mention the train route.  For example, the N train passes through the R subway at Court Street/Borough Hall.\n",
    "\n"
   ]
  },
  {
   "cell_type": "code",
   "execution_count": 273,
   "id": "586cf23b-c3c4-4bd5-93e0-0928ad6fdd87",
   "metadata": {},
   "outputs": [
    {
     "data": {
      "text/html": [
       "<div>\n",
       "<style scoped>\n",
       "    .dataframe tbody tr th:only-of-type {\n",
       "        vertical-align: middle;\n",
       "    }\n",
       "\n",
       "    .dataframe tbody tr th {\n",
       "        vertical-align: top;\n",
       "    }\n",
       "\n",
       "    .dataframe thead th {\n",
       "        text-align: right;\n",
       "    }\n",
       "</style>\n",
       "<table border=\"1\" class=\"dataframe\">\n",
       "  <thead>\n",
       "    <tr style=\"text-align: right;\">\n",
       "      <th></th>\n",
       "      <th>stop_name</th>\n",
       "      <th>Borough</th>\n",
       "      <th>Rides2019</th>\n",
       "      <th>Rides2020</th>\n",
       "      <th>Linked</th>\n",
       "      <th>node_link</th>\n",
       "      <th>stop_lat</th>\n",
       "      <th>stop_lon</th>\n",
       "    </tr>\n",
       "    <tr>\n",
       "      <th>stop_id</th>\n",
       "      <th></th>\n",
       "      <th></th>\n",
       "      <th></th>\n",
       "      <th></th>\n",
       "      <th></th>\n",
       "      <th></th>\n",
       "      <th></th>\n",
       "      <th></th>\n",
       "    </tr>\n",
       "  </thead>\n",
       "  <tbody>\n",
       "    <tr>\n",
       "      <th>101</th>\n",
       "      <td>Van Cortlandt Park-242 St</td>\n",
       "      <td>Bx</td>\n",
       "      <td>2189109</td>\n",
       "      <td>980836</td>\n",
       "      <td>1</td>\n",
       "      <td>101</td>\n",
       "      <td>40.889248</td>\n",
       "      <td>-73.898583</td>\n",
       "    </tr>\n",
       "    <tr>\n",
       "      <th>103</th>\n",
       "      <td>238 St</td>\n",
       "      <td>Bx</td>\n",
       "      <td>1204095</td>\n",
       "      <td>588199</td>\n",
       "      <td>1</td>\n",
       "      <td>103</td>\n",
       "      <td>40.884667</td>\n",
       "      <td>-73.900870</td>\n",
       "    </tr>\n",
       "    <tr>\n",
       "      <th>104</th>\n",
       "      <td>231 St</td>\n",
       "      <td>Bx</td>\n",
       "      <td>2919305</td>\n",
       "      <td>1289691</td>\n",
       "      <td>1</td>\n",
       "      <td>104</td>\n",
       "      <td>40.878856</td>\n",
       "      <td>-73.904834</td>\n",
       "    </tr>\n",
       "    <tr>\n",
       "      <th>106</th>\n",
       "      <td>Marble Hill-225 St</td>\n",
       "      <td>M</td>\n",
       "      <td>1561844</td>\n",
       "      <td>754010</td>\n",
       "      <td>1</td>\n",
       "      <td>106</td>\n",
       "      <td>40.874561</td>\n",
       "      <td>-73.909831</td>\n",
       "    </tr>\n",
       "    <tr>\n",
       "      <th>107</th>\n",
       "      <td>215 St</td>\n",
       "      <td>M</td>\n",
       "      <td>527505</td>\n",
       "      <td>212402</td>\n",
       "      <td>1</td>\n",
       "      <td>107</td>\n",
       "      <td>40.869444</td>\n",
       "      <td>-73.915279</td>\n",
       "    </tr>\n",
       "    <tr>\n",
       "      <th>...</th>\n",
       "      <td>...</td>\n",
       "      <td>...</td>\n",
       "      <td>...</td>\n",
       "      <td>...</td>\n",
       "      <td>...</td>\n",
       "      <td>...</td>\n",
       "      <td>...</td>\n",
       "      <td>...</td>\n",
       "    </tr>\n",
       "    <tr>\n",
       "      <th>R44</th>\n",
       "      <td>86 St</td>\n",
       "      <td>B</td>\n",
       "      <td>3434888</td>\n",
       "      <td>1538353</td>\n",
       "      <td>1</td>\n",
       "      <td>R44</td>\n",
       "      <td>40.622687</td>\n",
       "      <td>-74.028398</td>\n",
       "    </tr>\n",
       "    <tr>\n",
       "      <th>S01</th>\n",
       "      <td>Franklin Av</td>\n",
       "      <td>B</td>\n",
       "      <td>4999385</td>\n",
       "      <td>1849090</td>\n",
       "      <td>3</td>\n",
       "      <td>LINK_239</td>\n",
       "      <td>40.680596</td>\n",
       "      <td>-73.955827</td>\n",
       "    </tr>\n",
       "    <tr>\n",
       "      <th>R45</th>\n",
       "      <td>Bay Ridge-95 St</td>\n",
       "      <td>B</td>\n",
       "      <td>1743441</td>\n",
       "      <td>740055</td>\n",
       "      <td>1</td>\n",
       "      <td>R45</td>\n",
       "      <td>40.616622</td>\n",
       "      <td>-74.030876</td>\n",
       "    </tr>\n",
       "    <tr>\n",
       "      <th>S04</th>\n",
       "      <td>Botanic Garden</td>\n",
       "      <td>B</td>\n",
       "      <td>4999385</td>\n",
       "      <td>1849090</td>\n",
       "      <td>3</td>\n",
       "      <td>LINK_239</td>\n",
       "      <td>40.670343</td>\n",
       "      <td>-73.959245</td>\n",
       "    </tr>\n",
       "    <tr>\n",
       "      <th>S03</th>\n",
       "      <td>Park Pl</td>\n",
       "      <td>B</td>\n",
       "      <td>519984</td>\n",
       "      <td>214950</td>\n",
       "      <td>1</td>\n",
       "      <td>S03</td>\n",
       "      <td>40.674772</td>\n",
       "      <td>-73.957624</td>\n",
       "    </tr>\n",
       "  </tbody>\n",
       "</table>\n",
       "<p>475 rows × 8 columns</p>\n",
       "</div>"
      ],
      "text/plain": [
       "                         stop_name Borough  Rides2019  Rides2020  Linked  \\\n",
       "stop_id                                                                    \n",
       "101      Van Cortlandt Park-242 St      Bx    2189109     980836       1   \n",
       "103                         238 St      Bx    1204095     588199       1   \n",
       "104                         231 St      Bx    2919305    1289691       1   \n",
       "106             Marble Hill-225 St       M    1561844     754010       1   \n",
       "107                         215 St       M     527505     212402       1   \n",
       "...                            ...     ...        ...        ...     ...   \n",
       "R44                          86 St       B    3434888    1538353       1   \n",
       "S01                    Franklin Av       B    4999385    1849090       3   \n",
       "R45                Bay Ridge-95 St       B    1743441     740055       1   \n",
       "S04                 Botanic Garden       B    4999385    1849090       3   \n",
       "S03                        Park Pl       B     519984     214950       1   \n",
       "\n",
       "        node_link   stop_lat   stop_lon  \n",
       "stop_id                                  \n",
       "101           101  40.889248 -73.898583  \n",
       "103           103  40.884667 -73.900870  \n",
       "104           104  40.878856 -73.904834  \n",
       "106           106  40.874561 -73.909831  \n",
       "107           107  40.869444 -73.915279  \n",
       "...           ...        ...        ...  \n",
       "R44           R44  40.622687 -74.028398  \n",
       "S01      LINK_239  40.680596 -73.955827  \n",
       "R45           R45  40.616622 -74.030876  \n",
       "S04      LINK_239  40.670343 -73.959245  \n",
       "S03           S03  40.674772 -73.957624  \n",
       "\n",
       "[475 rows x 8 columns]"
      ]
     },
     "execution_count": 273,
     "metadata": {},
     "output_type": "execute_result"
    }
   ],
   "source": [
    "subway_links_file = \"Subway_Links_2020.csv\"\n",
    "subway_links = pd.read_csv(subway_links_file)\n",
    "\n",
    "subway_links = subway_links[ ['stop_id', 'stop_name', 'Borough', 'Rides2019', 'Rides2020', 'Linked', 'node_link', 'stop_lat', 'stop_lon' ]]\n",
    "subway_links = subway_links.set_index('stop_id')\n",
    "subway_links"
   ]
  },
  {
   "cell_type": "code",
   "execution_count": 274,
   "id": "2a470c3a-8e07-412b-a343-00d3f407e835",
   "metadata": {},
   "outputs": [
    {
     "data": {
      "text/html": [
       "<div>\n",
       "<style scoped>\n",
       "    .dataframe tbody tr th:only-of-type {\n",
       "        vertical-align: middle;\n",
       "    }\n",
       "\n",
       "    .dataframe tbody tr th {\n",
       "        vertical-align: top;\n",
       "    }\n",
       "\n",
       "    .dataframe thead th {\n",
       "        text-align: right;\n",
       "    }\n",
       "</style>\n",
       "<table border=\"1\" class=\"dataframe\">\n",
       "  <thead>\n",
       "    <tr style=\"text-align: right;\">\n",
       "      <th></th>\n",
       "      <th>stop_name</th>\n",
       "      <th>Borough</th>\n",
       "      <th>Rides2019</th>\n",
       "      <th>Rides2020</th>\n",
       "      <th>Linked</th>\n",
       "      <th>node_link</th>\n",
       "      <th>stop_lat</th>\n",
       "      <th>stop_lon</th>\n",
       "    </tr>\n",
       "    <tr>\n",
       "      <th>stop_id</th>\n",
       "      <th></th>\n",
       "      <th></th>\n",
       "      <th></th>\n",
       "      <th></th>\n",
       "      <th></th>\n",
       "      <th></th>\n",
       "      <th></th>\n",
       "      <th></th>\n",
       "    </tr>\n",
       "  </thead>\n",
       "  <tbody>\n",
       "  </tbody>\n",
       "</table>\n",
       "</div>"
      ],
      "text/plain": [
       "Empty DataFrame\n",
       "Columns: [stop_name, Borough, Rides2019, Rides2020, Linked, node_link, stop_lat, stop_lon]\n",
       "Index: []"
      ]
     },
     "execution_count": 274,
     "metadata": {},
     "output_type": "execute_result"
    }
   ],
   "source": [
    "subway_links[ subway_links.index.isin(['140', 'H19', 'N12' ] ) ]"
   ]
  },
  {
   "cell_type": "markdown",
   "id": "f2043739-8619-4e5e-8cc8-3ff67c6c312d",
   "metadata": {},
   "source": [
    "The `subway_links` dataframe contains a map between active parent stops except for Staten Island stations and 3 omitted stations discussed earlier.   The set difference of the nodes in $G1 \\setminus G2$ is the Staten Island stations as shown below."
   ]
  },
  {
   "cell_type": "code",
   "execution_count": 275,
   "id": "047aceaa-31c3-46ac-8df0-42fe36d73cbd",
   "metadata": {},
   "outputs": [
    {
     "data": {
      "text/plain": [
       "({'S09',\n",
       "  'S11',\n",
       "  'S13',\n",
       "  'S14',\n",
       "  'S15',\n",
       "  'S16',\n",
       "  'S17',\n",
       "  'S18',\n",
       "  'S19',\n",
       "  'S20',\n",
       "  'S21',\n",
       "  'S22',\n",
       "  'S23',\n",
       "  'S24',\n",
       "  'S25',\n",
       "  'S26',\n",
       "  'S27',\n",
       "  'S28',\n",
       "  'S29',\n",
       "  'S30',\n",
       "  'S31'},\n",
       " set())"
      ]
     },
     "execution_count": 275,
     "metadata": {},
     "output_type": "execute_result"
    }
   ],
   "source": [
    "s1 = set( nodes_used[\"stop_id\"]) # from G1\n",
    "s2 = set( subway_links.index ) # from subway_links\n",
    "( s1.difference(s2), s2.difference(s1))"
   ]
  },
  {
   "cell_type": "code",
   "execution_count": 276,
   "id": "44b6e6d9-1388-49bf-999e-18ed13ded366",
   "metadata": {},
   "outputs": [],
   "source": [
    "s1e = set( no_dups_res_edges['parent_a']).union( set( no_dups_res_edges['parent_b'] ) )"
   ]
  },
  {
   "cell_type": "code",
   "execution_count": 277,
   "id": "53df3a11-a6aa-4c21-b632-28601d1f1ad8",
   "metadata": {},
   "outputs": [
    {
     "data": {
      "text/plain": [
       "set()"
      ]
     },
     "execution_count": 277,
     "metadata": {},
     "output_type": "execute_result"
    }
   ],
   "source": [
    "s2.difference(s1e)"
   ]
  },
  {
   "cell_type": "code",
   "execution_count": 278,
   "id": "a5e925c3-41e5-41bf-acff-386bf6abaa57",
   "metadata": {},
   "outputs": [
    {
     "data": {
      "text/plain": [
       "{'S09',\n",
       " 'S11',\n",
       " 'S13',\n",
       " 'S14',\n",
       " 'S15',\n",
       " 'S16',\n",
       " 'S17',\n",
       " 'S18',\n",
       " 'S19',\n",
       " 'S20',\n",
       " 'S21',\n",
       " 'S22',\n",
       " 'S23',\n",
       " 'S24',\n",
       " 'S25',\n",
       " 'S26',\n",
       " 'S27',\n",
       " 'S28',\n",
       " 'S29',\n",
       " 'S30',\n",
       " 'S31'}"
      ]
     },
     "execution_count": 278,
     "metadata": {},
     "output_type": "execute_result"
    }
   ],
   "source": [
    "s1e.difference(s2)"
   ]
  },
  {
   "cell_type": "code",
   "execution_count": 284,
   "id": "ae2d9661-916f-43ce-9489-237670bf9c9a",
   "metadata": {},
   "outputs": [
    {
     "data": {
      "text/plain": [
       "420"
      ]
     },
     "execution_count": 284,
     "metadata": {},
     "output_type": "execute_result"
    }
   ],
   "source": [
    "G3 = nx.Graph()\n",
    "\n",
    "for r , d in subway_links.iterrows():\n",
    "    link_node = d[\"node_link\"]\n",
    "    borough = d[\"Borough\"]\n",
    "    f19 = d[\"Rides2019\"]\n",
    "    f20 = d[\"Rides2020\"]\n",
    "    stop_name = d[\"stop_name\"]\n",
    "    lat = d[\"stop_lat\"]\n",
    "    lon = d[\"stop_lon\"]\n",
    "    \n",
    "    delta_rides = f20 - f19\n",
    "    \n",
    "    if not link_node in G3.nodes():\n",
    "        G3.add_node(link_node, borough = borough , \n",
    "                    rides2019 = f19, rides2020 = f20, delta_rides = delta_rides ,\n",
    "                    link_name = stop_name ,\n",
    "                    lat = lat, lon = lon\n",
    "                   )\n",
    "\n",
    "parent_nodes_used = subway_links.index\n",
    "        "
   ]
  },
  {
   "cell_type": "code",
   "execution_count": 285,
   "id": "35053182-b906-4f0e-9b07-fceb5ebd00df",
   "metadata": {},
   "outputs": [
    {
     "data": {
      "text/plain": [
       "541"
      ]
     },
     "execution_count": 285,
     "metadata": {},
     "output_type": "execute_result"
    }
   ],
   "source": [
    "for r, ex in no_dups_res_edges.iterrows():\n",
    "    \n",
    "    if ex['parent_b'] in parent_nodes_used and ex['parent_a'] in parent_nodes_used:\n",
    "        node_link1 =  subway_links.loc[ ex['parent_a'] , 'node_link' ]\n",
    "        node_link2 =  subway_links.loc[ ex['parent_b'] , 'node_link' ]\n",
    "        G3.add_edge( node_link1, node_link2 )\n"
   ]
  },
  {
   "cell_type": "markdown",
   "id": "7ddc3239-88c1-4112-a828-65b61ab7bab3",
   "metadata": {},
   "source": [
    "We see below that the linked subway graph has 420 stations and 541 edges."
   ]
  },
  {
   "cell_type": "code",
   "execution_count": 307,
   "id": "f8c2e667-4ae0-4a38-a8e3-f1bf7b8bea16",
   "metadata": {},
   "outputs": [
    {
     "data": {
      "text/plain": [
       "(420, 541)"
      ]
     },
     "execution_count": 307,
     "metadata": {},
     "output_type": "execute_result"
    }
   ],
   "source": [
    "(G3.number_of_nodes(), G3.number_of_edges())"
   ]
  },
  {
   "cell_type": "markdown",
   "id": "6c97da6f-eceb-46a8-a618-1ff79e245282",
   "metadata": {},
   "source": [
    "We plot the linked subway graph using the coordinates of first station of each linked node to represent the entire equivalence class of stops."
   ]
  },
  {
   "cell_type": "code",
   "execution_count": 298,
   "id": "7a53145a-c4f5-4603-a26b-c18999782580",
   "metadata": {},
   "outputs": [],
   "source": [
    "pos = {}\n",
    "for n in G3.nodes():\n",
    "     pos.update( { n :( G3.node[n]['lon'], G3.node[n]['lat'] ) } )"
   ]
  },
  {
   "cell_type": "code",
   "execution_count": 309,
   "id": "707af850-4da6-4553-8bfb-1b4fc418af41",
   "metadata": {},
   "outputs": [
    {
     "data": {
      "image/png": "[encoded data removed]",
      "text/plain": [
       "<Figure size 864x720 with 1 Axes>"
      ]
     },
     "metadata": {},
     "output_type": "display_data"
    }
   ],
   "source": [
    "plt.figure(figsize = (12, 10))\n",
    "plt.tight_layout()\n",
    "plt.axis(\"off\")\n",
    "\n",
    "plt.suptitle(\"NYC Subway Network - Connected Linked Graph\", y = 1.05 ,fontsize= 18)\n",
    "\n",
    "plt.title(\"\"\"Nodes in Blue\n",
    "Edges in Red\n",
    "Linked Nodes are Used.  Staten Island is excluded.\n",
    "\"\"\", fontsize=12)\n",
    "\n",
    "nx.draw_networkx_edges(G3, pos = pos, \n",
    "                       width = 1, \n",
    "                       edge_color = 'red', \n",
    "                       alpha = 0.6 )\n",
    "\n",
    "nx.draw(G3, pos = pos ,   \n",
    "        with_labels = False ,\n",
    "        alpha = 0.5 ,\n",
    "        node_size = 20, \n",
    "        node_color = 'blue' )\n"
   ]
  },
  {
   "cell_type": "code",
   "execution_count": 304,
   "id": "7013c428-9226-4ace-833d-a2fa22e57b04",
   "metadata": {},
   "outputs": [
    {
     "data": {
      "text/plain": [
       "1"
      ]
     },
     "execution_count": 304,
     "metadata": {},
     "output_type": "execute_result"
    }
   ],
   "source": [
    "nx.number_connected_components(G3)"
   ]
  },
  {
   "cell_type": "markdown",
   "id": "1d768714-3899-4193-9059-17bfa5aad6b5",
   "metadata": {},
   "source": [
    "Now we write the linked graph to a graphml file for subsequent use."
   ]
  },
  {
   "cell_type": "code",
   "execution_count": 306,
   "id": "a22caafe-eccb-43c3-9345-2bc7bde39903",
   "metadata": {},
   "outputs": [],
   "source": [
    "nx.write_graphml(G3, \"Subway_G3.graphml\")"
   ]
  },
  {
   "cell_type": "code",
   "execution_count": null,
   "id": "93d17ab5-8e4c-4630-bb5e-361dfc31e90a",
   "metadata": {},
   "outputs": [],
   "source": []
  }
 ],
 "metadata": {
  "kernelspec": {
   "display_name": "Python 3 (ipykernel)",
   "language": "python",
   "name": "python3"
  },
  "language_info": {
   "codemirror_mode": {
    "name": "ipython",
    "version": 3
   },
   "file_extension": ".py",
   "mimetype": "text/x-python",
   "name": "python",
   "nbconvert_exporter": "python",
   "pygments_lexer": "ipython3",
   "version": "3.7.7"
  }
 },
 "nbformat": 4,
 "nbformat_minor": 5
}

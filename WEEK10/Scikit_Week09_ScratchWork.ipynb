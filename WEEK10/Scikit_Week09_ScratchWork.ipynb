{
 "cells": [
  {
   "cell_type": "code",
   "execution_count": 20,
   "id": "5d43f18c-674b-47d7-be35-20feec2c950c",
   "metadata": {},
   "outputs": [],
   "source": [
    "# Scratch work, attempt 2"
   ]
  },
  {
   "cell_type": "code",
   "execution_count": 21,
   "id": "3432b113-42fb-4958-a5a8-22d3b190576c",
   "metadata": {},
   "outputs": [],
   "source": [
    "# Required imports\n",
    "import nltk\n",
    "from nltk.corpus import names\n",
    "import random\n",
    "import pandas as pd\n",
    "import seaborn as sns\n",
    "# Set seed to make random sampling reproducible\n",
    "random.seed(123)"
   ]
  },
  {
   "cell_type": "code",
   "execution_count": 22,
   "id": "5c7dc370-f4a0-4281-b190-e53da9b5606b",
   "metadata": {},
   "outputs": [],
   "source": [
    "labeled_names = ([(name, 'male') for name in names.words('male.txt')] + [(name, 'female') for name in names.words('female.txt')])\n",
    "random.shuffle(labeled_names)"
   ]
  },
  {
   "cell_type": "code",
   "execution_count": 23,
   "id": "96ebc9b8-f8da-4f7a-a795-93d2bc3e1d55",
   "metadata": {},
   "outputs": [],
   "source": [
    "names_male = names.words('male.txt')"
   ]
  },
  {
   "cell_type": "code",
   "execution_count": 24,
   "id": "e0207a5c-ccf1-4500-88f5-d97d62c9f8ac",
   "metadata": {},
   "outputs": [
    {
     "data": {
      "text/plain": [
       "['Aamir', 'Aaron', 'Abbey', 'Abbie', 'Abbot']"
      ]
     },
     "execution_count": 24,
     "metadata": {},
     "output_type": "execute_result"
    }
   ],
   "source": [
    "(names_male[:5])"
   ]
  },
  {
   "cell_type": "code",
   "execution_count": 25,
   "id": "c71330c0-10b0-4516-8a2f-2146691490bd",
   "metadata": {},
   "outputs": [
    {
     "name": "stdout",
     "output_type": "stream",
     "text": [
      "2943\n"
     ]
    }
   ],
   "source": [
    "print(len(names_male))"
   ]
  },
  {
   "cell_type": "code",
   "execution_count": 26,
   "id": "96c2711a-f71f-433b-8e97-7b83e04a4167",
   "metadata": {},
   "outputs": [
    {
     "data": {
      "text/plain": [
       "['Abagael', 'Abagail', 'Abbe', 'Abbey', 'Abbi']"
      ]
     },
     "execution_count": 26,
     "metadata": {},
     "output_type": "execute_result"
    }
   ],
   "source": [
    "names_female = names.words('female.txt')\n",
    "(names_female[:5])"
   ]
  },
  {
   "cell_type": "code",
   "execution_count": 27,
   "id": "d0827c07-f365-4743-af65-4a668bc2a284",
   "metadata": {},
   "outputs": [
    {
     "name": "stdout",
     "output_type": "stream",
     "text": [
      "5001\n"
     ]
    }
   ],
   "source": [
    "print(len(names_female))"
   ]
  },
  {
   "cell_type": "code",
   "execution_count": 28,
   "id": "7b91fb63-a0c5-44de-9e74-771b902be65f",
   "metadata": {},
   "outputs": [
    {
     "data": {
      "text/plain": [
       "7944"
      ]
     },
     "execution_count": 28,
     "metadata": {},
     "output_type": "execute_result"
    }
   ],
   "source": [
    "len(names_male) + len(names_female)"
   ]
  },
  {
   "cell_type": "code",
   "execution_count": 29,
   "id": "f76cfafb-cc67-4c97-b757-a6c75576839c",
   "metadata": {},
   "outputs": [
    {
     "data": {
      "text/html": [
       "<div>\n",
       "<style scoped>\n",
       "    .dataframe tbody tr th:only-of-type {\n",
       "        vertical-align: middle;\n",
       "    }\n",
       "\n",
       "    .dataframe tbody tr th {\n",
       "        vertical-align: top;\n",
       "    }\n",
       "\n",
       "    .dataframe thead th {\n",
       "        text-align: right;\n",
       "    }\n",
       "</style>\n",
       "<table border=\"1\" class=\"dataframe\">\n",
       "  <thead>\n",
       "    <tr style=\"text-align: right;\">\n",
       "      <th></th>\n",
       "      <th>name</th>\n",
       "      <th>gender</th>\n",
       "    </tr>\n",
       "  </thead>\n",
       "  <tbody>\n",
       "    <tr>\n",
       "      <th>0</th>\n",
       "      <td>Aamir</td>\n",
       "      <td>male</td>\n",
       "    </tr>\n",
       "    <tr>\n",
       "      <th>1</th>\n",
       "      <td>Aaron</td>\n",
       "      <td>male</td>\n",
       "    </tr>\n",
       "    <tr>\n",
       "      <th>2</th>\n",
       "      <td>Abbey</td>\n",
       "      <td>male</td>\n",
       "    </tr>\n",
       "    <tr>\n",
       "      <th>3</th>\n",
       "      <td>Abbie</td>\n",
       "      <td>male</td>\n",
       "    </tr>\n",
       "    <tr>\n",
       "      <th>4</th>\n",
       "      <td>Abbot</td>\n",
       "      <td>male</td>\n",
       "    </tr>\n",
       "  </tbody>\n",
       "</table>\n",
       "</div>"
      ],
      "text/plain": [
       "    name gender\n",
       "0  Aamir   male\n",
       "1  Aaron   male\n",
       "2  Abbey   male\n",
       "3  Abbie   male\n",
       "4  Abbot   male"
      ]
     },
     "execution_count": 29,
     "metadata": {},
     "output_type": "execute_result"
    }
   ],
   "source": [
    "df_male_names = pd.DataFrame(names_male, columns=['name'])\n",
    "df_male_names['gender'] = 'male'\n",
    "df_male_names.head()"
   ]
  },
  {
   "cell_type": "code",
   "execution_count": 30,
   "id": "8514ff22-1859-4c45-a06c-608334de6f37",
   "metadata": {},
   "outputs": [
    {
     "data": {
      "text/html": [
       "<div>\n",
       "<style scoped>\n",
       "    .dataframe tbody tr th:only-of-type {\n",
       "        vertical-align: middle;\n",
       "    }\n",
       "\n",
       "    .dataframe tbody tr th {\n",
       "        vertical-align: top;\n",
       "    }\n",
       "\n",
       "    .dataframe thead th {\n",
       "        text-align: right;\n",
       "    }\n",
       "</style>\n",
       "<table border=\"1\" class=\"dataframe\">\n",
       "  <thead>\n",
       "    <tr style=\"text-align: right;\">\n",
       "      <th></th>\n",
       "      <th>name</th>\n",
       "      <th>gender</th>\n",
       "    </tr>\n",
       "  </thead>\n",
       "  <tbody>\n",
       "    <tr>\n",
       "      <th>0</th>\n",
       "      <td>Abagael</td>\n",
       "      <td>female</td>\n",
       "    </tr>\n",
       "    <tr>\n",
       "      <th>1</th>\n",
       "      <td>Abagail</td>\n",
       "      <td>female</td>\n",
       "    </tr>\n",
       "    <tr>\n",
       "      <th>2</th>\n",
       "      <td>Abbe</td>\n",
       "      <td>female</td>\n",
       "    </tr>\n",
       "    <tr>\n",
       "      <th>3</th>\n",
       "      <td>Abbey</td>\n",
       "      <td>female</td>\n",
       "    </tr>\n",
       "    <tr>\n",
       "      <th>4</th>\n",
       "      <td>Abbi</td>\n",
       "      <td>female</td>\n",
       "    </tr>\n",
       "  </tbody>\n",
       "</table>\n",
       "</div>"
      ],
      "text/plain": [
       "      name  gender\n",
       "0  Abagael  female\n",
       "1  Abagail  female\n",
       "2     Abbe  female\n",
       "3    Abbey  female\n",
       "4     Abbi  female"
      ]
     },
     "execution_count": 30,
     "metadata": {},
     "output_type": "execute_result"
    }
   ],
   "source": [
    "df_female_names = pd.DataFrame(names_female, columns=['name'])\n",
    "df_female_names['gender'] = 'female'\n",
    "df_female_names.head()"
   ]
  },
  {
   "cell_type": "code",
   "execution_count": 31,
   "id": "4db70398-8e64-4457-a541-06f9ded927cc",
   "metadata": {},
   "outputs": [
    {
     "data": {
      "text/html": [
       "<div>\n",
       "<style scoped>\n",
       "    .dataframe tbody tr th:only-of-type {\n",
       "        vertical-align: middle;\n",
       "    }\n",
       "\n",
       "    .dataframe tbody tr th {\n",
       "        vertical-align: top;\n",
       "    }\n",
       "\n",
       "    .dataframe thead th {\n",
       "        text-align: right;\n",
       "    }\n",
       "</style>\n",
       "<table border=\"1\" class=\"dataframe\">\n",
       "  <thead>\n",
       "    <tr style=\"text-align: right;\">\n",
       "      <th></th>\n",
       "      <th>name</th>\n",
       "      <th>gender</th>\n",
       "    </tr>\n",
       "  </thead>\n",
       "  <tbody>\n",
       "    <tr>\n",
       "      <th>0</th>\n",
       "      <td>abagael</td>\n",
       "      <td>female</td>\n",
       "    </tr>\n",
       "    <tr>\n",
       "      <th>1</th>\n",
       "      <td>abagail</td>\n",
       "      <td>female</td>\n",
       "    </tr>\n",
       "    <tr>\n",
       "      <th>2</th>\n",
       "      <td>abbe</td>\n",
       "      <td>female</td>\n",
       "    </tr>\n",
       "    <tr>\n",
       "      <th>3</th>\n",
       "      <td>abbey</td>\n",
       "      <td>female</td>\n",
       "    </tr>\n",
       "    <tr>\n",
       "      <th>4</th>\n",
       "      <td>abbi</td>\n",
       "      <td>female</td>\n",
       "    </tr>\n",
       "    <tr>\n",
       "      <th>...</th>\n",
       "      <td>...</td>\n",
       "      <td>...</td>\n",
       "    </tr>\n",
       "    <tr>\n",
       "      <th>7934</th>\n",
       "      <td>zed</td>\n",
       "      <td>male</td>\n",
       "    </tr>\n",
       "    <tr>\n",
       "      <th>7935</th>\n",
       "      <td>zedekiah</td>\n",
       "      <td>male</td>\n",
       "    </tr>\n",
       "    <tr>\n",
       "      <th>7936</th>\n",
       "      <td>zeke</td>\n",
       "      <td>male</td>\n",
       "    </tr>\n",
       "    <tr>\n",
       "      <th>7937</th>\n",
       "      <td>zelig</td>\n",
       "      <td>male</td>\n",
       "    </tr>\n",
       "    <tr>\n",
       "      <th>7938</th>\n",
       "      <td>zerk</td>\n",
       "      <td>male</td>\n",
       "    </tr>\n",
       "  </tbody>\n",
       "</table>\n",
       "<p>7939 rows × 2 columns</p>\n",
       "</div>"
      ],
      "text/plain": [
       "          name  gender\n",
       "0      abagael  female\n",
       "1      abagail  female\n",
       "2         abbe  female\n",
       "3        abbey  female\n",
       "4         abbi  female\n",
       "...        ...     ...\n",
       "7934       zed    male\n",
       "7935  zedekiah    male\n",
       "7936      zeke    male\n",
       "7937     zelig    male\n",
       "7938      zerk    male\n",
       "\n",
       "[7939 rows x 2 columns]"
      ]
     },
     "execution_count": 31,
     "metadata": {},
     "output_type": "execute_result"
    }
   ],
   "source": [
    "df_names = pd.concat([df_female_names, df_male_names], ignore_index=True)\n",
    "# lowercase all letters to ensure uniformity\n",
    "df_names['name'] = df_names['name'].str.lower()\n",
    "df_names.head(-5)"
   ]
  },
  {
   "cell_type": "code",
   "execution_count": 32,
   "id": "ae1266ac-e7e4-4e13-8e1e-b8d651bad450",
   "metadata": {},
   "outputs": [
    {
     "data": {
      "text/html": [
       "<div>\n",
       "<style scoped>\n",
       "    .dataframe tbody tr th:only-of-type {\n",
       "        vertical-align: middle;\n",
       "    }\n",
       "\n",
       "    .dataframe tbody tr th {\n",
       "        vertical-align: top;\n",
       "    }\n",
       "\n",
       "    .dataframe thead th {\n",
       "        text-align: right;\n",
       "    }\n",
       "</style>\n",
       "<table border=\"1\" class=\"dataframe\">\n",
       "  <thead>\n",
       "    <tr style=\"text-align: right;\">\n",
       "      <th></th>\n",
       "      <th>name</th>\n",
       "      <th>gender</th>\n",
       "      <th>SW1L</th>\n",
       "      <th>SW2L</th>\n",
       "      <th>SW3L</th>\n",
       "      <th>EW1L</th>\n",
       "      <th>EW2L</th>\n",
       "    </tr>\n",
       "  </thead>\n",
       "  <tbody>\n",
       "    <tr>\n",
       "      <th>0</th>\n",
       "      <td>abagael</td>\n",
       "      <td>female</td>\n",
       "      <td>a</td>\n",
       "      <td>ab</td>\n",
       "      <td>aba</td>\n",
       "      <td>l</td>\n",
       "      <td>el</td>\n",
       "    </tr>\n",
       "    <tr>\n",
       "      <th>1</th>\n",
       "      <td>abagail</td>\n",
       "      <td>female</td>\n",
       "      <td>a</td>\n",
       "      <td>ab</td>\n",
       "      <td>aba</td>\n",
       "      <td>l</td>\n",
       "      <td>il</td>\n",
       "    </tr>\n",
       "    <tr>\n",
       "      <th>2</th>\n",
       "      <td>abbe</td>\n",
       "      <td>female</td>\n",
       "      <td>a</td>\n",
       "      <td>ab</td>\n",
       "      <td>abb</td>\n",
       "      <td>e</td>\n",
       "      <td>be</td>\n",
       "    </tr>\n",
       "    <tr>\n",
       "      <th>3</th>\n",
       "      <td>abbey</td>\n",
       "      <td>female</td>\n",
       "      <td>a</td>\n",
       "      <td>ab</td>\n",
       "      <td>abb</td>\n",
       "      <td>y</td>\n",
       "      <td>ey</td>\n",
       "    </tr>\n",
       "    <tr>\n",
       "      <th>4</th>\n",
       "      <td>abbi</td>\n",
       "      <td>female</td>\n",
       "      <td>a</td>\n",
       "      <td>ab</td>\n",
       "      <td>abb</td>\n",
       "      <td>i</td>\n",
       "      <td>bi</td>\n",
       "    </tr>\n",
       "  </tbody>\n",
       "</table>\n",
       "</div>"
      ],
      "text/plain": [
       "      name  gender SW1L SW2L SW3L EW1L EW2L\n",
       "0  abagael  female    a   ab  aba    l   el\n",
       "1  abagail  female    a   ab  aba    l   il\n",
       "2     abbe  female    a   ab  abb    e   be\n",
       "3    abbey  female    a   ab  abb    y   ey\n",
       "4     abbi  female    a   ab  abb    i   bi"
      ]
     },
     "execution_count": 32,
     "metadata": {},
     "output_type": "execute_result"
    }
   ],
   "source": [
    "df_names['SW1L'] = df_names['name'].astype(str).str[0]\n",
    "df_names['SW2L'] = df_names['name'].astype(str).str[0:2]\n",
    "df_names['SW3L'] = df_names['name'].astype(str).str[0:3]\n",
    "df_names['EW1L'] = df_names['name'].astype(str).str[-1]\n",
    "df_names['EW2L'] = df_names['name'].astype(str).str[-2:]\n",
    "df_names.head()"
   ]
  },
  {
   "cell_type": "code",
   "execution_count": 33,
   "id": "59aa800a-949f-4048-ab11-9a74314d33f4",
   "metadata": {},
   "outputs": [
    {
     "data": {
      "text/plain": [
       "15"
      ]
     },
     "execution_count": 33,
     "metadata": {},
     "output_type": "execute_result"
    }
   ],
   "source": [
    "df_names.name.str.len().max()"
   ]
  },
  {
   "cell_type": "code",
   "execution_count": 34,
   "id": "d56b5279-b73c-4a02-9d39-5636ea476a3b",
   "metadata": {},
   "outputs": [
    {
     "data": {
      "text/plain": [
       "2"
      ]
     },
     "execution_count": 34,
     "metadata": {},
     "output_type": "execute_result"
    }
   ],
   "source": [
    "df_names.name.str.len().min()"
   ]
  },
  {
   "cell_type": "code",
   "execution_count": 35,
   "id": "8a17b33c-537c-4977-bb87-87dc75e6f29f",
   "metadata": {},
   "outputs": [
    {
     "data": {
      "text/html": [
       "<div>\n",
       "<style scoped>\n",
       "    .dataframe tbody tr th:only-of-type {\n",
       "        vertical-align: middle;\n",
       "    }\n",
       "\n",
       "    .dataframe tbody tr th {\n",
       "        vertical-align: top;\n",
       "    }\n",
       "\n",
       "    .dataframe thead th {\n",
       "        text-align: right;\n",
       "    }\n",
       "</style>\n",
       "<table border=\"1\" class=\"dataframe\">\n",
       "  <thead>\n",
       "    <tr style=\"text-align: right;\">\n",
       "      <th></th>\n",
       "      <th>name</th>\n",
       "      <th>gender</th>\n",
       "      <th>SW1L</th>\n",
       "      <th>SW2L</th>\n",
       "      <th>SW3L</th>\n",
       "      <th>EW1L</th>\n",
       "      <th>EW2L</th>\n",
       "    </tr>\n",
       "  </thead>\n",
       "  <tbody>\n",
       "    <tr>\n",
       "      <th>51</th>\n",
       "      <td>ag</td>\n",
       "      <td>female</td>\n",
       "      <td>a</td>\n",
       "      <td>ag</td>\n",
       "      <td>ag</td>\n",
       "      <td>g</td>\n",
       "      <td>ag</td>\n",
       "    </tr>\n",
       "    <tr>\n",
       "      <th>606</th>\n",
       "      <td>bo</td>\n",
       "      <td>female</td>\n",
       "      <td>b</td>\n",
       "      <td>bo</td>\n",
       "      <td>bo</td>\n",
       "      <td>o</td>\n",
       "      <td>bo</td>\n",
       "    </tr>\n",
       "    <tr>\n",
       "      <th>1337</th>\n",
       "      <td>di</td>\n",
       "      <td>female</td>\n",
       "      <td>d</td>\n",
       "      <td>di</td>\n",
       "      <td>di</td>\n",
       "      <td>i</td>\n",
       "      <td>di</td>\n",
       "    </tr>\n",
       "    <tr>\n",
       "      <th>1587</th>\n",
       "      <td>em</td>\n",
       "      <td>female</td>\n",
       "      <td>e</td>\n",
       "      <td>em</td>\n",
       "      <td>em</td>\n",
       "      <td>m</td>\n",
       "      <td>em</td>\n",
       "    </tr>\n",
       "    <tr>\n",
       "      <th>2446</th>\n",
       "      <td>jo</td>\n",
       "      <td>female</td>\n",
       "      <td>j</td>\n",
       "      <td>jo</td>\n",
       "      <td>jo</td>\n",
       "      <td>o</td>\n",
       "      <td>jo</td>\n",
       "    </tr>\n",
       "    <tr>\n",
       "      <th>2757</th>\n",
       "      <td>ki</td>\n",
       "      <td>female</td>\n",
       "      <td>k</td>\n",
       "      <td>ki</td>\n",
       "      <td>ki</td>\n",
       "      <td>i</td>\n",
       "      <td>ki</td>\n",
       "    </tr>\n",
       "    <tr>\n",
       "      <th>2850</th>\n",
       "      <td>la</td>\n",
       "      <td>female</td>\n",
       "      <td>l</td>\n",
       "      <td>la</td>\n",
       "      <td>la</td>\n",
       "      <td>a</td>\n",
       "      <td>la</td>\n",
       "    </tr>\n",
       "    <tr>\n",
       "      <th>4843</th>\n",
       "      <td>vi</td>\n",
       "      <td>female</td>\n",
       "      <td>v</td>\n",
       "      <td>vi</td>\n",
       "      <td>vi</td>\n",
       "      <td>i</td>\n",
       "      <td>vi</td>\n",
       "    </tr>\n",
       "    <tr>\n",
       "      <th>5046</th>\n",
       "      <td>al</td>\n",
       "      <td>male</td>\n",
       "      <td>a</td>\n",
       "      <td>al</td>\n",
       "      <td>al</td>\n",
       "      <td>l</td>\n",
       "      <td>al</td>\n",
       "    </tr>\n",
       "    <tr>\n",
       "      <th>5323</th>\n",
       "      <td>bo</td>\n",
       "      <td>male</td>\n",
       "      <td>b</td>\n",
       "      <td>bo</td>\n",
       "      <td>bo</td>\n",
       "      <td>o</td>\n",
       "      <td>bo</td>\n",
       "    </tr>\n",
       "    <tr>\n",
       "      <th>5547</th>\n",
       "      <td>cy</td>\n",
       "      <td>male</td>\n",
       "      <td>c</td>\n",
       "      <td>cy</td>\n",
       "      <td>cy</td>\n",
       "      <td>y</td>\n",
       "      <td>cy</td>\n",
       "    </tr>\n",
       "    <tr>\n",
       "      <th>5706</th>\n",
       "      <td>ed</td>\n",
       "      <td>male</td>\n",
       "      <td>e</td>\n",
       "      <td>ed</td>\n",
       "      <td>ed</td>\n",
       "      <td>d</td>\n",
       "      <td>ed</td>\n",
       "    </tr>\n",
       "    <tr>\n",
       "      <th>5776</th>\n",
       "      <td>er</td>\n",
       "      <td>male</td>\n",
       "      <td>e</td>\n",
       "      <td>er</td>\n",
       "      <td>er</td>\n",
       "      <td>r</td>\n",
       "      <td>er</td>\n",
       "    </tr>\n",
       "    <tr>\n",
       "      <th>5807</th>\n",
       "      <td>ev</td>\n",
       "      <td>male</td>\n",
       "      <td>e</td>\n",
       "      <td>ev</td>\n",
       "      <td>ev</td>\n",
       "      <td>v</td>\n",
       "      <td>ev</td>\n",
       "    </tr>\n",
       "    <tr>\n",
       "      <th>5814</th>\n",
       "      <td>ez</td>\n",
       "      <td>male</td>\n",
       "      <td>e</td>\n",
       "      <td>ez</td>\n",
       "      <td>ez</td>\n",
       "      <td>z</td>\n",
       "      <td>ez</td>\n",
       "    </tr>\n",
       "    <tr>\n",
       "      <th>6220</th>\n",
       "      <td>hy</td>\n",
       "      <td>male</td>\n",
       "      <td>h</td>\n",
       "      <td>hy</td>\n",
       "      <td>hy</td>\n",
       "      <td>y</td>\n",
       "      <td>hy</td>\n",
       "    </tr>\n",
       "    <tr>\n",
       "      <th>6350</th>\n",
       "      <td>jo</td>\n",
       "      <td>male</td>\n",
       "      <td>j</td>\n",
       "      <td>jo</td>\n",
       "      <td>jo</td>\n",
       "      <td>o</td>\n",
       "      <td>jo</td>\n",
       "    </tr>\n",
       "    <tr>\n",
       "      <th>7359</th>\n",
       "      <td>si</td>\n",
       "      <td>male</td>\n",
       "      <td>s</td>\n",
       "      <td>si</td>\n",
       "      <td>si</td>\n",
       "      <td>i</td>\n",
       "      <td>si</td>\n",
       "    </tr>\n",
       "    <tr>\n",
       "      <th>7657</th>\n",
       "      <td>ty</td>\n",
       "      <td>male</td>\n",
       "      <td>t</td>\n",
       "      <td>ty</td>\n",
       "      <td>ty</td>\n",
       "      <td>y</td>\n",
       "      <td>ty</td>\n",
       "    </tr>\n",
       "  </tbody>\n",
       "</table>\n",
       "</div>"
      ],
      "text/plain": [
       "     name  gender SW1L SW2L SW3L EW1L EW2L\n",
       "51     ag  female    a   ag   ag    g   ag\n",
       "606    bo  female    b   bo   bo    o   bo\n",
       "1337   di  female    d   di   di    i   di\n",
       "1587   em  female    e   em   em    m   em\n",
       "2446   jo  female    j   jo   jo    o   jo\n",
       "2757   ki  female    k   ki   ki    i   ki\n",
       "2850   la  female    l   la   la    a   la\n",
       "4843   vi  female    v   vi   vi    i   vi\n",
       "5046   al    male    a   al   al    l   al\n",
       "5323   bo    male    b   bo   bo    o   bo\n",
       "5547   cy    male    c   cy   cy    y   cy\n",
       "5706   ed    male    e   ed   ed    d   ed\n",
       "5776   er    male    e   er   er    r   er\n",
       "5807   ev    male    e   ev   ev    v   ev\n",
       "5814   ez    male    e   ez   ez    z   ez\n",
       "6220   hy    male    h   hy   hy    y   hy\n",
       "6350   jo    male    j   jo   jo    o   jo\n",
       "7359   si    male    s   si   si    i   si\n",
       "7657   ty    male    t   ty   ty    y   ty"
      ]
     },
     "execution_count": 35,
     "metadata": {},
     "output_type": "execute_result"
    }
   ],
   "source": [
    "df_names_short = df_names.loc[df_names['name'].str.len() < 3]\n",
    "df_names_short.head(20)"
   ]
  },
  {
   "cell_type": "code",
   "execution_count": 36,
   "id": "8431d411-2381-4b3e-9264-362d6d2d8bb7",
   "metadata": {},
   "outputs": [
    {
     "data": {
      "text/html": [
       "<div>\n",
       "<style scoped>\n",
       "    .dataframe tbody tr th:only-of-type {\n",
       "        vertical-align: middle;\n",
       "    }\n",
       "\n",
       "    .dataframe tbody tr th {\n",
       "        vertical-align: top;\n",
       "    }\n",
       "\n",
       "    .dataframe thead th {\n",
       "        text-align: right;\n",
       "    }\n",
       "</style>\n",
       "<table border=\"1\" class=\"dataframe\">\n",
       "  <thead>\n",
       "    <tr style=\"text-align: right;\">\n",
       "      <th></th>\n",
       "      <th>name</th>\n",
       "      <th>gender</th>\n",
       "      <th>SW1L</th>\n",
       "      <th>SW2L</th>\n",
       "      <th>SW3L</th>\n",
       "      <th>EW1L</th>\n",
       "      <th>EW2L</th>\n",
       "    </tr>\n",
       "  </thead>\n",
       "  <tbody>\n",
       "    <tr>\n",
       "      <th>2134</th>\n",
       "      <td>helen-elizabeth</td>\n",
       "      <td>female</td>\n",
       "      <td>h</td>\n",
       "      <td>he</td>\n",
       "      <td>hel</td>\n",
       "      <td>h</td>\n",
       "      <td>th</td>\n",
       "    </tr>\n",
       "    <tr>\n",
       "      <th>4400</th>\n",
       "      <td>sheila-kathryn</td>\n",
       "      <td>female</td>\n",
       "      <td>s</td>\n",
       "      <td>sh</td>\n",
       "      <td>she</td>\n",
       "      <td>n</td>\n",
       "      <td>yn</td>\n",
       "    </tr>\n",
       "    <tr>\n",
       "      <th>4402</th>\n",
       "      <td>sheilakathryn</td>\n",
       "      <td>female</td>\n",
       "      <td>s</td>\n",
       "      <td>sh</td>\n",
       "      <td>she</td>\n",
       "      <td>n</td>\n",
       "      <td>yn</td>\n",
       "    </tr>\n",
       "    <tr>\n",
       "      <th>4672</th>\n",
       "      <td>theresa-marie</td>\n",
       "      <td>female</td>\n",
       "      <td>t</td>\n",
       "      <td>th</td>\n",
       "      <td>the</td>\n",
       "      <td>e</td>\n",
       "      <td>ie</td>\n",
       "    </tr>\n",
       "    <tr>\n",
       "      <th>6294</th>\n",
       "      <td>jean-christophe</td>\n",
       "      <td>male</td>\n",
       "      <td>j</td>\n",
       "      <td>je</td>\n",
       "      <td>jea</td>\n",
       "      <td>e</td>\n",
       "      <td>he</td>\n",
       "    </tr>\n",
       "    <tr>\n",
       "      <th>6295</th>\n",
       "      <td>jean-francois</td>\n",
       "      <td>male</td>\n",
       "      <td>j</td>\n",
       "      <td>je</td>\n",
       "      <td>jea</td>\n",
       "      <td>s</td>\n",
       "      <td>is</td>\n",
       "    </tr>\n",
       "  </tbody>\n",
       "</table>\n",
       "</div>"
      ],
      "text/plain": [
       "                 name  gender SW1L SW2L SW3L EW1L EW2L\n",
       "2134  helen-elizabeth  female    h   he  hel    h   th\n",
       "4400   sheila-kathryn  female    s   sh  she    n   yn\n",
       "4402    sheilakathryn  female    s   sh  she    n   yn\n",
       "4672    theresa-marie  female    t   th  the    e   ie\n",
       "6294  jean-christophe    male    j   je  jea    e   he\n",
       "6295    jean-francois    male    j   je  jea    s   is"
      ]
     },
     "execution_count": 36,
     "metadata": {},
     "output_type": "execute_result"
    }
   ],
   "source": [
    "df_names_long = df_names.loc[df_names['name'].str.len() > 12]\n",
    "df_names_long.head(20)"
   ]
  },
  {
   "cell_type": "markdown",
   "id": "f2511af4-bba6-4ca0-a2d0-1bcceaf1650f",
   "metadata": {},
   "source": [
    "## Some EDA"
   ]
  },
  {
   "cell_type": "code",
   "execution_count": 37,
   "id": "0cf333a1-445e-4342-b4bd-353b0f672c26",
   "metadata": {},
   "outputs": [
    {
     "data": {
      "text/plain": [
       "<matplotlib.axes._subplots.AxesSubplot at 0x7f994ee0b250>"
      ]
     },
     "execution_count": 37,
     "metadata": {},
     "output_type": "execute_result"
    },
    {
     "data": {
      "image/png": "[encoded data removed]",
      "text/plain": [
       "<Figure size 432x288 with 1 Axes>"
      ]
     },
     "metadata": {
      "needs_background": "light"
     },
     "output_type": "display_data"
    }
   ],
   "source": [
    "sns.histplot(data=df_names, x=\"SW1L\", hue=\"gender\", multiple=\"dodge\", shrink=.8)"
   ]
  },
  {
   "cell_type": "code",
   "execution_count": 38,
   "id": "8f5490b7-377b-4a91-989b-1a222c85eb7f",
   "metadata": {},
   "outputs": [
    {
     "data": {
      "text/plain": [
       "<matplotlib.axes._subplots.AxesSubplot at 0x7f994f142ad0>"
      ]
     },
     "execution_count": 38,
     "metadata": {},
     "output_type": "execute_result"
    },
    {
     "data": {
      "image/png": "[encoded data removed]",
      "text/plain": [
       "<Figure size 432x288 with 1 Axes>"
      ]
     },
     "metadata": {
      "needs_background": "light"
     },
     "output_type": "display_data"
    }
   ],
   "source": [
    "sns.histplot(data=df_names, x=\"EW1L\", hue=\"gender\", multiple=\"dodge\", shrink=.8)"
   ]
  },
  {
   "cell_type": "markdown",
   "id": "6b0f8f63-32df-4498-b5fc-75d9d7b56712",
   "metadata": {},
   "source": [
    "## Scikit learn example"
   ]
  },
  {
   "cell_type": "code",
   "execution_count": 39,
   "id": "f4a9590a-cdfa-439a-983c-8e69b6906d1d",
   "metadata": {},
   "outputs": [],
   "source": [
    "# https://scikit-learn.org/stable/auto_examples/classification/plot_digits_classification.html#sphx-glr-auto-examples-classification-plot-digits-classification-py\n",
    "import matplotlib.pyplot as plt\n",
    "\n",
    "from sklearn import svm, metrics\n",
    "from sklearn.model_selection import train_test_split"
   ]
  },
  {
   "cell_type": "code",
   "execution_count": 40,
   "id": "0df7da91-efd1-4c07-bde6-09cc032c967a",
   "metadata": {
    "tags": []
   },
   "outputs": [],
   "source": [
    "clf_svm = svm.SVC(gamma=0.001)"
   ]
  },
  {
   "cell_type": "code",
   "execution_count": 41,
   "id": "e63def4f-df51-41cb-b4c3-8afdd7caab55",
   "metadata": {},
   "outputs": [],
   "source": [
    "df_names_factors = df_names"
   ]
  },
  {
   "cell_type": "code",
   "execution_count": 42,
   "id": "d0f564bf-7c4b-449a-9adb-3253e1311cf6",
   "metadata": {},
   "outputs": [
    {
     "data": {
      "text/html": [
       "<div>\n",
       "<style scoped>\n",
       "    .dataframe tbody tr th:only-of-type {\n",
       "        vertical-align: middle;\n",
       "    }\n",
       "\n",
       "    .dataframe tbody tr th {\n",
       "        vertical-align: top;\n",
       "    }\n",
       "\n",
       "    .dataframe thead th {\n",
       "        text-align: right;\n",
       "    }\n",
       "</style>\n",
       "<table border=\"1\" class=\"dataframe\">\n",
       "  <thead>\n",
       "    <tr style=\"text-align: right;\">\n",
       "      <th></th>\n",
       "      <th>name</th>\n",
       "      <th>gender</th>\n",
       "      <th>SW1L</th>\n",
       "      <th>SW2L</th>\n",
       "      <th>SW3L</th>\n",
       "      <th>EW1L</th>\n",
       "      <th>EW2L</th>\n",
       "    </tr>\n",
       "  </thead>\n",
       "  <tbody>\n",
       "    <tr>\n",
       "      <th>0</th>\n",
       "      <td>abagael</td>\n",
       "      <td>0</td>\n",
       "      <td>0</td>\n",
       "      <td>0</td>\n",
       "      <td>0</td>\n",
       "      <td>0</td>\n",
       "      <td>0</td>\n",
       "    </tr>\n",
       "    <tr>\n",
       "      <th>1</th>\n",
       "      <td>abagail</td>\n",
       "      <td>0</td>\n",
       "      <td>0</td>\n",
       "      <td>0</td>\n",
       "      <td>0</td>\n",
       "      <td>0</td>\n",
       "      <td>1</td>\n",
       "    </tr>\n",
       "    <tr>\n",
       "      <th>2</th>\n",
       "      <td>abbe</td>\n",
       "      <td>0</td>\n",
       "      <td>0</td>\n",
       "      <td>0</td>\n",
       "      <td>1</td>\n",
       "      <td>1</td>\n",
       "      <td>2</td>\n",
       "    </tr>\n",
       "    <tr>\n",
       "      <th>3</th>\n",
       "      <td>abbey</td>\n",
       "      <td>0</td>\n",
       "      <td>0</td>\n",
       "      <td>0</td>\n",
       "      <td>1</td>\n",
       "      <td>2</td>\n",
       "      <td>3</td>\n",
       "    </tr>\n",
       "    <tr>\n",
       "      <th>4</th>\n",
       "      <td>abbi</td>\n",
       "      <td>0</td>\n",
       "      <td>0</td>\n",
       "      <td>0</td>\n",
       "      <td>1</td>\n",
       "      <td>3</td>\n",
       "      <td>4</td>\n",
       "    </tr>\n",
       "  </tbody>\n",
       "</table>\n",
       "</div>"
      ],
      "text/plain": [
       "      name  gender  SW1L  SW2L  SW3L  EW1L  EW2L\n",
       "0  abagael       0     0     0     0     0     0\n",
       "1  abagail       0     0     0     0     0     1\n",
       "2     abbe       0     0     0     1     1     2\n",
       "3    abbey       0     0     0     1     2     3\n",
       "4     abbi       0     0     0     1     3     4"
      ]
     },
     "execution_count": 42,
     "metadata": {},
     "output_type": "execute_result"
    }
   ],
   "source": [
    "df_names_factors['gender'] = df_names_factors['gender'].factorize()[0] \n",
    "df_names_factors['SW1L'] = df_names_factors['SW1L'].factorize()[0] \n",
    "df_names_factors['EW1L'] = df_names_factors['EW1L'].factorize()[0] \n",
    "df_names_factors['SW2L'] = df_names_factors['SW2L'].factorize()[0] \n",
    "df_names_factors['EW2L'] = df_names_factors['EW2L'].factorize()[0] \n",
    "df_names_factors['SW3L'] = df_names_factors['SW3L'].factorize()[0] \n",
    "df_names_factors.head()"
   ]
  },
  {
   "cell_type": "code",
   "execution_count": 43,
   "id": "7675b0c8-4b03-4445-8dcd-7a680f65134e",
   "metadata": {},
   "outputs": [
    {
     "data": {
      "text/html": [
       "<div>\n",
       "<style scoped>\n",
       "    .dataframe tbody tr th:only-of-type {\n",
       "        vertical-align: middle;\n",
       "    }\n",
       "\n",
       "    .dataframe tbody tr th {\n",
       "        vertical-align: top;\n",
       "    }\n",
       "\n",
       "    .dataframe thead th {\n",
       "        text-align: right;\n",
       "    }\n",
       "</style>\n",
       "<table border=\"1\" class=\"dataframe\">\n",
       "  <thead>\n",
       "    <tr style=\"text-align: right;\">\n",
       "      <th></th>\n",
       "      <th>SW1L</th>\n",
       "      <th>EW1L</th>\n",
       "      <th>SW2L</th>\n",
       "      <th>EW2L</th>\n",
       "      <th>SW3L</th>\n",
       "    </tr>\n",
       "  </thead>\n",
       "  <tbody>\n",
       "    <tr>\n",
       "      <th>0</th>\n",
       "      <td>0</td>\n",
       "      <td>0</td>\n",
       "      <td>0</td>\n",
       "      <td>0</td>\n",
       "      <td>0</td>\n",
       "    </tr>\n",
       "    <tr>\n",
       "      <th>1</th>\n",
       "      <td>0</td>\n",
       "      <td>0</td>\n",
       "      <td>0</td>\n",
       "      <td>1</td>\n",
       "      <td>0</td>\n",
       "    </tr>\n",
       "    <tr>\n",
       "      <th>2</th>\n",
       "      <td>0</td>\n",
       "      <td>1</td>\n",
       "      <td>0</td>\n",
       "      <td>2</td>\n",
       "      <td>1</td>\n",
       "    </tr>\n",
       "    <tr>\n",
       "      <th>3</th>\n",
       "      <td>0</td>\n",
       "      <td>2</td>\n",
       "      <td>0</td>\n",
       "      <td>3</td>\n",
       "      <td>1</td>\n",
       "    </tr>\n",
       "    <tr>\n",
       "      <th>4</th>\n",
       "      <td>0</td>\n",
       "      <td>3</td>\n",
       "      <td>0</td>\n",
       "      <td>4</td>\n",
       "      <td>1</td>\n",
       "    </tr>\n",
       "  </tbody>\n",
       "</table>\n",
       "</div>"
      ],
      "text/plain": [
       "   SW1L  EW1L  SW2L  EW2L  SW3L\n",
       "0     0     0     0     0     0\n",
       "1     0     0     0     1     0\n",
       "2     0     1     0     2     1\n",
       "3     0     2     0     3     1\n",
       "4     0     3     0     4     1"
      ]
     },
     "execution_count": 43,
     "metadata": {},
     "output_type": "execute_result"
    }
   ],
   "source": [
    "df_names_factors_clf_in = df_names_factors[['SW1L','EW1L','SW2L','EW2L','SW3L']]\n",
    "df_names_factors_clf_in.head()"
   ]
  },
  {
   "cell_type": "code",
   "execution_count": 44,
   "id": "5f0aa1c5-e216-470d-a947-7b8a7b59ba9c",
   "metadata": {},
   "outputs": [
    {
     "data": {
      "text/html": [
       "<div>\n",
       "<style scoped>\n",
       "    .dataframe tbody tr th:only-of-type {\n",
       "        vertical-align: middle;\n",
       "    }\n",
       "\n",
       "    .dataframe tbody tr th {\n",
       "        vertical-align: top;\n",
       "    }\n",
       "\n",
       "    .dataframe thead th {\n",
       "        text-align: right;\n",
       "    }\n",
       "</style>\n",
       "<table border=\"1\" class=\"dataframe\">\n",
       "  <thead>\n",
       "    <tr style=\"text-align: right;\">\n",
       "      <th></th>\n",
       "      <th>gender</th>\n",
       "    </tr>\n",
       "  </thead>\n",
       "  <tbody>\n",
       "    <tr>\n",
       "      <th>0</th>\n",
       "      <td>0</td>\n",
       "    </tr>\n",
       "    <tr>\n",
       "      <th>1</th>\n",
       "      <td>0</td>\n",
       "    </tr>\n",
       "    <tr>\n",
       "      <th>2</th>\n",
       "      <td>0</td>\n",
       "    </tr>\n",
       "    <tr>\n",
       "      <th>3</th>\n",
       "      <td>0</td>\n",
       "    </tr>\n",
       "    <tr>\n",
       "      <th>4</th>\n",
       "      <td>0</td>\n",
       "    </tr>\n",
       "  </tbody>\n",
       "</table>\n",
       "</div>"
      ],
      "text/plain": [
       "   gender\n",
       "0       0\n",
       "1       0\n",
       "2       0\n",
       "3       0\n",
       "4       0"
      ]
     },
     "execution_count": 44,
     "metadata": {},
     "output_type": "execute_result"
    }
   ],
   "source": [
    "df_names_factors_clf_tar = df_names_factors[['gender']]\n",
    "df_names_factors_clf_tar.head()"
   ]
  },
  {
   "cell_type": "code",
   "execution_count": 45,
   "id": "4f786413-75c9-4502-8793-03fdd8ef02ec",
   "metadata": {},
   "outputs": [],
   "source": [
    "X_train, X_test, y_train, y_test = train_test_split(df_names_factors_clf_in, \n",
    "                                                    df_names_factors_clf_tar,\n",
    "                                                    test_size=0.5, shuffle=True)"
   ]
  },
  {
   "cell_type": "code",
   "execution_count": 46,
   "id": "80d0911a-48a3-45c4-a604-8ea9ddcc4274",
   "metadata": {},
   "outputs": [
    {
     "name": "stderr",
     "output_type": "stream",
     "text": [
      "/opt/anaconda3/envs/sps620env/lib/python3.7/site-packages/sklearn/utils/validation.py:993: DataConversionWarning: A column-vector y was passed when a 1d array was expected. Please change the shape of y to (n_samples, ), for example using ravel().\n",
      "  y = column_or_1d(y, warn=True)\n"
     ]
    },
    {
     "data": {
      "text/plain": [
       "SVC(gamma=0.001)"
      ]
     },
     "execution_count": 46,
     "metadata": {},
     "output_type": "execute_result"
    }
   ],
   "source": [
    "clf_svm.fit(X_train, y_train)"
   ]
  },
  {
   "cell_type": "code",
   "execution_count": 47,
   "id": "28e67657-a660-4a2a-ab19-3a30bd3d323f",
   "metadata": {},
   "outputs": [],
   "source": [
    "pred_svm = clf_svm.predict(X_test)"
   ]
  },
  {
   "cell_type": "code",
   "execution_count": 48,
   "id": "ff96f876-fc8f-4007-8964-1edc548893de",
   "metadata": {},
   "outputs": [
    {
     "name": "stdout",
     "output_type": "stream",
     "text": [
      "Classification report for classifier SVC(gamma=0.001):\n",
      "              precision    recall  f1-score   support\n",
      "\n",
      "           0       0.78      0.94      0.85      2494\n",
      "           1       0.84      0.55      0.66      1478\n",
      "\n",
      "    accuracy                           0.79      3972\n",
      "   macro avg       0.81      0.74      0.76      3972\n",
      "weighted avg       0.80      0.79      0.78      3972\n",
      "\n",
      "\n"
     ]
    }
   ],
   "source": [
    "print(\n",
    "    f\"Classification report for classifier {clf_svm}:\\n\"\n",
    "    f\"{metrics.classification_report(y_test, pred_svm)}\\n\"\n",
    ")"
   ]
  },
  {
   "cell_type": "code",
   "execution_count": 49,
   "id": "00cc1ec4-eb47-4392-9e14-514cd0e57842",
   "metadata": {},
   "outputs": [
    {
     "name": "stdout",
     "output_type": "stream",
     "text": [
      "Confusion matrix:\n",
      "[[2343  151]\n",
      " [ 668  810]]\n"
     ]
    },
    {
     "data": {
      "image/png": "[encoded data removed]",
      "text/plain": [
       "<Figure size 432x288 with 2 Axes>"
      ]
     },
     "metadata": {
      "needs_background": "light"
     },
     "output_type": "display_data"
    }
   ],
   "source": [
    "disp = metrics.ConfusionMatrixDisplay.from_predictions(y_test, pred_svm)\n",
    "disp.figure_.suptitle(\"Confusion Matrix\")\n",
    "print(f\"Confusion matrix:\\n{disp.confusion_matrix}\")\n",
    "\n",
    "plt.show()"
   ]
  },
  {
   "cell_type": "code",
   "execution_count": 50,
   "id": "d1e0560d-09e0-4e5e-ab67-94bb7f282c76",
   "metadata": {},
   "outputs": [],
   "source": [
    "# Let's try Naive Bayes\n",
    "# https://scikit-learn.org/stable/modules/naive_bayes.html\n",
    "from sklearn.naive_bayes import GaussianNB"
   ]
  },
  {
   "cell_type": "code",
   "execution_count": 51,
   "id": "e64d841b-99d3-4629-b831-12a331fdfa97",
   "metadata": {},
   "outputs": [],
   "source": [
    "clf_gnb = GaussianNB()"
   ]
  },
  {
   "cell_type": "code",
   "execution_count": 52,
   "id": "b5d5d176-fa8a-4bc4-82d3-62e483e7d104",
   "metadata": {},
   "outputs": [
    {
     "name": "stderr",
     "output_type": "stream",
     "text": [
      "/opt/anaconda3/envs/sps620env/lib/python3.7/site-packages/sklearn/utils/validation.py:993: DataConversionWarning: A column-vector y was passed when a 1d array was expected. Please change the shape of y to (n_samples, ), for example using ravel().\n",
      "  y = column_or_1d(y, warn=True)\n"
     ]
    },
    {
     "data": {
      "text/plain": [
       "GaussianNB()"
      ]
     },
     "execution_count": 52,
     "metadata": {},
     "output_type": "execute_result"
    }
   ],
   "source": [
    "clf_gnb.fit(X_train, y_train)"
   ]
  },
  {
   "cell_type": "code",
   "execution_count": 53,
   "id": "bd9af2be-cde4-4b03-a8be-12bedfebfa8c",
   "metadata": {},
   "outputs": [],
   "source": [
    "pred_gnb = clf_gnb.predict(X_test)"
   ]
  },
  {
   "cell_type": "code",
   "execution_count": 54,
   "id": "93e401eb-239d-41f4-a970-a71114ffee20",
   "metadata": {},
   "outputs": [
    {
     "name": "stdout",
     "output_type": "stream",
     "text": [
      "Classification report for classifier GaussianNB():\n",
      "              precision    recall  f1-score   support\n",
      "\n",
      "           0       0.78      0.90      0.84      2494\n",
      "           1       0.77      0.57      0.66      1478\n",
      "\n",
      "    accuracy                           0.78      3972\n",
      "   macro avg       0.78      0.74      0.75      3972\n",
      "weighted avg       0.78      0.78      0.77      3972\n",
      "\n",
      "\n"
     ]
    }
   ],
   "source": [
    "print(\n",
    "    f\"Classification report for classifier {clf_gnb}:\\n\"\n",
    "    f\"{metrics.classification_report(y_test, pred_gnb)}\\n\"\n",
    ")"
   ]
  },
  {
   "cell_type": "code",
   "execution_count": 55,
   "id": "023bd3bc-5c74-4964-868b-f023a25e0bc8",
   "metadata": {},
   "outputs": [
    {
     "name": "stdout",
     "output_type": "stream",
     "text": [
      "Confusion matrix:\n",
      "[[2243  251]\n",
      " [ 634  844]]\n"
     ]
    },
    {
     "data": {
      "image/png": "[encoded data removed]",
      "text/plain": [
       "<Figure size 432x288 with 2 Axes>"
      ]
     },
     "metadata": {
      "needs_background": "light"
     },
     "output_type": "display_data"
    }
   ],
   "source": [
    "disp = metrics.ConfusionMatrixDisplay.from_predictions(y_test, pred_gnb)\n",
    "disp.figure_.suptitle(\"Confusion Matrix\")\n",
    "print(f\"Confusion matrix:\\n{disp.confusion_matrix}\")\n",
    "\n",
    "plt.show()"
   ]
  },
  {
   "cell_type": "code",
   "execution_count": 56,
   "id": "3ebec80a-64b3-47e2-a896-ac48fb306324",
   "metadata": {},
   "outputs": [
    {
     "name": "stdout",
     "output_type": "stream",
     "text": [
      "Classification report for classifier DecisionTreeClassifier():\n",
      "              precision    recall  f1-score   support\n",
      "\n",
      "           0       0.83      0.83      0.83      2494\n",
      "           1       0.72      0.71      0.72      1478\n",
      "\n",
      "    accuracy                           0.79      3972\n",
      "   macro avg       0.77      0.77      0.77      3972\n",
      "weighted avg       0.79      0.79      0.79      3972\n",
      "\n",
      "\n",
      "Confusion matrix:\n",
      "[[2079  415]\n",
      " [ 424 1054]]\n"
     ]
    },
    {
     "data": {
      "image/png": "[encoded data removed]",
      "text/plain": [
       "<Figure size 432x288 with 2 Axes>"
      ]
     },
     "metadata": {
      "needs_background": "light"
     },
     "output_type": "display_data"
    }
   ],
   "source": [
    "# Decision tree\n",
    "# https://scikit-learn.org/stable/modules/tree.html#classification\n",
    "from sklearn import tree\n",
    "\n",
    "clf_dtr = tree.DecisionTreeClassifier()\n",
    "clf_dtr.fit(X_train, y_train)\n",
    "pred_dtr = clf_dtr.predict(X_test)\n",
    "print(\n",
    "    f\"Classification report for classifier {clf_dtr}:\\n\"\n",
    "    f\"{metrics.classification_report(y_test, pred_dtr)}\\n\"\n",
    ")\n",
    "disp = metrics.ConfusionMatrixDisplay.from_predictions(y_test, pred_dtr)\n",
    "disp.figure_.suptitle(\"Confusion Matrix\")\n",
    "print(f\"Confusion matrix:\\n{disp.confusion_matrix}\")\n",
    "\n",
    "plt.show()"
   ]
  },
  {
   "cell_type": "code",
   "execution_count": 57,
   "id": "77e3e941-0976-4fa9-bac5-a3e39ccc56c5",
   "metadata": {},
   "outputs": [
    {
     "data": {
      "text/plain": [
       "array([0.03743875, 0.3223506 , 0.09899908, 0.18120091, 0.36001065])"
      ]
     },
     "execution_count": 57,
     "metadata": {},
     "output_type": "execute_result"
    }
   ],
   "source": [
    "clf_dtr.feature_importances_"
   ]
  },
  {
   "cell_type": "code",
   "execution_count": 58,
   "id": "a4a391a4-e710-4a72-9d6a-f4c155eb210c",
   "metadata": {},
   "outputs": [
    {
     "name": "stderr",
     "output_type": "stream",
     "text": [
      "/opt/anaconda3/envs/sps620env/lib/python3.7/site-packages/sklearn/neighbors/_classification.py:198: DataConversionWarning: A column-vector y was passed when a 1d array was expected. Please change the shape of y to (n_samples,), for example using ravel().\n",
      "  return self._fit(X, y)\n"
     ]
    },
    {
     "name": "stdout",
     "output_type": "stream",
     "text": [
      "Classification report for classifier KNeighborsClassifier(n_neighbors=10):\n",
      "              precision    recall  f1-score   support\n",
      "\n",
      "           0       0.77      0.94      0.85      2494\n",
      "           1       0.84      0.53      0.65      1478\n",
      "\n",
      "    accuracy                           0.79      3972\n",
      "   macro avg       0.81      0.74      0.75      3972\n",
      "weighted avg       0.80      0.79      0.78      3972\n",
      "\n",
      "\n",
      "Confusion matrix:\n",
      "[[2342  152]\n",
      " [ 689  789]]\n"
     ]
    },
    {
     "data": {
      "image/png": "[encoded data removed]",
      "text/plain": [
       "<Figure size 432x288 with 2 Axes>"
      ]
     },
     "metadata": {
      "needs_background": "light"
     },
     "output_type": "display_data"
    }
   ],
   "source": [
    "# kNN\n",
    "# https://scikit-learn.org/stable/auto_examples/neighbors/plot_classification.html#sphx-glr-auto-examples-neighbors-plot-classification-py\n",
    "from sklearn import neighbors, datasets\n",
    "n_neighbors = 10\n",
    "clf_knn = neighbors.KNeighborsClassifier(n_neighbors)\n",
    "clf_knn.fit(X_train, y_train)\n",
    "pred_knn = clf_knn.predict(X_test)\n",
    "print(\n",
    "    f\"Classification report for classifier {clf_knn}:\\n\"\n",
    "    f\"{metrics.classification_report(y_test, pred_knn)}\\n\"\n",
    ")\n",
    "disp = metrics.ConfusionMatrixDisplay.from_predictions(y_test, pred_knn)\n",
    "disp.figure_.suptitle(\"Confusion Matrix\")\n",
    "print(f\"Confusion matrix:\\n{disp.confusion_matrix}\")\n",
    "\n",
    "plt.show()"
   ]
  },
  {
   "cell_type": "code",
   "execution_count": 59,
   "id": "f0246ec5-81fc-4f86-b2cf-b1f22d2d640c",
   "metadata": {},
   "outputs": [
    {
     "name": "stdout",
     "output_type": "stream",
     "text": [
      "Accuracy: 0.80 (+/- 0.01) [Logistic Regression]\n",
      "Accuracy: 0.81 (+/- 0.01) [Random Forest]\n",
      "Accuracy: 0.78 (+/- 0.01) [Naive Bayes]\n",
      "Accuracy: 0.81 (+/- 0.01) [Ensemble]\n"
     ]
    }
   ],
   "source": [
    "# Voting classifier\n",
    "# https://scikit-learn.org/stable/modules/ensemble.html#voting-classifier\n",
    "\n",
    "from sklearn.model_selection import cross_val_score\n",
    "from sklearn.linear_model import LogisticRegression\n",
    "from sklearn.naive_bayes import GaussianNB\n",
    "from sklearn.ensemble import RandomForestClassifier\n",
    "from sklearn.ensemble import VotingClassifier\n",
    "import warnings\n",
    "warnings.filterwarnings('ignore')\n",
    "\n",
    "clf_lr = LogisticRegression(random_state=1)\n",
    "clf_rf = RandomForestClassifier(n_estimators=50, random_state=1)\n",
    "clf_nb = GaussianNB()\n",
    "\n",
    "eclf = VotingClassifier(\n",
    "    estimators=[('lr', clf_lr), ('rf', clf_rf), ('gnb', clf_nb)],\n",
    "    voting='hard')\n",
    "\n",
    "for clf, label in zip([clf_lr, clf_rf, clf_nb, eclf], ['Logistic Regression', 'Random Forest', 'Naive Bayes', 'Ensemble']):\n",
    "    scores = cross_val_score(clf, X_train, y_train, scoring='accuracy', cv=5)\n",
    "    print(\"Accuracy: %0.2f (+/- %0.2f) [%s]\" % (scores.mean(), scores.std(), label))"
   ]
  },
  {
   "cell_type": "code",
   "execution_count": null,
   "id": "e78d7162-65eb-4f09-a82c-7ca1e9914c6f",
   "metadata": {},
   "outputs": [],
   "source": []
  },
  {
   "cell_type": "code",
   "execution_count": null,
   "id": "720f07b5-7d99-48d0-b912-dda9db686c65",
   "metadata": {},
   "outputs": [],
   "source": []
  },
  {
   "cell_type": "code",
   "execution_count": null,
   "id": "78f85c3e-68ca-493e-85ad-35f529f49d2a",
   "metadata": {},
   "outputs": [],
   "source": []
  },
  {
   "cell_type": "code",
   "execution_count": 60,
   "id": "46e1dc62-5722-496b-bf09-d055f5fc39ae",
   "metadata": {},
   "outputs": [
    {
     "data": {
      "text/html": [
       "<div>\n",
       "<style scoped>\n",
       "    .dataframe tbody tr th:only-of-type {\n",
       "        vertical-align: middle;\n",
       "    }\n",
       "\n",
       "    .dataframe tbody tr th {\n",
       "        vertical-align: top;\n",
       "    }\n",
       "\n",
       "    .dataframe thead th {\n",
       "        text-align: right;\n",
       "    }\n",
       "</style>\n",
       "<table border=\"1\" class=\"dataframe\">\n",
       "  <thead>\n",
       "    <tr style=\"text-align: right;\">\n",
       "      <th></th>\n",
       "      <th>name</th>\n",
       "      <th>gender</th>\n",
       "    </tr>\n",
       "  </thead>\n",
       "  <tbody>\n",
       "    <tr>\n",
       "      <th>0</th>\n",
       "      <td>cordelie</td>\n",
       "      <td>female</td>\n",
       "    </tr>\n",
       "    <tr>\n",
       "      <th>1</th>\n",
       "      <td>peggie</td>\n",
       "      <td>female</td>\n",
       "    </tr>\n",
       "    <tr>\n",
       "      <th>2</th>\n",
       "      <td>solange</td>\n",
       "      <td>female</td>\n",
       "    </tr>\n",
       "    <tr>\n",
       "      <th>3</th>\n",
       "      <td>rana</td>\n",
       "      <td>female</td>\n",
       "    </tr>\n",
       "    <tr>\n",
       "      <th>4</th>\n",
       "      <td>jessy</td>\n",
       "      <td>female</td>\n",
       "    </tr>\n",
       "    <tr>\n",
       "      <th>...</th>\n",
       "      <td>...</td>\n",
       "      <td>...</td>\n",
       "    </tr>\n",
       "    <tr>\n",
       "      <th>7934</th>\n",
       "      <td>rosina</td>\n",
       "      <td>female</td>\n",
       "    </tr>\n",
       "    <tr>\n",
       "      <th>7935</th>\n",
       "      <td>shirline</td>\n",
       "      <td>female</td>\n",
       "    </tr>\n",
       "    <tr>\n",
       "      <th>7936</th>\n",
       "      <td>paulita</td>\n",
       "      <td>female</td>\n",
       "    </tr>\n",
       "    <tr>\n",
       "      <th>7937</th>\n",
       "      <td>fraser</td>\n",
       "      <td>male</td>\n",
       "    </tr>\n",
       "    <tr>\n",
       "      <th>7938</th>\n",
       "      <td>roland</td>\n",
       "      <td>male</td>\n",
       "    </tr>\n",
       "  </tbody>\n",
       "</table>\n",
       "<p>7939 rows × 2 columns</p>\n",
       "</div>"
      ],
      "text/plain": [
       "          name  gender\n",
       "0     cordelie  female\n",
       "1       peggie  female\n",
       "2      solange  female\n",
       "3         rana  female\n",
       "4        jessy  female\n",
       "...        ...     ...\n",
       "7934    rosina  female\n",
       "7935  shirline  female\n",
       "7936   paulita  female\n",
       "7937    fraser    male\n",
       "7938    roland    male\n",
       "\n",
       "[7939 rows x 2 columns]"
      ]
     },
     "execution_count": 60,
     "metadata": {},
     "output_type": "execute_result"
    }
   ],
   "source": [
    "labeled_names = ([(name, 'male') for name in names.words('male.txt')] + [(name, 'female') for name in names.words('female.txt')])\n",
    "random.seed(123)\n",
    "random.shuffle(labeled_names)\n",
    "labeled_names\n",
    "df_names = pd.DataFrame(labeled_names, columns=['name','gender'])\n",
    "df_names['name'] = df_names['name'].str.lower()\n",
    "df_names.head(-5)"
   ]
  },
  {
   "cell_type": "code",
   "execution_count": 61,
   "id": "57a14c61-a93e-4937-82c3-3b803e425ac2",
   "metadata": {},
   "outputs": [
    {
     "data": {
      "text/html": [
       "<div>\n",
       "<style scoped>\n",
       "    .dataframe tbody tr th:only-of-type {\n",
       "        vertical-align: middle;\n",
       "    }\n",
       "\n",
       "    .dataframe tbody tr th {\n",
       "        vertical-align: top;\n",
       "    }\n",
       "\n",
       "    .dataframe thead th {\n",
       "        text-align: right;\n",
       "    }\n",
       "</style>\n",
       "<table border=\"1\" class=\"dataframe\">\n",
       "  <thead>\n",
       "    <tr style=\"text-align: right;\">\n",
       "      <th></th>\n",
       "      <th>name</th>\n",
       "      <th>gender</th>\n",
       "      <th>SW1L</th>\n",
       "      <th>SW2L</th>\n",
       "      <th>SW3L</th>\n",
       "      <th>EW1L</th>\n",
       "      <th>EW2L</th>\n",
       "      <th>length</th>\n",
       "    </tr>\n",
       "  </thead>\n",
       "  <tbody>\n",
       "    <tr>\n",
       "      <th>0</th>\n",
       "      <td>cordelie</td>\n",
       "      <td>female</td>\n",
       "      <td>c</td>\n",
       "      <td>co</td>\n",
       "      <td>cor</td>\n",
       "      <td>e</td>\n",
       "      <td>ie</td>\n",
       "      <td>8</td>\n",
       "    </tr>\n",
       "    <tr>\n",
       "      <th>1</th>\n",
       "      <td>peggie</td>\n",
       "      <td>female</td>\n",
       "      <td>p</td>\n",
       "      <td>pe</td>\n",
       "      <td>peg</td>\n",
       "      <td>e</td>\n",
       "      <td>ie</td>\n",
       "      <td>6</td>\n",
       "    </tr>\n",
       "    <tr>\n",
       "      <th>2</th>\n",
       "      <td>solange</td>\n",
       "      <td>female</td>\n",
       "      <td>s</td>\n",
       "      <td>so</td>\n",
       "      <td>sol</td>\n",
       "      <td>e</td>\n",
       "      <td>ge</td>\n",
       "      <td>7</td>\n",
       "    </tr>\n",
       "    <tr>\n",
       "      <th>3</th>\n",
       "      <td>rana</td>\n",
       "      <td>female</td>\n",
       "      <td>r</td>\n",
       "      <td>ra</td>\n",
       "      <td>ran</td>\n",
       "      <td>a</td>\n",
       "      <td>na</td>\n",
       "      <td>4</td>\n",
       "    </tr>\n",
       "    <tr>\n",
       "      <th>4</th>\n",
       "      <td>jessy</td>\n",
       "      <td>female</td>\n",
       "      <td>j</td>\n",
       "      <td>je</td>\n",
       "      <td>jes</td>\n",
       "      <td>y</td>\n",
       "      <td>sy</td>\n",
       "      <td>5</td>\n",
       "    </tr>\n",
       "  </tbody>\n",
       "</table>\n",
       "</div>"
      ],
      "text/plain": [
       "       name  gender SW1L SW2L SW3L EW1L EW2L  length\n",
       "0  cordelie  female    c   co  cor    e   ie       8\n",
       "1    peggie  female    p   pe  peg    e   ie       6\n",
       "2   solange  female    s   so  sol    e   ge       7\n",
       "3      rana  female    r   ra  ran    a   na       4\n",
       "4     jessy  female    j   je  jes    y   sy       5"
      ]
     },
     "execution_count": 61,
     "metadata": {},
     "output_type": "execute_result"
    }
   ],
   "source": [
    "df_names['SW1L'] = df_names['name'].astype(str).str[0]\n",
    "df_names['SW2L'] = df_names['name'].astype(str).str[0:2]\n",
    "df_names['SW3L'] = df_names['name'].astype(str).str[0:3]\n",
    "df_names['EW1L'] = df_names['name'].astype(str).str[-1]\n",
    "df_names['EW2L'] = df_names['name'].astype(str).str[-2:]\n",
    "df_names['length'] = df_names['name'].str.len()\n",
    "df_names.head()"
   ]
  },
  {
   "cell_type": "code",
   "execution_count": 62,
   "id": "e0ef80c3-8ac1-454b-8eaa-7863f5711d75",
   "metadata": {},
   "outputs": [],
   "source": [
    "df_names_factors = df_names"
   ]
  },
  {
   "cell_type": "code",
   "execution_count": 63,
   "id": "772817bb-dce7-46d5-a072-55daa19d6658",
   "metadata": {},
   "outputs": [
    {
     "data": {
      "text/html": [
       "<div>\n",
       "<style scoped>\n",
       "    .dataframe tbody tr th:only-of-type {\n",
       "        vertical-align: middle;\n",
       "    }\n",
       "\n",
       "    .dataframe tbody tr th {\n",
       "        vertical-align: top;\n",
       "    }\n",
       "\n",
       "    .dataframe thead th {\n",
       "        text-align: right;\n",
       "    }\n",
       "</style>\n",
       "<table border=\"1\" class=\"dataframe\">\n",
       "  <thead>\n",
       "    <tr style=\"text-align: right;\">\n",
       "      <th></th>\n",
       "      <th>name</th>\n",
       "      <th>gender</th>\n",
       "      <th>SW1L</th>\n",
       "      <th>SW2L</th>\n",
       "      <th>SW3L</th>\n",
       "      <th>EW1L</th>\n",
       "      <th>EW2L</th>\n",
       "      <th>length</th>\n",
       "      <th>f_gender</th>\n",
       "      <th>f_SW1L</th>\n",
       "      <th>f_EW1L</th>\n",
       "      <th>f_SW2L</th>\n",
       "      <th>f_EW2L</th>\n",
       "      <th>f_SW3L</th>\n",
       "    </tr>\n",
       "  </thead>\n",
       "  <tbody>\n",
       "    <tr>\n",
       "      <th>0</th>\n",
       "      <td>cordelie</td>\n",
       "      <td>female</td>\n",
       "      <td>c</td>\n",
       "      <td>co</td>\n",
       "      <td>cor</td>\n",
       "      <td>e</td>\n",
       "      <td>ie</td>\n",
       "      <td>8</td>\n",
       "      <td>0</td>\n",
       "      <td>0</td>\n",
       "      <td>0</td>\n",
       "      <td>0</td>\n",
       "      <td>0</td>\n",
       "      <td>0</td>\n",
       "    </tr>\n",
       "    <tr>\n",
       "      <th>1</th>\n",
       "      <td>peggie</td>\n",
       "      <td>female</td>\n",
       "      <td>p</td>\n",
       "      <td>pe</td>\n",
       "      <td>peg</td>\n",
       "      <td>e</td>\n",
       "      <td>ie</td>\n",
       "      <td>6</td>\n",
       "      <td>0</td>\n",
       "      <td>1</td>\n",
       "      <td>0</td>\n",
       "      <td>1</td>\n",
       "      <td>0</td>\n",
       "      <td>1</td>\n",
       "    </tr>\n",
       "    <tr>\n",
       "      <th>2</th>\n",
       "      <td>solange</td>\n",
       "      <td>female</td>\n",
       "      <td>s</td>\n",
       "      <td>so</td>\n",
       "      <td>sol</td>\n",
       "      <td>e</td>\n",
       "      <td>ge</td>\n",
       "      <td>7</td>\n",
       "      <td>0</td>\n",
       "      <td>2</td>\n",
       "      <td>0</td>\n",
       "      <td>2</td>\n",
       "      <td>1</td>\n",
       "      <td>2</td>\n",
       "    </tr>\n",
       "    <tr>\n",
       "      <th>3</th>\n",
       "      <td>rana</td>\n",
       "      <td>female</td>\n",
       "      <td>r</td>\n",
       "      <td>ra</td>\n",
       "      <td>ran</td>\n",
       "      <td>a</td>\n",
       "      <td>na</td>\n",
       "      <td>4</td>\n",
       "      <td>0</td>\n",
       "      <td>3</td>\n",
       "      <td>1</td>\n",
       "      <td>3</td>\n",
       "      <td>2</td>\n",
       "      <td>3</td>\n",
       "    </tr>\n",
       "    <tr>\n",
       "      <th>4</th>\n",
       "      <td>jessy</td>\n",
       "      <td>female</td>\n",
       "      <td>j</td>\n",
       "      <td>je</td>\n",
       "      <td>jes</td>\n",
       "      <td>y</td>\n",
       "      <td>sy</td>\n",
       "      <td>5</td>\n",
       "      <td>0</td>\n",
       "      <td>4</td>\n",
       "      <td>2</td>\n",
       "      <td>4</td>\n",
       "      <td>3</td>\n",
       "      <td>4</td>\n",
       "    </tr>\n",
       "  </tbody>\n",
       "</table>\n",
       "</div>"
      ],
      "text/plain": [
       "       name  gender SW1L SW2L SW3L EW1L EW2L  length  f_gender  f_SW1L  \\\n",
       "0  cordelie  female    c   co  cor    e   ie       8         0       0   \n",
       "1    peggie  female    p   pe  peg    e   ie       6         0       1   \n",
       "2   solange  female    s   so  sol    e   ge       7         0       2   \n",
       "3      rana  female    r   ra  ran    a   na       4         0       3   \n",
       "4     jessy  female    j   je  jes    y   sy       5         0       4   \n",
       "\n",
       "   f_EW1L  f_SW2L  f_EW2L  f_SW3L  \n",
       "0       0       0       0       0  \n",
       "1       0       1       0       1  \n",
       "2       0       2       1       2  \n",
       "3       1       3       2       3  \n",
       "4       2       4       3       4  "
      ]
     },
     "execution_count": 63,
     "metadata": {},
     "output_type": "execute_result"
    }
   ],
   "source": [
    "df_names_factors['f_gender'] = df_names_factors['gender'].factorize()[0] \n",
    "df_names_factors['f_SW1L'] = df_names_factors['SW1L'].factorize()[0] \n",
    "df_names_factors['f_EW1L'] = df_names_factors['EW1L'].factorize()[0] \n",
    "df_names_factors['f_SW2L'] = df_names_factors['SW2L'].factorize()[0] \n",
    "df_names_factors['f_EW2L'] = df_names_factors['EW2L'].factorize()[0] \n",
    "df_names_factors['f_SW3L'] = df_names_factors['SW3L'].factorize()[0] \n",
    "df_names_factors.head()"
   ]
  },
  {
   "cell_type": "code",
   "execution_count": 64,
   "id": "80eeee02-8087-482a-a734-e0d13b5e376c",
   "metadata": {},
   "outputs": [],
   "source": [
    "# 500 for final evaluation\n",
    "df_test_names = df_names_factors[:500]\n",
    "# 500 for progress\n",
    "df_devtest_names = df_names_factors[500:1000]\n",
    "# Remainder of labeled names\n",
    "df_train_names = df_names_factors[1000:]"
   ]
  },
  {
   "cell_type": "code",
   "execution_count": 65,
   "id": "bc52caa7-004d-40f9-8ff0-13d76e2648ac",
   "metadata": {},
   "outputs": [
    {
     "data": {
      "text/html": [
       "<div>\n",
       "<style scoped>\n",
       "    .dataframe tbody tr th:only-of-type {\n",
       "        vertical-align: middle;\n",
       "    }\n",
       "\n",
       "    .dataframe tbody tr th {\n",
       "        vertical-align: top;\n",
       "    }\n",
       "\n",
       "    .dataframe thead th {\n",
       "        text-align: right;\n",
       "    }\n",
       "</style>\n",
       "<table border=\"1\" class=\"dataframe\">\n",
       "  <thead>\n",
       "    <tr style=\"text-align: right;\">\n",
       "      <th></th>\n",
       "      <th>f_gender</th>\n",
       "    </tr>\n",
       "  </thead>\n",
       "  <tbody>\n",
       "    <tr>\n",
       "      <th>1000</th>\n",
       "      <td>0</td>\n",
       "    </tr>\n",
       "    <tr>\n",
       "      <th>1001</th>\n",
       "      <td>1</td>\n",
       "    </tr>\n",
       "    <tr>\n",
       "      <th>1002</th>\n",
       "      <td>0</td>\n",
       "    </tr>\n",
       "    <tr>\n",
       "      <th>1003</th>\n",
       "      <td>0</td>\n",
       "    </tr>\n",
       "    <tr>\n",
       "      <th>1004</th>\n",
       "      <td>1</td>\n",
       "    </tr>\n",
       "  </tbody>\n",
       "</table>\n",
       "</div>"
      ],
      "text/plain": [
       "      f_gender\n",
       "1000         0\n",
       "1001         1\n",
       "1002         0\n",
       "1003         0\n",
       "1004         1"
      ]
     },
     "execution_count": 65,
     "metadata": {},
     "output_type": "execute_result"
    }
   ],
   "source": [
    "df_train_factors_clf_in = df_train_names[['f_SW1L','f_EW1L','f_SW2L','f_EW2L','f_SW3L','length']]\n",
    "df_train_factors_clf_in.head()\n",
    "df_train_factors_clf_tar = df_train_names[['f_gender']]\n",
    "df_train_factors_clf_tar.head()"
   ]
  },
  {
   "cell_type": "code",
   "execution_count": 66,
   "id": "8d43ee8c-47c8-4097-b282-8e185bf168ce",
   "metadata": {},
   "outputs": [
    {
     "data": {
      "text/html": [
       "<div>\n",
       "<style scoped>\n",
       "    .dataframe tbody tr th:only-of-type {\n",
       "        vertical-align: middle;\n",
       "    }\n",
       "\n",
       "    .dataframe tbody tr th {\n",
       "        vertical-align: top;\n",
       "    }\n",
       "\n",
       "    .dataframe thead th {\n",
       "        text-align: right;\n",
       "    }\n",
       "</style>\n",
       "<table border=\"1\" class=\"dataframe\">\n",
       "  <thead>\n",
       "    <tr style=\"text-align: right;\">\n",
       "      <th></th>\n",
       "      <th>f_gender</th>\n",
       "    </tr>\n",
       "  </thead>\n",
       "  <tbody>\n",
       "    <tr>\n",
       "      <th>500</th>\n",
       "      <td>1</td>\n",
       "    </tr>\n",
       "    <tr>\n",
       "      <th>501</th>\n",
       "      <td>1</td>\n",
       "    </tr>\n",
       "    <tr>\n",
       "      <th>502</th>\n",
       "      <td>1</td>\n",
       "    </tr>\n",
       "    <tr>\n",
       "      <th>503</th>\n",
       "      <td>0</td>\n",
       "    </tr>\n",
       "    <tr>\n",
       "      <th>504</th>\n",
       "      <td>0</td>\n",
       "    </tr>\n",
       "  </tbody>\n",
       "</table>\n",
       "</div>"
      ],
      "text/plain": [
       "     f_gender\n",
       "500         1\n",
       "501         1\n",
       "502         1\n",
       "503         0\n",
       "504         0"
      ]
     },
     "execution_count": 66,
     "metadata": {},
     "output_type": "execute_result"
    }
   ],
   "source": [
    "df_devtest_factors_clf_in = df_devtest_names[['f_SW1L','f_EW1L','f_SW2L','f_EW2L','f_SW3L','length']]\n",
    "#df_train_factors_clf_in.head()\n",
    "df_devtest_factors_clf_tar = df_devtest_names[['f_gender']]\n",
    "df_devtest_factors_clf_tar.head()"
   ]
  },
  {
   "cell_type": "code",
   "execution_count": 67,
   "id": "ce15b6f2-1255-4785-83cc-7f8622f82b26",
   "metadata": {},
   "outputs": [
    {
     "data": {
      "text/html": [
       "<div>\n",
       "<style scoped>\n",
       "    .dataframe tbody tr th:only-of-type {\n",
       "        vertical-align: middle;\n",
       "    }\n",
       "\n",
       "    .dataframe tbody tr th {\n",
       "        vertical-align: top;\n",
       "    }\n",
       "\n",
       "    .dataframe thead th {\n",
       "        text-align: right;\n",
       "    }\n",
       "</style>\n",
       "<table border=\"1\" class=\"dataframe\">\n",
       "  <thead>\n",
       "    <tr style=\"text-align: right;\">\n",
       "      <th></th>\n",
       "      <th>f_gender</th>\n",
       "    </tr>\n",
       "  </thead>\n",
       "  <tbody>\n",
       "    <tr>\n",
       "      <th>0</th>\n",
       "      <td>0</td>\n",
       "    </tr>\n",
       "    <tr>\n",
       "      <th>1</th>\n",
       "      <td>0</td>\n",
       "    </tr>\n",
       "    <tr>\n",
       "      <th>2</th>\n",
       "      <td>0</td>\n",
       "    </tr>\n",
       "    <tr>\n",
       "      <th>3</th>\n",
       "      <td>0</td>\n",
       "    </tr>\n",
       "    <tr>\n",
       "      <th>4</th>\n",
       "      <td>0</td>\n",
       "    </tr>\n",
       "  </tbody>\n",
       "</table>\n",
       "</div>"
      ],
      "text/plain": [
       "   f_gender\n",
       "0         0\n",
       "1         0\n",
       "2         0\n",
       "3         0\n",
       "4         0"
      ]
     },
     "execution_count": 67,
     "metadata": {},
     "output_type": "execute_result"
    }
   ],
   "source": [
    "df_test_factors_clf_in = df_test_names[['f_SW1L','f_EW1L','f_SW2L','f_EW2L','f_SW3L','length']]\n",
    "#df_test_factors_clf_in.head()\n",
    "df_test_factors_clf_tar = df_test_names[['f_gender']]\n",
    "df_test_factors_clf_tar.head()"
   ]
  },
  {
   "cell_type": "code",
   "execution_count": 68,
   "id": "0f35fafb-d230-4c05-acf2-a4019087dcb8",
   "metadata": {},
   "outputs": [
    {
     "data": {
      "text/plain": [
       "SVC(gamma=0.001)"
      ]
     },
     "execution_count": 68,
     "metadata": {},
     "output_type": "execute_result"
    }
   ],
   "source": [
    "clf_svm.fit(df_train_factors_clf_in, df_train_factors_clf_tar)"
   ]
  },
  {
   "cell_type": "code",
   "execution_count": 69,
   "id": "50e41cb1-f7fc-48af-b2b7-eeee5cc83538",
   "metadata": {},
   "outputs": [],
   "source": [
    "pred_svm = clf_svm.predict(df_devtest_factors_clf_in)"
   ]
  },
  {
   "cell_type": "code",
   "execution_count": 70,
   "id": "07f29c6f-c51e-497f-a7a2-1d4da67a1b8e",
   "metadata": {},
   "outputs": [
    {
     "name": "stdout",
     "output_type": "stream",
     "text": [
      "Classification report for classifier SVC(gamma=0.001):\n",
      "              precision    recall  f1-score   support\n",
      "\n",
      "           0       0.70      0.87      0.78       314\n",
      "           1       0.63      0.37      0.46       186\n",
      "\n",
      "    accuracy                           0.68       500\n",
      "   macro avg       0.66      0.62      0.62       500\n",
      "weighted avg       0.67      0.68      0.66       500\n",
      "\n",
      "\n"
     ]
    }
   ],
   "source": [
    "print(\n",
    "    f\"Classification report for classifier {clf_svm}:\\n\"\n",
    "    f\"{metrics.classification_report(df_devtest_factors_clf_tar, pred_svm)}\\n\"\n",
    ")"
   ]
  },
  {
   "cell_type": "code",
   "execution_count": 71,
   "id": "28b5d630-1430-4777-b6c6-caa3957c3c4f",
   "metadata": {},
   "outputs": [
    {
     "name": "stdout",
     "output_type": "stream",
     "text": [
      "Confusion matrix:\n",
      "[[274  40]\n",
      " [118  68]]\n"
     ]
    },
    {
     "data": {
      "image/png": "[encoded data removed]",
      "text/plain": [
       "<Figure size 432x288 with 2 Axes>"
      ]
     },
     "metadata": {
      "needs_background": "light"
     },
     "output_type": "display_data"
    }
   ],
   "source": [
    "disp = metrics.ConfusionMatrixDisplay.from_predictions(df_devtest_factors_clf_tar, pred_svm)\n",
    "disp.figure_.suptitle(\"Confusion Matrix\")\n",
    "print(f\"Confusion matrix:\\n{disp.confusion_matrix}\")\n",
    "\n",
    "plt.show()"
   ]
  },
  {
   "cell_type": "markdown",
   "id": "128a04ba-0af3-4c99-89dc-d56b05fd4994",
   "metadata": {},
   "source": [
    "from sklearn.model_selection import cross_val_score\n",
    "clf_svm_cv = svm.SVC(kernel='linear', C=1, random_state=42)\n",
    "scores = cross_val_score(clf_svm_cv, df_train_factors_clf_in, df_train_factors_clf_tar, cv=5)\n",
    "scores\n",
    "print(\"%0.2f accuracy with a standard deviation of %0.2f\" % (scores.mean(), scores.std()))"
   ]
  },
  {
   "cell_type": "markdown",
   "id": "4f65fee5-f7a0-42ca-a5af-1afb84313d3e",
   "metadata": {},
   "source": [
    "print(\"%0.2f accuracy with a standard deviation of %0.2f\" % (scores.mean(), scores.std()))"
   ]
  },
  {
   "cell_type": "code",
   "execution_count": 78,
   "id": "314da05c-1823-44b9-8dce-4f4868b849d4",
   "metadata": {},
   "outputs": [
    {
     "name": "stdout",
     "output_type": "stream",
     "text": [
      "Accuracy: 0.73 (+/- 0.01) [Logistic Regression]\n",
      "Accuracy: 0.78 (+/- 0.01) [Random Forest]\n",
      "Accuracy: 0.71 (+/- 0.01) [Naive Bayes]\n",
      "Accuracy: 0.74 (+/- 0.01) [Ensemble]\n"
     ]
    }
   ],
   "source": [
    "clf_lr = LogisticRegression(random_state=1)\n",
    "clf_rf = RandomForestClassifier(n_estimators=50, random_state=1)\n",
    "clf_nb = GaussianNB()\n",
    "\n",
    "eclf = VotingClassifier(\n",
    "    estimators=[('lr', clf_lr), ('rf', clf_rf), ('gnb', clf_nb)],\n",
    "    voting='hard')\n",
    "\n",
    "for clf, label in zip([clf_lr, clf_rf, clf_nb, eclf], ['Logistic Regression', 'Random Forest', 'Naive Bayes', 'Ensemble']):\n",
    "    scores = cross_val_score(clf, df_train_factors_clf_in, df_train_factors_clf_tar, scoring='accuracy', cv=5)\n",
    "    print(\"Accuracy: %0.2f (+/- %0.2f) [%s]\" % (scores.mean(), scores.std(), label))"
   ]
  },
  {
   "cell_type": "code",
   "execution_count": 73,
   "id": "654fe85b-22b6-4042-8639-84c16180ca9a",
   "metadata": {},
   "outputs": [
    {
     "data": {
      "text/plain": [
       "MLPClassifier(alpha=1e-05, hidden_layer_sizes=(5, 2), random_state=1,\n",
       "              solver='lbfgs')"
      ]
     },
     "execution_count": 73,
     "metadata": {},
     "output_type": "execute_result"
    }
   ],
   "source": [
    "# Neural Network\n",
    "# https://scikit-learn.org/stable/modules/neural_networks_supervised.html#classification\n",
    "\n",
    "from sklearn.neural_network import MLPClassifier\n",
    "clf_nn = MLPClassifier(solver='lbfgs', alpha=1e-5,\n",
    "                    hidden_layer_sizes=(5, 2), random_state=1)\n",
    "\n",
    "clf_nn.fit(df_train_factors_clf_in, df_train_factors_clf_tar)\n"
   ]
  },
  {
   "cell_type": "code",
   "execution_count": 74,
   "id": "e6ffe6d6-a339-46c9-81fd-7faa0b3a608a",
   "metadata": {},
   "outputs": [
    {
     "name": "stdout",
     "output_type": "stream",
     "text": [
      "Classification report for classifier MLPClassifier(alpha=1e-05, hidden_layer_sizes=(5, 2), random_state=1,\n",
      "              solver='lbfgs'):\n",
      "              precision    recall  f1-score   support\n",
      "\n",
      "           0       0.73      0.94      0.82       314\n",
      "           1       0.79      0.41      0.54       186\n",
      "\n",
      "    accuracy                           0.74       500\n",
      "   macro avg       0.76      0.68      0.68       500\n",
      "weighted avg       0.75      0.74      0.72       500\n",
      "\n",
      "\n",
      "Confusion matrix:\n",
      "[[294  20]\n",
      " [109  77]]\n"
     ]
    },
    {
     "data": {
      "image/png": "[encoded data removed]",
      "text/plain": [
       "<Figure size 432x288 with 2 Axes>"
      ]
     },
     "metadata": {
      "needs_background": "light"
     },
     "output_type": "display_data"
    }
   ],
   "source": [
    "pred_nn = clf_nn.predict(df_devtest_factors_clf_in)\n",
    "print(\n",
    "    f\"Classification report for classifier {clf_nn}:\\n\"\n",
    "    f\"{metrics.classification_report(df_devtest_factors_clf_tar, pred_nn)}\\n\"\n",
    ")\n",
    "disp = metrics.ConfusionMatrixDisplay.from_predictions(df_devtest_factors_clf_tar, pred_nn)\n",
    "disp.figure_.suptitle(\"Confusion Matrix\")\n",
    "print(f\"Confusion matrix:\\n{disp.confusion_matrix}\")\n",
    "\n",
    "plt.show()"
   ]
  },
  {
   "cell_type": "markdown",
   "id": "448d9c5f-d2b8-4567-8033-88576dc562b0",
   "metadata": {},
   "source": [
    "## Calibration Curve\n",
    "\n",
    "https://scikit-learn.org/stable/auto_examples/calibration/plot_calibration_curve.html#sphx-glr-auto-examples-calibration-plot-calibration-curve-py\n"
   ]
  },
  {
   "cell_type": "code",
   "execution_count": 75,
   "id": "840d51e6-0eda-4ac1-a909-a412f69e7e94",
   "metadata": {},
   "outputs": [],
   "source": [
    "import matplotlib.pyplot as plt\n",
    "from matplotlib.gridspec import GridSpec\n",
    "\n",
    "from sklearn.calibration import CalibratedClassifierCV, CalibrationDisplay\n",
    "from sklearn.linear_model import LogisticRegression\n",
    "from sklearn.naive_bayes import GaussianNB\n",
    "\n",
    "lr = LogisticRegression(C=1.0)\n",
    "gnb = GaussianNB()\n",
    "gnb_isotonic = CalibratedClassifierCV(gnb, cv=2, method=\"isotonic\")\n",
    "gnb_sigmoid = CalibratedClassifierCV(gnb, cv=2, method=\"sigmoid\")\n",
    "\n",
    "clf_list = [\n",
    "    (lr, \"Logistic\"),\n",
    "    (gnb, \"Naive Bayes\"),\n",
    "    (gnb_isotonic, \"Naive Bayes + Isotonic\"),\n",
    "    (gnb_sigmoid, \"Naive Bayes + Sigmoid\"),\n",
    "]"
   ]
  },
  {
   "cell_type": "code",
   "execution_count": 76,
   "id": "35b04452-9525-4f1d-86ba-8efc7da277e0",
   "metadata": {},
   "outputs": [
    {
     "data": {
      "image/png": "[encoded data removed]",
      "text/plain": [
       "<Figure size 720x720 with 5 Axes>"
      ]
     },
     "metadata": {
      "needs_background": "light"
     },
     "output_type": "display_data"
    }
   ],
   "source": [
    "fig = plt.figure(figsize=(10, 10))\n",
    "gs = GridSpec(4, 2)\n",
    "colors = plt.cm.get_cmap(\"Dark2\")\n",
    "\n",
    "ax_calibration_curve = fig.add_subplot(gs[:2, :2])\n",
    "calibration_displays = {}\n",
    "for i, (clf, name) in enumerate(clf_list):\n",
    "    clf.fit(df_train_factors_clf_in, df_train_factors_clf_tar)\n",
    "    display = CalibrationDisplay.from_estimator(\n",
    "        clf,\n",
    "        df_devtest_factors_clf_in,\n",
    "        df_devtest_factors_clf_tar,\n",
    "        n_bins=10,\n",
    "        name=name,\n",
    "        ax=ax_calibration_curve,\n",
    "        color=colors(i),\n",
    "    )\n",
    "    calibration_displays[name] = display\n",
    "\n",
    "ax_calibration_curve.grid()\n",
    "ax_calibration_curve.set_title(\"Calibration plots (Naive Bayes)\")\n",
    "\n",
    "# Add histogram\n",
    "grid_positions = [(2, 0), (2, 1), (3, 0), (3, 1)]\n",
    "for i, (_, name) in enumerate(clf_list):\n",
    "    row, col = grid_positions[i]\n",
    "    ax = fig.add_subplot(gs[row, col])\n",
    "\n",
    "    ax.hist(\n",
    "        calibration_displays[name].y_prob,\n",
    "        range=(0, 1),\n",
    "        bins=10,\n",
    "        label=name,\n",
    "        color=colors(i),\n",
    "    )\n",
    "    ax.set(title=name, xlabel=\"Mean predicted probability\", ylabel=\"Count\")\n",
    "\n",
    "plt.tight_layout()\n",
    "plt.show()"
   ]
  },
  {
   "cell_type": "code",
   "execution_count": null,
   "id": "a2c1df4d-09aa-45a2-9a66-aedc6ce06309",
   "metadata": {},
   "outputs": [],
   "source": []
  },
  {
   "cell_type": "code",
   "execution_count": null,
   "id": "ae5eecb7-fc4c-4c08-894f-578e0ab97a76",
   "metadata": {},
   "outputs": [],
   "source": []
  },
  {
   "cell_type": "code",
   "execution_count": null,
   "id": "c9d4b676-d3dc-42f1-97e6-dac780368231",
   "metadata": {},
   "outputs": [],
   "source": []
  }
 ],
 "metadata": {
  "kernelspec": {
   "display_name": "Python 3 (ipykernel)",
   "language": "python",
   "name": "python3"
  },
  "language_info": {
   "codemirror_mode": {
    "name": "ipython",
    "version": 3
   },
   "file_extension": ".py",
   "mimetype": "text/x-python",
   "name": "python",
   "nbconvert_exporter": "python",
   "pygments_lexer": "ipython3",
   "version": "3.7.11"
  }
 },
 "nbformat": 4,
 "nbformat_minor": 5
}

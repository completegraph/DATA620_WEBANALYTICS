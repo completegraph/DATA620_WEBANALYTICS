{
 "cells": [
  {
   "cell_type": "code",
   "execution_count": 1,
   "metadata": {
    "collapsed": false,
    "jupyter": {
     "outputs_hidden": false
    }
   },
   "outputs": [],
   "source": [
    "%matplotlib inline"
   ]
  },
  {
   "cell_type": "markdown",
   "metadata": {},
   "source": [
    "\n",
    "# LDA Model\n",
    "\n",
    "Introduces Gensim's LDA model and demonstrates its use on the NIPS corpus.\n"
   ]
  },
  {
   "cell_type": "code",
   "execution_count": 2,
   "metadata": {
    "collapsed": false,
    "jupyter": {
     "outputs_hidden": false
    }
   },
   "outputs": [],
   "source": [
    "import logging\n",
    "logging.basicConfig(format='%(asctime)s : %(levelname)s : %(message)s', level=logging.INFO)"
   ]
  },
  {
   "cell_type": "markdown",
   "metadata": {},
   "source": [
    "The purpose of this tutorial is to demonstrate how to train and tune an LDA model.\n",
    "\n",
    "In this tutorial we will:\n",
    "\n",
    "* Load input data.\n",
    "* Pre-process that data.\n",
    "* Transform documents into bag-of-words vectors.\n",
    "* Train an LDA model.\n",
    "\n",
    "This tutorial will **not**:\n",
    "\n",
    "* Explain how Latent Dirichlet Allocation works\n",
    "* Explain how the LDA model performs inference\n",
    "* Teach you all the parameters and options for Gensim's LDA implementation\n",
    "\n",
    "If you are not familiar with the LDA model or how to use it in Gensim, I (Olavur Mortensen)\n",
    "suggest you read up on that before continuing with this tutorial. Basic\n",
    "understanding of the LDA model should suffice. Examples:\n",
    "\n",
    "* `Introduction to Latent Dirichlet Allocation <http://blog.echen.me/2011/08/22/introduction-to-latent-dirichlet-allocation>`_\n",
    "* Gensim tutorial: `sphx_glr_auto_examples_core_run_topics_and_transformations.py`\n",
    "* Gensim's LDA model API docs: :py:class:`gensim.models.LdaModel`\n",
    "\n",
    "I would also encourage you to consider each step when applying the model to\n",
    "your data, instead of just blindly applying my solution. The different steps\n",
    "will depend on your data and possibly your goal with the model.\n",
    "\n",
    "## Data\n",
    "\n",
    "I have used a corpus of NIPS papers in this tutorial, but if you're following\n",
    "this tutorial just to learn about LDA I encourage you to consider picking a\n",
    "corpus on a subject that you are familiar with. Qualitatively evaluating the\n",
    "output of an LDA model is challenging and can require you to understand the\n",
    "subject matter of your corpus (depending on your goal with the model).\n",
    "\n",
    "NIPS (Neural Information Processing Systems) is a machine learning conference\n",
    "so the subject matter should be well suited for most of the target audience\n",
    "of this tutorial.  You can download the original data from Sam Roweis'\n",
    "`website <http://www.cs.nyu.edu/~roweis/data.html>`_.  The code below will\n",
    "also do that for you.\n",
    "\n",
    ".. Important::\n",
    "    The corpus contains 1740 documents, and not particularly long ones.\n",
    "    So keep in mind that this tutorial is not geared towards efficiency, and be\n",
    "    careful before applying the code to a large dataset.\n",
    "\n",
    "\n"
   ]
  },
  {
   "cell_type": "code",
   "execution_count": 3,
   "metadata": {
    "collapsed": false,
    "jupyter": {
     "outputs_hidden": false
    }
   },
   "outputs": [],
   "source": [
    "import io\n",
    "import os.path\n",
    "import re\n",
    "import tarfile\n",
    "\n",
    "import smart_open\n",
    "\n",
    "def extract_documents(url='https://cs.nyu.edu/~roweis/data/nips12raw_str602.tgz'):\n",
    "    with smart_open.open(url, \"rb\") as file:\n",
    "        with tarfile.open(fileobj=file) as tar:\n",
    "            for member in tar.getmembers():\n",
    "                if member.isfile() and re.search(r'nipstxt/nips\\d+/\\d+\\.txt', member.name):\n",
    "                    member_bytes = tar.extractfile(member).read()\n",
    "                    yield member_bytes.decode('utf-8', errors='replace')\n",
    "\n",
    "docs = list(extract_documents())"
   ]
  },
  {
   "cell_type": "markdown",
   "metadata": {},
   "source": [
    "So we have a list of 1740 documents, where each document is a Unicode string.\n",
    "If you're thinking about using your own corpus, then you need to make sure\n",
    "that it's in the same format (list of Unicode strings) before proceeding\n",
    "with the rest of this tutorial.\n",
    "\n",
    "\n"
   ]
  },
  {
   "cell_type": "code",
   "execution_count": 4,
   "metadata": {
    "collapsed": false,
    "jupyter": {
     "outputs_hidden": false
    }
   },
   "outputs": [
    {
     "name": "stdout",
     "output_type": "stream",
     "text": [
      "1740\n",
      "387 \n",
      "Neural Net and Traditional Classifiers  \n",
      "William Y. Huang and Richard P. Lippmann \n",
      "MIT Lincoln Laboratory \n",
      "Lexington, MA 02173, USA \n",
      "Abstract\n",
      "Previous work on nets with continuous-valued inputs led to generative \n",
      "procedures to construct convex decision regions with two-layer percepttons (one hidden \n",
      "layer) and arbitrary decision regions with three-layer percepttons (two hidden layers). \n",
      "Here we demonstrate that two-layer perceptton classifiers trained with back propagation \n",
      "can form both c\n"
     ]
    }
   ],
   "source": [
    "print(len(docs))\n",
    "print(docs[0][:500])"
   ]
  },
  {
   "cell_type": "markdown",
   "metadata": {},
   "source": [
    "## Pre-process and vectorize the documents\n",
    "\n",
    "As part of preprocessing, we will:\n",
    "\n",
    "* Tokenize (split the documents into tokens).\n",
    "* Lemmatize the tokens.\n",
    "* Compute bigrams.\n",
    "* Compute a bag-of-words representation of the data.\n",
    "\n",
    "First we tokenize the text using a regular expression tokenizer from NLTK. We\n",
    "remove numeric tokens and tokens that are only a single character, as they\n",
    "don't tend to be useful, and the dataset contains a lot of them.\n",
    "\n",
    ".. Important::\n",
    "\n",
    "   This tutorial uses the nltk library for preprocessing, although you can\n",
    "   replace it with something else if you want.\n",
    "\n",
    "\n"
   ]
  },
  {
   "cell_type": "code",
   "execution_count": 5,
   "metadata": {
    "collapsed": false,
    "jupyter": {
     "outputs_hidden": false
    }
   },
   "outputs": [],
   "source": [
    "# Tokenize the documents.\n",
    "from nltk.tokenize import RegexpTokenizer\n",
    "\n",
    "# Split the documents into tokens.\n",
    "tokenizer = RegexpTokenizer(r'\\w+')\n",
    "for idx in range(len(docs)):\n",
    "    docs[idx] = docs[idx].lower()  # Convert to lowercase.\n",
    "    docs[idx] = tokenizer.tokenize(docs[idx])  # Split into words.\n",
    "\n",
    "# Remove numbers, but not words that contain numbers.\n",
    "docs = [[token for token in doc if not token.isnumeric()] for doc in docs]\n",
    "\n",
    "# Remove words that are only one character.\n",
    "docs = [[token for token in doc if len(token) > 1] for doc in docs]"
   ]
  },
  {
   "cell_type": "markdown",
   "metadata": {},
   "source": [
    "We use the WordNet lemmatizer from NLTK. A lemmatizer is preferred over a\n",
    "stemmer in this case because it produces more readable words. Output that is\n",
    "easy to read is very desirable in topic modelling.\n",
    "\n",
    "\n"
   ]
  },
  {
   "cell_type": "code",
   "execution_count": 6,
   "metadata": {
    "collapsed": false,
    "jupyter": {
     "outputs_hidden": false
    }
   },
   "outputs": [],
   "source": [
    "# Lemmatize the documents.\n",
    "from nltk.stem.wordnet import WordNetLemmatizer\n",
    "\n",
    "lemmatizer = WordNetLemmatizer()\n",
    "docs = [[lemmatizer.lemmatize(token) for token in doc] for doc in docs]"
   ]
  },
  {
   "cell_type": "markdown",
   "metadata": {},
   "source": [
    "We find bigrams in the documents. Bigrams are sets of two adjacent words.\n",
    "Using bigrams we can get phrases like \"machine_learning\" in our output\n",
    "(spaces are replaced with underscores); without bigrams we would only get\n",
    "\"machine\" and \"learning\".\n",
    "\n",
    "Note that in the code below, we find bigrams and then add them to the\n",
    "original data, because we would like to keep the words \"machine\" and\n",
    "\"learning\" as well as the bigram \"machine_learning\".\n",
    "\n",
    ".. Important::\n",
    "    Computing n-grams of large dataset can be very computationally\n",
    "    and memory intensive.\n",
    "\n",
    "\n"
   ]
  },
  {
   "cell_type": "code",
   "execution_count": 10,
   "metadata": {
    "collapsed": false,
    "jupyter": {
     "outputs_hidden": false
    }
   },
   "outputs": [
    {
     "name": "stderr",
     "output_type": "stream",
     "text": [
      "2022-05-09 15:39:49,838 : INFO : collecting all words and their counts\n",
      "2022-05-09 15:39:49,838 : INFO : PROGRESS: at sentence #0, processed 0 words and 0 word types\n",
      "2022-05-09 15:39:54,520 : INFO : collected 1120198 token types (unigram + bigrams) from a corpus of 4629808 words and 1740 sentences\n",
      "2022-05-09 15:39:54,520 : INFO : merged Phrases<1120198 vocab, min_count=20, threshold=10.0, max_vocab_size=40000000>\n",
      "2022-05-09 15:39:54,521 : INFO : Phrases lifecycle event {'msg': 'built Phrases<1120198 vocab, min_count=20, threshold=10.0, max_vocab_size=40000000> in 4.68s', 'datetime': '2022-05-09T15:39:54.521410', 'gensim': '4.0.1', 'python': '3.7.7 (default, Mar 26 2020, 10:32:53) \\n[Clang 4.0.1 (tags/RELEASE_401/final)]', 'platform': 'Darwin-21.3.0-x86_64-i386-64bit', 'event': 'created'}\n"
     ]
    }
   ],
   "source": [
    "# Compute bigrams.\n",
    "from gensim.models import Phrases\n",
    "\n",
    "# Add bigrams and trigrams to docs (only ones that appear 20 times or more).\n",
    "bigram = Phrases(docs, min_count=20)\n",
    "for idx in range(len(docs)):\n",
    "    for token in bigram[docs[idx]]:\n",
    "        if '_' in token:\n",
    "            # Token is a bigram, add to document.\n",
    "            docs[idx].append(token)"
   ]
  },
  {
   "cell_type": "markdown",
   "metadata": {},
   "source": [
    "We remove rare words and common words based on their *document frequency*.\n",
    "Below we remove words that appear in less than 20 documents or in more than\n",
    "50% of the documents. Consider trying to remove words only based on their\n",
    "frequency, or maybe combining that with this approach.\n",
    "\n",
    "\n"
   ]
  },
  {
   "cell_type": "code",
   "execution_count": 11,
   "metadata": {
    "collapsed": false,
    "jupyter": {
     "outputs_hidden": false
    }
   },
   "outputs": [
    {
     "name": "stderr",
     "output_type": "stream",
     "text": [
      "2022-05-09 15:40:09,817 : INFO : adding document #0 to Dictionary(0 unique tokens: [])\n",
      "2022-05-09 15:40:12,590 : INFO : built Dictionary(79429 unique tokens: ['1ooooo', '1st', '25oo', '2o00', '4ooo']...) from 1740 documents (total 4953968 corpus positions)\n",
      "2022-05-09 15:40:12,591 : INFO : Dictionary lifecycle event {'msg': \"built Dictionary(79429 unique tokens: ['1ooooo', '1st', '25oo', '2o00', '4ooo']...) from 1740 documents (total 4953968 corpus positions)\", 'datetime': '2022-05-09T15:40:12.591236', 'gensim': '4.0.1', 'python': '3.7.7 (default, Mar 26 2020, 10:32:53) \\n[Clang 4.0.1 (tags/RELEASE_401/final)]', 'platform': 'Darwin-21.3.0-x86_64-i386-64bit', 'event': 'created'}\n",
      "2022-05-09 15:40:12,696 : INFO : discarding 70785 tokens: [('1ooooo', 1), ('25oo', 2), ('2o00', 6), ('4ooo', 2), ('64k', 6), ('a', 1740), ('aaditional', 1), ('above', 1114), ('abstract', 1740), ('acase', 1)]...\n",
      "2022-05-09 15:40:12,697 : INFO : keeping 8644 tokens which were in no less than 20 and no more than 870 (=50.0%) documents\n",
      "2022-05-09 15:40:12,732 : INFO : resulting dictionary: Dictionary(8644 unique tokens: ['1st', '5oo', '7th', 'a2', 'a_well']...)\n"
     ]
    }
   ],
   "source": [
    "# Remove rare and common tokens.\n",
    "from gensim.corpora import Dictionary\n",
    "\n",
    "# Create a dictionary representation of the documents.\n",
    "dictionary = Dictionary(docs)\n",
    "\n",
    "# Filter out words that occur less than 20 documents, or more than 50% of the documents.\n",
    "dictionary.filter_extremes(no_below=20, no_above=0.5)"
   ]
  },
  {
   "cell_type": "markdown",
   "metadata": {},
   "source": [
    "Finally, we transform the documents to a vectorized form. We simply compute\n",
    "the frequency of each word, including the bigrams.\n",
    "\n",
    "\n"
   ]
  },
  {
   "cell_type": "code",
   "execution_count": 12,
   "metadata": {
    "collapsed": false,
    "jupyter": {
     "outputs_hidden": false
    }
   },
   "outputs": [],
   "source": [
    "# Bag-of-words representation of the documents.\n",
    "corpus = [dictionary.doc2bow(doc) for doc in docs]"
   ]
  },
  {
   "cell_type": "markdown",
   "metadata": {},
   "source": [
    "Let's see how many tokens and documents we have to train on.\n",
    "\n",
    "\n"
   ]
  },
  {
   "cell_type": "code",
   "execution_count": 13,
   "metadata": {
    "collapsed": false,
    "jupyter": {
     "outputs_hidden": false
    }
   },
   "outputs": [
    {
     "name": "stdout",
     "output_type": "stream",
     "text": [
      "Number of unique tokens: 8644\n",
      "Number of documents: 1740\n"
     ]
    }
   ],
   "source": [
    "print('Number of unique tokens: %d' % len(dictionary))\n",
    "print('Number of documents: %d' % len(corpus))"
   ]
  },
  {
   "cell_type": "markdown",
   "metadata": {},
   "source": [
    "## Training\n",
    "\n",
    "We are ready to train the LDA model. We will first discuss how to set some of\n",
    "the training parameters.\n",
    "\n",
    "First of all, the elephant in the room: how many topics do I need? There is\n",
    "really no easy answer for this, it will depend on both your data and your\n",
    "application. I have used 10 topics here because I wanted to have a few topics\n",
    "that I could interpret and \"label\", and because that turned out to give me\n",
    "reasonably good results. You might not need to interpret all your topics, so\n",
    "you could use a large number of topics, for example 100.\n",
    "\n",
    "``chunksize`` controls how many documents are processed at a time in the\n",
    "training algorithm. Increasing chunksize will speed up training, at least as\n",
    "long as the chunk of documents easily fit into memory. I've set ``chunksize =\n",
    "2000``, which is more than the amount of documents, so I process all the\n",
    "data in one go. Chunksize can however influence the quality of the model, as\n",
    "discussed in Hoffman and co-authors [2], but the difference was not\n",
    "substantial in this case.\n",
    "\n",
    "``passes`` controls how often we train the model on the entire corpus.\n",
    "Another word for passes might be \"epochs\". ``iterations`` is somewhat\n",
    "technical, but essentially it controls how often we repeat a particular loop\n",
    "over each document. It is important to set the number of \"passes\" and\n",
    "\"iterations\" high enough.\n",
    "\n",
    "I suggest the following way to choose iterations and passes. First, enable\n",
    "logging (as described in many Gensim tutorials), and set ``eval_every = 1``\n",
    "in ``LdaModel``. When training the model look for a line in the log that\n",
    "looks something like this::\n",
    "\n",
    "   2016-06-21 15:40:06,753 - gensim.models.ldamodel - DEBUG - 68/1566 documents converged within 400 iterations\n",
    "\n",
    "If you set ``passes = 20`` you will see this line 20 times. Make sure that by\n",
    "the final passes, most of the documents have converged. So you want to choose\n",
    "both passes and iterations to be high enough for this to happen.\n",
    "\n",
    "We set ``alpha = 'auto'`` and ``eta = 'auto'``. Again this is somewhat\n",
    "technical, but essentially we are automatically learning two parameters in\n",
    "the model that we usually would have to specify explicitly.\n",
    "\n",
    "\n"
   ]
  },
  {
   "cell_type": "code",
   "execution_count": 22,
   "metadata": {
    "collapsed": false,
    "jupyter": {
     "outputs_hidden": false
    }
   },
   "outputs": [
    {
     "name": "stderr",
     "output_type": "stream",
     "text": [
      "2022-05-09 16:00:07,638 : INFO : using autotuned alpha, starting with [0.1, 0.1, 0.1, 0.1, 0.1, 0.1, 0.1, 0.1, 0.1, 0.1]\n",
      "2022-05-09 16:00:07,640 : INFO : using serial LDA version on this node\n",
      "2022-05-09 16:00:07,647 : INFO : running online (multi-pass) LDA training, 10 topics, 20 passes over the supplied corpus of 1740 documents, updating model once every 1740 documents, evaluating perplexity every 0 documents, iterating 400x with a convergence threshold of 0.001000\n",
      "2022-05-09 16:00:07,648 : INFO : PROGRESS: pass 0, at document #1740/1740\n",
      "2022-05-09 16:00:16,626 : INFO : optimized alpha [0.0722074, 0.06877765, 0.049051307, 0.11148574, 0.10504538, 0.06829283, 0.06951581, 0.050817113, 0.07109804, 0.08126742]\n",
      "2022-05-09 16:00:16,631 : INFO : topic #2 (0.049): 0.005*\"signal\" + 0.005*\"neuron\" + 0.005*\"layer\" + 0.003*\"noise\" + 0.003*\"module\" + 0.003*\"memory\" + 0.003*\"rule\" + 0.003*\"motion\" + 0.003*\"action\" + 0.003*\"tree\"\n",
      "2022-05-09 16:00:16,632 : INFO : topic #7 (0.051): 0.007*\"neuron\" + 0.004*\"spike\" + 0.004*\"voltage\" + 0.003*\"signal\" + 0.003*\"frequency\" + 0.003*\"noise\" + 0.003*\"fig\" + 0.003*\"memory\" + 0.003*\"chip\" + 0.003*\"circuit\"\n",
      "2022-05-09 16:00:16,633 : INFO : topic #9 (0.081): 0.005*\"cell\" + 0.005*\"neuron\" + 0.004*\"response\" + 0.003*\"optimal\" + 0.003*\"visual\" + 0.003*\"field\" + 0.002*\"object\" + 0.002*\"generalization\" + 0.002*\"matrix\" + 0.002*\"direction\"\n",
      "2022-05-09 16:00:16,633 : INFO : topic #4 (0.105): 0.004*\"field\" + 0.004*\"neuron\" + 0.004*\"action\" + 0.004*\"hidden\" + 0.003*\"control\" + 0.003*\"layer\" + 0.003*\"signal\" + 0.003*\"dynamic\" + 0.003*\"node\" + 0.002*\"image\"\n",
      "2022-05-09 16:00:16,634 : INFO : topic #3 (0.111): 0.005*\"hidden\" + 0.004*\"rule\" + 0.003*\"class\" + 0.003*\"matrix\" + 0.003*\"image\" + 0.003*\"layer\" + 0.003*\"sequence\" + 0.003*\"hidden_unit\" + 0.003*\"node\" + 0.003*\"recognition\"\n",
      "2022-05-09 16:00:16,635 : INFO : topic diff=1.192216, rho=1.000000\n",
      "2022-05-09 16:00:16,641 : INFO : PROGRESS: pass 1, at document #1740/1740\n",
      "2022-05-09 16:00:22,348 : INFO : optimized alpha [0.06016048, 0.055293463, 0.043082226, 0.09667305, 0.07693814, 0.05423051, 0.057569705, 0.04493035, 0.057068385, 0.06519089]\n",
      "2022-05-09 16:00:22,353 : INFO : topic #2 (0.043): 0.006*\"neuron\" + 0.006*\"signal\" + 0.004*\"control\" + 0.004*\"layer\" + 0.004*\"module\" + 0.003*\"movement\" + 0.003*\"cell\" + 0.003*\"activity\" + 0.003*\"memory\" + 0.003*\"recurrent\"\n",
      "2022-05-09 16:00:22,354 : INFO : topic #7 (0.045): 0.013*\"neuron\" + 0.007*\"spike\" + 0.005*\"voltage\" + 0.005*\"chip\" + 0.005*\"signal\" + 0.005*\"circuit\" + 0.004*\"memory\" + 0.004*\"fig\" + 0.004*\"frequency\" + 0.004*\"noise\"\n",
      "2022-05-09 16:00:22,355 : INFO : topic #9 (0.065): 0.008*\"cell\" + 0.007*\"neuron\" + 0.005*\"response\" + 0.003*\"field\" + 0.003*\"visual\" + 0.003*\"optimal\" + 0.003*\"stimulus\" + 0.003*\"activity\" + 0.003*\"generalization\" + 0.002*\"direction\"\n",
      "2022-05-09 16:00:22,355 : INFO : topic #4 (0.077): 0.005*\"action\" + 0.005*\"control\" + 0.005*\"field\" + 0.004*\"dynamic\" + 0.004*\"hidden\" + 0.003*\"layer\" + 0.003*\"neuron\" + 0.003*\"trajectory\" + 0.003*\"approximation\" + 0.003*\"policy\"\n",
      "2022-05-09 16:00:22,356 : INFO : topic #3 (0.097): 0.006*\"hidden\" + 0.004*\"rule\" + 0.004*\"class\" + 0.004*\"matrix\" + 0.003*\"hidden_unit\" + 0.003*\"sequence\" + 0.003*\"mixture\" + 0.003*\"layer\" + 0.003*\"node\" + 0.003*\"gaussian\"\n",
      "2022-05-09 16:00:22,357 : INFO : topic diff=0.291059, rho=0.577350\n",
      "2022-05-09 16:00:22,364 : INFO : PROGRESS: pass 2, at document #1740/1740\n",
      "2022-05-09 16:00:26,507 : INFO : optimized alpha [0.053384416, 0.04799253, 0.04012941, 0.08983808, 0.06375437, 0.047207512, 0.05194789, 0.042174246, 0.048176, 0.056467544]\n",
      "2022-05-09 16:00:26,512 : INFO : topic #2 (0.040): 0.006*\"neuron\" + 0.006*\"control\" + 0.005*\"signal\" + 0.005*\"motor\" + 0.004*\"movement\" + 0.004*\"module\" + 0.004*\"activity\" + 0.004*\"layer\" + 0.004*\"cell\" + 0.004*\"eye\"\n",
      "2022-05-09 16:00:26,513 : INFO : topic #7 (0.042): 0.017*\"neuron\" + 0.008*\"spike\" + 0.006*\"circuit\" + 0.006*\"chip\" + 0.005*\"signal\" + 0.005*\"voltage\" + 0.005*\"synaptic\" + 0.004*\"analog\" + 0.004*\"memory\" + 0.004*\"fig\"\n",
      "2022-05-09 16:00:26,513 : INFO : topic #9 (0.056): 0.011*\"cell\" + 0.008*\"neuron\" + 0.006*\"response\" + 0.004*\"field\" + 0.004*\"visual\" + 0.004*\"stimulus\" + 0.004*\"activity\" + 0.003*\"cortical\" + 0.003*\"optimal\" + 0.003*\"cortex\"\n",
      "2022-05-09 16:00:26,514 : INFO : topic #4 (0.064): 0.006*\"action\" + 0.006*\"control\" + 0.005*\"field\" + 0.004*\"dynamic\" + 0.004*\"policy\" + 0.004*\"reinforcement\" + 0.003*\"trajectory\" + 0.003*\"hidden\" + 0.003*\"optimal\" + 0.003*\"approximation\"\n",
      "2022-05-09 16:00:26,514 : INFO : topic #3 (0.090): 0.006*\"hidden\" + 0.004*\"rule\" + 0.004*\"class\" + 0.004*\"matrix\" + 0.003*\"gaussian\" + 0.003*\"mixture\" + 0.003*\"hidden_unit\" + 0.003*\"prediction\" + 0.003*\"estimate\" + 0.003*\"density\"\n",
      "2022-05-09 16:00:26,515 : INFO : topic diff=0.258024, rho=0.500000\n",
      "2022-05-09 16:00:26,521 : INFO : PROGRESS: pass 3, at document #1740/1740\n",
      "2022-05-09 16:00:30,129 : INFO : optimized alpha [0.049527425, 0.04416783, 0.038245194, 0.08554913, 0.05667535, 0.0434044, 0.0490935, 0.040518, 0.042532653, 0.051267475]\n",
      "2022-05-09 16:00:30,134 : INFO : topic #2 (0.038): 0.007*\"control\" + 0.006*\"motor\" + 0.005*\"neuron\" + 0.005*\"movement\" + 0.005*\"signal\" + 0.004*\"activity\" + 0.004*\"eye\" + 0.004*\"module\" + 0.004*\"recurrent\" + 0.004*\"layer\"\n",
      "2022-05-09 16:00:30,135 : INFO : topic #7 (0.041): 0.019*\"neuron\" + 0.009*\"spike\" + 0.007*\"circuit\" + 0.006*\"chip\" + 0.006*\"signal\" + 0.006*\"voltage\" + 0.005*\"synaptic\" + 0.005*\"analog\" + 0.005*\"firing\" + 0.004*\"fig\"\n",
      "2022-05-09 16:00:30,136 : INFO : topic #9 (0.051): 0.013*\"cell\" + 0.009*\"neuron\" + 0.007*\"response\" + 0.005*\"stimulus\" + 0.005*\"field\" + 0.005*\"visual\" + 0.004*\"activity\" + 0.004*\"cortical\" + 0.004*\"cortex\" + 0.003*\"orientation\"\n",
      "2022-05-09 16:00:30,137 : INFO : topic #4 (0.057): 0.007*\"action\" + 0.007*\"control\" + 0.005*\"policy\" + 0.005*\"field\" + 0.005*\"dynamic\" + 0.004*\"reinforcement\" + 0.004*\"optimal\" + 0.004*\"trajectory\" + 0.003*\"reinforcement_learning\" + 0.003*\"machine\"\n",
      "2022-05-09 16:00:30,138 : INFO : topic #3 (0.086): 0.006*\"hidden\" + 0.004*\"class\" + 0.004*\"rule\" + 0.004*\"matrix\" + 0.004*\"gaussian\" + 0.003*\"mixture\" + 0.003*\"hidden_unit\" + 0.003*\"prediction\" + 0.003*\"estimate\" + 0.003*\"density\"\n",
      "2022-05-09 16:00:30,138 : INFO : topic diff=0.236734, rho=0.447214\n",
      "2022-05-09 16:00:30,144 : INFO : PROGRESS: pass 4, at document #1740/1740\n",
      "2022-05-09 16:00:33,382 : INFO : optimized alpha [0.046930626, 0.04183213, 0.03683782, 0.08287464, 0.05240012, 0.041246682, 0.047640868, 0.039273914, 0.038833275, 0.047874555]\n",
      "2022-05-09 16:00:33,387 : INFO : topic #2 (0.037): 0.007*\"control\" + 0.007*\"motor\" + 0.006*\"movement\" + 0.005*\"signal\" + 0.005*\"neuron\" + 0.005*\"eye\" + 0.005*\"module\" + 0.005*\"activity\" + 0.004*\"recurrent\" + 0.004*\"target\"\n",
      "2022-05-09 16:00:33,388 : INFO : topic #8 (0.039): 0.009*\"signal\" + 0.008*\"cell\" + 0.006*\"noise\" + 0.006*\"circuit\" + 0.005*\"sound\" + 0.004*\"auditory\" + 0.004*\"neuron\" + 0.004*\"curve\" + 0.003*\"frequency\" + 0.003*\"direction\"\n",
      "2022-05-09 16:00:33,390 : INFO : topic #9 (0.048): 0.016*\"cell\" + 0.010*\"neuron\" + 0.008*\"response\" + 0.006*\"stimulus\" + 0.005*\"field\" + 0.005*\"visual\" + 0.005*\"activity\" + 0.005*\"cortex\" + 0.004*\"cortical\" + 0.004*\"orientation\"\n",
      "2022-05-09 16:00:33,391 : INFO : topic #4 (0.052): 0.008*\"action\" + 0.007*\"control\" + 0.006*\"policy\" + 0.005*\"reinforcement\" + 0.005*\"dynamic\" + 0.005*\"field\" + 0.004*\"optimal\" + 0.004*\"trajectory\" + 0.003*\"reinforcement_learning\" + 0.003*\"machine\"\n",
      "2022-05-09 16:00:33,392 : INFO : topic #3 (0.083): 0.006*\"hidden\" + 0.004*\"class\" + 0.004*\"matrix\" + 0.004*\"gaussian\" + 0.004*\"rule\" + 0.003*\"mixture\" + 0.003*\"prediction\" + 0.003*\"estimate\" + 0.003*\"density\" + 0.003*\"likelihood\"\n",
      "2022-05-09 16:00:33,393 : INFO : topic diff=0.223891, rho=0.408248\n",
      "2022-05-09 16:00:33,399 : INFO : PROGRESS: pass 5, at document #1740/1740\n",
      "2022-05-09 16:00:36,365 : INFO : optimized alpha [0.045145817, 0.04037291, 0.035787072, 0.081055515, 0.049427826, 0.040023576, 0.04675454, 0.03841518, 0.036299553, 0.045518614]\n",
      "2022-05-09 16:00:36,370 : INFO : topic #2 (0.036): 0.008*\"control\" + 0.007*\"motor\" + 0.006*\"movement\" + 0.005*\"signal\" + 0.005*\"eye\" + 0.005*\"module\" + 0.005*\"neuron\" + 0.005*\"activity\" + 0.004*\"recurrent\" + 0.004*\"target\"\n",
      "2022-05-09 16:00:36,371 : INFO : topic #8 (0.036): 0.011*\"signal\" + 0.008*\"cell\" + 0.007*\"noise\" + 0.006*\"sound\" + 0.006*\"circuit\" + 0.005*\"auditory\" + 0.004*\"frequency\" + 0.004*\"neuron\" + 0.004*\"channel\" + 0.004*\"curve\"\n",
      "2022-05-09 16:00:36,372 : INFO : topic #6 (0.047): 0.005*\"let\" + 0.005*\"theorem\" + 0.004*\"class\" + 0.004*\"node\" + 0.004*\"net\" + 0.004*\"bound\" + 0.004*\"threshold\" + 0.004*\"solution\" + 0.003*\"object\" + 0.003*\"proof\"\n",
      "2022-05-09 16:00:36,372 : INFO : topic #4 (0.049): 0.009*\"action\" + 0.007*\"control\" + 0.006*\"policy\" + 0.005*\"reinforcement\" + 0.005*\"dynamic\" + 0.005*\"optimal\" + 0.004*\"field\" + 0.004*\"trajectory\" + 0.004*\"reinforcement_learning\" + 0.003*\"robot\"\n",
      "2022-05-09 16:00:36,373 : INFO : topic #3 (0.081): 0.005*\"hidden\" + 0.004*\"class\" + 0.004*\"gaussian\" + 0.004*\"matrix\" + 0.004*\"mixture\" + 0.004*\"rule\" + 0.003*\"estimate\" + 0.003*\"density\" + 0.003*\"prediction\" + 0.003*\"likelihood\"\n",
      "2022-05-09 16:00:36,374 : INFO : topic diff=0.213821, rho=0.377964\n",
      "2022-05-09 16:00:36,381 : INFO : PROGRESS: pass 6, at document #1740/1740\n",
      "2022-05-09 16:00:39,312 : INFO : optimized alpha [0.043917123, 0.03934412, 0.035120476, 0.07988274, 0.047386978, 0.039406095, 0.046500985, 0.037773117, 0.034444895, 0.043853085]\n",
      "2022-05-09 16:00:39,318 : INFO : topic #8 (0.034): 0.013*\"signal\" + 0.008*\"cell\" + 0.007*\"noise\" + 0.007*\"sound\" + 0.006*\"auditory\" + 0.006*\"circuit\" + 0.004*\"frequency\" + 0.004*\"channel\" + 0.004*\"curve\" + 0.004*\"neuron\"\n",
      "2022-05-09 16:00:39,318 : INFO : topic #2 (0.035): 0.009*\"control\" + 0.008*\"motor\" + 0.007*\"movement\" + 0.005*\"module\" + 0.005*\"eye\" + 0.005*\"signal\" + 0.005*\"activity\" + 0.005*\"recurrent\" + 0.004*\"neuron\" + 0.004*\"target\"\n",
      "2022-05-09 16:00:39,319 : INFO : topic #6 (0.047): 0.006*\"let\" + 0.005*\"theorem\" + 0.005*\"class\" + 0.004*\"bound\" + 0.004*\"node\" + 0.004*\"threshold\" + 0.004*\"net\" + 0.004*\"solution\" + 0.004*\"proof\" + 0.003*\"xi\"\n",
      "2022-05-09 16:00:39,320 : INFO : topic #4 (0.047): 0.009*\"action\" + 0.008*\"control\" + 0.007*\"policy\" + 0.006*\"reinforcement\" + 0.005*\"dynamic\" + 0.005*\"optimal\" + 0.004*\"field\" + 0.004*\"reinforcement_learning\" + 0.004*\"trajectory\" + 0.004*\"robot\"\n",
      "2022-05-09 16:00:39,320 : INFO : topic #3 (0.080): 0.005*\"hidden\" + 0.004*\"gaussian\" + 0.004*\"class\" + 0.004*\"matrix\" + 0.004*\"mixture\" + 0.003*\"rule\" + 0.003*\"estimate\" + 0.003*\"density\" + 0.003*\"prediction\" + 0.003*\"likelihood\"\n",
      "2022-05-09 16:00:39,321 : INFO : topic diff=0.204942, rho=0.353553\n",
      "2022-05-09 16:00:39,327 : INFO : PROGRESS: pass 7, at document #1740/1740\n",
      "2022-05-09 16:00:42,187 : INFO : optimized alpha [0.04301047, 0.038715154, 0.03463614, 0.07942205, 0.04599356, 0.039259113, 0.046669673, 0.037293382, 0.033119783, 0.042686768]\n",
      "2022-05-09 16:00:42,193 : INFO : topic #8 (0.033): 0.014*\"signal\" + 0.007*\"noise\" + 0.007*\"cell\" + 0.007*\"sound\" + 0.006*\"auditory\" + 0.005*\"circuit\" + 0.005*\"channel\" + 0.005*\"frequency\" + 0.004*\"source\" + 0.004*\"curve\"\n",
      "2022-05-09 16:00:42,194 : INFO : topic #2 (0.035): 0.009*\"control\" + 0.008*\"motor\" + 0.007*\"movement\" + 0.005*\"module\" + 0.005*\"eye\" + 0.005*\"activity\" + 0.005*\"signal\" + 0.005*\"recurrent\" + 0.005*\"target\" + 0.004*\"position\"\n",
      "2022-05-09 16:00:42,195 : INFO : topic #4 (0.046): 0.009*\"action\" + 0.008*\"control\" + 0.007*\"policy\" + 0.006*\"reinforcement\" + 0.005*\"dynamic\" + 0.005*\"optimal\" + 0.004*\"reinforcement_learning\" + 0.004*\"field\" + 0.004*\"trajectory\" + 0.004*\"robot\"\n",
      "2022-05-09 16:00:42,196 : INFO : topic #6 (0.047): 0.006*\"let\" + 0.006*\"theorem\" + 0.005*\"bound\" + 0.005*\"class\" + 0.004*\"node\" + 0.004*\"threshold\" + 0.004*\"solution\" + 0.004*\"net\" + 0.004*\"proof\" + 0.004*\"xi\"\n",
      "2022-05-09 16:00:42,197 : INFO : topic #3 (0.079): 0.005*\"hidden\" + 0.004*\"gaussian\" + 0.004*\"matrix\" + 0.004*\"class\" + 0.004*\"mixture\" + 0.004*\"estimate\" + 0.004*\"density\" + 0.003*\"prediction\" + 0.003*\"rule\" + 0.003*\"likelihood\"\n",
      "2022-05-09 16:00:42,198 : INFO : topic diff=0.196278, rho=0.333333\n",
      "2022-05-09 16:00:42,205 : INFO : PROGRESS: pass 8, at document #1740/1740\n",
      "2022-05-09 16:00:45,047 : INFO : optimized alpha [0.04229116, 0.038370766, 0.034348875, 0.07924908, 0.045070283, 0.039487887, 0.047137138, 0.036957983, 0.03211295, 0.04186505]\n",
      "2022-05-09 16:00:45,052 : INFO : topic #8 (0.032): 0.016*\"signal\" + 0.008*\"noise\" + 0.007*\"sound\" + 0.007*\"cell\" + 0.007*\"auditory\" + 0.006*\"channel\" + 0.005*\"frequency\" + 0.005*\"circuit\" + 0.005*\"source\" + 0.004*\"response\"\n",
      "2022-05-09 16:00:45,053 : INFO : topic #2 (0.034): 0.009*\"control\" + 0.008*\"motor\" + 0.007*\"movement\" + 0.005*\"module\" + 0.005*\"eye\" + 0.005*\"activity\" + 0.005*\"recurrent\" + 0.005*\"target\" + 0.005*\"signal\" + 0.004*\"position\"\n",
      "2022-05-09 16:00:45,053 : INFO : topic #4 (0.045): 0.010*\"action\" + 0.008*\"control\" + 0.007*\"policy\" + 0.006*\"reinforcement\" + 0.005*\"dynamic\" + 0.005*\"optimal\" + 0.004*\"reinforcement_learning\" + 0.004*\"robot\" + 0.004*\"trajectory\" + 0.004*\"field\"\n",
      "2022-05-09 16:00:45,054 : INFO : topic #6 (0.047): 0.006*\"let\" + 0.006*\"theorem\" + 0.005*\"bound\" + 0.005*\"class\" + 0.004*\"node\" + 0.004*\"threshold\" + 0.004*\"solution\" + 0.004*\"net\" + 0.004*\"proof\" + 0.004*\"xi\"\n",
      "2022-05-09 16:00:45,055 : INFO : topic #3 (0.079): 0.005*\"hidden\" + 0.005*\"gaussian\" + 0.004*\"matrix\" + 0.004*\"class\" + 0.004*\"mixture\" + 0.004*\"estimate\" + 0.004*\"density\" + 0.003*\"prediction\" + 0.003*\"likelihood\" + 0.003*\"generalization\"\n",
      "2022-05-09 16:00:45,055 : INFO : topic diff=0.187242, rho=0.316228\n",
      "2022-05-09 16:00:45,061 : INFO : PROGRESS: pass 9, at document #1740/1740\n",
      "2022-05-09 16:00:47,891 : INFO : optimized alpha [0.04183546, 0.03824018, 0.034187183, 0.07941621, 0.044357512, 0.039977245, 0.04779988, 0.036684804, 0.031370204, 0.041337047]\n",
      "2022-05-09 16:00:47,896 : INFO : topic #8 (0.031): 0.017*\"signal\" + 0.008*\"noise\" + 0.007*\"sound\" + 0.007*\"auditory\" + 0.006*\"cell\" + 0.006*\"channel\" + 0.006*\"frequency\" + 0.006*\"source\" + 0.005*\"circuit\" + 0.004*\"filter\"\n",
      "2022-05-09 16:00:47,897 : INFO : topic #2 (0.034): 0.010*\"control\" + 0.009*\"motor\" + 0.007*\"movement\" + 0.005*\"module\" + 0.005*\"eye\" + 0.005*\"recurrent\" + 0.005*\"target\" + 0.005*\"activity\" + 0.005*\"signal\" + 0.005*\"dynamic\"\n",
      "2022-05-09 16:00:47,898 : INFO : topic #4 (0.044): 0.010*\"action\" + 0.008*\"control\" + 0.008*\"policy\" + 0.006*\"reinforcement\" + 0.005*\"optimal\" + 0.005*\"dynamic\" + 0.004*\"reinforcement_learning\" + 0.004*\"robot\" + 0.004*\"trajectory\" + 0.003*\"reward\"\n",
      "2022-05-09 16:00:47,899 : INFO : topic #6 (0.048): 0.006*\"let\" + 0.006*\"theorem\" + 0.006*\"bound\" + 0.005*\"class\" + 0.005*\"node\" + 0.004*\"threshold\" + 0.004*\"solution\" + 0.004*\"proof\" + 0.004*\"xi\" + 0.004*\"net\"\n",
      "2022-05-09 16:00:47,901 : INFO : topic #3 (0.079): 0.005*\"hidden\" + 0.005*\"gaussian\" + 0.004*\"matrix\" + 0.004*\"mixture\" + 0.004*\"class\" + 0.004*\"estimate\" + 0.004*\"density\" + 0.004*\"prediction\" + 0.003*\"likelihood\" + 0.003*\"generalization\"\n",
      "2022-05-09 16:00:47,901 : INFO : topic diff=0.177771, rho=0.301511\n",
      "2022-05-09 16:00:47,908 : INFO : PROGRESS: pass 10, at document #1740/1740\n",
      "2022-05-09 16:00:50,740 : INFO : optimized alpha [0.04144867, 0.03823344, 0.034136157, 0.07988031, 0.043881472, 0.040654175, 0.04859015, 0.03650318, 0.030763999, 0.04103261]\n",
      "2022-05-09 16:00:50,746 : INFO : topic #8 (0.031): 0.018*\"signal\" + 0.008*\"noise\" + 0.008*\"sound\" + 0.007*\"auditory\" + 0.006*\"channel\" + 0.006*\"source\" + 0.006*\"frequency\" + 0.006*\"cell\" + 0.005*\"circuit\" + 0.005*\"filter\"\n",
      "2022-05-09 16:00:50,747 : INFO : topic #2 (0.034): 0.010*\"control\" + 0.009*\"motor\" + 0.007*\"movement\" + 0.005*\"module\" + 0.005*\"eye\" + 0.005*\"recurrent\" + 0.005*\"target\" + 0.005*\"dynamic\" + 0.005*\"activity\" + 0.005*\"trajectory\"\n",
      "2022-05-09 16:00:50,748 : INFO : topic #4 (0.044): 0.010*\"action\" + 0.008*\"control\" + 0.008*\"policy\" + 0.007*\"reinforcement\" + 0.005*\"optimal\" + 0.005*\"dynamic\" + 0.004*\"reinforcement_learning\" + 0.004*\"robot\" + 0.004*\"trajectory\" + 0.004*\"reward\"\n",
      "2022-05-09 16:00:50,749 : INFO : topic #6 (0.049): 0.006*\"let\" + 0.006*\"bound\" + 0.006*\"theorem\" + 0.005*\"class\" + 0.005*\"node\" + 0.004*\"threshold\" + 0.004*\"solution\" + 0.004*\"xi\" + 0.004*\"proof\" + 0.004*\"matrix\"\n",
      "2022-05-09 16:00:50,751 : INFO : topic #3 (0.080): 0.005*\"hidden\" + 0.005*\"gaussian\" + 0.004*\"matrix\" + 0.004*\"mixture\" + 0.004*\"class\" + 0.004*\"estimate\" + 0.004*\"density\" + 0.004*\"prediction\" + 0.004*\"likelihood\" + 0.003*\"noise\"\n",
      "2022-05-09 16:00:50,751 : INFO : topic diff=0.168142, rho=0.288675\n",
      "2022-05-09 16:00:50,758 : INFO : PROGRESS: pass 11, at document #1740/1740\n",
      "2022-05-09 16:00:53,586 : INFO : optimized alpha [0.04114472, 0.038343135, 0.03415432, 0.080434546, 0.043522302, 0.041411445, 0.04950127, 0.0363976, 0.030308198, 0.04084124]\n",
      "2022-05-09 16:00:53,592 : INFO : topic #8 (0.030): 0.019*\"signal\" + 0.008*\"noise\" + 0.008*\"sound\" + 0.007*\"auditory\" + 0.007*\"source\" + 0.007*\"frequency\" + 0.007*\"channel\" + 0.006*\"cell\" + 0.005*\"filter\" + 0.005*\"circuit\"\n",
      "2022-05-09 16:00:53,592 : INFO : topic #2 (0.034): 0.010*\"control\" + 0.009*\"motor\" + 0.007*\"movement\" + 0.006*\"module\" + 0.006*\"eye\" + 0.005*\"dynamic\" + 0.005*\"recurrent\" + 0.005*\"target\" + 0.005*\"trajectory\" + 0.005*\"activity\"\n",
      "2022-05-09 16:00:53,593 : INFO : topic #4 (0.044): 0.010*\"action\" + 0.008*\"control\" + 0.008*\"policy\" + 0.007*\"reinforcement\" + 0.006*\"optimal\" + 0.005*\"dynamic\" + 0.005*\"reinforcement_learning\" + 0.004*\"robot\" + 0.004*\"reward\" + 0.003*\"environment\"\n",
      "2022-05-09 16:00:53,594 : INFO : topic #6 (0.050): 0.006*\"let\" + 0.006*\"bound\" + 0.006*\"theorem\" + 0.006*\"class\" + 0.005*\"node\" + 0.004*\"threshold\" + 0.004*\"solution\" + 0.004*\"xi\" + 0.004*\"proof\" + 0.004*\"matrix\"\n",
      "2022-05-09 16:00:53,595 : INFO : topic #3 (0.080): 0.005*\"gaussian\" + 0.005*\"hidden\" + 0.004*\"matrix\" + 0.004*\"mixture\" + 0.004*\"estimate\" + 0.004*\"density\" + 0.004*\"class\" + 0.004*\"prediction\" + 0.004*\"likelihood\" + 0.003*\"noise\"\n",
      "2022-05-09 16:00:53,595 : INFO : topic diff=0.158518, rho=0.277350\n",
      "2022-05-09 16:00:53,601 : INFO : PROGRESS: pass 12, at document #1740/1740\n",
      "2022-05-09 16:00:56,300 : INFO : optimized alpha [0.04091842, 0.03852136, 0.034220938, 0.08108487, 0.043221604, 0.042234436, 0.050543413, 0.036337975, 0.029985432, 0.040808745]\n",
      "2022-05-09 16:00:56,306 : INFO : topic #8 (0.030): 0.020*\"signal\" + 0.009*\"noise\" + 0.008*\"sound\" + 0.008*\"source\" + 0.007*\"auditory\" + 0.007*\"frequency\" + 0.007*\"channel\" + 0.006*\"filter\" + 0.005*\"cell\" + 0.005*\"circuit\"\n",
      "2022-05-09 16:00:56,307 : INFO : topic #2 (0.034): 0.011*\"control\" + 0.009*\"motor\" + 0.008*\"movement\" + 0.006*\"module\" + 0.006*\"eye\" + 0.005*\"dynamic\" + 0.005*\"trajectory\" + 0.005*\"recurrent\" + 0.005*\"target\" + 0.005*\"activity\"\n",
      "2022-05-09 16:00:56,307 : INFO : topic #4 (0.043): 0.010*\"action\" + 0.008*\"control\" + 0.008*\"policy\" + 0.007*\"reinforcement\" + 0.006*\"optimal\" + 0.005*\"dynamic\" + 0.005*\"reinforcement_learning\" + 0.004*\"robot\" + 0.004*\"reward\" + 0.004*\"environment\"\n",
      "2022-05-09 16:00:56,308 : INFO : topic #6 (0.051): 0.006*\"let\" + 0.006*\"bound\" + 0.006*\"theorem\" + 0.006*\"class\" + 0.005*\"node\" + 0.005*\"threshold\" + 0.004*\"solution\" + 0.004*\"xi\" + 0.004*\"matrix\" + 0.004*\"proof\"\n",
      "2022-05-09 16:00:56,309 : INFO : topic #3 (0.081): 0.005*\"gaussian\" + 0.005*\"hidden\" + 0.004*\"matrix\" + 0.004*\"mixture\" + 0.004*\"estimate\" + 0.004*\"density\" + 0.004*\"class\" + 0.004*\"prediction\" + 0.004*\"likelihood\" + 0.004*\"noise\"\n",
      "2022-05-09 16:00:56,309 : INFO : topic diff=0.149036, rho=0.267261\n",
      "2022-05-09 16:00:56,316 : INFO : PROGRESS: pass 13, at document #1740/1740\n",
      "2022-05-09 16:00:59,046 : INFO : optimized alpha [0.040763076, 0.038790952, 0.034330085, 0.0817496, 0.04296409, 0.04319982, 0.051659472, 0.036343005, 0.029774643, 0.04088485]\n",
      "2022-05-09 16:00:59,052 : INFO : topic #8 (0.030): 0.021*\"signal\" + 0.009*\"noise\" + 0.008*\"source\" + 0.008*\"sound\" + 0.008*\"frequency\" + 0.007*\"channel\" + 0.007*\"auditory\" + 0.006*\"filter\" + 0.005*\"cell\" + 0.005*\"circuit\"\n",
      "2022-05-09 16:00:59,053 : INFO : topic #2 (0.034): 0.011*\"control\" + 0.009*\"motor\" + 0.008*\"movement\" + 0.006*\"dynamic\" + 0.006*\"module\" + 0.006*\"eye\" + 0.006*\"trajectory\" + 0.005*\"recurrent\" + 0.005*\"target\" + 0.005*\"activity\"\n",
      "2022-05-09 16:00:59,054 : INFO : topic #5 (0.043): 0.011*\"layer\" + 0.009*\"hidden\" + 0.008*\"net\" + 0.008*\"node\" + 0.006*\"memory\" + 0.006*\"character\" + 0.005*\"recognition\" + 0.005*\"architecture\" + 0.004*\"hidden_unit\" + 0.004*\"code\"\n",
      "2022-05-09 16:00:59,055 : INFO : topic #6 (0.052): 0.007*\"let\" + 0.007*\"bound\" + 0.006*\"theorem\" + 0.006*\"class\" + 0.005*\"node\" + 0.005*\"threshold\" + 0.004*\"solution\" + 0.004*\"xi\" + 0.004*\"matrix\" + 0.004*\"proof\"\n",
      "2022-05-09 16:00:59,057 : INFO : topic #3 (0.082): 0.005*\"gaussian\" + 0.004*\"hidden\" + 0.004*\"matrix\" + 0.004*\"mixture\" + 0.004*\"estimate\" + 0.004*\"density\" + 0.004*\"prediction\" + 0.004*\"likelihood\" + 0.004*\"class\" + 0.004*\"noise\"\n",
      "2022-05-09 16:00:59,058 : INFO : topic diff=0.139862, rho=0.258199\n",
      "2022-05-09 16:00:59,064 : INFO : PROGRESS: pass 14, at document #1740/1740\n",
      "2022-05-09 16:01:01,829 : INFO : optimized alpha [0.040663272, 0.039093323, 0.034503847, 0.08251711, 0.042789467, 0.044229023, 0.05279143, 0.036393113, 0.02964948, 0.04100833]\n",
      "2022-05-09 16:01:01,835 : INFO : topic #8 (0.030): 0.022*\"signal\" + 0.009*\"noise\" + 0.009*\"source\" + 0.008*\"frequency\" + 0.008*\"sound\" + 0.008*\"channel\" + 0.007*\"auditory\" + 0.007*\"filter\" + 0.005*\"cell\" + 0.005*\"response\"\n",
      "2022-05-09 16:01:01,835 : INFO : topic #2 (0.035): 0.011*\"control\" + 0.009*\"motor\" + 0.008*\"movement\" + 0.006*\"dynamic\" + 0.006*\"trajectory\" + 0.006*\"eye\" + 0.006*\"module\" + 0.005*\"recurrent\" + 0.005*\"target\" + 0.005*\"position\"\n",
      "2022-05-09 16:01:01,836 : INFO : topic #5 (0.044): 0.011*\"layer\" + 0.009*\"hidden\" + 0.008*\"net\" + 0.008*\"node\" + 0.006*\"memory\" + 0.006*\"character\" + 0.005*\"recognition\" + 0.005*\"architecture\" + 0.005*\"hidden_unit\" + 0.004*\"back\"\n",
      "2022-05-09 16:01:01,837 : INFO : topic #6 (0.053): 0.007*\"bound\" + 0.007*\"let\" + 0.006*\"theorem\" + 0.006*\"class\" + 0.005*\"node\" + 0.005*\"threshold\" + 0.004*\"solution\" + 0.004*\"xi\" + 0.004*\"matrix\" + 0.004*\"proof\"\n",
      "2022-05-09 16:01:01,838 : INFO : topic #3 (0.083): 0.005*\"gaussian\" + 0.004*\"matrix\" + 0.004*\"hidden\" + 0.004*\"mixture\" + 0.004*\"estimate\" + 0.004*\"density\" + 0.004*\"prediction\" + 0.004*\"likelihood\" + 0.004*\"noise\" + 0.004*\"class\"\n",
      "2022-05-09 16:01:01,839 : INFO : topic diff=0.131092, rho=0.250000\n",
      "2022-05-09 16:01:01,845 : INFO : PROGRESS: pass 15, at document #1740/1740\n",
      "2022-05-09 16:01:04,373 : INFO : optimized alpha [0.040611118, 0.0394788, 0.03471999, 0.08330378, 0.04264023, 0.04531282, 0.05397656, 0.036455125, 0.02958436, 0.0411784]\n",
      "2022-05-09 16:01:04,378 : INFO : topic #8 (0.030): 0.022*\"signal\" + 0.009*\"noise\" + 0.009*\"source\" + 0.008*\"frequency\" + 0.008*\"channel\" + 0.008*\"sound\" + 0.007*\"auditory\" + 0.007*\"filter\" + 0.005*\"response\" + 0.004*\"cell\"\n",
      "2022-05-09 16:01:04,379 : INFO : topic #2 (0.035): 0.011*\"control\" + 0.009*\"motor\" + 0.008*\"movement\" + 0.006*\"dynamic\" + 0.006*\"trajectory\" + 0.006*\"eye\" + 0.006*\"module\" + 0.005*\"recurrent\" + 0.005*\"target\" + 0.005*\"position\"\n",
      "2022-05-09 16:01:04,380 : INFO : topic #5 (0.045): 0.011*\"layer\" + 0.009*\"hidden\" + 0.008*\"net\" + 0.008*\"node\" + 0.006*\"memory\" + 0.005*\"character\" + 0.005*\"architecture\" + 0.005*\"recognition\" + 0.005*\"hidden_unit\" + 0.004*\"back\"\n",
      "2022-05-09 16:01:04,380 : INFO : topic #6 (0.054): 0.007*\"bound\" + 0.007*\"let\" + 0.006*\"theorem\" + 0.006*\"class\" + 0.005*\"node\" + 0.005*\"threshold\" + 0.004*\"solution\" + 0.004*\"matrix\" + 0.004*\"xi\" + 0.004*\"proof\"\n",
      "2022-05-09 16:01:04,381 : INFO : topic #3 (0.083): 0.005*\"gaussian\" + 0.004*\"matrix\" + 0.004*\"mixture\" + 0.004*\"hidden\" + 0.004*\"density\" + 0.004*\"estimate\" + 0.004*\"prediction\" + 0.004*\"likelihood\" + 0.004*\"noise\" + 0.004*\"class\"\n",
      "2022-05-09 16:01:04,382 : INFO : topic diff=0.122762, rho=0.242536\n",
      "2022-05-09 16:01:04,388 : INFO : PROGRESS: pass 16, at document #1740/1740\n",
      "2022-05-09 16:01:06,985 : INFO : optimized alpha [0.040576898, 0.039887637, 0.03495391, 0.08417061, 0.04252664, 0.04647061, 0.055204667, 0.03655013, 0.029576715, 0.04138385]\n",
      "2022-05-09 16:01:06,991 : INFO : topic #8 (0.030): 0.023*\"signal\" + 0.009*\"source\" + 0.009*\"noise\" + 0.009*\"frequency\" + 0.008*\"channel\" + 0.008*\"sound\" + 0.008*\"filter\" + 0.007*\"auditory\" + 0.005*\"response\" + 0.004*\"separation\"\n",
      "2022-05-09 16:01:06,992 : INFO : topic #2 (0.035): 0.012*\"control\" + 0.009*\"motor\" + 0.008*\"movement\" + 0.006*\"dynamic\" + 0.006*\"trajectory\" + 0.006*\"eye\" + 0.006*\"module\" + 0.005*\"recurrent\" + 0.005*\"target\" + 0.005*\"position\"\n",
      "2022-05-09 16:01:06,994 : INFO : topic #5 (0.046): 0.011*\"layer\" + 0.010*\"hidden\" + 0.008*\"net\" + 0.008*\"node\" + 0.006*\"memory\" + 0.005*\"character\" + 0.005*\"hidden_unit\" + 0.005*\"architecture\" + 0.005*\"recognition\" + 0.004*\"back\"\n",
      "2022-05-09 16:01:06,995 : INFO : topic #6 (0.055): 0.007*\"bound\" + 0.007*\"let\" + 0.006*\"theorem\" + 0.006*\"class\" + 0.005*\"node\" + 0.005*\"threshold\" + 0.005*\"solution\" + 0.004*\"matrix\" + 0.004*\"xi\" + 0.004*\"proof\"\n",
      "2022-05-09 16:01:06,996 : INFO : topic #3 (0.084): 0.005*\"gaussian\" + 0.004*\"matrix\" + 0.004*\"mixture\" + 0.004*\"hidden\" + 0.004*\"density\" + 0.004*\"estimate\" + 0.004*\"likelihood\" + 0.004*\"prediction\" + 0.004*\"noise\" + 0.004*\"generalization\"\n",
      "2022-05-09 16:01:06,998 : INFO : topic diff=0.114903, rho=0.235702\n",
      "2022-05-09 16:01:07,008 : INFO : PROGRESS: pass 17, at document #1740/1740\n",
      "2022-05-09 16:01:09,936 : INFO : optimized alpha [0.04058775, 0.04028943, 0.035199393, 0.08507952, 0.04248142, 0.047717925, 0.0564852, 0.03667459, 0.029615624, 0.041584868]\n",
      "2022-05-09 16:01:09,941 : INFO : topic #8 (0.030): 0.023*\"signal\" + 0.010*\"source\" + 0.009*\"noise\" + 0.009*\"frequency\" + 0.008*\"channel\" + 0.008*\"filter\" + 0.008*\"sound\" + 0.008*\"auditory\" + 0.005*\"response\" + 0.004*\"separation\"\n",
      "2022-05-09 16:01:09,942 : INFO : topic #2 (0.035): 0.012*\"control\" + 0.009*\"motor\" + 0.008*\"movement\" + 0.006*\"dynamic\" + 0.006*\"trajectory\" + 0.006*\"eye\" + 0.006*\"module\" + 0.005*\"recurrent\" + 0.005*\"target\" + 0.005*\"position\"\n",
      "2022-05-09 16:01:09,942 : INFO : topic #5 (0.048): 0.011*\"layer\" + 0.010*\"hidden\" + 0.008*\"net\" + 0.008*\"node\" + 0.006*\"memory\" + 0.005*\"hidden_unit\" + 0.005*\"character\" + 0.005*\"architecture\" + 0.005*\"recognition\" + 0.004*\"back\"\n",
      "2022-05-09 16:01:09,943 : INFO : topic #6 (0.056): 0.007*\"bound\" + 0.007*\"let\" + 0.006*\"theorem\" + 0.006*\"class\" + 0.005*\"node\" + 0.005*\"solution\" + 0.005*\"threshold\" + 0.004*\"matrix\" + 0.004*\"xi\" + 0.004*\"proof\"\n",
      "2022-05-09 16:01:09,944 : INFO : topic #3 (0.085): 0.005*\"gaussian\" + 0.004*\"matrix\" + 0.004*\"mixture\" + 0.004*\"density\" + 0.004*\"estimate\" + 0.004*\"hidden\" + 0.004*\"noise\" + 0.004*\"likelihood\" + 0.004*\"prediction\" + 0.004*\"generalization\"\n",
      "2022-05-09 16:01:09,944 : INFO : topic diff=0.107567, rho=0.229416\n",
      "2022-05-09 16:01:09,950 : INFO : PROGRESS: pass 18, at document #1740/1740\n",
      "2022-05-09 16:01:12,529 : INFO : optimized alpha [0.040602606, 0.04071767, 0.03545455, 0.08598005, 0.042469494, 0.048988607, 0.057747416, 0.03684477, 0.029700221, 0.041810635]\n",
      "2022-05-09 16:01:12,535 : INFO : topic #8 (0.030): 0.024*\"signal\" + 0.010*\"source\" + 0.010*\"noise\" + 0.009*\"frequency\" + 0.008*\"filter\" + 0.008*\"channel\" + 0.008*\"sound\" + 0.008*\"auditory\" + 0.005*\"response\" + 0.005*\"separation\"\n",
      "2022-05-09 16:01:12,536 : INFO : topic #2 (0.035): 0.012*\"control\" + 0.009*\"motor\" + 0.008*\"movement\" + 0.007*\"dynamic\" + 0.007*\"trajectory\" + 0.006*\"eye\" + 0.006*\"module\" + 0.006*\"recurrent\" + 0.005*\"target\" + 0.005*\"position\"\n",
      "2022-05-09 16:01:12,536 : INFO : topic #5 (0.049): 0.011*\"layer\" + 0.010*\"hidden\" + 0.009*\"net\" + 0.008*\"node\" + 0.006*\"memory\" + 0.006*\"hidden_unit\" + 0.005*\"character\" + 0.005*\"architecture\" + 0.005*\"recognition\" + 0.004*\"propagation\"\n",
      "2022-05-09 16:01:12,537 : INFO : topic #6 (0.058): 0.007*\"bound\" + 0.007*\"let\" + 0.006*\"theorem\" + 0.006*\"class\" + 0.005*\"solution\" + 0.005*\"node\" + 0.005*\"threshold\" + 0.004*\"matrix\" + 0.004*\"xi\" + 0.004*\"proof\"\n",
      "2022-05-09 16:01:12,538 : INFO : topic #3 (0.086): 0.005*\"gaussian\" + 0.004*\"matrix\" + 0.004*\"mixture\" + 0.004*\"density\" + 0.004*\"estimate\" + 0.004*\"hidden\" + 0.004*\"noise\" + 0.004*\"likelihood\" + 0.004*\"prediction\" + 0.004*\"prior\"\n",
      "2022-05-09 16:01:12,538 : INFO : topic diff=0.100734, rho=0.223607\n",
      "2022-05-09 16:01:12,544 : INFO : PROGRESS: pass 19, at document #1740/1740\n",
      "2022-05-09 16:01:15,007 : INFO : optimized alpha [0.040654827, 0.041165076, 0.035719432, 0.086913384, 0.04248261, 0.0502755, 0.05897797, 0.037006035, 0.029813664, 0.0420531]\n",
      "2022-05-09 16:01:15,012 : INFO : topic #8 (0.030): 0.024*\"signal\" + 0.010*\"source\" + 0.010*\"noise\" + 0.009*\"frequency\" + 0.009*\"filter\" + 0.009*\"channel\" + 0.008*\"sound\" + 0.008*\"auditory\" + 0.005*\"response\" + 0.005*\"separation\"\n",
      "2022-05-09 16:01:15,013 : INFO : topic #2 (0.036): 0.012*\"control\" + 0.009*\"motor\" + 0.008*\"movement\" + 0.007*\"dynamic\" + 0.007*\"trajectory\" + 0.006*\"eye\" + 0.006*\"module\" + 0.006*\"recurrent\" + 0.005*\"target\" + 0.005*\"position\"\n",
      "2022-05-09 16:01:15,014 : INFO : topic #5 (0.050): 0.011*\"layer\" + 0.010*\"hidden\" + 0.009*\"net\" + 0.008*\"node\" + 0.006*\"memory\" + 0.006*\"hidden_unit\" + 0.005*\"architecture\" + 0.005*\"character\" + 0.005*\"recognition\" + 0.004*\"propagation\"\n",
      "2022-05-09 16:01:15,014 : INFO : topic #6 (0.059): 0.007*\"bound\" + 0.007*\"let\" + 0.006*\"theorem\" + 0.006*\"class\" + 0.005*\"solution\" + 0.005*\"node\" + 0.004*\"threshold\" + 0.004*\"matrix\" + 0.004*\"xi\" + 0.004*\"proof\"\n",
      "2022-05-09 16:01:15,015 : INFO : topic #3 (0.087): 0.005*\"gaussian\" + 0.004*\"matrix\" + 0.004*\"mixture\" + 0.004*\"density\" + 0.004*\"estimate\" + 0.004*\"hidden\" + 0.004*\"noise\" + 0.004*\"likelihood\" + 0.004*\"prediction\" + 0.004*\"prior\"\n",
      "2022-05-09 16:01:15,016 : INFO : topic diff=0.094413, rho=0.218218\n",
      "2022-05-09 16:01:15,022 : INFO : LdaModel lifecycle event {'msg': 'trained LdaModel(num_terms=8644, num_topics=10, decay=0.5, chunksize=2000) in 67.37s', 'datetime': '2022-05-09T16:01:15.022522', 'gensim': '4.0.1', 'python': '3.7.7 (default, Mar 26 2020, 10:32:53) \\n[Clang 4.0.1 (tags/RELEASE_401/final)]', 'platform': 'Darwin-21.3.0-x86_64-i386-64bit', 'event': 'created'}\n"
     ]
    }
   ],
   "source": [
    "# Train LDA model.\n",
    "from gensim.models import LdaModel\n",
    "\n",
    "# Set training parameters.\n",
    "num_topics = 10\n",
    "chunksize = 2000\n",
    "passes = 20\n",
    "iterations = 400\n",
    "eval_every = None  # Don't evaluate model perplexity, takes too much time.\n",
    "\n",
    "# Make an index to word dictionary.\n",
    "temp = dictionary[0]  # This is only to \"load\" the dictionary.\n",
    "id2word = dictionary.id2token\n",
    "\n",
    "model = LdaModel(\n",
    "    corpus=corpus,\n",
    "    id2word=id2word,\n",
    "    chunksize=chunksize,\n",
    "    alpha='auto',\n",
    "    eta='auto',\n",
    "    iterations=iterations,\n",
    "    num_topics=num_topics,\n",
    "    passes=passes,\n",
    "    eval_every=eval_every\n",
    ")"
   ]
  },
  {
   "cell_type": "markdown",
   "metadata": {},
   "source": [
    "We can compute the topic coherence of each topic. Below we display the\n",
    "average topic coherence and print the topics in order of topic coherence.\n",
    "\n",
    "Note that we use the \"Umass\" topic coherence measure here (see\n",
    ":py:func:`gensim.models.ldamodel.LdaModel.top_topics`), Gensim has recently\n",
    "obtained an implementation of the \"AKSW\" topic coherence measure (see\n",
    "accompanying blog post, http://rare-technologies.com/what-is-topic-coherence/).\n",
    "\n",
    "If you are familiar with the subject of the articles in this dataset, you can\n",
    "see that the topics below make a lot of sense. However, they are not without\n",
    "flaws. We can see that there is substantial overlap between some topics,\n",
    "others are hard to interpret, and most of them have at least some terms that\n",
    "seem out of place. If you were able to do better, feel free to share your\n",
    "methods on the blog at http://rare-technologies.com/lda-training-tips/ !\n",
    "\n",
    "\n"
   ]
  },
  {
   "cell_type": "code",
   "execution_count": 23,
   "metadata": {
    "collapsed": false,
    "jupyter": {
     "outputs_hidden": false
    }
   },
   "outputs": [
    {
     "name": "stderr",
     "output_type": "stream",
     "text": [
      "2022-05-09 16:03:44,673 : INFO : CorpusAccumulator accumulated stats from 1000 documents\n"
     ]
    },
    {
     "name": "stdout",
     "output_type": "stream",
     "text": [
      "Average topic coherence: -1.1684.\n",
      "[([(0.024004536, 'cell'),\n",
      "   (0.012452638, 'neuron'),\n",
      "   (0.010528474, 'stimulus'),\n",
      "   (0.009886852, 'response'),\n",
      "   (0.008742996, 'activity'),\n",
      "   (0.00727748, 'field'),\n",
      "   (0.007051217, 'cortex'),\n",
      "   (0.00672117, 'visual'),\n",
      "   (0.0058153127, 'orientation'),\n",
      "   (0.005762846, 'cortical'),\n",
      "   (0.0056156954, 'connection'),\n",
      "   (0.005122866, 'layer'),\n",
      "   (0.0050587608, 'map'),\n",
      "   (0.0048392504, 'synaptic'),\n",
      "   (0.0046307, 'receptive'),\n",
      "   (0.004280163, 'receptive_field'),\n",
      "   (0.00395261, 'simulation'),\n",
      "   (0.003882709, 'spatial'),\n",
      "   (0.0038188049, 'direction'),\n",
      "   (0.0036981315, 'correlation')],\n",
      "  -0.9176014693369409),\n",
      " ([(0.0053460896, 'gaussian'),\n",
      "   (0.004469438, 'matrix'),\n",
      "   (0.004396407, 'mixture'),\n",
      "   (0.0042644157, 'density'),\n",
      "   (0.0042534517, 'estimate'),\n",
      "   (0.0039513162, 'hidden'),\n",
      "   (0.0039202445, 'noise'),\n",
      "   (0.0038789907, 'likelihood'),\n",
      "   (0.0038530435, 'prediction'),\n",
      "   (0.003639072, 'prior'),\n",
      "   (0.0035937806, 'generalization'),\n",
      "   (0.003566838, 'approximation'),\n",
      "   (0.003411278, 'sample'),\n",
      "   (0.0034091962, 'class'),\n",
      "   (0.0033801429, 'component'),\n",
      "   (0.0032488566, 'variance'),\n",
      "   (0.0032297638, 'log'),\n",
      "   (0.003089198, 'bayesian'),\n",
      "   (0.002997349, 'regression'),\n",
      "   (0.0028687022, 'estimation')],\n",
      "  -0.9212940110008542),\n",
      " ([(0.0112776905, 'layer'),\n",
      "   (0.010422738, 'hidden'),\n",
      "   (0.008657038, 'net'),\n",
      "   (0.007856316, 'node'),\n",
      "   (0.006175058, 'memory'),\n",
      "   (0.005755123, 'hidden_unit'),\n",
      "   (0.005205682, 'architecture'),\n",
      "   (0.0051219454, 'character'),\n",
      "   (0.004587513, 'recognition'),\n",
      "   (0.0041453345, 'propagation'),\n",
      "   (0.004115251, 'back'),\n",
      "   (0.004058701, 'trained'),\n",
      "   (0.0037753982, 'rule'),\n",
      "   (0.003758637, 'code'),\n",
      "   (0.0036989262, 'classifier'),\n",
      "   (0.0034989468, 'activation'),\n",
      "   (0.0034200642, 'connection'),\n",
      "   (0.0033602256, 'bit'),\n",
      "   (0.003328573, 'training_set'),\n",
      "   (0.0030661747, 'table')],\n",
      "  -1.0217302187859734),\n",
      " ([(0.028893614, 'neuron'),\n",
      "   (0.012270053, 'circuit'),\n",
      "   (0.011571031, 'spike'),\n",
      "   (0.009806975, 'chip'),\n",
      "   (0.008308301, 'voltage'),\n",
      "   (0.00816675, 'analog'),\n",
      "   (0.0067329863, 'synaptic'),\n",
      "   (0.0058948155, 'firing'),\n",
      "   (0.0054492285, 'signal'),\n",
      "   (0.0050582495, 'noise'),\n",
      "   (0.004851024, 'threshold'),\n",
      "   (0.0048342384, 'potential'),\n",
      "   (0.00474146, 'fig'),\n",
      "   (0.0046313046, 'memory'),\n",
      "   (0.00452885, 'synapse'),\n",
      "   (0.0042415853, 'vlsi'),\n",
      "   (0.004088549, 'pulse'),\n",
      "   (0.0040186425, 'delay'),\n",
      "   (0.0036441952, 'connection'),\n",
      "   (0.0035821814, 'dynamic')],\n",
      "  -1.0641104544402755),\n",
      " ([(0.034584366, 'image'),\n",
      "   (0.014861515, 'object'),\n",
      "   (0.010051423, 'motion'),\n",
      "   (0.009451615, 'visual'),\n",
      "   (0.0070059947, 'pixel'),\n",
      "   (0.0062138503, 'field'),\n",
      "   (0.00591298, 'distance'),\n",
      "   (0.005470433, 'direction'),\n",
      "   (0.0052391184, 'region'),\n",
      "   (0.0050749993, 'view'),\n",
      "   (0.0049512363, 'vision'),\n",
      "   (0.0049326727, 'filter'),\n",
      "   (0.004465811, 'recognition'),\n",
      "   (0.004416859, 'location'),\n",
      "   (0.0042757154, 'map'),\n",
      "   (0.004143073, 'edge'),\n",
      "   (0.004016188, 'spatial'),\n",
      "   (0.0039797965, 'scale'),\n",
      "   (0.0039426708, 'surface'),\n",
      "   (0.003930323, 'scene')],\n",
      "  -1.086829527623221),\n",
      " ([(0.007099123, 'bound'),\n",
      "   (0.0067706807, 'let'),\n",
      "   (0.006136818, 'theorem'),\n",
      "   (0.0059308778, 'class'),\n",
      "   (0.004630637, 'solution'),\n",
      "   (0.0045309043, 'node'),\n",
      "   (0.004497956, 'threshold'),\n",
      "   (0.004249142, 'matrix'),\n",
      "   (0.0041149836, 'xi'),\n",
      "   (0.0038483618, 'proof'),\n",
      "   (0.003325119, 'dimension'),\n",
      "   (0.0032620758, 'convergence'),\n",
      "   (0.0032464145, 'graph'),\n",
      "   (0.0032171994, 'net'),\n",
      "   (0.0032051178, 'condition'),\n",
      "   (0.0030119563, 'sample'),\n",
      "   (0.0029852455, 'approximation'),\n",
      "   (0.002861616, 'loss'),\n",
      "   (0.002824109, 'polynomial'),\n",
      "   (0.002763639, 'minimum')],\n",
      "  -1.0870691068550726),\n",
      " ([(0.011413008, 'action'),\n",
      "   (0.00871241, 'policy'),\n",
      "   (0.00855088, 'control'),\n",
      "   (0.007417611, 'reinforcement'),\n",
      "   (0.0061284583, 'optimal'),\n",
      "   (0.00498998, 'dynamic'),\n",
      "   (0.0049587754, 'reinforcement_learning'),\n",
      "   (0.0047477684, 'robot'),\n",
      "   (0.003988081, 'reward'),\n",
      "   (0.0038723205, 'environment'),\n",
      "   (0.0036795684, 'goal'),\n",
      "   (0.003456007, 'decision'),\n",
      "   (0.0034026166, 'controller'),\n",
      "   (0.0031043298, 'gradient'),\n",
      "   (0.003054088, 'path'),\n",
      "   (0.0029484674, 'stochastic'),\n",
      "   (0.0029396855, 'cost'),\n",
      "   (0.0029212008, 'trajectory'),\n",
      "   (0.0029199035, 'td'),\n",
      "   (0.0028808024, 'sutton')],\n",
      "  -1.235785069892947),\n",
      " ([(0.012902068, 'recognition'),\n",
      "   (0.0127460025, 'speech'),\n",
      "   (0.011223875, 'word'),\n",
      "   (0.0059241923, 'context'),\n",
      "   (0.005858701, 'class'),\n",
      "   (0.005735369, 'sequence'),\n",
      "   (0.0054542236, 'hidden'),\n",
      "   (0.005356254, 'classification'),\n",
      "   (0.005155446, 'layer'),\n",
      "   (0.0050831935, 'classifier'),\n",
      "   (0.004997593, 'face'),\n",
      "   (0.0049787518, 'speaker'),\n",
      "   (0.004834113, 'rule'),\n",
      "   (0.00476624, 'hmm'),\n",
      "   (0.0047374195, 'trained'),\n",
      "   (0.0042449282, 'language'),\n",
      "   (0.0037417929, 'net'),\n",
      "   (0.0036283047, 'frame'),\n",
      "   (0.0034186253, 'phoneme'),\n",
      "   (0.0030577779, 'acoustic')],\n",
      "  -1.3544133497977482),\n",
      " ([(0.012258111, 'control'),\n",
      "   (0.009415008, 'motor'),\n",
      "   (0.008035582, 'movement'),\n",
      "   (0.0068068174, 'dynamic'),\n",
      "   (0.006778668, 'trajectory'),\n",
      "   (0.0058113714, 'eye'),\n",
      "   (0.0058075716, 'module'),\n",
      "   (0.0055475878, 'recurrent'),\n",
      "   (0.005450138, 'target'),\n",
      "   (0.0051495237, 'position'),\n",
      "   (0.005097315, 'attractor'),\n",
      "   (0.0048674326, 'behavior'),\n",
      "   (0.004835586, 'feedback'),\n",
      "   (0.004727954, 'activity'),\n",
      "   (0.004261467, 'head'),\n",
      "   (0.0042410376, 'signal'),\n",
      "   (0.0041053467, 'forward'),\n",
      "   (0.0039300187, 'phase'),\n",
      "   (0.00386239, 'controller'),\n",
      "   (0.0035347803, 'velocity')],\n",
      "  -1.420298468573136),\n",
      " ([(0.024424719, 'signal'),\n",
      "   (0.01045971, 'source'),\n",
      "   (0.009701443, 'noise'),\n",
      "   (0.009386231, 'frequency'),\n",
      "   (0.008806194, 'filter'),\n",
      "   (0.008581493, 'channel'),\n",
      "   (0.0077003636, 'sound'),\n",
      "   (0.0075562187, 'auditory'),\n",
      "   (0.005042807, 'response'),\n",
      "   (0.0045689545, 'separation'),\n",
      "   (0.004341074, 'spectrum'),\n",
      "   (0.004197063, 'power'),\n",
      "   (0.0036503817, 'circuit'),\n",
      "   (0.0036101537, 'cell'),\n",
      "   (0.0033701258, 'curve'),\n",
      "   (0.003330792, 'blind'),\n",
      "   (0.0032418233, 'template'),\n",
      "   (0.0032150887, 'constraint'),\n",
      "   (0.0032129826, 'adaptation'),\n",
      "   (0.003066704, 'nonlinear')],\n",
      "  -1.574660901632333)]\n"
     ]
    }
   ],
   "source": [
    "top_topics = model.top_topics(corpus)\n",
    "\n",
    "# Average topic coherence is the sum of topic coherences of all topics, divided by the number of topics.\n",
    "avg_topic_coherence = sum([t[1] for t in top_topics]) / num_topics\n",
    "print('Average topic coherence: %.4f.' % avg_topic_coherence)\n",
    "\n",
    "from pprint import pprint\n",
    "pprint(top_topics)"
   ]
  },
  {
   "cell_type": "markdown",
   "metadata": {},
   "source": [
    "## Things to experiment with\n",
    "\n",
    "* ``no_above`` and ``no_below`` parameters in ``filter_extremes`` method.\n",
    "* Adding trigrams or even higher order n-grams.\n",
    "* Consider whether using a hold-out set or cross-validation is the way to go for you.\n",
    "* Try other datasets.\n",
    "\n",
    "## Where to go from here\n",
    "\n",
    "* Check out a RaRe blog post on the AKSW topic coherence measure (http://rare-technologies.com/what-is-topic-coherence/).\n",
    "* pyLDAvis (https://pyldavis.readthedocs.io/en/latest/index.html).\n",
    "* Read some more Gensim tutorials (https://github.com/RaRe-Technologies/gensim/blob/develop/tutorials.md#tutorials).\n",
    "* If you haven't already, read [1] and [2] (see references).\n",
    "\n",
    "## References\n",
    "\n",
    "1. \"Latent Dirichlet Allocation\", Blei et al. 2003.\n",
    "2. \"Online Learning for Latent Dirichlet Allocation\", Hoffman et al. 2010.\n",
    "\n",
    "\n"
   ]
  },
  {
   "cell_type": "code",
   "execution_count": null,
   "metadata": {},
   "outputs": [],
   "source": []
  }
 ],
 "metadata": {
  "kernelspec": {
   "display_name": "Python 3 (ipykernel)",
   "language": "python",
   "name": "python3"
  },
  "language_info": {
   "codemirror_mode": {
    "name": "ipython",
    "version": 3
   },
   "file_extension": ".py",
   "mimetype": "text/x-python",
   "name": "python",
   "nbconvert_exporter": "python",
   "pygments_lexer": "ipython3",
   "version": "3.7.7"
  }
 },
 "nbformat": 4,
 "nbformat_minor": 4
}

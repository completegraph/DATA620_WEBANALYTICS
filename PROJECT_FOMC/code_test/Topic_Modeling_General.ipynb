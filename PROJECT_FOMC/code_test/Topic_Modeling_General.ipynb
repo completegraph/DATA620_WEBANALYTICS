{
 "cells": [
  {
   "cell_type": "markdown",
   "id": "5e092cb3-0576-4a96-ba4f-381ef3a22bd7",
   "metadata": {},
   "source": [
    "# Topic Modeling Practice\n",
    "\n",
    "The original link was [the Coding Interface](https://thecodinginterface.com/blog/nlp-topic-modeling/)\n"
   ]
  },
  {
   "cell_type": "code",
   "execution_count": 120,
   "id": "65bb3be3-c899-4913-84b8-cebdc1721641",
   "metadata": {},
   "outputs": [
    {
     "name": "stderr",
     "output_type": "stream",
     "text": [
      "[nltk_data] Downloading package wordnet to /Volumes/GDRIVE_SSD/homes/a\n",
      "[nltk_data]     lex/datascience/620_WEB_ANALYTICS_2022_SPRING/nltk_dat\n",
      "[nltk_data]     a...\n",
      "[nltk_data]   Package wordnet is already up-to-date!\n",
      "[nltk_data] Downloading package stopwords to /Volumes/GDRIVE_SSD/homes\n",
      "[nltk_data]     /alex/datascience/620_WEB_ANALYTICS_2022_SPRING/nltk_d\n",
      "[nltk_data]     ata...\n",
      "[nltk_data]   Package stopwords is already up-to-date!\n",
      "[nltk_data] Downloading package punkt to /Volumes/GDRIVE_SSD/homes/ale\n",
      "[nltk_data]     x/datascience/620_WEB_ANALYTICS_2022_SPRING/nltk_data.\n",
      "[nltk_data]     ..\n",
      "[nltk_data]   Package punkt is already up-to-date!\n"
     ]
    },
    {
     "data": {
      "text/plain": [
       "True"
      ]
     },
     "execution_count": 120,
     "metadata": {},
     "output_type": "execute_result"
    }
   ],
   "source": [
    "import nltk\n",
    "nltk.download( ['wordnet', 'stopwords', 'punkt' ] )"
   ]
  },
  {
   "cell_type": "markdown",
   "id": "d7e8c238-b629-4246-a082-44f97e247ba3",
   "metadata": {},
   "source": [
    "## Assembling a Bag-Of-Words Representation of Text for Topic Modeling\n",
    "\n",
    "In order to perform text analytics one must have a corpus (aka collection of documents) of text to work with. For this article I'm going to use a dozen or so blog posts from thecodinginterface.com to demonstrate topic modeling with.\n",
    "\n",
    "An easy and practical way to get my hands on some these blog posts is to use the requests library to issue GET HTTP fetches then parse the text from the returned static content with the trusty ole BeautifulSoup library."
   ]
  },
  {
   "cell_type": "code",
   "execution_count": 121,
   "id": "48a39432-b3ef-437e-b71e-c91332a40d49",
   "metadata": {},
   "outputs": [
    {
     "name": "stdout",
     "output_type": "stream",
     "text": [
      "\n",
      "Intro to Machine Learning with Spammy Emails, Python and, SciKit Learn\n",
      "\n",
      " \n",
      "            By Adam McQuistan\n",
      "            in\n",
      "            \n",
      "            \n",
      "            Machine Learning \n",
      "            \n",
      "            \n",
      "             03/19/2021\n",
      "\n",
      " Comment\n",
      "\n",
      "\n",
      "\n",
      "Introduction\n",
      "Machine Learning is capturing significant attention among technologists and innovators due to a desire to shift from descriptive analytics focused on understanding what happened in the past towards predicting what is likely to occur in the future as well as prescribe actions to take in response to that prediction. In this article I focus on the use case of classifying email messages as either spam or ham with supervised machine learning using Python and SciKit Learn.\n",
      "\n",
      "\n"
     ]
    }
   ],
   "source": [
    "import requests\n",
    "\n",
    "from bs4 import BeautifulSoup\n",
    "\n",
    "spamham_url = \"https://thecodinginterface.com/blog/spam-ham-ml-scikit-learn/\"\n",
    "response = requests.get(spamham_url)\n",
    "\n",
    "soup = BeautifulSoup(response.content)\n",
    "# select the main content div containing the article text\n",
    "article = soup.find('div', class_='card-body-big')\n",
    "\n",
    "full_text = article.get_text()\n",
    "\n",
    "print(full_text[:725])"
   ]
  },
  {
   "cell_type": "markdown",
   "id": "908ed81d-9d80-488c-b7b9-32a7d0bce0b3",
   "metadata": {},
   "source": [
    "In the above code I fetch the Spam / Ham blog post, parse the article down to the raw text content and preview the first 725 characters.  I will use this preview of text to demonstrate various tokenization techniques available through the NLTK library as well as assemble a bag-of-words representation of the text using the Dictionary class from the GENSIM library.\n",
    "\n",
    "First I use the word_tokenizer to tokenize the preview text content into individual words. I then further process these words to a consistent lowercase format, remove any non-alphabetic tokens (aka terms), lemmatize the terms into word roots, and remove stop words."
   ]
  },
  {
   "cell_type": "code",
   "execution_count": 122,
   "id": "01b34fb3-397e-4d02-8f09-0e795020c848",
   "metadata": {},
   "outputs": [
    {
     "name": "stdout",
     "output_type": "stream",
     "text": [
      "['intro', 'machine', 'learning', 'spammy', 'email', 'python', 'scikit', 'learn', 'machine', 'learning']\n"
     ]
    }
   ],
   "source": [
    "from nltk.corpus import stopwords\n",
    "from nltk.stem import WordNetLemmatizer\n",
    "from nltk.tokenize import word_tokenize\n",
    "\n",
    "# common stop words in the English language\n",
    "en_stopwords = stopwords.words('english')\n",
    "\n",
    "# common stop words I expect to see in articles in thecodinginterface.com\n",
    "tci_stopwords = ['class', 'adam', 'mcquistan', 'adammcquistan']\n",
    "\n",
    "# stop words collection as a fast searchable set\n",
    "article_stopwords = set(en_stopwords + tci_stopwords)\n",
    "\n",
    "# instantiate the Lemmatizer to perform stemming/lemmatization\n",
    "lmr = WordNetLemmatizer()\n",
    "\n",
    "# tokenize the text\n",
    "article_doc = []\n",
    "for t in word_tokenize(full_text):\n",
    "    if t.isalpha():\n",
    "        t = lmr.lemmatize(t.lower())\n",
    "        if t not in article_stopwords:\n",
    "            article_doc.append(t)\n",
    "\n",
    "print(article_doc[:10])"
   ]
  },
  {
   "cell_type": "code",
   "execution_count": 123,
   "id": "2f2eb606-1d5e-46c3-b738-ebb08e8acc29",
   "metadata": {},
   "outputs": [
    {
     "name": "stdout",
     "output_type": "stream",
     "text": [
      "['Intro', 'to', 'Machine', 'Learning', 'with', 'Spammy', 'Emails', ',', 'Python', 'and', ',', 'SciKit', 'Learn', 'By', 'Adam', 'McQuistan', 'in', 'Machine', 'Learning', '03/19/2021']\n"
     ]
    }
   ],
   "source": [
    "a = word_tokenize(full_text)\n",
    "print(a[:20])"
   ]
  },
  {
   "cell_type": "code",
   "execution_count": 124,
   "id": "756b40a0-cc8e-480b-a80c-c9cf2105b7e1",
   "metadata": {},
   "outputs": [],
   "source": [
    "# build a dictionary consisting of the tokenized document's text mapping tokens to ids\n",
    "from gensim.corpora.dictionary import Dictionary\n",
    "\n",
    "doc_dict = Dictionary([article_doc])"
   ]
  },
  {
   "cell_type": "code",
   "execution_count": 125,
   "id": "25e1976e-81b1-44eb-8637-0ddbf23966ae",
   "metadata": {},
   "outputs": [
    {
     "data": {
      "text/plain": [
       "[(0, 'ability'),\n",
       " (1, 'able'),\n",
       " (2, 'account'),\n",
       " (3, 'accuracy'),\n",
       " (4, 'accurate'),\n",
       " (5, 'accurracy'),\n",
       " (6, 'across'),\n",
       " (7, 'action'),\n",
       " (8, 'activity'),\n",
       " (9, 'actual')]"
      ]
     },
     "execution_count": 125,
     "metadata": {},
     "output_type": "execute_result"
    }
   ],
   "source": [
    "list(doc_dict.items())[:10]"
   ]
  },
  {
   "cell_type": "markdown",
   "id": "fe4a17f5-2576-44c2-bd06-ff9d5d8d2177",
   "metadata": {},
   "source": [
    "The GENSIM Dictionary is an efficient lookup data structure that is useful for topic modeling. For example it has a token2id field that is a Python dict which maps each token within the vocabulary to its unique ID.\n"
   ]
  },
  {
   "cell_type": "code",
   "execution_count": 126,
   "id": "0c4a4e2a-31a9-4150-b938-e1637804e912",
   "metadata": {},
   "outputs": [
    {
     "name": "stdout",
     "output_type": "stream",
     "text": [
      "ability => 0\n",
      "able => 1\n",
      "account => 2\n",
      "accuracy => 3\n",
      "accurate => 4\n",
      "accurracy => 5\n",
      "across => 6\n",
      "action => 7\n",
      "activity => 8\n",
      "actual => 9\n"
     ]
    }
   ],
   "source": [
    "# print first 10 tokens in vocabulary\n",
    "for token, token_id in list(doc_dict.token2id.items())[:10]:\n",
    "    print('{} => {}'.format(token, token_id))"
   ]
  },
  {
   "cell_type": "markdown",
   "id": "5fc547de-1c1d-4c34-a4dd-a6f7adb6c137",
   "metadata": {},
   "source": [
    "The instantiated Dictionary object can also be used like a regular Python dict to lookup tokens by ID like so."
   ]
  },
  {
   "cell_type": "code",
   "execution_count": 127,
   "id": "79ed2b4d-e3ed-4d85-8377-f561bf626f3b",
   "metadata": {},
   "outputs": [
    {
     "name": "stdout",
     "output_type": "stream",
     "text": [
      "ability   activity\n"
     ]
    }
   ],
   "source": [
    "# lookup the term with the term ID of 0 (the first)\n",
    "print( doc_dict[0], \" \", doc_dict[8] )"
   ]
  },
  {
   "cell_type": "markdown",
   "id": "e43eccaa-338c-4451-a3f0-0f3f33c50190",
   "metadata": {},
   "source": [
    "There are also many other useful methods on the Dictionary class which allow you to do things like calculate the bag of words for a given tokenized document based of the vocabulary of the instantiated Dictionary data structure. Calling the doc2bow(doc) method returns a bag-of-words representation as a list of two item tuples where each tuple is composed of the ID of a token and the frequency to which that token existed."
   ]
  },
  {
   "cell_type": "code",
   "execution_count": 128,
   "id": "befddf9a-9315-4b49-9a79-b0426835ba56",
   "metadata": {},
   "outputs": [
    {
     "name": "stdout",
     "output_type": "stream",
     "text": [
      "ability = 2  token_id: 0\n",
      "able = 4  token_id: 1\n",
      "account = 1  token_id: 2\n",
      "accuracy = 5  token_id: 3\n",
      "accurate = 1  token_id: 4\n",
      "accurracy = 1  token_id: 5\n",
      "across = 2  token_id: 6\n",
      "action = 1  token_id: 7\n",
      "activity = 1  token_id: 8\n",
      "actual = 1  token_id: 9\n"
     ]
    }
   ],
   "source": [
    "article_bow = doc_dict.doc2bow( article_doc )\n",
    "\n",
    "# print the first 10 vocabulary tokens and their frequency within the article\n",
    "for token_id, token_cnt in article_bow[:10]:\n",
    "    print(\"{} = {}  token_id: {}\".format(doc_dict[token_id], token_cnt, token_id ) )\n"
   ]
  },
  {
   "cell_type": "markdown",
   "id": "55a4ea26-399f-45a7-b111-f0f63f40e7df",
   "metadata": {},
   "source": [
    "Part of the reason for creating a bag-of-word representation of a body of text of use doing topic modeling is so you can see which words or tokens occur the most frequently. After all, it seems logical that words that occur often hold a propensity to be meaningful. Thus it is a good idea to create a visual or two of the most frequently occuring words. Two common visuals for simple topic modeling and identification are bar plots and word clouds.\n",
    "\n",
    "To begin I'll show a simple bar chart using the popular matplotlib graphing library.\n",
    "\n"
   ]
  },
  {
   "cell_type": "code",
   "execution_count": 129,
   "id": "640b2e59-244b-436a-9777-4d9e232bd6cb",
   "metadata": {},
   "outputs": [
    {
     "data": {
      "image/png": "[encoded data removed]",
      "text/plain": [
       "<Figure size 720x432 with 1 Axes>"
      ]
     },
     "metadata": {
      "needs_background": "light"
     },
     "output_type": "display_data"
    }
   ],
   "source": [
    "%matplotlib inline\n",
    "import matplotlib.pyplot as plt\n",
    "\n",
    "most_frequent = sorted( article_bow, key = lambda x: x[1], reverse = True)\n",
    "\n",
    "term_ids, counts = zip(*most_frequent)\n",
    "\n",
    "top_terms = [doc_dict[id] for id in term_ids[:10] ]\n",
    "top_term_counts = counts[:10]\n",
    "\n",
    "fig, ax = plt.subplots( figsize = (10, 6 ))\n",
    "plt.barh( top_terms, top_term_counts )\n",
    "plt.gca().invert_yaxis()\n",
    "ax.set_xlabel('frequency')\n",
    "ax.set_ylabel('terms')\n",
    "ax.set_title('Most Frequently Used Words')\n",
    "plt.show()\n"
   ]
  },
  {
   "cell_type": "markdown",
   "id": "451c1ba8-0955-47c1-aedb-b6d7524354e9",
   "metadata": {},
   "source": [
    "As for the Word Cloud representation there is a nice package named word_cloud that helps ease the pain of generating these nifty little images. Word clouds are similar to bar charts in they depict the varying frequencies of a collection of words in a document where the more prevalent words are often biggest and boldest in the graphic."
   ]
  },
  {
   "cell_type": "code",
   "execution_count": 130,
   "id": "9ed41d70-3da7-4cdf-90a1-ec5d4d87da95",
   "metadata": {},
   "outputs": [
    {
     "data": {
      "image/png": "[encoded data removed]",
      "text/plain": [
       "<Figure size 720x720 with 1 Axes>"
      ]
     },
     "metadata": {
      "needs_background": "light"
     },
     "output_type": "display_data"
    }
   ],
   "source": [
    "%matplotlib inline\n",
    "from wordcloud import WordCloud\n",
    "\n",
    "most_frequent = sorted( article_bow, key = lambda x: x[1], reverse = True )\n",
    "frequencies = { doc_dict[id] : cnt for id, cnt in most_frequent      }\n",
    "\n",
    "wordcloud = WordCloud( background_color = \"lightgreen\" , min_font_size = 8).fit_words(frequencies)\n",
    "\n",
    "fig, ax = plt.subplots( figsize = (10, 10 ))\n",
    "plt.imshow( wordcloud, interpolation = \"bilinear\" )\n",
    "plt.axis(\"off\")\n",
    "plt.show()"
   ]
  },
  {
   "cell_type": "markdown",
   "id": "73dd12a3-7a38-4a2b-8014-d6ab39f49584",
   "metadata": {},
   "source": [
    "## Topic Modeling with Latent Dirichlet Allocation (LDA)\n",
    "\n",
    "Thus far I've used fairly naive methods for topic identification and topic modeling leaning on simple word frequencies and graphical analysis to surmise potentially meaningful terms. In this section I ramp up the quantitative rigour a bit with the use of an unsupervised machine learning decomposition technique known as Latent Dirichlet Allocation (LDA). LDA assembles models of groups of words that appear together representing one or more topics but, these topics are often semantically different from the common notion of topics. Instead they are more aligned with technical machine learning notions such as feature engineering originating from dimensionality reduction (\"Latent Dirichlet Allocation\", Wikipedia). What this means is sometimes LDA will identify a collection of terms associated with a particular document that are not expected but, these terms are often important in search retrieval and classification of the document or a set of documents with alternative relationships. For example, some terms might be deemed significant for LDA across a number of documents seemingly of different categories but, if the same author wrote them its likely indicative of a writing style the author employs which could be useful in document retrieval when searching for articles by that specific author.\n",
    "\n",
    "In demonstrating the LDA method I'm going to broaden my text data (aka corpus) under study to around a dozen articles across a variety of technologies I've written about and published on thecodinginterface.com then use LDA to identify topics across the corpus as well as specific to each article. To start I'll build a couple of reusable functions which will be useful for fetching, parsing, tokenizing and, representing each document as a bag-of-words."
   ]
  },
  {
   "cell_type": "code",
   "execution_count": 131,
   "id": "1e830ec4-2334-44eb-998a-215cdd69d5ea",
   "metadata": {},
   "outputs": [],
   "source": [
    "from typing import Optional\n",
    "\n",
    "def fetch_article(url: str) -> str:\n",
    "    response = requests.get(url)\n",
    "    \n",
    "    soup = BeautifulSoup( response.content )\n",
    "    \n",
    "    # select the main content div containing the article text\n",
    "    article = soup.find('div',  class_ = 'card-body-big' )\n",
    "    \n",
    "    full_text = article.get_text()\n",
    "    \n",
    "    return full_text\n",
    "\n",
    "\n",
    "\n",
    "def tokenize_article(article : str, extra_stops ):\n",
    "\n",
    "    # common stop words in the English language\n",
    "    \n",
    "    en_stopwords = stopwords.words('english')\n",
    "    \n",
    "    if extra_stops:\n",
    "        en_stopwords += extra_stops\n",
    "    \n",
    "    # stop words collection as a fast searchable set\n",
    "    article_stopwords = set(en_stopwords )\n",
    "    \n",
    "    lmr = WordNetLemmatizer()\n",
    "    \n",
    "    # tokenize the text\n",
    "    article_tokens = []\n",
    "    \n",
    "    for t in word_tokenize(article):\n",
    "        if t.isalpha():\n",
    "            t = lmr.lemmatize(t.lower())\n",
    "            if t not in article_stopwords:\n",
    "                article_tokens.append(t)\n",
    "                \n",
    "    return article_tokens\n",
    "    "
   ]
  },
  {
   "cell_type": "markdown",
   "id": "d80b3f96-6e17-4d04-8ea0-fa35e793468c",
   "metadata": {},
   "source": [
    "Now I'll use the fetch_article and tokenize_article functions to fetch and tokenize a series of article URLs then assemble a GENSIM Dictionary as well as a corpus of documents each being represented in the bag-of-words format.   We add debugging and delay the requests by $K = 5$ seconds between each document otherwise the web server disconnects the session. "
   ]
  },
  {
   "cell_type": "code",
   "execution_count": 132,
   "id": "0be33d0d-c050-430a-86c7-9b636c7c0b12",
   "metadata": {},
   "outputs": [
    {
     "name": "stdout",
     "output_type": "stream",
     "text": [
      "Begin fetching ... https://thecodinginterface.com/blog/spam-ham-ml-scikit-learn/\n",
      "Tokenized article https://thecodinginterface.com/blog/spam-ham-ml-scikit-learn/\n",
      "Begin fetching ... https://thecodinginterface.com/blog/opencv-Mat-from-array-and-vector/\n",
      "Tokenized article https://thecodinginterface.com/blog/opencv-Mat-from-array-and-vector/\n",
      "Begin fetching ... https://thecodinginterface.com/blog/sql-window-functions/\n",
      "Tokenized article https://thecodinginterface.com/blog/sql-window-functions/\n",
      "Begin fetching ... https://thecodinginterface.com/blog/bridging-nodejs-and-python-with-pynode/\n",
      "Tokenized article https://thecodinginterface.com/blog/bridging-nodejs-and-python-with-pynode/\n",
      "Begin fetching ... https://thecodinginterface.com/blog/django-auth-part1/\n",
      "Tokenized article https://thecodinginterface.com/blog/django-auth-part1/\n",
      "Begin fetching ... https://thecodinginterface.com/blog/django-auth-part4/\n",
      "Tokenized article https://thecodinginterface.com/blog/django-auth-part4/\n",
      "Begin fetching ... https://thecodinginterface.com/blog/intro-to-java-for-devs/\n",
      "Tokenized article https://thecodinginterface.com/blog/intro-to-java-for-devs/\n",
      "Begin fetching ... https://thecodinginterface.com/blog/text-analytics-app-with-flask-and-textblob/\n",
      "Tokenized article https://thecodinginterface.com/blog/text-analytics-app-with-flask-and-textblob/\n",
      "Begin fetching ... https://thecodinginterface.com/blog/aws-s3-python-boto3/\n",
      "Tokenized article https://thecodinginterface.com/blog/aws-s3-python-boto3/\n",
      "Begin fetching ... https://thecodinginterface.com/blog/intro-to-pyspark/\n",
      "Tokenized article https://thecodinginterface.com/blog/intro-to-pyspark/\n",
      "Begin fetching ... https://thecodinginterface.com/blog/java-web-scraping-app-with-jsoup-and-javafx/\n",
      "Tokenized article https://thecodinginterface.com/blog/java-web-scraping-app-with-jsoup-and-javafx/\n",
      "Begin fetching ... https://thecodinginterface.com/blog/javafx-alerts-and-dialogs/\n",
      "Tokenized article https://thecodinginterface.com/blog/javafx-alerts-and-dialogs/\n",
      "Begin fetching ... https://thecodinginterface.com/blog/intro-to-pyflink/\n",
      "Tokenized article https://thecodinginterface.com/blog/intro-to-pyflink/\n",
      "Begin fetching ... https://thecodinginterface.com/blog/opencv-cpp-vscode/\n",
      "Tokenized article https://thecodinginterface.com/blog/opencv-cpp-vscode/\n",
      "Done..\n",
      "\n"
     ]
    }
   ],
   "source": [
    "import time\n",
    "\n",
    "urls = [\n",
    "    'https://thecodinginterface.com/blog/spam-ham-ml-scikit-learn/',\n",
    "    'https://thecodinginterface.com/blog/opencv-Mat-from-array-and-vector/',\n",
    "    'https://thecodinginterface.com/blog/sql-window-functions/',\n",
    "    'https://thecodinginterface.com/blog/bridging-nodejs-and-python-with-pynode/',\n",
    "    'https://thecodinginterface.com/blog/django-auth-part1/',\n",
    "    'https://thecodinginterface.com/blog/django-auth-part4/',\n",
    "    'https://thecodinginterface.com/blog/intro-to-java-for-devs/',\n",
    "    'https://thecodinginterface.com/blog/text-analytics-app-with-flask-and-textblob/',\n",
    "    'https://thecodinginterface.com/blog/aws-s3-python-boto3/',\n",
    "    'https://thecodinginterface.com/blog/intro-to-pyspark/',\n",
    "    'https://thecodinginterface.com/blog/java-web-scraping-app-with-jsoup-and-javafx/',\n",
    "    'https://thecodinginterface.com/blog/javafx-alerts-and-dialogs/',\n",
    "    'https://thecodinginterface.com/blog/intro-to-pyflink/',\n",
    "    'https://thecodinginterface.com/blog/opencv-cpp-vscode/'\n",
    "]\n",
    "\n",
    "docs = []\n",
    "for url in urls:\n",
    "    print(\"Begin fetching ... \" + url )\n",
    "    article_txt = fetch_article(url)\n",
    "    time.sleep(5) # server nap\n",
    "    article_tokens = tokenize_article(article_txt, extra_stops=['print', 'date', 'div', 'adam', 'mcquistan'])\n",
    "    print(\"Tokenized article \"  + url )\n",
    "    docs.append(article_tokens)\n",
    "\n",
    "print(\"Done..\\n\")\n",
    "    "
   ]
  },
  {
   "cell_type": "code",
   "execution_count": null,
   "id": "5df89ae1-0b20-417b-b65e-914aa541276f",
   "metadata": {},
   "outputs": [],
   "source": []
  },
  {
   "cell_type": "code",
   "execution_count": 133,
   "id": "7fd07bcd-42b9-401f-94fd-90d3f94f3136",
   "metadata": {},
   "outputs": [],
   "source": [
    "corpus_dict = Dictionary(docs)"
   ]
  },
  {
   "cell_type": "markdown",
   "id": "f5f77746-2666-43b3-a39a-3b769645715b",
   "metadata": {},
   "source": [
    "Let's print out the first $N$ elements of the corpus."
   ]
  },
  {
   "cell_type": "code",
   "execution_count": 134,
   "id": "1c9cf45c-bd50-4969-a5a9-500530c79fe2",
   "metadata": {},
   "outputs": [
    {
     "name": "stdout",
     "output_type": "stream",
     "text": [
      "[(0, 'ability'), (1, 'able'), (2, 'account'), (3, 'accuracy'), (4, 'accurate'), (5, 'accurracy'), (6, 'across'), (7, 'action'), (8, 'activity'), (9, 'actual')]\n"
     ]
    }
   ],
   "source": [
    "print(list(corpus_dict.items())[:10] )"
   ]
  },
  {
   "cell_type": "markdown",
   "id": "8af71a7e-1bf3-44c4-b1b2-f9c7bc1cf246",
   "metadata": {},
   "source": [
    "### Filtering out extreme values\n",
    "\n",
    "The GENSIM Dictionary object gives a useful method named filter_extremes(...) which can be used to remove tokens that are outliers in that they either occur too frequently or too often across the collection of documents in a corpus. I'll use it to remove all terms that occur in more than 50% of the articles.  Note that the API for `filter_extremes` using `no_below` with absolute numbers and `no_above` with fraction of total corpus size."
   ]
  },
  {
   "cell_type": "code",
   "execution_count": 135,
   "id": "36d92efa-2632-44b8-8d32-a83796b1371a",
   "metadata": {},
   "outputs": [
    {
     "name": "stdout",
     "output_type": "stream",
     "text": [
      "Count of terms before filtering 3219\n"
     ]
    }
   ],
   "source": [
    "print(\"Count of terms before filtering {}\".format(len(corpus_dict)))"
   ]
  },
  {
   "cell_type": "code",
   "execution_count": 136,
   "id": "9bb51286-fdb3-4298-a657-e01f76dcc31b",
   "metadata": {},
   "outputs": [
    {
     "name": "stdout",
     "output_type": "stream",
     "text": [
      "Count of terms after filtering 3043\n"
     ]
    }
   ],
   "source": [
    "corpus_dict.filter_extremes(no_below=1, no_above=0.5)\n",
    "\n",
    "print(\"Count of terms after filtering {}\".format(len(corpus_dict)))"
   ]
  },
  {
   "cell_type": "code",
   "execution_count": 137,
   "id": "0b8afd2d-8d6d-4603-9ea5-a949b0abc502",
   "metadata": {},
   "outputs": [
    {
     "name": "stdout",
     "output_type": "stream",
     "text": [
      "Count of terms before filtering 3219\n",
      "Count of terms after filtering 229\n",
      "[(0, 'ability'), (1, 'actually'), (2, 'addition'), (3, 'additional'), (4, 'already'), (5, 'analysis'), (6, 'appear'), (7, 'array'), (8, 'ask'), (9, 'bar')]\n"
     ]
    }
   ],
   "source": [
    "test_corpus_dict = Dictionary(docs)\n",
    "print(\"Count of terms before filtering {}\".format(len(test_corpus_dict)) )\n",
    "\n",
    "test_corpus_dict.filter_extremes(no_above = 0.5)\n",
    "\n",
    "print(\"Count of terms after filtering {}\".format(len(test_corpus_dict)) )\n",
    "\n",
    "print(list(test_corpus_dict.items())[:10])\n"
   ]
  },
  {
   "cell_type": "code",
   "execution_count": 138,
   "id": "6a482984-6a5d-44a7-8e69-90c33801bf43",
   "metadata": {},
   "outputs": [],
   "source": [
    "corpus = [corpus_dict.doc2bow(doc) for doc in docs]"
   ]
  },
  {
   "cell_type": "markdown",
   "id": "da645693-f075-48b0-99b5-78d87cd1f3fd",
   "metadata": {},
   "source": [
    "At this point I have a corpus of text as a collection of documents each in bag-of-words format. I can now use this processed text to build an inference model based off LDA to perform topic modeling."
   ]
  },
  {
   "cell_type": "code",
   "execution_count": 139,
   "id": "70e9b570-f8d5-42f9-9887-7cc5678c7fc8",
   "metadata": {},
   "outputs": [],
   "source": [
    "from gensim.models.ldamodel import LdaModel\n",
    "\n",
    "n_topics = 16\n",
    "\n",
    "# train an unsupervised model of k topics\n",
    "lda = LdaModel(corpus, num_topics=n_topics, random_state=23, id2word=corpus_dict)"
   ]
  },
  {
   "cell_type": "markdown",
   "id": "49c340c3-f71b-44b4-80c4-e6ce2669ae01",
   "metadata": {},
   "source": [
    "I can now query the trained LDA model to get an idea of the probability of each term in the vocabulary belonging to each of the 12 specified topics derived during model training. I can call the get_topics() method of the trained LDA model which returns a numpy array representing a matrix of 12 rows (one for each topic) and a column (aka feature) for each term in the vocabulary where each intersection of topic and feature is the probability of that term belonging to the given row's topic. Below I've then converted that numpy 2d array into a Pandas dataframe and printed out all topics and every 400th feature column.\n",
    "\n"
   ]
  },
  {
   "cell_type": "code",
   "execution_count": 140,
   "id": "0978dcaa-4ed0-4412-b87b-87030d88e6d9",
   "metadata": {},
   "outputs": [
    {
     "data": {
      "text/html": [
       "<div>\n",
       "<style scoped>\n",
       "    .dataframe tbody tr th:only-of-type {\n",
       "        vertical-align: middle;\n",
       "    }\n",
       "\n",
       "    .dataframe tbody tr th {\n",
       "        vertical-align: top;\n",
       "    }\n",
       "\n",
       "    .dataframe thead th {\n",
       "        text-align: right;\n",
       "    }\n",
       "</style>\n",
       "<table border=\"1\" class=\"dataframe\">\n",
       "  <thead>\n",
       "    <tr style=\"text-align: right;\">\n",
       "      <th></th>\n",
       "      <th>ability</th>\n",
       "      <th>msg</th>\n",
       "      <th>ii</th>\n",
       "      <th>material</th>\n",
       "      <th>web</th>\n",
       "      <th>originally</th>\n",
       "      <th>binarytype</th>\n",
       "      <th>textfield</th>\n",
       "    </tr>\n",
       "  </thead>\n",
       "  <tbody>\n",
       "    <tr>\n",
       "      <th>0</th>\n",
       "      <td>0.001080</td>\n",
       "      <td>0.000428</td>\n",
       "      <td>0.000333</td>\n",
       "      <td>0.000136</td>\n",
       "      <td>0.001424</td>\n",
       "      <td>0.000082</td>\n",
       "      <td>0.000101</td>\n",
       "      <td>0.000205</td>\n",
       "    </tr>\n",
       "    <tr>\n",
       "      <th>1</th>\n",
       "      <td>0.000418</td>\n",
       "      <td>0.000646</td>\n",
       "      <td>0.000222</td>\n",
       "      <td>0.000103</td>\n",
       "      <td>0.000867</td>\n",
       "      <td>0.000203</td>\n",
       "      <td>0.000133</td>\n",
       "      <td>0.000438</td>\n",
       "    </tr>\n",
       "    <tr>\n",
       "      <th>2</th>\n",
       "      <td>0.000702</td>\n",
       "      <td>0.000937</td>\n",
       "      <td>0.000168</td>\n",
       "      <td>0.000127</td>\n",
       "      <td>0.001803</td>\n",
       "      <td>0.000107</td>\n",
       "      <td>0.000054</td>\n",
       "      <td>0.000741</td>\n",
       "    </tr>\n",
       "    <tr>\n",
       "      <th>3</th>\n",
       "      <td>0.000785</td>\n",
       "      <td>0.000775</td>\n",
       "      <td>0.000115</td>\n",
       "      <td>0.000097</td>\n",
       "      <td>0.002793</td>\n",
       "      <td>0.000175</td>\n",
       "      <td>0.000077</td>\n",
       "      <td>0.000787</td>\n",
       "    </tr>\n",
       "    <tr>\n",
       "      <th>4</th>\n",
       "      <td>0.000656</td>\n",
       "      <td>0.000716</td>\n",
       "      <td>0.000239</td>\n",
       "      <td>0.000090</td>\n",
       "      <td>0.001858</td>\n",
       "      <td>0.000125</td>\n",
       "      <td>0.000132</td>\n",
       "      <td>0.000661</td>\n",
       "    </tr>\n",
       "    <tr>\n",
       "      <th>5</th>\n",
       "      <td>0.001435</td>\n",
       "      <td>0.000599</td>\n",
       "      <td>0.000596</td>\n",
       "      <td>0.000073</td>\n",
       "      <td>0.001850</td>\n",
       "      <td>0.000099</td>\n",
       "      <td>0.000077</td>\n",
       "      <td>0.000583</td>\n",
       "    </tr>\n",
       "    <tr>\n",
       "      <th>6</th>\n",
       "      <td>0.000493</td>\n",
       "      <td>0.000834</td>\n",
       "      <td>0.000334</td>\n",
       "      <td>0.000082</td>\n",
       "      <td>0.003735</td>\n",
       "      <td>0.000085</td>\n",
       "      <td>0.000072</td>\n",
       "      <td>0.001408</td>\n",
       "    </tr>\n",
       "    <tr>\n",
       "      <th>7</th>\n",
       "      <td>0.000742</td>\n",
       "      <td>0.001013</td>\n",
       "      <td>0.000192</td>\n",
       "      <td>0.000135</td>\n",
       "      <td>0.001740</td>\n",
       "      <td>0.000115</td>\n",
       "      <td>0.000203</td>\n",
       "      <td>0.000435</td>\n",
       "    </tr>\n",
       "    <tr>\n",
       "      <th>8</th>\n",
       "      <td>0.000702</td>\n",
       "      <td>0.000416</td>\n",
       "      <td>0.000683</td>\n",
       "      <td>0.000110</td>\n",
       "      <td>0.000919</td>\n",
       "      <td>0.000094</td>\n",
       "      <td>0.000106</td>\n",
       "      <td>0.000576</td>\n",
       "    </tr>\n",
       "    <tr>\n",
       "      <th>9</th>\n",
       "      <td>0.000929</td>\n",
       "      <td>0.000559</td>\n",
       "      <td>0.000364</td>\n",
       "      <td>0.000104</td>\n",
       "      <td>0.001761</td>\n",
       "      <td>0.000143</td>\n",
       "      <td>0.000113</td>\n",
       "      <td>0.000919</td>\n",
       "    </tr>\n",
       "    <tr>\n",
       "      <th>10</th>\n",
       "      <td>0.000549</td>\n",
       "      <td>0.001088</td>\n",
       "      <td>0.000068</td>\n",
       "      <td>0.000076</td>\n",
       "      <td>0.004471</td>\n",
       "      <td>0.000091</td>\n",
       "      <td>0.000125</td>\n",
       "      <td>0.000863</td>\n",
       "    </tr>\n",
       "    <tr>\n",
       "      <th>11</th>\n",
       "      <td>0.000590</td>\n",
       "      <td>0.000345</td>\n",
       "      <td>0.000183</td>\n",
       "      <td>0.000129</td>\n",
       "      <td>0.002153</td>\n",
       "      <td>0.000090</td>\n",
       "      <td>0.000199</td>\n",
       "      <td>0.000485</td>\n",
       "    </tr>\n",
       "    <tr>\n",
       "      <th>12</th>\n",
       "      <td>0.000854</td>\n",
       "      <td>0.000803</td>\n",
       "      <td>0.000073</td>\n",
       "      <td>0.000166</td>\n",
       "      <td>0.002562</td>\n",
       "      <td>0.000091</td>\n",
       "      <td>0.000133</td>\n",
       "      <td>0.001309</td>\n",
       "    </tr>\n",
       "    <tr>\n",
       "      <th>13</th>\n",
       "      <td>0.000925</td>\n",
       "      <td>0.000521</td>\n",
       "      <td>0.000228</td>\n",
       "      <td>0.000136</td>\n",
       "      <td>0.001320</td>\n",
       "      <td>0.000114</td>\n",
       "      <td>0.000107</td>\n",
       "      <td>0.000429</td>\n",
       "    </tr>\n",
       "    <tr>\n",
       "      <th>14</th>\n",
       "      <td>0.000430</td>\n",
       "      <td>0.000357</td>\n",
       "      <td>0.000396</td>\n",
       "      <td>0.000112</td>\n",
       "      <td>0.002273</td>\n",
       "      <td>0.000079</td>\n",
       "      <td>0.000108</td>\n",
       "      <td>0.001058</td>\n",
       "    </tr>\n",
       "    <tr>\n",
       "      <th>15</th>\n",
       "      <td>0.000445</td>\n",
       "      <td>0.000556</td>\n",
       "      <td>0.000195</td>\n",
       "      <td>0.000114</td>\n",
       "      <td>0.001101</td>\n",
       "      <td>0.000102</td>\n",
       "      <td>0.000076</td>\n",
       "      <td>0.000560</td>\n",
       "    </tr>\n",
       "  </tbody>\n",
       "</table>\n",
       "</div>"
      ],
      "text/plain": [
       "     ability       msg        ii  material       web  originally  binarytype  \\\n",
       "0   0.001080  0.000428  0.000333  0.000136  0.001424    0.000082    0.000101   \n",
       "1   0.000418  0.000646  0.000222  0.000103  0.000867    0.000203    0.000133   \n",
       "2   0.000702  0.000937  0.000168  0.000127  0.001803    0.000107    0.000054   \n",
       "3   0.000785  0.000775  0.000115  0.000097  0.002793    0.000175    0.000077   \n",
       "4   0.000656  0.000716  0.000239  0.000090  0.001858    0.000125    0.000132   \n",
       "5   0.001435  0.000599  0.000596  0.000073  0.001850    0.000099    0.000077   \n",
       "6   0.000493  0.000834  0.000334  0.000082  0.003735    0.000085    0.000072   \n",
       "7   0.000742  0.001013  0.000192  0.000135  0.001740    0.000115    0.000203   \n",
       "8   0.000702  0.000416  0.000683  0.000110  0.000919    0.000094    0.000106   \n",
       "9   0.000929  0.000559  0.000364  0.000104  0.001761    0.000143    0.000113   \n",
       "10  0.000549  0.001088  0.000068  0.000076  0.004471    0.000091    0.000125   \n",
       "11  0.000590  0.000345  0.000183  0.000129  0.002153    0.000090    0.000199   \n",
       "12  0.000854  0.000803  0.000073  0.000166  0.002562    0.000091    0.000133   \n",
       "13  0.000925  0.000521  0.000228  0.000136  0.001320    0.000114    0.000107   \n",
       "14  0.000430  0.000357  0.000396  0.000112  0.002273    0.000079    0.000108   \n",
       "15  0.000445  0.000556  0.000195  0.000114  0.001101    0.000102    0.000076   \n",
       "\n",
       "    textfield  \n",
       "0    0.000205  \n",
       "1    0.000438  \n",
       "2    0.000741  \n",
       "3    0.000787  \n",
       "4    0.000661  \n",
       "5    0.000583  \n",
       "6    0.001408  \n",
       "7    0.000435  \n",
       "8    0.000576  \n",
       "9    0.000919  \n",
       "10   0.000863  \n",
       "11   0.000485  \n",
       "12   0.001309  \n",
       "13   0.000429  \n",
       "14   0.001058  \n",
       "15   0.000560  "
      ]
     },
     "execution_count": 140,
     "metadata": {},
     "output_type": "execute_result"
    }
   ],
   "source": [
    "import pandas as pd\n",
    "\n",
    "topics_mat = lda.get_topics()\n",
    "ids, cols = zip(*lda.id2word.items())\n",
    "\n",
    "df = pd.DataFrame(topics_mat, columns=cols)\n",
    "\n",
    "df.iloc[:, ::400]"
   ]
  },
  {
   "cell_type": "markdown",
   "id": "434b1f85-df0b-4e4c-bbe1-8027abcd9ce0",
   "metadata": {},
   "source": [
    "I can then use the show_topics(...) method of the GENSIM LDA model to fetch each of the 12 derived topics along with a number of word with the highest probability of representing that topic."
   ]
  },
  {
   "cell_type": "code",
   "execution_count": 141,
   "id": "4962f045-a61f-4efe-981c-23deabf78faf",
   "metadata": {},
   "outputs": [
    {
     "name": "stdout",
     "output_type": "stream",
     "text": [
      "Num topics 16\n"
     ]
    },
    {
     "data": {
      "text/plain": [
       "[(0,\n",
       "  [('include', 0.010899797),\n",
       "   ('survey', 0.010646723),\n",
       "   ('view', 0.009492954),\n",
       "   ('django', 0.00910874),\n",
       "   ('mat', 0.008829032)]),\n",
       " (1,\n",
       "  [('movie', 0.0129707),\n",
       "   ('java', 0.01162887),\n",
       "   ('interface', 0.010577292),\n",
       "   ('public', 0.009922874),\n",
       "   ('int', 0.008504087)]),\n",
       " (2,\n",
       "  [('word', 0.008196627),\n",
       "   ('table', 0.0076001794),\n",
       "   ('public', 0.0059381896),\n",
       "   ('java', 0.0059271823),\n",
       "   ('interface', 0.005612172)]),\n",
       " (3,\n",
       "  [('java', 0.013157272),\n",
       "   ('movie', 0.008974899),\n",
       "   ('public', 0.0083204545),\n",
       "   ('url', 0.007786811),\n",
       "   ('interface', 0.0071402118)]),\n",
       " (4,\n",
       "  [('row', 0.013775929),\n",
       "   ('java', 0.0075606424),\n",
       "   ('word', 0.0060984176),\n",
       "   ('spark', 0.0059809526),\n",
       "   ('text', 0.0055927304)]),\n",
       " (5,\n",
       "  [('row', 0.03334604),\n",
       "   ('amount', 0.01629411),\n",
       "   ('month', 0.014226469),\n",
       "   ('expression', 0.0061474266),\n",
       "   ('id', 0.0058407406)]),\n",
       " (6,\n",
       "  [('table', 0.008108448),\n",
       "   ('url', 0.007667424),\n",
       "   ('java', 0.007533053),\n",
       "   ('django', 0.0066678273),\n",
       "   ('dialog', 0.0055992915)]),\n",
       " (7,\n",
       "  [('spark', 0.013296423),\n",
       "   ('nullable', 0.009831246),\n",
       "   ('java', 0.00889413),\n",
       "   ('row', 0.00868907),\n",
       "   ('dataframe', 0.0067367572)]),\n",
       " (8,\n",
       "  [('cv', 0.022356687),\n",
       "   ('include', 0.018360693),\n",
       "   ('mat', 0.016107773),\n",
       "   ('std', 0.015494495),\n",
       "   ('array', 0.014034026)]),\n",
       " (9,\n",
       "  [('public', 0.0066019376),\n",
       "   ('survey', 0.0065097925),\n",
       "   ('java', 0.006447719),\n",
       "   ('request', 0.0064351517),\n",
       "   ('url', 0.006264359)]),\n",
       " (10,\n",
       "  [('text', 0.00737846),\n",
       "   ('word', 0.0070799305),\n",
       "   ('url', 0.0064298785),\n",
       "   ('flask', 0.00639378),\n",
       "   ('spark', 0.006240919)]),\n",
       " (11,\n",
       "  [('nullable', 0.009583768),\n",
       "   ('spark', 0.009439934),\n",
       "   ('aws', 0.008814282),\n",
       "   ('def', 0.008367985),\n",
       "   ('bucket', 0.007043862)]),\n",
       " (12,\n",
       "  [('alert', 0.008718857),\n",
       "   ('nullable', 0.008033759),\n",
       "   ('dialog', 0.00792537),\n",
       "   ('java', 0.007650037),\n",
       "   ('spark', 0.0069410484)]),\n",
       " (13,\n",
       "  [('django', 0.011181506),\n",
       "   ('view', 0.0097282585),\n",
       "   ('survey', 0.009050608),\n",
       "   ('request', 0.008304674),\n",
       "   ('email', 0.008189924)]),\n",
       " (14,\n",
       "  [('table', 0.013940289),\n",
       "   ('flink', 0.008208851),\n",
       "   ('api', 0.008024989),\n",
       "   ('cv', 0.0069761756),\n",
       "   ('sql', 0.0066869576)]),\n",
       " (15,\n",
       "  [('dialog', 0.017593589),\n",
       "   ('alert', 0.016173521),\n",
       "   ('java', 0.009408702),\n",
       "   ('javafx', 0.008414286),\n",
       "   ('var', 0.007927977)])]"
      ]
     },
     "execution_count": 141,
     "metadata": {},
     "output_type": "execute_result"
    }
   ],
   "source": [
    "topics = lda.show_topics(num_topics=n_topics, num_words=5, formatted=False)\n",
    "topics = sorted(topics, key=lambda x: int(x[0]))\n",
    "print(\"Num topics {}\".format(len(topics)))\n",
    "topics"
   ]
  },
  {
   "cell_type": "markdown",
   "id": "7900151a-0b7f-4c96-877b-ec2702bfca46",
   "metadata": {},
   "source": [
    "Some may find it useful to plot these topics and their associated word probabilities."
   ]
  },
  {
   "cell_type": "code",
   "execution_count": 142,
   "id": "7bb02277-fc8a-4f0f-b42a-88be77fb2ff6",
   "metadata": {},
   "outputs": [
    {
     "data": {
      "image/png": "[encoded data removed]",
      "text/plain": [
       "<Figure size 864x576 with 16 Axes>"
      ]
     },
     "metadata": {
      "needs_background": "light"
     },
     "output_type": "display_data"
    }
   ],
   "source": [
    "rows = 4\n",
    "cols = 4\n",
    "fig, axs = plt.subplots(nrows=rows, ncols=cols, sharex=True, figsize=(12, 8))\n",
    "\n",
    "for topic_id, word_props in topics:\n",
    "    row = topic_id // cols\n",
    "    col = topic_id - (row * cols)\n",
    "    \n",
    "    ax = axs[row, col]\n",
    "    words, probs = zip(*word_props)\n",
    "    ax.barh(words, probs)\n",
    "    ax.invert_yaxis()\n",
    "    ax.set_title('Topic {}'.format(topic_id))\n",
    "\n",
    "plt.tight_layout()\n",
    "plt.show()"
   ]
  },
  {
   "cell_type": "markdown",
   "id": "493a7632-3601-42e5-a20b-1ca89e908090",
   "metadata": {},
   "source": [
    "Ok at this point I've built a model that has identified 12 different topics and I've honed in on the words that co-occur within these topics. From this I can formulate some common categories which make sense given the content of the articles I fed into the model. For example in topic 8 that is mostly focussed around C++ and OpenCV while topic 15 appears to be revolving around desktop development with the Java language.\n",
    "\n",
    "The next logical thing I'd like to do is feed my model a specific document's (aka article's) bag-of-words and take a look at the topics that the model has identified for it. As my first example I use the document bag-of-words for the article \"Example Driven High Level Overview of Spark with Python\" then feed that to my trained LDA model to see what topics are predicted to be associated with that article."
   ]
  },
  {
   "cell_type": "code",
   "execution_count": 143,
   "id": "449df3af-419e-4c5b-bd27-aab12998a6f5",
   "metadata": {},
   "outputs": [
    {
     "data": {
      "text/plain": [
       "[(7, 0.8079347), (11, 0.19156204)]"
      ]
     },
     "execution_count": 143,
     "metadata": {},
     "output_type": "execute_result"
    }
   ],
   "source": [
    "spark_bow = corpus[9]\n",
    "\n",
    "spark_topics = lda[spark_bow]\n",
    "\n",
    "spark_topics"
   ]
  },
  {
   "cell_type": "markdown",
   "id": "fe927c0e-cb85-4a2b-aac0-95ad9245781a",
   "metadata": {},
   "source": [
    "As you can see it predicts with about 80% probability that topic 7 composed of the words ['spark', 'nullable', 'java', 'row', 'dataframe'] are associated with that article.  Semantically this makes pretty good sense. The model also predicted that topic 11 which contains words ['nullable', 'spark', 'aws', 'def', 'bucket'] has about a 20% probability of belonging to that article.\n",
    "\n",
    "I'll now do the same with a fairly different article titled \"How to Construct an OpenCV Mat Object from C++ Arrays and Vectors\"."
   ]
  },
  {
   "cell_type": "code",
   "execution_count": 144,
   "id": "fdf82d11-ed9e-4da3-81dd-fb25ec6db88c",
   "metadata": {},
   "outputs": [
    {
     "data": {
      "text/plain": [
       "[(8, 0.9985553)]"
      ]
     },
     "execution_count": 144,
     "metadata": {},
     "output_type": "execute_result"
    }
   ],
   "source": [
    "opencv_bow = corpus[1]\n",
    "\n",
    "opencv_topics = lda[opencv_bow]\n",
    "\n",
    "opencv_topics"
   ]
  },
  {
   "cell_type": "markdown",
   "id": "7d9dd8e2-2e83-46fe-8ed0-d004450836b4",
   "metadata": {},
   "source": [
    "For the OpenCV article the model predicted that topic 8 with words ['cv', 'include', 'mat', 'std', 'array'] mostly closely align with that specific article at a probability of over 99%."
   ]
  },
  {
   "cell_type": "markdown",
   "id": "7380e07a-e662-4195-8fa2-fdb7c052ccfe",
   "metadata": {},
   "source": [
    "# Conclusion\n",
    "\n",
    "In this article I introduced and demonstrated Topic Modeling which is a meaningful aspect of NLP . Topic Modeling's general purpose was discussed and demonstrated leaning on a few techniques that can be used to perform topic modeling and identification on a collection of articles.\n",
    "\n",
    "As always, I thank you for reading and please feel free to ask questions or critique in the comments section below."
   ]
  },
  {
   "cell_type": "code",
   "execution_count": null,
   "id": "d011534f-b065-4a1e-a5ba-7fd407a8af23",
   "metadata": {},
   "outputs": [],
   "source": []
  }
 ],
 "metadata": {
  "kernelspec": {
   "display_name": "Python 3 (ipykernel)",
   "language": "python",
   "name": "python3"
  },
  "language_info": {
   "codemirror_mode": {
    "name": "ipython",
    "version": 3
   },
   "file_extension": ".py",
   "mimetype": "text/x-python",
   "name": "python",
   "nbconvert_exporter": "python",
   "pygments_lexer": "ipython3",
   "version": "3.7.7"
  }
 },
 "nbformat": 4,
 "nbformat_minor": 5
}

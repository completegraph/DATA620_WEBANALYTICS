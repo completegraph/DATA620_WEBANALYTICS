{
 "cells": [
  {
   "cell_type": "markdown",
   "id": "d523e860-8e57-4796-8717-a724629fcdb8",
   "metadata": {},
   "source": [
    "# Analyzing Financial and Economic Variables with FOMC sentiment\n",
    "\n",
    "Alexander Ng\n",
    "\n",
    "This section loads, imputes missing values and constructs the time series of returns or indices for regression and comparison with the sentiment indicator.\n",
    "\n",
    "The section also demonstrates the regression between sentiment and financial or macroeconomic variables.\n"
   ]
  },
  {
   "cell_type": "markdown",
   "id": "fb65eb14-02aa-47e6-93af-f1418b770291",
   "metadata": {
    "tags": []
   },
   "source": [
    "## Data Source\n",
    "\n",
    "We consider 4 financial time series from the FRED database which represent interest rates, credit, inflation and equity markets.\n",
    "\n",
    "*  **BAA10Y**, Moody's Seasoned Baa Corporate Bond yield relative to yield on 10-year Treasury Constant Maturities.  \n",
    "\n",
    "*  **T10YIE**, the breakeven inflation rate represents the expected inflation derived from 10-Year Treasury constant maturity securities minus the 10-Year Treasury Inflation-Indexed Constant Maturity index.  It represents market expectations of average inflation over the next 10 years.\n",
    "\n",
    "*  **WILL5000IND**, the total returns of the Wilshire 5000 Stock Index, observed daily, including reinvested dividends.  This is a broad measure of the entire US stock market.\n",
    "\n",
    "*  **DGS10**, the yield on 10-year Treasury Constant Maturities.\n",
    "\n",
    "Each of the above financial time series is observed at daily interval and reflected the values at market close 4pm EST.\n",
    "\n",
    "We consider 3 macroeconomic variables which are published at monthly frequency for the US economy.  These are also sourced from the FRED database.\n",
    "\n",
    "*  **UNRATE**, the U-3 measure of labor unemployment as published monthly by the Bureau of Labor Statistics (BLS), expressed as a percentage of the labor force of people 16 years of age or older, who are not in institutions or active military duty.  This statistic is reported for the prior month.\n",
    "\n",
    "*  **CIVPART**, the Labor Force Participation Rate, measures the percentage of people in the labor force as a percentage of population of civilian noninstitutionalized people.\n",
    "\n",
    "*  **PCEPILFE**, the Personal Consumption Expenditures Excluding Food and Energy (Chain-Type Price Index), indexed to 2012=100, is the preferred measure by the FOMC of price increases in the US.   It is a measure of the price paid for goods and services in the US.  It measures actual inflation on a backward looking basis.\n",
    "\n",
    "We do NOT consider real GDP as an regression variable for several important reasons:\n",
    "\n",
    "*  GDP is published quarterly, but FOMC sentiment is published every 6-8 weeks.  Thus, sentiment will change regardless of the prior GDP quarterly figure.   The mismatch in periodicity cannot easily be resolved.\n",
    "\n",
    "*  GDP is updated 3 times as an initial release, secondary and third release.   Each release includes more complete information to estimate Gross Domestic Product.  While each revision is known to influence markets, the value of each revision is serially correlated to earlier releases.  \n",
    "\n",
    "*  GDP release schedules don't follow a simple chronological pattern.\n",
    "\n",
    "\n",
    "## Cleaning the Data\n",
    "\n",
    "We process each FRED time series but forward filling each missing value.  Missing values occur on market holidays.\n",
    "Thus, forward filling avoids backtest look-ahead bias.  We also need to coerce the data series from string to numeric which is done using `pandas.to_numeric()` call."
   ]
  },
  {
   "cell_type": "code",
   "execution_count": 7,
   "id": "b387378f-9cd4-48a3-905b-aecf12b3cba2",
   "metadata": {
    "tags": []
   },
   "outputs": [],
   "source": [
    "import numpy as np\n",
    "import pandas as pd\n",
    "import matplotlib.pyplot as plt\n",
    "import seaborn as sns\n",
    "import statsmodels.api as sm\n",
    "from IPython.display import Markdown as md\n",
    "\n",
    "#from pandas import read_csv\n",
    "\n",
    "fred_dir = \"../fred/\"\n",
    "\n",
    "def process_fred_dateseries( csv_file, series_name ):\n",
    "\n",
    "#  header = 0  the header row is located at row index 0\n",
    "#  parse_dates - dates are at column index 0\n",
    "#  index_col  -  first column is the index for the Time Series object\n",
    "#\n",
    "# ----------------------------------------------------\n",
    "    \n",
    "    df = pd.read_csv(csv_file, header = 0, parse_dates = [0], index_col = 0 )\n",
    "    \n",
    "    # convert blank or missing data to nan and other values from string to numeric\n",
    "    df[series_name] = pd.to_numeric( df[series_name], errors = 'coerce')\n",
    "    \n",
    "    # Fill forward any missing data on a business holiday.\n",
    "    #\n",
    "    df.fillna( method = \"ffill\", inplace = True )\n",
    "    \n",
    "    df.reset_index(inplace=True)\n",
    "    \n",
    "    return df\n",
    "\n",
    "#\n",
    "#   Series filenames are <SERIES-KEY>.csv\n",
    "#\n",
    "#   Series file content:  <date>, <series-key>\n",
    "# ----------------------------------------------------------------------------\n",
    "def load_and_display_fred_dateseries( series_list , show_plot = False):\n",
    "    \n",
    "    dict_series = { }\n",
    "    \n",
    "    for series in series_list:\n",
    "    \n",
    "        sfilename = fred_dir + series + \".csv\"\n",
    "        \n",
    "        df_series = process_fred_dateseries( sfilename, series)\n",
    "        \n",
    "        dict_series.update({ series : df_series } )\n",
    "        \n",
    "        if show_plot:\n",
    "            df_series.plot( y = series )\n",
    "            plt.show()\n",
    "        \n",
    "    return dict_series\n"
   ]
  },
  {
   "cell_type": "markdown",
   "id": "6b609419-9792-43d8-a616-ccc9eaac13bf",
   "metadata": {
    "tags": []
   },
   "source": [
    "When we run the above function on our list of FRED time series, the function returns the cleansed, imputed data series in a single object - a dictionary.\n",
    "\n",
    "That dictionary contains a sequence of key-value pairs:\n",
    "\n",
    "*  `key`:  the series name \n",
    "\n",
    "*  `value`:  pandas DataFrame whose column is the imputed data value as the series.\n",
    "\n",
    "In addition, when we set the parameter `show_plot` = `True`, we obtain a time series plot of each series as a side-effect.\n"
   ]
  },
  {
   "cell_type": "code",
   "execution_count": 8,
   "id": "7f017693-402e-4827-816c-73f98c474798",
   "metadata": {
    "tags": []
   },
   "outputs": [
    {
     "data": {
      "text/html": [
       "<div>\n",
       "<style scoped>\n",
       "    .dataframe tbody tr th:only-of-type {\n",
       "        vertical-align: middle;\n",
       "    }\n",
       "\n",
       "    .dataframe tbody tr th {\n",
       "        vertical-align: top;\n",
       "    }\n",
       "\n",
       "    .dataframe thead th {\n",
       "        text-align: right;\n",
       "    }\n",
       "</style>\n",
       "<table border=\"1\" class=\"dataframe\">\n",
       "  <thead>\n",
       "    <tr style=\"text-align: right;\">\n",
       "      <th></th>\n",
       "      <th>DATE</th>\n",
       "      <th>WILL5000IND</th>\n",
       "    </tr>\n",
       "  </thead>\n",
       "  <tbody>\n",
       "    <tr>\n",
       "      <th>0</th>\n",
       "      <td>2006-12-01</td>\n",
       "      <td>50.41</td>\n",
       "    </tr>\n",
       "    <tr>\n",
       "      <th>1</th>\n",
       "      <td>2006-12-04</td>\n",
       "      <td>50.91</td>\n",
       "    </tr>\n",
       "    <tr>\n",
       "      <th>2</th>\n",
       "      <td>2006-12-05</td>\n",
       "      <td>51.10</td>\n",
       "    </tr>\n",
       "    <tr>\n",
       "      <th>3</th>\n",
       "      <td>2006-12-06</td>\n",
       "      <td>51.06</td>\n",
       "    </tr>\n",
       "    <tr>\n",
       "      <th>4</th>\n",
       "      <td>2006-12-07</td>\n",
       "      <td>50.85</td>\n",
       "    </tr>\n",
       "    <tr>\n",
       "      <th>...</th>\n",
       "      <td>...</td>\n",
       "      <td>...</td>\n",
       "    </tr>\n",
       "    <tr>\n",
       "      <th>4022</th>\n",
       "      <td>2022-05-03</td>\n",
       "      <td>205.44</td>\n",
       "    </tr>\n",
       "    <tr>\n",
       "      <th>4023</th>\n",
       "      <td>2022-05-04</td>\n",
       "      <td>211.45</td>\n",
       "    </tr>\n",
       "    <tr>\n",
       "      <th>4024</th>\n",
       "      <td>2022-05-05</td>\n",
       "      <td>203.68</td>\n",
       "    </tr>\n",
       "    <tr>\n",
       "      <th>4025</th>\n",
       "      <td>2022-05-06</td>\n",
       "      <td>202.16</td>\n",
       "    </tr>\n",
       "    <tr>\n",
       "      <th>4026</th>\n",
       "      <td>2022-05-09</td>\n",
       "      <td>195.21</td>\n",
       "    </tr>\n",
       "  </tbody>\n",
       "</table>\n",
       "<p>4027 rows × 2 columns</p>\n",
       "</div>"
      ],
      "text/plain": [
       "           DATE  WILL5000IND\n",
       "0    2006-12-01        50.41\n",
       "1    2006-12-04        50.91\n",
       "2    2006-12-05        51.10\n",
       "3    2006-12-06        51.06\n",
       "4    2006-12-07        50.85\n",
       "...         ...          ...\n",
       "4022 2022-05-03       205.44\n",
       "4023 2022-05-04       211.45\n",
       "4024 2022-05-05       203.68\n",
       "4025 2022-05-06       202.16\n",
       "4026 2022-05-09       195.21\n",
       "\n",
       "[4027 rows x 2 columns]"
      ]
     },
     "execution_count": 8,
     "metadata": {},
     "output_type": "execute_result"
    }
   ],
   "source": [
    "#\n",
    "#  All the data series to be used in regression analysis.  \n",
    "# -------------------------------------------------------------------------------------------\n",
    "series_list = [\"WILL5000IND\"]\n",
    "\n",
    "#\n",
    "# Store the data series in a dictionary with:\n",
    "#    key:   series key\n",
    "#    value: DataFrame of dates, raw time series valuees\n",
    "# \n",
    "dict_series = load_and_display_fred_dateseries(series_list, show_plot = False)\n",
    "\n",
    "dict_series[\"WILL5000IND\"]"
   ]
  },
  {
   "cell_type": "markdown",
   "id": "019499dc-56fe-4a05-a1d9-99ba869ed03b",
   "metadata": {
    "tags": []
   },
   "source": [
    "## Time Dynamics\n",
    "\n",
    "The FOMC meetings occur at 2pm EST.   We generate a series of returns for each financial variable and changes for each economic variable.\n",
    "\n",
    "We will check if FOMC sentiment appears to influence future changes in financial markets.\n",
    "For the financial variables, we consider percentage changes at 2-day and 5-day intervals.   These changes will be regressed against changes in FOMC sentiment to detect relationships.   \n",
    "\n",
    "We will check if FOMC sentiments appears to be influenced by past changes in economic variables.\n",
    "We will measure monthly changes in personal consumption, unemployment and labor participation rates and see if past changes appear to influence future changes in FOMC sentiment.\n",
    "\n",
    "Additional data columns are appended to the dataframe of each series within the series dictionary object.   \n",
    "\n",
    "We also visualize each resultant time series of returns along with the original time series."
   ]
  },
  {
   "cell_type": "code",
   "execution_count": 9,
   "id": "8ec66b24-aa2c-47ae-ba03-e588dfbbbcd7",
   "metadata": {},
   "outputs": [],
   "source": [
    "def transform_fred_dateseries( series_dict, series_key, period, is_pct , col_name , forward_shift = 1):\n",
    "    \n",
    "    df_series = series_dict[ series_key]\n",
    "    \n",
    "    if is_pct:\n",
    "        df_series[ col_name ] = df_series[series_key].pct_change( periods = period )\n",
    "        if period < 0:\n",
    "            df_series[ col_name ] = -1 * df_series[ col_name]\n",
    "        df_series[ col_name ] = df_series[col_name ].shift( periods = forward_shift)  # Forward shift\n",
    "    else:\n",
    "        df_series[ col_name ] = df_series[series_key].diff( periods = period )\n",
    "        \n",
    "        if period < 0:\n",
    "            df_series[ col_name ] = -1 * df_series[ col_name]\n",
    "        df_series[ col_name ] = df_series[col_name ].shift( periods = forward_shift)  # Forward shift\n",
    "\n",
    "\n",
    "transform_fred_dateseries( dict_series, \"WILL5000IND\", -2,  is_pct = True, col_name = \"fp2\")\n",
    "transform_fred_dateseries( dict_series, \"WILL5000IND\", -5,  is_pct = True, col_name = \"fp5\")\n",
    "\n",
    "# 5 back, and 7 forward, (so 2 ahead)\n",
    "transform_fred_dateseries( dict_series, \"WILL5000IND\", -7,  is_pct = True, col_name = \"fp7s5\", forward_shift = 5)\n",
    "\n",
    "# for loop for Wilshire data\n",
    "# forward_shift 5 to 0\n",
    "# period -10 to -5\n",
    "for fs in range(5,-1,-1):\n",
    "    for per in range(-fs-5,-fs,1):\n",
    "        col_name_cat = 'fp'+ str(-1*per) + 's' + str(fs)\n",
    "        transform_fred_dateseries( dict_series, \"WILL5000IND\", per,  is_pct = True, col_name = col_name_cat, forward_shift = fs)\n"
   ]
  },
  {
   "cell_type": "markdown",
   "id": "524bd2bb-a99c-4489-842f-366f6653a41d",
   "metadata": {},
   "source": [
    "## Specifying the Regressions\n",
    "\n",
    "We implement the dataframes containing the variables to be regressed below.\n",
    "\n",
    "* The sentiment indicator is put into a dataframe called `df_sentiment`\n",
    "\n",
    "* The market variables to be regressed are aligned by date.\n",
    "\n",
    "We use the pandas `merge_asof` to do approximate date matching correctly.\n",
    "Its logic aligns each FOMC date to the closest prior date of each other published financial or economic time series. \n",
    "\n",
    "Each univariate regression is displayed below for analysis using a scatter plot."
   ]
  },
  {
   "cell_type": "code",
   "execution_count": 10,
   "id": "0cfdb1f5-8386-48ed-8263-d58934a445c1",
   "metadata": {},
   "outputs": [],
   "source": [
    "import warnings\n",
    "warnings.filterwarnings('ignore')\n",
    "from scipy.stats import zscore\n",
    "\n",
    "# Get the true sentiment scores produced from running the Loughran-McDonald financial library on the FOMC statements for polarity\n",
    "derived_data_dir = \"../derived\"\n",
    "fomc_statements_file = derived_data_dir + \"/\" + \"FOMC_statements_with_sentiment_score.csv\"\n",
    "df_fomc_statements_raw = pd.read_csv( fomc_statements_file , parse_dates=[1], header = 0)"
   ]
  },
  {
   "cell_type": "code",
   "execution_count": 11,
   "id": "d25fa6d0-af57-43f7-af7a-d0374a9977b2",
   "metadata": {},
   "outputs": [
    {
     "data": {
      "image/png": "[encoded data removed]",
      "text/plain": [
       "<Figure size 432x288 with 1 Axes>"
      ]
     },
     "metadata": {
      "needs_background": "light"
     },
     "output_type": "display_data"
    },
    {
     "data": {
      "image/png": "[encoded data removed]",
      "text/plain": [
       "<Figure size 432x288 with 1 Axes>"
      ]
     },
     "metadata": {
      "needs_background": "light"
     },
     "output_type": "display_data"
    }
   ],
   "source": [
    "# Extract the column from the input that represents the Loughran-McDonald sentiment scores \n",
    "df_sentiment = pd.DataFrame( df_fomc_statements_raw[\"date\"] )\n",
    "df_sentiment[\"sentiment\"] = df_fomc_statements_raw[\"text_token_score_lm\"]\n",
    "\n",
    "# Plot the sentiment scores as a time series\n",
    "df_sentiment.plot(x = \"date\", y = \"sentiment\")\n",
    "plt.title(\"Sentiment Index\")\n",
    "plt.show()\n",
    "\n",
    "# Calculate the difference from previous row\n",
    "df_sentiment[ \"d1sentiment\" ] = df_sentiment[\"sentiment\"].diff( periods = 1 )\n",
    "df_sentiment\n",
    "\n",
    "# Plot the sentiment score difference as a time series\n",
    "df_sentiment.plot(x = \"date\", y = \"d1sentiment\")\n",
    "plt.title(\"1-Step Diff Sentiment Index\")\n",
    "plt.show()"
   ]
  },
  {
   "cell_type": "code",
   "execution_count": 12,
   "id": "83678267-5500-4074-ba6d-53000c831140",
   "metadata": {},
   "outputs": [
    {
     "data": {
      "image/png": "[encoded data removed]",
      "text/plain": [
       "<Figure size 360x360 with 1 Axes>"
      ]
     },
     "metadata": {
      "needs_background": "light"
     },
     "output_type": "display_data"
    },
    {
     "name": "stdout",
     "output_type": "stream",
     "text": [
      "                            OLS Regression Results                            \n",
      "==============================================================================\n",
      "Dep. Variable:                  fp6s1   R-squared:                       0.023\n",
      "Model:                            OLS   Adj. R-squared:                  0.015\n",
      "Method:                 Least Squares   F-statistic:                     2.861\n",
      "Date:                Fri, 13 May 2022   Prob (F-statistic):             0.0933\n",
      "Time:                        13:52:38   Log-Likelihood:                 269.88\n",
      "No. Observations:                 124   AIC:                            -535.8\n",
      "Df Residuals:                     122   BIC:                            -530.1\n",
      "Df Model:                           1                                         \n",
      "Covariance Type:            nonrobust                                         \n",
      "===============================================================================\n",
      "                  coef    std err          t      P>|t|      [0.025      0.975]\n",
      "-------------------------------------------------------------------------------\n",
      "const           0.0003      0.002      0.120      0.905      -0.005       0.005\n",
      "d1sentiment    -0.0193      0.011     -1.691      0.093      -0.042       0.003\n",
      "==============================================================================\n",
      "Omnibus:                       11.341   Durbin-Watson:                   1.910\n",
      "Prob(Omnibus):                  0.003   Jarque-Bera (JB):               13.999\n",
      "Skew:                          -0.540   Prob(JB):                     0.000913\n",
      "Kurtosis:                       4.242   Cond. No.                         4.59\n",
      "==============================================================================\n",
      "\n",
      "Notes:\n",
      "[1] Standard Errors assume that the covariance matrix of the errors is correctly specified.\n"
     ]
    }
   ],
   "source": [
    "WILL5000IND = dict_series[\"WILL5000IND\"]\n",
    "\n",
    "df_sent_WILL5000IND = pd.merge_asof(df_sentiment, WILL5000IND, left_on = \"date\", right_on = \"DATE\")\n",
    "\n",
    "for fs in range(5,-1,-1):\n",
    "    #print(fs)\n",
    "    for per in range(-fs-5,-fs,1):\n",
    "        y_col = 'fp'+ str(-1*per) + 's' + str(fs)\n",
    "        #sns.lmplot( x= 'd1sentiment', y = y_col, data = df_sent_WILL5000IND, fit_reg=True, legend=True)\n",
    "        #plt.title(\"WILL5000IND vs Sentiment (Changes): \" + y_col)\n",
    "        #plt.show()\n",
    "\n",
    "        # Generate linear regression model\n",
    "        mod_WILL5000IND = sm.OLS(df_sent_WILL5000IND[y_col], sm.add_constant(df_sent_WILL5000IND['d1sentiment']), missing='drop')\n",
    "        mod_fit_WILL5000IND = mod_WILL5000IND.fit()\n",
    "        #print(mod_fit_WILL5000IND.summary())\n",
    "        \n",
    "        pval = mod_fit_WILL5000IND.pvalues['d1sentiment']\n",
    "        # Only display if p-value less than 10% (0.1)\n",
    "        if pval < 0.1:\n",
    "            sns.lmplot( x= 'd1sentiment', y = y_col, data = df_sent_WILL5000IND, fit_reg=True, legend=True)\n",
    "            plt.title(\"WILL5000IND vs Sentiment (Changes): \" + y_col)\n",
    "            plt.show()\n",
    "            print(mod_fit_WILL5000IND.summary())        "
   ]
  },
  {
   "cell_type": "code",
   "execution_count": null,
   "id": "d8a5a5cd-a4e2-4a7d-8c54-c905ea43f61b",
   "metadata": {},
   "outputs": [],
   "source": []
  },
  {
   "cell_type": "code",
   "execution_count": null,
   "id": "56ac6fc9-f2aa-4ea0-a471-a1d0406fec7d",
   "metadata": {},
   "outputs": [],
   "source": []
  },
  {
   "cell_type": "code",
   "execution_count": null,
   "id": "ca492e00-5994-4457-a0fc-df9046727b22",
   "metadata": {},
   "outputs": [],
   "source": []
  },
  {
   "cell_type": "code",
   "execution_count": null,
   "id": "4763b582-8e6f-47d6-a3b1-43c3c4cf0bbe",
   "metadata": {},
   "outputs": [],
   "source": []
  }
 ],
 "metadata": {
  "kernelspec": {
   "display_name": "Python 3 (ipykernel)",
   "language": "python",
   "name": "python3"
  },
  "language_info": {
   "codemirror_mode": {
    "name": "ipython",
    "version": 3
   },
   "file_extension": ".py",
   "mimetype": "text/x-python",
   "name": "python",
   "nbconvert_exporter": "python",
   "pygments_lexer": "ipython3",
   "version": "3.7.11"
  }
 },
 "nbformat": 4,
 "nbformat_minor": 5
}
